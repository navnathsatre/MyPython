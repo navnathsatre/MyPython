{
 "cells": [
  {
   "cell_type": "markdown",
   "id": "eb569668",
   "metadata": {},
   "source": [
    "# ExceptionHandling"
   ]
  },
  {
   "cell_type": "code",
   "execution_count": null,
   "id": "87765ab0",
   "metadata": {},
   "outputs": [],
   "source": [
    "UserInput = eval(input(\"Enter any number: \"))\n",
    "result = 100 / (UserInput)\n",
    "print(\"Result : \", result)"
   ]
  },
  {
   "cell_type": "markdown",
   "id": "a34f3656",
   "metadata": {},
   "source": [
    "### try"
   ]
  },
  {
   "cell_type": "markdown",
   "id": "ebe2aa54",
   "metadata": {},
   "source": [
    "### except"
   ]
  },
  {
   "cell_type": "code",
   "execution_count": null,
   "id": "5f4c2fbc",
   "metadata": {},
   "outputs": [],
   "source": [
    "try:\n",
    "    UserInput = input(\"Enter any number: \")\n",
    "    result = 100 / float(UserInput)\n",
    "    print(\"Result : \", result)\n",
    "except ValueError:\n",
    "    print(\"Not a valid number please enter only numbers\")\n",
    "except ZeroDivisionError:\n",
    "    print(\"Please enter number greater than zero\")"
   ]
  },
  {
   "cell_type": "code",
   "execution_count": null,
   "id": "95d8f5f2",
   "metadata": {},
   "outputs": [],
   "source": [
    "from math import factorial\n",
    "UserInput = input(\"Enter any number: \")\n",
    "try:\n",
    "    print(factorial(int(UserInput)))\n",
    "except ValueError:\n",
    "    print(\"Please enter positive integer no.\")"
   ]
  },
  {
   "cell_type": "markdown",
   "id": "5bd1836d",
   "metadata": {},
   "source": [
    "### finally"
   ]
  },
  {
   "cell_type": "code",
   "execution_count": null,
   "id": "40737697",
   "metadata": {},
   "outputs": [],
   "source": [
    "try:\n",
    "    fh = open(\"FileHandleing.txt\", \"w\")\n",
    "    fh.write(\"Enter any numbers.\\n\")\n",
    "    fh.write(\"Enter positive numbers.\\n\")\n",
    "    UserInput = input(\"Enter the no. :\")\n",
    "    fh.write(\"User entered the no. is {}\\n\".format(UserInput))\n",
    "    result = 100 / int(UserInput)\n",
    "    fh.write(\"The final result is {}\\n\".format(result))\n",
    "    from math import factorial\n",
    "    F = factorial(int(UserInput))\n",
    "    fh.write(\"The factorial is {}\\n\".format(F))\n",
    "except ValueError:\n",
    "    fh.write(\"Not a valid number, please enter only numbers.\\n\")\n",
    "except ZeroDivisionError:\n",
    "    fh.write(\"Please enter numbers greater than zero.\\n\")\n",
    "finally:\n",
    "    fh.write(\"Close the file.\\n\")\n",
    "    fh.close()"
   ]
  },
  {
   "cell_type": "code",
   "execution_count": null,
   "id": "19b16a54",
   "metadata": {},
   "outputs": [],
   "source": [
    "with open(\"FileHandleing.txt\", 'r') as f:\n",
    "    print(f.read())"
   ]
  },
  {
   "cell_type": "markdown",
   "id": "7595fc28",
   "metadata": {},
   "source": [
    "# FileHandling"
   ]
  },
  {
   "cell_type": "markdown",
   "id": "89aec987",
   "metadata": {},
   "source": [
    "### File create"
   ]
  },
  {
   "cell_type": "code",
   "execution_count": null,
   "id": "0f3492c8",
   "metadata": {},
   "outputs": [],
   "source": [
    "# Mode\n",
    "# x => Create mode\n",
    "# w => Write mode\n",
    "# r => Read mode\n",
    "# a => Append mode"
   ]
  },
  {
   "cell_type": "code",
   "execution_count": null,
   "id": "b11ac97b",
   "metadata": {},
   "outputs": [],
   "source": [
    "# fh = open(\"C:\\\\users\\\\username\\\\FileExample.txt\", \"w\")"
   ]
  },
  {
   "cell_type": "code",
   "execution_count": 1,
   "id": "9a791ae4",
   "metadata": {},
   "outputs": [],
   "source": [
    "fh = open(\"FileExample.txt\", 'x')"
   ]
  },
  {
   "cell_type": "markdown",
   "id": "dcc9c147",
   "metadata": {},
   "source": [
    "### File Write"
   ]
  },
  {
   "cell_type": "code",
   "execution_count": 7,
   "id": "7f1a3902",
   "metadata": {},
   "outputs": [],
   "source": [
    "fh = open(\"FileExample.txt\", 'w')\n",
    "fh.write(\"Welcome to file handling in python .\\n\")\n",
    "fh.write(\"This is second line.\\n\")\n",
    "fh.write(\"Always close the file once the job is done. \\n\")\n",
    "fh.close()"
   ]
  },
  {
   "cell_type": "markdown",
   "id": "55dde4da",
   "metadata": {},
   "source": [
    "### File Read"
   ]
  },
  {
   "cell_type": "code",
   "execution_count": 10,
   "id": "ce9bc83a",
   "metadata": {},
   "outputs": [
    {
     "name": "stdout",
     "output_type": "stream",
     "text": [
      "File contents:  Welcome to file handling in python .\n",
      "This is second line.\n",
      "Always close the file once the job is done. \n",
      "\n"
     ]
    }
   ],
   "source": [
    "fh = open(\"FileExample.txt\") # we can usse 'r' mode also\n",
    "\n",
    "s = fh.read()\n",
    "fh.close()\n",
    "\n",
    "print(\"File contents: \",s)"
   ]
  },
  {
   "cell_type": "markdown",
   "id": "45490be3",
   "metadata": {},
   "source": [
    "### Pickle Write"
   ]
  },
  {
   "cell_type": "code",
   "execution_count": 1,
   "id": "3e2ea562",
   "metadata": {},
   "outputs": [],
   "source": [
    "import pickle\n",
    "\n",
    "vaccine_details = {\n",
    "    \"Karnataka\":\n",
    "        {\"Covishield\": 5,\n",
    "         \"Covaxin\": 2,\n",
    "         \"Sputnik\": 1,\n",
    "         \"users\": [\"18\", \"45\"]},\n",
    "    \"Delhi\":\n",
    "        {\"Covishield\": 15,\n",
    "         \"Covaxin\": 12,\n",
    "         \"Sputnik\": 0,\n",
    "         \"users\": [\"45\"]},\n",
    "    \"Maharashtra\":\n",
    "        {\"Covishield\": 10,\n",
    "         \"Covaxin\": 5, \"Sputnik\": 3},\n",
    "}\n",
    "\n",
    "# Binary mode for Write Operations\n",
    "fh = open('vdStates.pkl', 'wb') # wb => write + binary mode\n",
    "\n",
    "pickle.dump(vaccine_details, fh)\n",
    "\n",
    "fh.close()"
   ]
  },
  {
   "cell_type": "markdown",
   "id": "457366c3",
   "metadata": {},
   "source": [
    "### Pickle Read"
   ]
  },
  {
   "cell_type": "code",
   "execution_count": 2,
   "id": "0b1ee1ed",
   "metadata": {},
   "outputs": [
    {
     "name": "stdout",
     "output_type": "stream",
     "text": [
      "File contents:  {'Karnataka': {'Covishield': 5, 'Covaxin': 2, 'Sputnik': 1, 'users': ['18', '45']}, 'Delhi': {'Covishield': 15, 'Covaxin': 12, 'Sputnik': 0, 'users': ['45']}, 'Maharashtra': {'Covishield': 10, 'Covaxin': 5, 'Sputnik': 3}}\n",
      "type of file contents:  <class 'dict'>\n"
     ]
    }
   ],
   "source": [
    "import pickle\n",
    "\n",
    "fh = open(\"vdStates.pkl\", 'rb') # rb => read + binary mode\n",
    "contents = pickle.load(fh)\n",
    "\n",
    "fh.close()\n",
    "\n",
    "print(\"File contents: \", contents)\n",
    "print(\"type of file contents: \", type(contents))"
   ]
  },
  {
   "cell_type": "markdown",
   "id": "238a6604",
   "metadata": {},
   "source": [
    "### With Operator"
   ]
  },
  {
   "cell_type": "code",
   "execution_count": 3,
   "id": "4e30dfe6",
   "metadata": {},
   "outputs": [
    {
     "name": "stdout",
     "output_type": "stream",
     "text": [
      "Welcome to file handling in python .\n",
      "This is second line.\n",
      "Always close the file once the job is done. \n",
      "\n"
     ]
    }
   ],
   "source": [
    "with open(\"FileExample.txt\") as fh:\n",
    "    contents = fh.read()\n",
    "    print(contents)\n",
    "    \n",
    "# no need to call fh.close(), with operator would automatically\n",
    "# call fh.close once the job is done."
   ]
  },
  {
   "cell_type": "markdown",
   "id": "760715fc",
   "metadata": {},
   "source": [
    "# Scope of variable"
   ]
  },
  {
   "cell_type": "markdown",
   "id": "9a1ed1ad",
   "metadata": {},
   "source": [
    "### Local"
   ]
  },
  {
   "cell_type": "markdown",
   "id": "e9d45b52",
   "metadata": {},
   "source": [
    "### Global"
   ]
  },
  {
   "cell_type": "code",
   "execution_count": 4,
   "id": "072377ef",
   "metadata": {},
   "outputs": [
    {
     "name": "stdout",
     "output_type": "stream",
     "text": [
      "The value of a inside myFunction: LocalPythonObject\n"
     ]
    }
   ],
   "source": [
    "def myFunction():\n",
    "    a = 'LocalPythonObject'\n",
    "    print(\"The value of a inside myFunction:\", a)\n",
    "myFunction()\n",
    "# print(\"The value of a inside myFunction:\", a) # error"
   ]
  },
  {
   "cell_type": "code",
   "execution_count": 7,
   "id": "eace018a",
   "metadata": {},
   "outputs": [
    {
     "name": "stdout",
     "output_type": "stream",
     "text": [
      "The value of a inside myFunction:  globalPythonObject\n"
     ]
    }
   ],
   "source": [
    "def myFunction():\n",
    "    global a\n",
    "    a = \"globalPythonObject\"\n",
    "    print(\"The value of a inside myFunction: \", a)\n",
    "# myFunction()\n",
    "print(\"The value of a inside myFunction: \", a)"
   ]
  },
  {
   "cell_type": "code",
   "execution_count": 19,
   "id": "f6114e47",
   "metadata": {},
   "outputs": [
    {
     "name": "stdout",
     "output_type": "stream",
     "text": [
      "The value of runscored in main: 1\n",
      "The value of runscored in localFunction(): 2\n",
      "After calling localFunction, The value of runscored in main: 1\n",
      "The value of runscored in globalFunction(): 3\n",
      "After calling globalFunction, The value of runscored in main: 3\n",
      "The value of runscored in localFunction(): 2\n",
      "After calling localFunction, The value of runscored in main: 3\n"
     ]
    }
   ],
   "source": [
    "runscored = 1\n",
    "def localFunction():\n",
    "    runscored = 2 # new local object\n",
    "    print(\"The value of runscored in localFunction():\", runscored)\n",
    "    \n",
    "print(\"The value of runscored in main:\", runscored)\n",
    "localFunction()\n",
    "print(\"After calling localFunction, The value of runscored in main:\", runscored)\n",
    "\n",
    "def globalFunction():\n",
    "    global runscored\n",
    "    runscored = 3\n",
    "    print(\"The value of runscored in globalFunction():\", runscored)\n",
    "globalFunction()\n",
    "print(\"After calling globalFunction, The value of runscored in main:\", runscored)\n",
    "localFunction()\n",
    "print(\"After calling localFunction, The value of runscored in main:\", runscored)"
   ]
  },
  {
   "cell_type": "markdown",
   "id": "f8362680",
   "metadata": {},
   "source": [
    "# MRF"
   ]
  },
  {
   "cell_type": "markdown",
   "id": "69882354",
   "metadata": {},
   "source": [
    "### map"
   ]
  },
  {
   "cell_type": "code",
   "execution_count": 20,
   "id": "32f52187",
   "metadata": {},
   "outputs": [
    {
     "name": "stdout",
     "output_type": "stream",
     "text": [
      "Numbers:  [1, 2, 3, 4, 5, 6, 7, 8, 9, 10]\n"
     ]
    }
   ],
   "source": [
    "num = range(1,11)\n",
    "print(\"Numbers: \", list(num))"
   ]
  },
  {
   "cell_type": "code",
   "execution_count": 21,
   "id": "44ff5bb3",
   "metadata": {},
   "outputs": [],
   "source": [
    "sq = lambda n: n*n"
   ]
  },
  {
   "cell_type": "code",
   "execution_count": 23,
   "id": "7b37e67b",
   "metadata": {},
   "outputs": [
    {
     "name": "stdout",
     "output_type": "stream",
     "text": [
      "[1, 4, 9, 16, 25, 36, 49, 64, 81, 100]\n"
     ]
    }
   ],
   "source": [
    "# Approach 1\n",
    "result = []\n",
    "for item in num:\n",
    "    result.append(sq(item))\n",
    "print(result)"
   ]
  },
  {
   "cell_type": "code",
   "execution_count": 24,
   "id": "6f548ab8",
   "metadata": {},
   "outputs": [
    {
     "name": "stdout",
     "output_type": "stream",
     "text": [
      "[1, 4, 9, 16, 25, 36, 49, 64, 81, 100]\n"
     ]
    }
   ],
   "source": [
    "# Appoach 2\n",
    "result = [sq(item) for item in num]\n",
    "print(result)"
   ]
  },
  {
   "cell_type": "code",
   "execution_count": 28,
   "id": "327b59c9",
   "metadata": {},
   "outputs": [
    {
     "name": "stdout",
     "output_type": "stream",
     "text": [
      "List of squares :  [1, 4, 9, 16, 25, 36, 49, 64, 81, 100]\n",
      "tuple of squares :  ()\n"
     ]
    }
   ],
   "source": [
    "# Appoach 3\n",
    "mobject = map(sq, num)\n",
    "print(\"List of squares : \",list(mobject))\n",
    "print(\"tuple of squares : \",tuple(mobject)) # Not Working(output in list only)"
   ]
  },
  {
   "cell_type": "code",
   "execution_count": 29,
   "id": "9f55a3e1",
   "metadata": {},
   "outputs": [
    {
     "name": "stdout",
     "output_type": "stream",
     "text": [
      "Factorial of nums :  [1, 2, 6, 24, 120, 720, 5040, 40320, 362880, 3628800]\n"
     ]
    }
   ],
   "source": [
    "from math import factorial\n",
    "fact = list(map(factorial, num))\n",
    "print(\"Factorial of nums : \", fact)"
   ]
  },
  {
   "cell_type": "code",
   "execution_count": 34,
   "id": "afd9e65c",
   "metadata": {},
   "outputs": [
    {
     "name": "stdout",
     "output_type": "stream",
     "text": [
      "Enter any numbers: 1,8,10,2,1\n"
     ]
    },
    {
     "data": {
      "text/plain": [
       "22"
      ]
     },
     "execution_count": 34,
     "metadata": {},
     "output_type": "execute_result"
    }
   ],
   "source": [
    "# Take a sequence of inputs (numbers) (which are comma separated) and\n",
    "# calculate the sum\n",
    "# input  : 1,8,10,2,1\n",
    "# output : 22\n",
    "\n",
    "# Approach 1 \n",
    "UserInput = input(\"Enter any numbers: \")\n",
    "UserInput = UserInput.split(\",\")\n",
    "lst = []\n",
    "for item in UserInput:\n",
    "    lst.append(int(item))\n",
    "sum(lst)"
   ]
  },
  {
   "cell_type": "code",
   "execution_count": 36,
   "id": "44c20817",
   "metadata": {},
   "outputs": [
    {
     "name": "stdout",
     "output_type": "stream",
     "text": [
      "22\n"
     ]
    }
   ],
   "source": [
    "#Approach 2\n",
    "result = 0\n",
    "for item in UserInput:\n",
    "    result += int(item)\n",
    "print(result)"
   ]
  },
  {
   "cell_type": "code",
   "execution_count": 37,
   "id": "dc36f0e8",
   "metadata": {},
   "outputs": [
    {
     "name": "stdout",
     "output_type": "stream",
     "text": [
      "Enter any number :1,8,10,2,1\n",
      "22\n"
     ]
    }
   ],
   "source": [
    "# Approach 3\n",
    "userinput = input(\"Enter any number :\")\n",
    "result = sum(map(int, userinput.split(\",\")))\n",
    "print(result)"
   ]
  },
  {
   "cell_type": "code",
   "execution_count": 40,
   "id": "580ce8ec",
   "metadata": {},
   "outputs": [
    {
     "name": "stdout",
     "output_type": "stream",
     "text": [
      "Enter any number: 1,2,3,4,5\n",
      "225\n"
     ]
    }
   ],
   "source": [
    "# Take a sequence of inputs (numbers) (which are comma separated) and\n",
    "# calculate the cube and then sum it by using map\n",
    "#input : 1,2,3,4,5\n",
    "#putput : 225\n",
    "userinput = input(\"Enter any number: \")\n",
    "userinput = userinput.split(\",\")\n",
    "cb = lambda n : n*n*n\n",
    "Int = list(map(int, userinput))\n",
    "result = map(cb, Int)\n",
    "print(sum(result))"
   ]
  },
  {
   "cell_type": "markdown",
   "id": "603f5693",
   "metadata": {},
   "source": [
    "### filter"
   ]
  },
  {
   "cell_type": "code",
   "execution_count": 44,
   "id": "033bf3ad",
   "metadata": {},
   "outputs": [
    {
     "name": "stdout",
     "output_type": "stream",
     "text": [
      "False\n"
     ]
    },
    {
     "data": {
      "text/plain": [
       "True"
      ]
     },
     "execution_count": 44,
     "metadata": {},
     "output_type": "execute_result"
    }
   ],
   "source": [
    "nums = range(1,11)\n",
    "even = lambda n : n % 2 == 0\n",
    "print(even(5))\n",
    "def isEven(num):\n",
    "    return num % 2 == 0\n",
    "isEven(10)"
   ]
  },
  {
   "cell_type": "code",
   "execution_count": 46,
   "id": "4afd888c",
   "metadata": {},
   "outputs": [
    {
     "name": "stdout",
     "output_type": "stream",
     "text": [
      "Result using filter : [2, 4, 6, 8, 10]\n"
     ]
    }
   ],
   "source": [
    "FilterObjec = list(filter(even, nums))\n",
    "print(\"Result using filter :\", FilterObjec)"
   ]
  },
  {
   "cell_type": "code",
   "execution_count": 47,
   "id": "fdc73ecd",
   "metadata": {},
   "outputs": [
    {
     "name": "stdout",
     "output_type": "stream",
     "text": [
      "Result using map : [False, True, False, True, False, True, False, True, False, True]\n"
     ]
    }
   ],
   "source": [
    "MapObject = list(map(even, nums))\n",
    "print(\"Result using map :\", MapObject)"
   ]
  },
  {
   "cell_type": "markdown",
   "id": "91d71fab",
   "metadata": {},
   "source": [
    " ### reduce "
   ]
  },
  {
   "cell_type": "code",
   "execution_count": 50,
   "id": "c6343cec",
   "metadata": {},
   "outputs": [
    {
     "name": "stdout",
     "output_type": "stream",
     "text": [
      "nums:  [1, 2, 3, 4, 5, 6, 7, 8, 9, 10]\n"
     ]
    }
   ],
   "source": [
    "nums = range(1,11)\n",
    "print(\"nums: \", list(nums))"
   ]
  },
  {
   "cell_type": "code",
   "execution_count": 52,
   "id": "231fd40d",
   "metadata": {},
   "outputs": [
    {
     "name": "stdout",
     "output_type": "stream",
     "text": [
      "3628800\n"
     ]
    }
   ],
   "source": [
    "myFun = lambda x, y : x*y\n",
    "from functools import reduce\n",
    "result = reduce(myFun, nums)\n",
    "print(result)"
   ]
  }
 ],
 "metadata": {
  "kernelspec": {
   "display_name": "Python 3",
   "language": "python",
   "name": "python3"
  },
  "language_info": {
   "codemirror_mode": {
    "name": "ipython",
    "version": 3
   },
   "file_extension": ".py",
   "mimetype": "text/x-python",
   "name": "python",
   "nbconvert_exporter": "python",
   "pygments_lexer": "ipython3",
   "version": "3.8.8"
  },
  "toc": {
   "base_numbering": 1,
   "nav_menu": {},
   "number_sections": true,
   "sideBar": true,
   "skip_h1_title": false,
   "title_cell": "Table of Contents",
   "title_sidebar": "Contents",
   "toc_cell": false,
   "toc_position": {},
   "toc_section_display": true,
   "toc_window_display": false
  },
  "varInspector": {
   "cols": {
    "lenName": 16,
    "lenType": 16,
    "lenVar": 40
   },
   "kernels_config": {
    "python": {
     "delete_cmd_postfix": "",
     "delete_cmd_prefix": "del ",
     "library": "var_list.py",
     "varRefreshCmd": "print(var_dic_list())"
    },
    "r": {
     "delete_cmd_postfix": ") ",
     "delete_cmd_prefix": "rm(",
     "library": "var_list.r",
     "varRefreshCmd": "cat(var_dic_list()) "
    }
   },
   "types_to_exclude": [
    "module",
    "function",
    "builtin_function_or_method",
    "instance",
    "_Feature"
   ],
   "window_display": false
  }
 },
 "nbformat": 4,
 "nbformat_minor": 5
}
