{
 "cells": [
  {
   "cell_type": "markdown",
   "id": "c8550a54",
   "metadata": {},
   "source": [
    "### Python String, List, tuple, set and dictionary"
   ]
  },
  {
   "cell_type": "markdown",
   "id": "d6ec9a1e",
   "metadata": {},
   "source": [
    "### Stiring"
   ]
  },
  {
   "cell_type": "markdown",
   "id": "e613c972",
   "metadata": {},
   "source": [
    "#### looping with sring"
   ]
  },
  {
   "cell_type": "code",
   "execution_count": 1,
   "id": "8371a9a4",
   "metadata": {
    "ExecuteTime": {
     "end_time": "2022-01-15T16:27:35.029184Z",
     "start_time": "2022-01-15T16:27:35.009575Z"
    }
   },
   "outputs": [
    {
     "name": "stdout",
     "output_type": "stream",
     "text": [
      "n\n",
      "a\n",
      "v\n",
      "n\n",
      "a\n",
      "t\n",
      "h\n",
      " \n",
      "s\n",
      "a\n",
      "t\n",
      "r\n",
      "e\n"
     ]
    }
   ],
   "source": [
    "name = \"navnath satre\"\n",
    "for i in name:\n",
    "    print(i)"
   ]
  },
  {
   "cell_type": "markdown",
   "id": "e15d3a55",
   "metadata": {},
   "source": [
    "#### Indexing"
   ]
  },
  {
   "cell_type": "code",
   "execution_count": 3,
   "id": "a35a04da",
   "metadata": {
    "ExecuteTime": {
     "end_time": "2022-01-15T16:29:16.408659Z",
     "start_time": "2022-01-15T16:29:16.401601Z"
    }
   },
   "outputs": [
    {
     "name": "stdout",
     "output_type": "stream",
     "text": [
      "S\n",
      "a\n",
      "b\n"
     ]
    }
   ],
   "source": [
    "name = \"Subramanyam\"\n",
    "print(name[0])\n",
    "print(name[6])\n",
    "print(name[2])"
   ]
  },
  {
   "cell_type": "markdown",
   "id": "a0997b82",
   "metadata": {},
   "source": [
    "#### Slicing"
   ]
  },
  {
   "cell_type": "code",
   "execution_count": 4,
   "id": "82efd7fe",
   "metadata": {
    "ExecuteTime": {
     "end_time": "2022-01-15T16:30:48.920446Z",
     "start_time": "2022-01-15T16:30:48.899662Z"
    }
   },
   "outputs": [
    {
     "name": "stdout",
     "output_type": "stream",
     "text": [
      " learn\n"
     ]
    }
   ],
   "source": [
    "abc = \"We are learning python\"\n",
    "print(abc[6:12])"
   ]
  },
  {
   "cell_type": "code",
   "execution_count": 5,
   "id": "021fe66e",
   "metadata": {
    "ExecuteTime": {
     "end_time": "2022-01-15T16:31:08.260281Z",
     "start_time": "2022-01-15T16:31:08.243517Z"
    }
   },
   "outputs": [
    {
     "name": "stdout",
     "output_type": "stream",
     "text": [
      "We are learning python\n"
     ]
    }
   ],
   "source": [
    "print(abc[:])"
   ]
  },
  {
   "cell_type": "code",
   "execution_count": 6,
   "id": "ad2eb040",
   "metadata": {
    "ExecuteTime": {
     "end_time": "2022-01-15T16:31:39.209043Z",
     "start_time": "2022-01-15T16:31:39.192221Z"
    }
   },
   "outputs": [
    {
     "name": "stdout",
     "output_type": "stream",
     "text": [
      "nohtyp gninrael era eW\n"
     ]
    }
   ],
   "source": [
    "print(abc[::-1])"
   ]
  },
  {
   "cell_type": "code",
   "execution_count": 13,
   "id": "f095e9cf",
   "metadata": {
    "ExecuteTime": {
     "end_time": "2022-01-15T16:33:55.277217Z",
     "start_time": "2022-01-15T16:33:55.263225Z"
    }
   },
   "outputs": [
    {
     "name": "stdout",
     "output_type": "stream",
     "text": [
      " python\n"
     ]
    }
   ],
   "source": [
    "print(abc[-7:])"
   ]
  },
  {
   "cell_type": "code",
   "execution_count": 17,
   "id": "027f2e75",
   "metadata": {
    "ExecuteTime": {
     "end_time": "2022-01-15T16:37:43.652621Z",
     "start_time": "2022-01-15T16:37:43.635321Z"
    }
   },
   "outputs": [
    {
     "name": "stdout",
     "output_type": "stream",
     "text": [
      "3\n",
      "4\n"
     ]
    }
   ],
   "source": [
    "# len()\n",
    "# lower()\n",
    "# upper()\n",
    "# count()\n",
    "print(name.count('a'))\n",
    "# find()\n",
    "print(name.find('a'))\n",
    "# replace()\n",
    "#split()"
   ]
  },
  {
   "cell_type": "code",
   "execution_count": 20,
   "id": "546ca90f",
   "metadata": {
    "ExecuteTime": {
     "end_time": "2022-01-15T16:39:32.739912Z",
     "start_time": "2022-01-15T16:39:32.731454Z"
    }
   },
   "outputs": [
    {
     "name": "stdout",
     "output_type": "stream",
     "text": [
      "9\n"
     ]
    }
   ],
   "source": [
    "print(name.find('a',8))"
   ]
  },
  {
   "cell_type": "code",
   "execution_count": 19,
   "id": "49795eb1",
   "metadata": {
    "ExecuteTime": {
     "end_time": "2022-01-15T16:39:04.955194Z",
     "start_time": "2022-01-15T16:39:04.938325Z"
    }
   },
   "outputs": [
    {
     "data": {
      "text/plain": [
       "'Subramanyam'"
      ]
     },
     "execution_count": 19,
     "metadata": {},
     "output_type": "execute_result"
    }
   ],
   "source": [
    "name"
   ]
  },
  {
   "cell_type": "code",
   "execution_count": 21,
   "id": "2b642f34",
   "metadata": {
    "ExecuteTime": {
     "end_time": "2022-01-15T16:40:16.506892Z",
     "start_time": "2022-01-15T16:40:16.494159Z"
    }
   },
   "outputs": [
    {
     "name": "stdout",
     "output_type": "stream",
     "text": [
      "Subraianyai\n"
     ]
    }
   ],
   "source": [
    "print(name.replace('m', 'i'))"
   ]
  },
  {
   "cell_type": "code",
   "execution_count": 23,
   "id": "057048b0",
   "metadata": {
    "ExecuteTime": {
     "end_time": "2022-01-15T16:40:38.790621Z",
     "start_time": "2022-01-15T16:40:38.774945Z"
    }
   },
   "outputs": [
    {
     "name": "stdout",
     "output_type": "stream",
     "text": [
      "Subramanyam\n"
     ]
    }
   ],
   "source": [
    "print(name)"
   ]
  },
  {
   "cell_type": "code",
   "execution_count": 24,
   "id": "213bb09c",
   "metadata": {
    "ExecuteTime": {
     "end_time": "2022-01-15T16:41:18.420443Z",
     "start_time": "2022-01-15T16:41:18.406011Z"
    }
   },
   "outputs": [
    {
     "data": {
      "text/plain": [
       "'We are learning python'"
      ]
     },
     "execution_count": 24,
     "metadata": {},
     "output_type": "execute_result"
    }
   ],
   "source": [
    "abc"
   ]
  },
  {
   "cell_type": "code",
   "execution_count": 25,
   "id": "9ede9598",
   "metadata": {
    "ExecuteTime": {
     "end_time": "2022-01-15T16:41:43.346063Z",
     "start_time": "2022-01-15T16:41:43.325402Z"
    }
   },
   "outputs": [
    {
     "name": "stdout",
     "output_type": "stream",
     "text": [
      "['We', 'are', 'learning', 'python']\n"
     ]
    }
   ],
   "source": [
    "print(abc.split(\" \"))"
   ]
  },
  {
   "cell_type": "code",
   "execution_count": 26,
   "id": "be161b46",
   "metadata": {
    "ExecuteTime": {
     "end_time": "2022-01-15T16:42:28.679387Z",
     "start_time": "2022-01-15T16:42:28.657542Z"
    }
   },
   "outputs": [
    {
     "name": "stdout",
     "output_type": "stream",
     "text": [
      "['We ', 're le', 'rning python']\n"
     ]
    }
   ],
   "source": [
    "print(abc.split(\"a\"))"
   ]
  },
  {
   "cell_type": "markdown",
   "id": "25edbed0",
   "metadata": {},
   "source": [
    "#### Mutable vs Immutable"
   ]
  },
  {
   "cell_type": "code",
   "execution_count": 27,
   "id": "6fa55231",
   "metadata": {
    "ExecuteTime": {
     "end_time": "2022-01-15T16:46:36.993391Z",
     "start_time": "2022-01-15T16:46:36.980493Z"
    }
   },
   "outputs": [
    {
     "name": "stdout",
     "output_type": "stream",
     "text": [
      "1631789237760\n",
      "1631789218944\n"
     ]
    }
   ],
   "source": [
    "# Mutable\n",
    "# can change the value at the same memory location \n",
    "# list[], set{}, dictionary{key:value}\n",
    "\n",
    "#Same elements at different memory loocation\n",
    "kk1 = [1,2,3]\n",
    "kk2 = [1,2,3]\n",
    "print(id(kk1))\n",
    "print(id(kk2))"
   ]
  },
  {
   "cell_type": "code",
   "execution_count": 28,
   "id": "0e4c0138",
   "metadata": {
    "ExecuteTime": {
     "end_time": "2022-01-15T16:47:02.433502Z",
     "start_time": "2022-01-15T16:47:02.416839Z"
    }
   },
   "outputs": [
    {
     "name": "stdout",
     "output_type": "stream",
     "text": [
      "[1, 2, 3, 4]\n"
     ]
    }
   ],
   "source": [
    "kk1.append(4)\n",
    "print(kk1)"
   ]
  },
  {
   "cell_type": "code",
   "execution_count": 29,
   "id": "fbff6de2",
   "metadata": {
    "ExecuteTime": {
     "end_time": "2022-01-15T16:47:16.900348Z",
     "start_time": "2022-01-15T16:47:16.886611Z"
    }
   },
   "outputs": [
    {
     "name": "stdout",
     "output_type": "stream",
     "text": [
      "1631789237760\n"
     ]
    }
   ],
   "source": [
    "print(id(kk1))"
   ]
  },
  {
   "cell_type": "code",
   "execution_count": 31,
   "id": "1fdc50cf",
   "metadata": {
    "ExecuteTime": {
     "end_time": "2022-01-15T16:47:53.347240Z",
     "start_time": "2022-01-15T16:47:53.329885Z"
    }
   },
   "outputs": [
    {
     "name": "stdout",
     "output_type": "stream",
     "text": [
      "False\n"
     ]
    }
   ],
   "source": [
    "print(kk1 is kk2)"
   ]
  },
  {
   "cell_type": "code",
   "execution_count": 32,
   "id": "d88a55c7",
   "metadata": {
    "ExecuteTime": {
     "end_time": "2022-01-15T16:50:39.976553Z",
     "start_time": "2022-01-15T16:50:39.958590Z"
    }
   },
   "outputs": [],
   "source": [
    "# Immutable\n",
    "# we can not change value at the same memory location,\n",
    "# if we try to change or modify the value then the memory \n",
    "#location will change\n",
    "#string \"\", tuple ()"
   ]
  },
  {
   "cell_type": "code",
   "execution_count": 33,
   "id": "9baaa4f7",
   "metadata": {
    "ExecuteTime": {
     "end_time": "2022-01-15T16:52:28.163372Z",
     "start_time": "2022-01-15T16:52:28.153719Z"
    }
   },
   "outputs": [
    {
     "name": "stdout",
     "output_type": "stream",
     "text": [
      "1631924262256\n",
      "1631924262256\n"
     ]
    }
   ],
   "source": [
    "# Same element at same memory location\n",
    "ss1 = 'Rajesh'\n",
    "ss2 = 'Rajesh'\n",
    "print(id(ss1))\n",
    "print(id(ss2))"
   ]
  },
  {
   "cell_type": "code",
   "execution_count": 36,
   "id": "b8aceaa1",
   "metadata": {
    "ExecuteTime": {
     "end_time": "2022-01-15T16:53:30.849020Z",
     "start_time": "2022-01-15T16:53:30.835082Z"
    }
   },
   "outputs": [
    {
     "name": "stdout",
     "output_type": "stream",
     "text": [
      "RajeshKumarKumar Kumar\n"
     ]
    }
   ],
   "source": [
    "ss1 = ss1 + ' Kumar'\n",
    "print(ss1)"
   ]
  },
  {
   "cell_type": "code",
   "execution_count": 37,
   "id": "40c7d875",
   "metadata": {
    "ExecuteTime": {
     "end_time": "2022-01-15T16:53:46.162559Z",
     "start_time": "2022-01-15T16:53:46.146824Z"
    }
   },
   "outputs": [
    {
     "name": "stdout",
     "output_type": "stream",
     "text": [
      "1631924270464\n"
     ]
    }
   ],
   "source": [
    "print(id(ss1))"
   ]
  },
  {
   "cell_type": "code",
   "execution_count": 38,
   "id": "9f58d71b",
   "metadata": {
    "ExecuteTime": {
     "end_time": "2022-01-15T16:55:49.594600Z",
     "start_time": "2022-01-15T16:55:49.575304Z"
    }
   },
   "outputs": [
    {
     "name": "stdout",
     "output_type": "stream",
     "text": [
      "\n",
      "1631283201648\n",
      "1631358979312\n"
     ]
    }
   ],
   "source": [
    "welcome = ''\n",
    "print(welcome)\n",
    "print(id(welcome))\n",
    "welcome += \"Hello world\"\n",
    "print(id(welcome))\n"
   ]
  },
  {
   "cell_type": "code",
   "execution_count": 39,
   "id": "d2f9b59c",
   "metadata": {
    "ExecuteTime": {
     "end_time": "2022-01-15T16:56:58.593933Z",
     "start_time": "2022-01-15T16:56:58.577171Z"
    }
   },
   "outputs": [
    {
     "name": "stdout",
     "output_type": "stream",
     "text": [
      "Hillo world\n",
      "1631924238000\n"
     ]
    }
   ],
   "source": [
    "welcome = welcome.replace(\"e\",\"i\")\n",
    "print(welcome)\n",
    "print(id(welcome))"
   ]
  },
  {
   "cell_type": "markdown",
   "id": "63393bd9",
   "metadata": {},
   "source": [
    "\n",
    "### List"
   ]
  },
  {
   "cell_type": "code",
   "execution_count": 40,
   "id": "951f6195",
   "metadata": {
    "ExecuteTime": {
     "end_time": "2022-01-15T16:59:09.510816Z",
     "start_time": "2022-01-15T16:59:09.503457Z"
    }
   },
   "outputs": [],
   "source": [
    "# It is a data structure that can hold any type of data\n",
    "# ordered\n",
    "# mutable\n",
    "# allows duplicate values"
   ]
  },
  {
   "cell_type": "code",
   "execution_count": 41,
   "id": "1dad5e04",
   "metadata": {
    "ExecuteTime": {
     "end_time": "2022-01-15T16:59:42.880979Z",
     "start_time": "2022-01-15T16:59:42.867748Z"
    }
   },
   "outputs": [],
   "source": [
    "list1 = [1,2,'A',4,'Hello',32.8]"
   ]
  },
  {
   "cell_type": "code",
   "execution_count": 42,
   "id": "4daed513",
   "metadata": {
    "ExecuteTime": {
     "end_time": "2022-01-15T17:01:33.574356Z",
     "start_time": "2022-01-15T17:01:33.558147Z"
    }
   },
   "outputs": [
    {
     "name": "stdout",
     "output_type": "stream",
     "text": [
      "[1, 2, 6, 3, 4]\n"
     ]
    }
   ],
   "source": [
    "# list indexing and slicing is similar to the string\n",
    "# insert()\n",
    "number = [1,2,3,4]\n",
    "number.insert(2,6)\n",
    "print(number)"
   ]
  },
  {
   "cell_type": "code",
   "execution_count": 43,
   "id": "02db0641",
   "metadata": {
    "ExecuteTime": {
     "end_time": "2022-01-15T17:02:44.340230Z",
     "start_time": "2022-01-15T17:02:44.326252Z"
    }
   },
   "outputs": [],
   "source": [
    "number.append(7)"
   ]
  },
  {
   "cell_type": "code",
   "execution_count": 44,
   "id": "2cdff4ea",
   "metadata": {
    "ExecuteTime": {
     "end_time": "2022-01-15T17:02:50.506904Z",
     "start_time": "2022-01-15T17:02:50.493779Z"
    }
   },
   "outputs": [
    {
     "name": "stdout",
     "output_type": "stream",
     "text": [
      "[1, 2, 6, 3, 4, 7]\n"
     ]
    }
   ],
   "source": [
    "print(number)"
   ]
  },
  {
   "cell_type": "code",
   "execution_count": 45,
   "id": "e9365381",
   "metadata": {
    "ExecuteTime": {
     "end_time": "2022-01-15T17:03:50.240114Z",
     "start_time": "2022-01-15T17:03:50.228926Z"
    }
   },
   "outputs": [
    {
     "name": "stdout",
     "output_type": "stream",
     "text": [
      "[1, 2, 3, 4, 5, 6, 7, 8, 9, 10]\n"
     ]
    }
   ],
   "source": [
    "num = [1,2,3,4]\n",
    "num.extend([5,6,7,8,9,10])\n",
    "print(num)"
   ]
  },
  {
   "cell_type": "code",
   "execution_count": 46,
   "id": "016faaf9",
   "metadata": {
    "ExecuteTime": {
     "end_time": "2022-01-15T17:04:45.051029Z",
     "start_time": "2022-01-15T17:04:45.027212Z"
    }
   },
   "outputs": [
    {
     "name": "stdout",
     "output_type": "stream",
     "text": [
      "[1, 2, 3, 4, 5, 6, 7, 8, 9]\n"
     ]
    }
   ],
   "source": [
    "num.pop()\n",
    "print(num)"
   ]
  },
  {
   "cell_type": "code",
   "execution_count": 47,
   "id": "f459c08d",
   "metadata": {
    "ExecuteTime": {
     "end_time": "2022-01-15T17:05:13.263221Z",
     "start_time": "2022-01-15T17:05:13.250566Z"
    }
   },
   "outputs": [
    {
     "name": "stdout",
     "output_type": "stream",
     "text": [
      "[1, 2, 4, 5, 6, 7, 8, 9]\n"
     ]
    }
   ],
   "source": [
    "num.pop(2)\n",
    "print(num)"
   ]
  },
  {
   "cell_type": "code",
   "execution_count": 48,
   "id": "e16055be",
   "metadata": {
    "ExecuteTime": {
     "end_time": "2022-01-15T17:07:43.568700Z",
     "start_time": "2022-01-15T17:07:43.549740Z"
    }
   },
   "outputs": [
    {
     "name": "stdout",
     "output_type": "stream",
     "text": [
      "[1, 2, 4, 5]\n",
      "3\n",
      "[11, 3, 22]\n"
     ]
    }
   ],
   "source": [
    "# pop oit value can be reuse..\n",
    "l2 = [1,2,3,4,5]\n",
    "var1 = l2.pop(2)\n",
    "print(l2)\n",
    "print(var1)\n",
    "l3 = [11,22]\n",
    "l3.insert(1,var1)\n",
    "print(l3)"
   ]
  },
  {
   "cell_type": "code",
   "execution_count": 49,
   "id": "4e3d71f6",
   "metadata": {
    "ExecuteTime": {
     "end_time": "2022-01-15T17:08:25.180498Z",
     "start_time": "2022-01-15T17:08:25.160601Z"
    }
   },
   "outputs": [
    {
     "name": "stdout",
     "output_type": "stream",
     "text": [
      "[11, 3]\n"
     ]
    }
   ],
   "source": [
    "l3.remove(22)\n",
    "print(l3)"
   ]
  },
  {
   "cell_type": "code",
   "execution_count": 51,
   "id": "4e71d573",
   "metadata": {
    "ExecuteTime": {
     "end_time": "2022-01-15T17:09:31.600421Z",
     "start_time": "2022-01-15T17:09:31.591856Z"
    }
   },
   "outputs": [
    {
     "name": "stdout",
     "output_type": "stream",
     "text": [
      "[11]\n"
     ]
    }
   ],
   "source": [
    "del l3[1]\n",
    "print(l3)\n"
   ]
  },
  {
   "cell_type": "code",
   "execution_count": 57,
   "id": "998819a1",
   "metadata": {
    "ExecuteTime": {
     "end_time": "2022-01-15T17:12:44.828839Z",
     "start_time": "2022-01-15T17:12:44.808924Z"
    }
   },
   "outputs": [],
   "source": [
    "num = [11,22,33,44,55]"
   ]
  },
  {
   "cell_type": "code",
   "execution_count": 58,
   "id": "734d432b",
   "metadata": {
    "ExecuteTime": {
     "end_time": "2022-01-15T17:12:45.598525Z",
     "start_time": "2022-01-15T17:12:45.585878Z"
    }
   },
   "outputs": [
    {
     "ename": "NameError",
     "evalue": "name 'num' is not defined",
     "output_type": "error",
     "traceback": [
      "\u001b[1;31m---------------------------------------------------------------------------\u001b[0m",
      "\u001b[1;31mNameError\u001b[0m                                 Traceback (most recent call last)",
      "\u001b[1;32m~\\AppData\\Local\\Temp/ipykernel_10012/1388481224.py\u001b[0m in \u001b[0;36m<module>\u001b[1;34m\u001b[0m\n\u001b[0;32m      1\u001b[0m \u001b[1;32mdel\u001b[0m \u001b[0mnum\u001b[0m\u001b[1;33m\u001b[0m\u001b[1;33m\u001b[0m\u001b[0m\n\u001b[1;32m----> 2\u001b[1;33m \u001b[0mprint\u001b[0m\u001b[1;33m(\u001b[0m\u001b[0mnum\u001b[0m\u001b[1;33m)\u001b[0m\u001b[1;33m\u001b[0m\u001b[1;33m\u001b[0m\u001b[0m\n\u001b[0m",
      "\u001b[1;31mNameError\u001b[0m: name 'num' is not defined"
     ]
    }
   ],
   "source": [
    "del num\n",
    "print(num)"
   ]
  },
  {
   "cell_type": "code",
   "execution_count": 60,
   "id": "2bcf4624",
   "metadata": {
    "ExecuteTime": {
     "end_time": "2022-01-15T17:14:08.617601Z",
     "start_time": "2022-01-15T17:14:08.607943Z"
    }
   },
   "outputs": [
    {
     "name": "stdout",
     "output_type": "stream",
     "text": [
      "[]\n"
     ]
    }
   ],
   "source": [
    "num = [11,22,33,44,55]\n",
    "num.clear()\n",
    "print(num)"
   ]
  },
  {
   "cell_type": "code",
   "execution_count": 61,
   "id": "992b395d",
   "metadata": {
    "ExecuteTime": {
     "end_time": "2022-01-15T17:15:04.580723Z",
     "start_time": "2022-01-15T17:15:04.570157Z"
    }
   },
   "outputs": [
    {
     "data": {
      "text/plain": [
       "[]"
      ]
     },
     "execution_count": 61,
     "metadata": {},
     "output_type": "execute_result"
    }
   ],
   "source": [
    "num"
   ]
  },
  {
   "cell_type": "code",
   "execution_count": 62,
   "id": "820099c9",
   "metadata": {
    "ExecuteTime": {
     "end_time": "2022-01-15T17:15:19.398897Z",
     "start_time": "2022-01-15T17:15:19.388041Z"
    }
   },
   "outputs": [
    {
     "data": {
      "text/plain": [
       "[1, 2, 6, 3, 4, 7]"
      ]
     },
     "execution_count": 62,
     "metadata": {},
     "output_type": "execute_result"
    }
   ],
   "source": [
    "number"
   ]
  },
  {
   "cell_type": "code",
   "execution_count": 64,
   "id": "47b862cd",
   "metadata": {
    "ExecuteTime": {
     "end_time": "2022-01-15T17:15:53.394247Z",
     "start_time": "2022-01-15T17:15:53.373756Z"
    }
   },
   "outputs": [
    {
     "name": "stdout",
     "output_type": "stream",
     "text": [
      "[7, 4, 3, 6, 2, 1]\n"
     ]
    }
   ],
   "source": [
    "number.reverse()\n",
    "print(number)"
   ]
  },
  {
   "cell_type": "code",
   "execution_count": null,
   "id": "283f459e",
   "metadata": {},
   "outputs": [],
   "source": [
    "print()"
   ]
  }
 ],
 "metadata": {
  "kernelspec": {
   "display_name": "Python 3 (ipykernel)",
   "language": "python",
   "name": "python3"
  },
  "language_info": {
   "codemirror_mode": {
    "name": "ipython",
    "version": 3
   },
   "file_extension": ".py",
   "mimetype": "text/x-python",
   "name": "python",
   "nbconvert_exporter": "python",
   "pygments_lexer": "ipython3",
   "version": "3.9.7"
  },
  "latex_envs": {
   "LaTeX_envs_menu_present": true,
   "autoclose": false,
   "autocomplete": true,
   "bibliofile": "biblio.bib",
   "cite_by": "apalike",
   "current_citInitial": 1,
   "eqLabelWithNumbers": true,
   "eqNumInitial": 1,
   "hotkeys": {
    "equation": "Ctrl-E",
    "itemize": "Ctrl-I"
   },
   "labels_anchors": false,
   "latex_user_defs": false,
   "report_style_numbering": false,
   "user_envs_cfg": false
  },
  "toc": {
   "base_numbering": 1,
   "nav_menu": {},
   "number_sections": true,
   "sideBar": true,
   "skip_h1_title": false,
   "title_cell": "Table of Contents",
   "title_sidebar": "Contents",
   "toc_cell": false,
   "toc_position": {},
   "toc_section_display": true,
   "toc_window_display": false
  },
  "varInspector": {
   "cols": {
    "lenName": 16,
    "lenType": 16,
    "lenVar": 40
   },
   "kernels_config": {
    "python": {
     "delete_cmd_postfix": "",
     "delete_cmd_prefix": "del ",
     "library": "var_list.py",
     "varRefreshCmd": "print(var_dic_list())"
    },
    "r": {
     "delete_cmd_postfix": ") ",
     "delete_cmd_prefix": "rm(",
     "library": "var_list.r",
     "varRefreshCmd": "cat(var_dic_list()) "
    }
   },
   "types_to_exclude": [
    "module",
    "function",
    "builtin_function_or_method",
    "instance",
    "_Feature"
   ],
   "window_display": false
  }
 },
 "nbformat": 4,
 "nbformat_minor": 5
}
