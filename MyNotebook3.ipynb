{
 "cells": [
  {
   "cell_type": "markdown",
   "id": "56fa622c",
   "metadata": {},
   "source": [
    "# Regular Expression (Regex)"
   ]
  },
  {
   "cell_type": "code",
   "execution_count": 1,
   "id": "d54c5b63",
   "metadata": {},
   "outputs": [
    {
     "name": "stdout",
     "output_type": "stream",
     "text": [
      "['welcome', 'to', 'the', 'regex', 'programming', 'using', 'python']\n"
     ]
    }
   ],
   "source": [
    "# Regex -> Regular Expression\n",
    "# Pattern matching\n",
    "# another language\n",
    "# Syntax\n",
    "# grep = Global Regular Expression Print\n",
    "import re \n",
    "s = \"welcome to the regex programming using python\"\n",
    "lstWords = s.split(\" \")\n",
    "print(lstWords)"
   ]
  },
  {
   "cell_type": "markdown",
   "id": "c54b93b8",
   "metadata": {},
   "source": [
    "### split\n",
    "### findall\n",
    "### compile\n",
    "### search\n",
    "### sub"
   ]
  },
  {
   "cell_type": "code",
   "execution_count": 2,
   "id": "29800e98",
   "metadata": {},
   "outputs": [
    {
     "name": "stdout",
     "output_type": "stream",
     "text": [
      "The value of s            :  welcome to   the  regex    programming  using python\n",
      "Regex split using '\\s'    :  ['welcome', 'to', '', '', 'the', '', 'regex', '', '', '', 'programming', '', 'using', 'python']\n",
      "Regex split using '\\s+'    :  ['welcome', 'to', 'the', 'regex', 'programming', 'using', 'python']\n",
      "Regex split using 's+'    :  ['welcome to   the  regex    programming  u', 'ing python']\n",
      "Regex split using '[a-f]'    :  ['w', 'l', 'om', ' to th', ' r', 'g', 'x progr', 'mming using python']\n",
      "Regex split using '[a-f][l-n]'    :  ['w', 'come to the regex progr', 'ming using python']\n"
     ]
    }
   ],
   "source": [
    "s = \"welcome to   the  regex    programming  using python\"\n",
    "print(\"The value of s            : \",s)\n",
    "\n",
    "lstValue = re.split(r\"\\s\", s)\n",
    "print(\"Regex split using '\\s'    : \", lstValue)\n",
    "\n",
    "lstValue = re.split(r\"\\s+\", s)\n",
    "print(\"Regex split using '\\s+'    : \", lstValue)\n",
    "\n",
    "lstValue = re.split(r\"s+\", s)\n",
    "print(\"Regex split using 's+'    : \", lstValue)\n",
    "\n",
    "s = \"welcome to the regex programming using python\"\n",
    "lstValue = re.split(r\"[a-f]\", s)\n",
    "print(\"Regex split using '[a-f]'    : \", lstValue)\n",
    "\n",
    "lstValue = re.split(r\"[a-f][l-n]\", s)\n",
    "#[a-f] => a b c d e f\n",
    "#[l-n] => l m n \n",
    "#[a-f][l-n] => al am an bl bm bn cl cm cn dl dm dn el em en fl fm fn\n",
    "print(\"Regex split using '[a-f][l-n]'    : \", lstValue)"
   ]
  },
  {
   "cell_type": "code",
   "execution_count": 3,
   "id": "786e180a",
   "metadata": {},
   "outputs": [
    {
     "name": "stdout",
     "output_type": "stream",
     "text": [
      "['78', '11', '89', '4', '123', '5678', '560023', '67893', '45']\n",
      "['560023']\n",
      "['78', '11', '89', '12', '56', '78', '56', '00', '23', '67', '89', '45']\n",
      "[' 11 ', ' 89 ']\n",
      "['78']\n",
      "['78', ' 11 ', ' 89 ', '45']\n",
      "['45']\n",
      "['78', '11', '89', '4', '123', '5678', '560023', '67893', '45']\n"
     ]
    }
   ],
   "source": [
    "address = \"78 Hi 11    89 Main, 4th Cross, 123, Road, Marathalli, 5678 Bangalore, 560023 67893 45\"\n",
    "LstValues = re.findall(r\"\\d+\", address)\n",
    "print(LstValues)\n",
    "\n",
    "LstValues = re.findall(r\"\\d{6}\", address)\n",
    "print(LstValues)\n",
    "\n",
    "LstValues = re.findall(r\"\\d{2}\", address)\n",
    "print(LstValues)\n",
    "\n",
    "LstValues = re.findall(r\"\\s\\d{2}\\s\", address)\n",
    "print(LstValues)\n",
    "\n",
    "LstValues = re.findall(r\"^\\d{2}\", address)\n",
    "print(LstValues)\n",
    "\n",
    "LstValues = re.findall(r\"^\\d{2}|\\s\\d{2}\\s|\\d{2}$\", address)\n",
    "print(LstValues)\n",
    "\n",
    "LstValues = re.findall(r\"\\d{2}\\Z\", address)\n",
    "print(LstValues)\n",
    "\n",
    "LstValues = re.findall(r\"\\d{1,6}\", address)\n",
    "print(LstValues)"
   ]
  },
  {
   "cell_type": "code",
   "execution_count": 8,
   "id": "64463cba",
   "metadata": {},
   "outputs": [
    {
     "name": "stdout",
     "output_type": "stream",
     "text": [
      "IP Aaddress:  ['172.45.78.109', '127.0.0.1', '10.67.89.101', '10.67.98.102', '12.68.98.102']\n",
      "IP Addresses starts with 10 :  ['10.67.89.101', '10.67.98.102']\n",
      "IP Addresses:  ['172.45.78.109', '127.0.0.1', '10.67.89.101', '10.67.98.102', '12.68.98.102']\n"
     ]
    }
   ],
   "source": [
    "# IP Address\n",
    "s = '''\n",
    "<html>\n",
    "<head>\n",
    "<title>Current IP Address Allocations\n",
    "</title>\n",
    "</head>\n",
    "<body>\n",
    "IP Address are 172.45.78.109\n",
    "LoopBack Address: 127.0.0.1\n",
    "Computer 1: 10.67.89.101\n",
    "Computer 2: 10.67.98.102\n",
    "Computer 3: 12.68.98.102\n",
    "</body>\n",
    "</html>\n",
    "'''\n",
    "# IP Address: 4 parts\n",
    "# <no>.<no>.<no>.<no>\n",
    "# No -> 1, 2, 3 digit\n",
    "# \\d{1,3}\n",
    "# \\.\n",
    "# \\d{1,3}\\.\n",
    "# \\d{1,3}\\.\\d{1,3}\\.\\d{1,3}\\.\\d{1,3}\n",
    "lstValues = re.findall(r\"\\d{1,3}.\\d{1,2}.\\d{1,2}.\\d{1,3}\", s)\n",
    "print(\"IP Aaddress: \", lstValues)\n",
    "\n",
    "lstValues = re.findall(r\"10.\\d{1,2}.\\d{1,2}.\\d{1,3}\", s)\n",
    "print(\"IP Addresses starts with 10 : \", lstValues)\n",
    "\n",
    "# to store the pattern\n",
    "pat = re.compile(r\"\\d{1,3}\\.\\d{1,3}\\.\\d{1,3}\\.\\d{1,3}\")\n",
    "lstValue = re.findall(pat, s)\n",
    "print(\"IP Addresses: \", lstValue)"
   ]
  },
  {
   "cell_type": "code",
   "execution_count": 18,
   "id": "843b4950",
   "metadata": {},
   "outputs": [
    {
     "name": "stdout",
     "output_type": "stream",
     "text": [
      "AMEX card no. :  ['3775 123456 78910']\n",
      "otherCard :  ['3545 456789 12345']\n"
     ]
    }
   ],
   "source": [
    "# extract AMEX card no. from empDetials\n",
    "empDetails = \"Hi I have a credit card with number 3775 123456 78910 and \" \\\n",
    "             \"other card is\" \\\n",
    "             \" 3545 456789 12345\"\n",
    "\n",
    "#http://www.getcreditcardnumbers.com\n",
    "# AMEX Card\n",
    "# Always Start with 3\n",
    "# Second Digit is either 4 or 7\n",
    "# <4 Digit> <6 Digit> <5 Digit>\n",
    "\n",
    "lstCard = re.findall(r\"3[7|4]\\d{2}\\s\\d{6}\\s\\d{5}\", empDetails)\n",
    "print(\"AMEX card no. : \", lstCard)\n",
    "\n",
    "otherCard = re.findall(r\"3[5|4]\\d{2}\\s\\d{6}\\s\\d{5}\", empDetails)\n",
    "print(\"otherCard : \", otherCard)\n",
    "\n",
    "# lstWords = empDetails.split()\n",
    "# print(lstWords)\n",
    "# print(\"\".join(lstWords))"
   ]
  },
  {
   "cell_type": "code",
   "execution_count": 34,
   "id": "d9fa9096",
   "metadata": {},
   "outputs": [
    {
     "name": "stdout",
     "output_type": "stream",
     "text": [
      "['Rohit', 'Virat', 'Dhawan']\n",
      "[122, 96, 46]\n",
      "{'Rohit': 122, 'Virat': 96, 'Dhawan': 46}\n",
      "Resul  {'Rohit': 122, 'Virat': 96, 'Dhawan': 46}\n"
     ]
    }
   ],
   "source": [
    "sampleString = '''\n",
    "Rohit made 122 runs, Virat made 96 runs, and\n",
    "Dhawan made 46 runs and we won the match.\n",
    "'''\n",
    "# output- {\"Rohit\": 122, \"Virat\": 96, \"Dhawan\": 46}\n",
    "\n",
    "name = re.findall(r\"[A-Z][a-z]+\", sampleString)\n",
    "print(name)\n",
    "\n",
    "score = re.findall(r\"\\d{1,3}\", sampleString)\n",
    "num = [int(x) for x in score]\n",
    "print(num)\n",
    "\n",
    "# Approach 1\n",
    "dic = dict(zip(name,num)) \n",
    "print(dic)\n",
    " \n",
    "# Approach 2\n",
    "result = {}\n",
    "for item in range(0,3):\n",
    "    result[name[item]] = num[item]\n",
    "print(\"Resul = \", result)"
   ]
  },
  {
   "cell_type": "code",
   "execution_count": 40,
   "id": "161e0060",
   "metadata": {},
   "outputs": [
    {
     "name": "stdout",
     "output_type": "stream",
     "text": [
      "Match using pattern [A-Z][a-z]+\\s\\d{1,2} : ['June 24', 'August 9', 'Dec 12']\n",
      "Match using pattern ([A-Z][a-z]+)\\s\\d{1,2} : ['June', 'August', 'Dec']\n",
      "Match using pattern [A-Z][a-z]+\\s(\\d{1,2}) : ['24', '9', '12']\n",
      "Match using pattern ([A-Z][a-z]+)\\s(\\d{1,2}) : [('June', '24'), ('August', '9'), ('Dec', '12')]\n"
     ]
    }
   ],
   "source": [
    "# Q Find all matches for format Month day\n",
    "s = \"These are 3 match dates June 24, August 9, Dec 12\"\n",
    "\n",
    "matches = re.findall(r\"[A-Z][a-z]+\\s\\d{1,2}\", s)\n",
    "print(\"Match using pattern [A-Z][a-z]+\\s\\d{1,2} :\", matches)\n",
    "\n",
    "matches = re.findall(r\"([A-Z][a-z]+)\\s\\d{1,2}\", s)\n",
    "print(\"Match using pattern ([A-Z][a-z]+)\\s\\d{1,2} :\", matches)\n",
    "\n",
    "matches = re.findall(r\"[A-Z][a-z]+\\s(\\d{1,2})\", s)\n",
    "print(\"Match using pattern [A-Z][a-z]+\\s(\\d{1,2}) :\", matches)\n",
    "\n",
    "matches = re.findall(r\"([A-Z][a-z]+)\\s(\\d{1,2})\", s)\n",
    "print(\"Match using pattern ([A-Z][a-z]+)\\s(\\d{1,2}) :\", matches)"
   ]
  },
  {
   "cell_type": "code",
   "execution_count": 82,
   "id": "f1baec6d",
   "metadata": {},
   "outputs": [
    {
     "name": "stdout",
     "output_type": "stream",
     "text": [
      "All email ID's :  ['alice@google.com', 'helloab@abc.com', '---@gmail.com', '23@gmail.com', 'my23@gmail.com', '_@gmail.com', 'wel-come@gmail.com']\n",
      "Str : alice@google.com helloab@abc.com ---@gmail.com 23@gmail.com my23@gmail.com _@gmail.com wel-come@gmail.com\n",
      "Incurrect email ID's :  ['---@gmail.com', 'wel-come@gmail.com']\n",
      "Currect email ID's :  alice@google.com helloab@abc.com  23@gmail.com my23@gmail.com _@gmail.com \n"
     ]
    }
   ],
   "source": [
    "# Extract all emails\n",
    "s = \"purple alice@google.com abcde helloab@abc.com ---@gmail.com 23@gmail.com my23@gmail.com _@gmail.com wel-come@gmail.com\"\n",
    "\n",
    "emails = re.findall(r\"\\S+@\\S+\", s)\n",
    "print(\"All email ID's : \", emails)\n",
    "\n",
    "new = ' '.join([str(i) for i in emails])\n",
    "print(\"Str :\", new)\n",
    "\n",
    "email = re.findall(r\"\\-+\\S+@\\S+|\\w+\\-+\\S+@\\S+\", s)\n",
    "print(\"Incurrect email ID's : \", email)\n",
    "\n",
    "e = re.sub(r\"\\-+\\S+@\\S+|\\w+\\-+\\S+@\\S+\",\"\", new)\n",
    "print(\"Currect email ID's : \", e)\n"
   ]
  },
  {
   "cell_type": "code",
   "execution_count": 85,
   "id": "d9a06077",
   "metadata": {},
   "outputs": [
    {
     "name": "stdout",
     "output_type": "stream",
     "text": [
      "['lovely', '2 lonely', 'dent']\n"
     ]
    }
   ],
   "source": [
    "# For the given list, filter all elements having a line starting with 'den' or ending with 'ly'.\n",
    "items = ['lovely', '1\\ndentist', '2 lonely', 'eden', 'fly\\nfar', 'dent']\n",
    "\n",
    "result = []\n",
    "for item in items:\n",
    "    if re.search(r\"^den|ly$\", item):\n",
    "        result.append(item)\n",
    "print(result)"
   ]
  },
  {
   "cell_type": "code",
   "execution_count": null,
   "id": "c07ef490",
   "metadata": {},
   "outputs": [],
   "source": []
  }
 ],
 "metadata": {
  "kernelspec": {
   "display_name": "Python 3 (ipykernel)",
   "language": "python",
   "name": "python3"
  },
  "language_info": {
   "codemirror_mode": {
    "name": "ipython",
    "version": 3
   },
   "file_extension": ".py",
   "mimetype": "text/x-python",
   "name": "python",
   "nbconvert_exporter": "python",
   "pygments_lexer": "ipython3",
   "version": "3.8.8"
  },
  "toc": {
   "base_numbering": 1,
   "nav_menu": {},
   "number_sections": true,
   "sideBar": true,
   "skip_h1_title": false,
   "title_cell": "Table of Contents",
   "title_sidebar": "Contents",
   "toc_cell": false,
   "toc_position": {
    "height": "calc(100% - 180px)",
    "left": "10px",
    "top": "150px",
    "width": "226.76px"
   },
   "toc_section_display": true,
   "toc_window_display": false
  },
  "varInspector": {
   "cols": {
    "lenName": 16,
    "lenType": 16,
    "lenVar": 40
   },
   "kernels_config": {
    "python": {
     "delete_cmd_postfix": "",
     "delete_cmd_prefix": "del ",
     "library": "var_list.py",
     "varRefreshCmd": "print(var_dic_list())"
    },
    "r": {
     "delete_cmd_postfix": ") ",
     "delete_cmd_prefix": "rm(",
     "library": "var_list.r",
     "varRefreshCmd": "cat(var_dic_list()) "
    }
   },
   "types_to_exclude": [
    "module",
    "function",
    "builtin_function_or_method",
    "instance",
    "_Feature"
   ],
   "window_display": false
  }
 },
 "nbformat": 4,
 "nbformat_minor": 5
}
