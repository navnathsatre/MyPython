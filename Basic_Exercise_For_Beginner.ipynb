{
 "cells": [
  {
   "cell_type": "code",
   "execution_count": 2,
   "id": "d0f59a0e",
   "metadata": {
    "ExecuteTime": {
     "end_time": "2021-12-25T10:44:19.816431Z",
     "start_time": "2021-12-25T10:44:17.919736Z"
    }
   },
   "outputs": [
    {
     "name": "stdout",
     "output_type": "stream",
     "text": [
      "enter the first number : 5\n",
      "enter the second number : 2\n",
      "Sum =  52\n",
      "Multiplication =  10.0\n"
     ]
    }
   ],
   "source": [
    "#Exercise 1: calculate sum and multiplication of two number\n",
    "num1 = input(\"enter the first number : \")\n",
    "num2 = input(\"enter the second number : \")\n",
    "print(\"Sum = \",num1+num2)\n",
    "print(\"Multiplication = \",float(num1)*float(num2))"
   ]
  },
  {
   "cell_type": "code",
   "execution_count": 3,
   "id": "d6f532d3",
   "metadata": {
    "ExecuteTime": {
     "end_time": "2021-12-25T10:44:30.842896Z",
     "start_time": "2021-12-25T10:44:21.867476Z"
    }
   },
   "outputs": [
    {
     "name": "stdout",
     "output_type": "stream",
     "text": [
      "enter the no. : 5200\n",
      "enter the no. : 6\n",
      "31200\n"
     ]
    }
   ],
   "source": [
    "# Given two integer numbers return their product only if the product is greater than 1000, else return their sum.\n",
    "num1 = int(input(\"enter the no. : \"))\n",
    "num2 = int(input(\"enter the no. : \"))\n",
    "def Num_multi_sum(num1, num2):\n",
    "    if num1 * num2 >= 1000:\n",
    "        print(num1 * num2)\n",
    "    else:\n",
    "        return (num1 + num2)\n",
    "Num_multi_sum(num1, num2)"
   ]
  },
  {
   "cell_type": "markdown",
   "id": "c96dce1b",
   "metadata": {},
   "source": [
    "### Exercise 2: Print the sum of the current number and the previous number <br/>\n",
    "Write a program to iterate the first 10 numbers and in each iteration, print the sum of the current and previous number."
   ]
  },
  {
   "cell_type": "code",
   "execution_count": 4,
   "id": "f7920560",
   "metadata": {
    "ExecuteTime": {
     "end_time": "2021-12-25T10:44:35.196605Z",
     "start_time": "2021-12-25T10:44:35.188601Z"
    }
   },
   "outputs": [
    {
     "name": "stdout",
     "output_type": "stream",
     "text": [
      "Current Number : 0 Previous Number : 0 sum : 0\n",
      "Current Number : 1 Previous Number : 0 sum : 1\n",
      "Current Number : 2 Previous Number : 1 sum : 3\n",
      "Current Number : 3 Previous Number : 2 sum : 5\n",
      "Current Number : 4 Previous Number : 3 sum : 7\n",
      "Current Number : 5 Previous Number : 4 sum : 9\n",
      "Current Number : 6 Previous Number : 5 sum : 11\n",
      "Current Number : 7 Previous Number : 6 sum : 13\n",
      "Current Number : 8 Previous Number : 7 sum : 15\n",
      "Current Number : 9 Previous Number : 8 sum : 17\n",
      "Current Number : 10 Previous Number : 9 sum : 19\n"
     ]
    }
   ],
   "source": [
    "previous_num = 0\n",
    "for i in range(0,11):\n",
    "    print(f\"Current Number : {i} Previous Number : {previous_num} sum : {i+previous_num}\")\n",
    "    previous_num = i"
   ]
  },
  {
   "cell_type": "markdown",
   "id": "0308695b",
   "metadata": {},
   "source": [
    "## Exercise 3: Print characters from a string that are present at an even index number\n",
    "Write a program to accept a string from the user and display characters that are present at an even index number.\n",
    "\n",
    "For example, str = \"pynative\" so you should display ‘p’, ‘n’, ‘t’, ‘v’."
   ]
  },
  {
   "cell_type": "code",
   "execution_count": 5,
   "id": "82580d0b",
   "metadata": {
    "ExecuteTime": {
     "end_time": "2021-12-25T10:44:43.156903Z",
     "start_time": "2021-12-25T10:44:38.907286Z"
    }
   },
   "outputs": [
    {
     "name": "stdout",
     "output_type": "stream",
     "text": [
      "Enter any string: xfbxfxgf\n",
      "x\n",
      "b\n",
      "f\n",
      "g\n"
     ]
    }
   ],
   "source": [
    "str1 = input(\"Enter any string: \")\n",
    "for i in range(0, len(str1), 2):\n",
    "    print(str1[i])"
   ]
  },
  {
   "cell_type": "markdown",
   "id": "e90ff620",
   "metadata": {},
   "source": [
    "## Exercise 4: Remove first n characters from a string\n",
    "Write a program to remove characters from a string starting from zero up to n and return a new string.\n",
    "\n",
    "For example:\n",
    "\n",
    "remove_chars(\"pynative\", 4) so output must be tive. Here we need to remove first four characters from a string.\n",
    "remove_chars(\"pynative\", 2) so output must be native. Here we need to remove first two characters from a string.\n",
    "Note: n must be less than the length of the string."
   ]
  },
  {
   "cell_type": "code",
   "execution_count": 6,
   "id": "ec0ea36d",
   "metadata": {
    "ExecuteTime": {
     "end_time": "2021-12-25T10:44:57.222103Z",
     "start_time": "2021-12-25T10:44:49.097392Z"
    }
   },
   "outputs": [
    {
     "name": "stdout",
     "output_type": "stream",
     "text": [
      "Enter any string : gvhcgvhj\n",
      "Enter n no. of char :3\n",
      "cgvhj\n"
     ]
    }
   ],
   "source": [
    "str1 = input(\"Enter any string : \")\n",
    "n = int(input(\"Enter n no. of char :\"))\n",
    "print(str1[n:])"
   ]
  },
  {
   "cell_type": "code",
   "execution_count": 7,
   "id": "c763720e",
   "metadata": {
    "ExecuteTime": {
     "end_time": "2021-12-25T10:45:04.130364Z",
     "start_time": "2021-12-25T10:44:58.708456Z"
    }
   },
   "outputs": [
    {
     "name": "stdout",
     "output_type": "stream",
     "text": [
      "Enter any string : nbhjchfg\n",
      "Enter n no. of char :4\n",
      "original string ; nbhjchfg\n",
      "After remove:  chfg\n"
     ]
    }
   ],
   "source": [
    "str1 = input(\"Enter any string : \")\n",
    "n = int(input(\"Enter n no. of char :\"))\n",
    "def remove_charectors(str1, n):\n",
    "    print(\"original string ;\", str1)\n",
    "    x = str1[n:]\n",
    "    return x\n",
    "print(\"After remove: \",remove_charectors(str1,n))"
   ]
  },
  {
   "cell_type": "markdown",
   "id": "4a17f156",
   "metadata": {},
   "source": [
    "## Exercise 5: Check if the first and last number of a list is the same\n",
    "Write a function to return True if the first and last number of a given list is same. If numbers are different then return False"
   ]
  },
  {
   "cell_type": "code",
   "execution_count": null,
   "id": "2ff8bc3f",
   "metadata": {
    "ExecuteTime": {
     "end_time": "2021-12-25T10:44:14.121741Z",
     "start_time": "2021-12-25T10:44:14.121741Z"
    }
   },
   "outputs": [],
   "source": [
    "numbers_x = [10, 20, 30, 40, 10]\n",
    "numbers_y = [75, 65, 35, 75, 30]\n",
    "def First_Last_No(lst):\n",
    "    a = lst[0]\n",
    "    b = lst[-1]\n",
    "    if a == b:\n",
    "        return True\n",
    "    else:\n",
    "        return False\n",
    "print(First_Last_No(numbers_y))    "
   ]
  },
  {
   "cell_type": "markdown",
   "id": "4db2c067",
   "metadata": {},
   "source": [
    "## Exercise 6: Display numbers divisible by 5 from a list\n",
    "Iterate the given list of numbers and print only those numbers which are divisible by 5"
   ]
  },
  {
   "cell_type": "code",
   "execution_count": null,
   "id": "8fcf2f5a",
   "metadata": {
    "ExecuteTime": {
     "end_time": "2021-12-25T10:44:14.121741Z",
     "start_time": "2021-12-25T10:44:14.121741Z"
    }
   },
   "outputs": [],
   "source": [
    "lst = [10, 20, 33, 46, 55]\n",
    "print(\"Divisible by 5\")\n",
    "for i in lst:\n",
    "    if i % 5 == 0:\n",
    "        print(i)"
   ]
  },
  {
   "cell_type": "markdown",
   "id": "812668a3",
   "metadata": {},
   "source": [
    "## Exercise 7: Return the count of a given substring from a string\n",
    "Write a program to find how many times substring “Emma” appears in the given string."
   ]
  },
  {
   "cell_type": "code",
   "execution_count": null,
   "id": "e0107997",
   "metadata": {
    "ExecuteTime": {
     "end_time": "2021-12-25T10:44:14.129746Z",
     "start_time": "2021-12-25T10:44:14.129746Z"
    }
   },
   "outputs": [],
   "source": [
    "str_x = \"Emma is good developer. Emma is a writer\""
   ]
  },
  {
   "cell_type": "code",
   "execution_count": null,
   "id": "a66d933e",
   "metadata": {},
   "outputs": [],
   "source": []
  }
 ],
 "metadata": {
  "kernelspec": {
   "display_name": "Python 3 (ipykernel)",
   "language": "python",
   "name": "python3"
  },
  "language_info": {
   "codemirror_mode": {
    "name": "ipython",
    "version": 3
   },
   "file_extension": ".py",
   "mimetype": "text/x-python",
   "name": "python",
   "nbconvert_exporter": "python",
   "pygments_lexer": "ipython3",
   "version": "3.9.7"
  },
  "latex_envs": {
   "LaTeX_envs_menu_present": true,
   "autoclose": false,
   "autocomplete": true,
   "bibliofile": "biblio.bib",
   "cite_by": "apalike",
   "current_citInitial": 1,
   "eqLabelWithNumbers": true,
   "eqNumInitial": 1,
   "hotkeys": {
    "equation": "Ctrl-E",
    "itemize": "Ctrl-I"
   },
   "labels_anchors": false,
   "latex_user_defs": false,
   "report_style_numbering": false,
   "user_envs_cfg": false
  },
  "toc": {
   "base_numbering": 1,
   "nav_menu": {},
   "number_sections": true,
   "sideBar": true,
   "skip_h1_title": false,
   "title_cell": "Table of Contents",
   "title_sidebar": "Contents",
   "toc_cell": false,
   "toc_position": {},
   "toc_section_display": true,
   "toc_window_display": false
  },
  "varInspector": {
   "cols": {
    "lenName": 16,
    "lenType": 16,
    "lenVar": 40
   },
   "kernels_config": {
    "python": {
     "delete_cmd_postfix": "",
     "delete_cmd_prefix": "del ",
     "library": "var_list.py",
     "varRefreshCmd": "print(var_dic_list())"
    },
    "r": {
     "delete_cmd_postfix": ") ",
     "delete_cmd_prefix": "rm(",
     "library": "var_list.r",
     "varRefreshCmd": "cat(var_dic_list()) "
    }
   },
   "types_to_exclude": [
    "module",
    "function",
    "builtin_function_or_method",
    "instance",
    "_Feature"
   ],
   "window_display": false
  }
 },
 "nbformat": 4,
 "nbformat_minor": 5
}
