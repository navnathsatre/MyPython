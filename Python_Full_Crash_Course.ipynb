{
 "cells": [
  {
   "cell_type": "markdown",
   "metadata": {},
   "source": [
    "<h1><center>Python Full Crash Course</center></h1>\n",
    "<h5><center>-Navnath Satre</center></h5>"
   ]
  },
  {
   "cell_type": "markdown",
   "metadata": {},
   "source": [
    "# Python\n",
    "    * Python is a high-level, general-purpose programming language.\n",
    "    * Its design philosophy emphasizes code readability with the use of significant indentation. \n",
    "    * Its language constructs and object-oriented approach aim to help programmers write clear, \n",
    "       logical code for small- and large-scale projects."
   ]
  },
  {
   "cell_type": "markdown",
   "metadata": {},
   "source": [
    "### Advantages/features of Python -"
   ]
  },
  {
   "cell_type": "markdown",
   "metadata": {},
   "source": [
    "1. Python is Simple and easy to learn. Expressive langauge\n",
    "2. Being High Level Programming Language it is easy to maintain\n",
    "3. python is a general purpose programming language.\n",
    "    1. App\n",
    "    2. Game \n",
    "    3. Data Analysis\n",
    "    4. Ai/ML\n",
    "    5. Embedded App\n",
    "4. Python is Interpreted Language\n",
    "5. Python is portable and Platform independent\n",
    "6. Python is dynamically typed\n",
    "7. Python comes with batteries included"
   ]
  },
  {
   "cell_type": "markdown",
   "metadata": {},
   "source": [
    "### Python Programming Componenets"
   ]
  },
  {
   "cell_type": "markdown",
   "metadata": {},
   "source": [
    "1. Literal\n",
    "2. Constants\n",
    "3. Variables\n",
    "4. Identifiers\n",
    "6. keywords\n",
    "7. Statements & Expression\n",
    "8. Blocks & Indentation\n",
    "9. Comments"
   ]
  },
  {
   "cell_type": "markdown",
   "metadata": {},
   "source": [
    "#### Literals - The raw data assigned to variables or constants while programming."
   ]
  },
  {
   "cell_type": "markdown",
   "metadata": {},
   "source": [
    "    Eg. Any value, 0, -10, 'a', 10.20\n",
    "    Integers\n",
    "    Float\n",
    "    Complex\n",
    "    String\n",
    "    None\n",
    "    Boolean - True and False"
   ]
  },
  {
   "cell_type": "markdown",
   "metadata": {},
   "source": [
    "#### Constants - A constant is a type of variable whose value cannot be changed"
   ]
  },
  {
   "cell_type": "markdown",
   "metadata": {},
   "source": [
    "    Eg. GRAVITATIONAL_CONSTANT = 9.8"
   ]
  },
  {
   "cell_type": "markdown",
   "metadata": {},
   "source": [
    "#### Variable - A Python variable is a symbolic name that is a reference or pointer to an object."
   ]
  },
  {
   "cell_type": "markdown",
   "metadata": {},
   "source": [
    "    Eg. \n",
    "    x = 5\n",
    "    name = \"Navnath\""
   ]
  },
  {
   "cell_type": "markdown",
   "metadata": {},
   "source": [
    "#### Identifiers - Any name used in Python program Constant, Variable, Function, Class, Object"
   ]
  },
  {
   "cell_type": "markdown",
   "metadata": {},
   "source": [
    "Rules:- <br/>\n",
    "    1. Allowed Characters - A-Z, a-z, 0-9, _ <br/>\n",
    "    2. Not Allowed - Special Characters <br/>\n",
    "    3. Identifiers are case sensitive <br/>\n",
    "    4. Identifiers should not start with a number <br/>\n",
    "    5. All the letters while defining constants should be in capital letters <br/>\n",
    "    6. Reserved words should not be used as an identifier <br/>\n",
    "    7. You should avoid defining any identifier starting and ending with __."
   ]
  },
  {
   "cell_type": "markdown",
   "metadata": {},
   "source": [
    "#### Keywords - Keywords are the reserved words in Python and can't be used as an identifier"
   ]
  },
  {
   "cell_type": "code",
   "execution_count": 1,
   "metadata": {},
   "outputs": [
    {
     "name": "stdout",
     "output_type": "stream",
     "text": [
      "['False', 'None', 'True', '__peg_parser__', 'and', 'as', 'assert', 'async', 'await', 'break', 'class', 'continue', 'def', 'del', 'elif', 'else', 'except', 'finally', 'for', 'from', 'global', 'if', 'import', 'in', 'is', 'lambda', 'nonlocal', 'not', 'or', 'pass', 'raise', 'return', 'try', 'while', 'with', 'yield']\n"
     ]
    }
   ],
   "source": [
    "import keyword\n",
    "print(keyword.kwlist) # List all Python Keywords"
   ]
  },
  {
   "cell_type": "code",
   "execution_count": 2,
   "metadata": {},
   "outputs": [
    {
     "data": {
      "text/plain": [
       "36"
      ]
     },
     "execution_count": 2,
     "metadata": {},
     "output_type": "execute_result"
    }
   ],
   "source": [
    "len(keyword.kwlist) # Python contains 36 keywords"
   ]
  },
  {
   "cell_type": "markdown",
   "metadata": {},
   "source": [
    "#### Expresssion - Group of operand, operators, literal which gives some result, Literal is simplest expression."
   ]
  },
  {
   "cell_type": "code",
   "execution_count": 3,
   "metadata": {},
   "outputs": [
    {
     "data": {
      "text/plain": [
       "30"
      ]
     },
     "execution_count": 3,
     "metadata": {},
     "output_type": "execute_result"
    }
   ],
   "source": [
    "# Single line \n",
    "10 + 20"
   ]
  },
  {
   "cell_type": "code",
   "execution_count": 4,
   "metadata": {},
   "outputs": [
    {
     "data": {
      "text/plain": [
       "290"
      ]
     },
     "execution_count": 4,
     "metadata": {},
     "output_type": "execute_result"
    }
   ],
   "source": [
    "# Multiple line \n",
    "20 + 30 \\\n",
    " + 40 + 50 +\\\n",
    " + 70 + 80"
   ]
  },
  {
   "cell_type": "markdown",
   "metadata": {},
   "source": [
    "#### Statments - Group of operand, operators, literal, keywords etc which does not give any result."
   ]
  },
  {
   "cell_type": "code",
   "execution_count": 5,
   "metadata": {},
   "outputs": [],
   "source": [
    "a = 10"
   ]
  },
  {
   "cell_type": "code",
   "execution_count": 6,
   "metadata": {},
   "outputs": [],
   "source": [
    "def f1():\n",
    "    pass"
   ]
  },
  {
   "cell_type": "code",
   "execution_count": 7,
   "metadata": {},
   "outputs": [],
   "source": [
    "for i in range(5):\n",
    "    pass"
   ]
  },
  {
   "cell_type": "markdown",
   "metadata": {},
   "source": [
    "#### Blocks - Group of code, which gets executed together, We use indentation in Python to create block of code\n",
    "#### Indentation - Indentation is spaces we use to create a block of code. If the indentation is not correct we will endup with IndentationError error."
   ]
  },
  {
   "cell_type": "code",
   "execution_count": 8,
   "metadata": {},
   "outputs": [
    {
     "name": "stdout",
     "output_type": "stream",
     "text": [
      "30\n"
     ]
    }
   ],
   "source": [
    "def add():\n",
    "    a = 10\n",
    "    b = 20\n",
    "    c = a+b\n",
    "    print(c)\n",
    "add()"
   ]
  },
  {
   "cell_type": "markdown",
   "metadata": {},
   "source": [
    "#### Comments in Python\n",
    "Comments can be used to explain the code for more readabilty."
   ]
  },
  {
   "cell_type": "code",
   "execution_count": 9,
   "metadata": {},
   "outputs": [],
   "source": [
    "# Single line comment"
   ]
  },
  {
   "cell_type": "code",
   "execution_count": 10,
   "metadata": {},
   "outputs": [],
   "source": [
    "# Multiple\n",
    "# line\n",
    "# comment"
   ]
  },
  {
   "cell_type": "code",
   "execution_count": 11,
   "metadata": {},
   "outputs": [
    {
     "data": {
      "text/plain": [
       "10"
      ]
     },
     "execution_count": 11,
     "metadata": {},
     "output_type": "execute_result"
    }
   ],
   "source": [
    "# Multiple line comment using \"\"\" \"\"\"\n",
    "\"\"\"\n",
    "Multiple\n",
    "line\n",
    "comment\n",
    "\"\"\"\n",
    "a = 10\n",
    "a"
   ]
  },
  {
   "cell_type": "markdown",
   "metadata": {},
   "source": [
    "##### Output function in Python"
   ]
  },
  {
   "cell_type": "code",
   "execution_count": 12,
   "metadata": {},
   "outputs": [
    {
     "name": "stdout",
     "output_type": "stream",
     "text": [
      "Output Function\n"
     ]
    }
   ],
   "source": [
    "print('Output Function')"
   ]
  },
  {
   "cell_type": "code",
   "execution_count": 13,
   "metadata": {},
   "outputs": [
    {
     "name": "stdout",
     "output_type": "stream",
     "text": [
      "10::20::30\n"
     ]
    }
   ],
   "source": [
    "print(10,20,30, sep = '::')"
   ]
  },
  {
   "cell_type": "code",
   "execution_count": 14,
   "metadata": {},
   "outputs": [
    {
     "name": "stdout",
     "output_type": "stream",
     "text": [
      "10\t20\t30\t40\t"
     ]
    }
   ],
   "source": [
    "print(10, end = '\\t')\n",
    "print(20, end = '\\t')\n",
    "print(30, end = '\\t')\n",
    "print(40, end = '\\t')"
   ]
  },
  {
   "cell_type": "code",
   "execution_count": 15,
   "metadata": {},
   "outputs": [
    {
     "name": "stdout",
     "output_type": "stream",
     "text": [
      "Enter 1st number: 10\n",
      "Enter 2nd number: 20\n",
      "The sum of 10 and 20 is = 30\n"
     ]
    }
   ],
   "source": [
    "# Output formating\n",
    "num1 = int(input('Enter 1st number: '))\n",
    "num2 = int(input('Enter 2nd number: '))\n",
    "res = num1 + num2\n",
    "print(f'The sum of {num1} and {num2} is = {res}')"
   ]
  },
  {
   "cell_type": "code",
   "execution_count": 16,
   "metadata": {},
   "outputs": [
    {
     "name": "stdout",
     "output_type": "stream",
     "text": [
      "Enter 1st number: 10\n",
      "Enter 2nd number: 20\n",
      "The sum of 10 and 20 is = 30\n"
     ]
    }
   ],
   "source": [
    "# Output formating\n",
    "num1 = int(input('Enter 1st number: '))\n",
    "num2 = int(input('Enter 2nd number: '))\n",
    "res = num1 + num2\n",
    "print('The sum of {} and {} is = {}'.format(num1,num2,res))"
   ]
  },
  {
   "cell_type": "markdown",
   "metadata": {},
   "source": [
    "### Data Types in Python:-\n",
    "    Fundamental Data Types - int, float, complex, boolean, None, string\n",
    "    Derived Data Types - List, tuple, Dictionary, range, set, frozenset, bytes, bytearray"
   ]
  },
  {
   "cell_type": "markdown",
   "metadata": {},
   "source": [
    "#### Fundamental Data Types"
   ]
  },
  {
   "cell_type": "markdown",
   "metadata": {},
   "source": [
    "##### int - \n",
    "    Any real number without decimal point.\n",
    "    Eg. 10,-10, 0\n",
    "    decimal, binary, octal, hexadecimal\n",
    "    Note - There is no concept of size in Python"
   ]
  },
  {
   "cell_type": "code",
   "execution_count": 17,
   "metadata": {},
   "outputs": [
    {
     "name": "stdout",
     "output_type": "stream",
     "text": [
      "10 <class 'int'>\n"
     ]
    }
   ],
   "source": [
    "a = 10\n",
    "print(a, type(a))"
   ]
  },
  {
   "cell_type": "code",
   "execution_count": 18,
   "metadata": {},
   "outputs": [
    {
     "name": "stdout",
     "output_type": "stream",
     "text": [
      "1000000000000000000000000000000000000000000000000000000000000000000000000000000000000000000000000000000 <class 'int'>\n"
     ]
    }
   ],
   "source": [
    "a = 1000000000000000000000000000000000000000000000000000000000000000000000000000000000000000000000000000000\n",
    "print(a, type(a))"
   ]
  },
  {
   "cell_type": "code",
   "execution_count": 19,
   "metadata": {},
   "outputs": [
    {
     "name": "stdout",
     "output_type": "stream",
     "text": [
      "Binary euivalent of 789 = 0b1100010101 <class 'str'>\n"
     ]
    }
   ],
   "source": [
    "# Binary Representation - 0,1, 0b, using bin()\n",
    "num = 789\n",
    "bin_num = bin(num)\n",
    "print(f'Binary euivalent of {num} =', bin_num, type(bin_num))"
   ]
  },
  {
   "cell_type": "code",
   "execution_count": 20,
   "metadata": {},
   "outputs": [
    {
     "name": "stdout",
     "output_type": "stream",
     "text": [
      "789\n"
     ]
    }
   ],
   "source": [
    "# TO convert a binary. number to deciml format, we just print the binary equivalent, \n",
    "my_num = 0b1100010101\n",
    "print(my_num)"
   ]
  },
  {
   "cell_type": "code",
   "execution_count": 21,
   "metadata": {},
   "outputs": [
    {
     "name": "stdout",
     "output_type": "stream",
     "text": [
      "Octal euivalent of 789 = 0o1425, <class 'str'>\n"
     ]
    }
   ],
   "source": [
    "# Octal representation - 0-7, 0o, oct()\n",
    "num = 789\n",
    "oct_num = oct(num)\n",
    "print(f'Octal euivalent of {num} = {oct_num}, {type(oct_num)}')"
   ]
  },
  {
   "cell_type": "code",
   "execution_count": 22,
   "metadata": {},
   "outputs": [
    {
     "name": "stdout",
     "output_type": "stream",
     "text": [
      "Binary euivalent of 789 = 0b1100010101 <class 'str'>\n",
      "789\n"
     ]
    }
   ],
   "source": [
    "bin_num = bin(0o1425)\n",
    "print(f'Binary euivalent of {num} =', bin_num, type(bin_num))\n",
    "\n",
    "oct_num = 0o1425\n",
    "print(oct_num)"
   ]
  },
  {
   "cell_type": "code",
   "execution_count": 23,
   "metadata": {},
   "outputs": [
    {
     "name": "stdout",
     "output_type": "stream",
     "text": [
      "Hexadecimal euivalent of 64664 = 0xfc98, <class 'str'>\n"
     ]
    }
   ],
   "source": [
    "# Hexadecimal representation - 0-9 and a/A - f/F, 0x, hex()\n",
    "num = 64664\n",
    "hex_num = hex(num)\n",
    "print(f'Hexadecimal euivalent of {num} = {hex_num}, {type(hex_num)}')"
   ]
  },
  {
   "cell_type": "code",
   "execution_count": 24,
   "metadata": {},
   "outputs": [
    {
     "name": "stdout",
     "output_type": "stream",
     "text": [
      "64664\n"
     ]
    }
   ],
   "source": [
    "hex_num = 0xfc98\n",
    "print(hex_num)"
   ]
  },
  {
   "cell_type": "markdown",
   "metadata": {},
   "source": [
    "Note - Only integers can be represented in binary, octal or hexadecimal"
   ]
  },
  {
   "cell_type": "markdown",
   "metadata": {},
   "source": [
    "##### Float - Any real number with decimal point\n",
    "   Eg. 10.20, -10.20, 0.0001"
   ]
  },
  {
   "cell_type": "markdown",
   "metadata": {},
   "source": [
    "    Note - There is no concept of size in float, \n",
    "          - Float can be represented only in decimal format"
   ]
  },
  {
   "cell_type": "code",
   "execution_count": 25,
   "metadata": {},
   "outputs": [
    {
     "name": "stdout",
     "output_type": "stream",
     "text": [
      "10.2 <class 'float'>\n",
      "1.0928467713654369e+31 <class 'float'>\n"
     ]
    }
   ],
   "source": [
    "a = 10.20\n",
    "print(a, type(a))\n",
    "b = 10928467713654368756342563245324.29185737824658764956347\n",
    "print(b, type(b))"
   ]
  },
  {
   "cell_type": "markdown",
   "metadata": {},
   "source": [
    "##### Complex - a+bj where a is real and b is imaginary, j= sqrt(-1)\n",
    "Eg. 9+6i"
   ]
  },
  {
   "cell_type": "code",
   "execution_count": 26,
   "metadata": {},
   "outputs": [
    {
     "name": "stdout",
     "output_type": "stream",
     "text": [
      "(12+20j) ---> 12.0 20.0\n"
     ]
    }
   ],
   "source": [
    "num = 12+20j\n",
    "print(num,'--->',num.real, num.imag)\n",
    "\n",
    "# Modulo operator, Comparison operator does not work"
   ]
  },
  {
   "cell_type": "markdown",
   "metadata": {},
   "source": [
    "##### None - Missing value -----> Its is data type\n"
   ]
  },
  {
   "cell_type": "code",
   "execution_count": 27,
   "metadata": {},
   "outputs": [
    {
     "name": "stdout",
     "output_type": "stream",
     "text": [
      "None <class 'NoneType'>\n"
     ]
    }
   ],
   "source": [
    "a = None\n",
    "print(a, type(a))\n",
    "\n",
    "# emp_id   emp_name    emp_sal   emp_addr\n",
    "#  101       XYZ        1111       None"
   ]
  },
  {
   "cell_type": "markdown",
   "metadata": {},
   "source": [
    "###### Boolean - True(1) False(0)\n",
    "    int - 0 is always False rest all True\n",
    "    float 0.0 is always False rest all True\n",
    "    complex 0.0 + 0.0j is always False rest all True\n",
    "    None - is always False\n",
    "    string - '' is always False rest all True\n",
    "    list, tuple, set, dictionary, frozenset, bytes, bytearray - empty False else True"
   ]
  },
  {
   "cell_type": "markdown",
   "metadata": {},
   "source": [
    "#### Derived Data Type"
   ]
  },
  {
   "cell_type": "markdown",
   "metadata": {},
   "source": [
    "#### List\n",
    "    List - Any value kept inside [] separated by comma.\n",
    "    List is Mutable - We can modify it and modification takes place into the existing list object\n",
    "    List is a collection of heterogeneous(different data types--->list, tuple, dict, bool all) data type\n",
    "    List can have duplicate elemenets, [1,4,3,1,4]\n",
    "    List is a sequence - Indexing, slicing, concatenation, repetition, membership"
   ]
  },
  {
   "cell_type": "code",
   "execution_count": 28,
   "metadata": {},
   "outputs": [
    {
     "name": "stdout",
     "output_type": "stream",
     "text": [
      "[10, 10.2, 100, 10, 'Python', True, 10, None, (10+20j), [10, 20, 30], {1, 2, 3}, (1, 4, 5)] <class 'list'>\n"
     ]
    }
   ],
   "source": [
    "lst = [10,10.20, 100, 10,'Python', True, 10, None, 10+20j, [10,20,30], {1,2,3},(1,4,5)]\n",
    "print(lst, type(lst))"
   ]
  },
  {
   "cell_type": "code",
   "execution_count": 29,
   "metadata": {},
   "outputs": [
    {
     "name": "stdout",
     "output_type": "stream",
     "text": [
      "{1, 2, 3}\n"
     ]
    }
   ],
   "source": [
    "print(lst[-2])       # Indexing"
   ]
  },
  {
   "cell_type": "code",
   "execution_count": 30,
   "metadata": {},
   "outputs": [
    {
     "name": "stdout",
     "output_type": "stream",
     "text": [
      "[7, 10.2, 100, 10, 'Python', True, 10, None, (10+20j), [10, 20, 30], {1, 2, 3}, (1, 4, 5)]\n"
     ]
    }
   ],
   "source": [
    "lst[0] = 7               # Item assigment possible\n",
    "print(lst)"
   ]
  },
  {
   "cell_type": "markdown",
   "metadata": {},
   "source": [
    "#### Tuple - \n",
    "    Tuple similar to list, \n",
    "    Values are kept inside () and separated by comma, \n",
    "    Tuple is immutable"
   ]
  },
  {
   "cell_type": "code",
   "execution_count": 31,
   "metadata": {},
   "outputs": [
    {
     "name": "stdout",
     "output_type": "stream",
     "text": [
      "(10, 10.2, 100, 10, 'Python', True, 10, None, (10+20j), [10, 20, 30], {1, 2, 3}) <class 'tuple'>\n"
     ]
    }
   ],
   "source": [
    "tpl = (10,10.20, 100, 10,'Python', True, 10, None, 10+20j, [10,20,30], {1,2,3})\n",
    "print(tpl, type(tpl))"
   ]
  },
  {
   "cell_type": "code",
   "execution_count": 32,
   "metadata": {
    "scrolled": true
   },
   "outputs": [
    {
     "ename": "TypeError",
     "evalue": "'tuple' object does not support item assignment",
     "output_type": "error",
     "traceback": [
      "\u001b[0;31m---------------------------------------------------------------------------\u001b[0m",
      "\u001b[0;31mTypeError\u001b[0m                                 Traceback (most recent call last)",
      "\u001b[0;32m/var/folders/04/6bn8n4t50h182h2pmshrg70m0000gn/T/ipykernel_3304/3016714118.py\u001b[0m in \u001b[0;36m<module>\u001b[0;34m\u001b[0m\n\u001b[0;32m----> 1\u001b[0;31m \u001b[0mtpl\u001b[0m\u001b[0;34m[\u001b[0m\u001b[0;36m0\u001b[0m\u001b[0;34m]\u001b[0m \u001b[0;34m=\u001b[0m \u001b[0;36m200\u001b[0m                    \u001b[0;31m# TypeError: 'tuple' object does not support item assignment\u001b[0m\u001b[0;34m\u001b[0m\u001b[0;34m\u001b[0m\u001b[0m\n\u001b[0m\u001b[1;32m      2\u001b[0m \u001b[0mprint\u001b[0m\u001b[0;34m(\u001b[0m\u001b[0mtpl\u001b[0m\u001b[0;34m)\u001b[0m\u001b[0;34m\u001b[0m\u001b[0;34m\u001b[0m\u001b[0m\n",
      "\u001b[0;31mTypeError\u001b[0m: 'tuple' object does not support item assignment"
     ]
    }
   ],
   "source": [
    "tpl[0] = 200                    # TypeError: 'tuple' object does not support item assignment\n",
    "print(tpl)"
   ]
  },
  {
   "cell_type": "markdown",
   "metadata": {},
   "source": [
    "#### Dictionary - Key:value - item/ element\n",
    "    {key:value, key:value, key:value}\n",
    "    Key should be immutable type keys can not be duplicated\n",
    "    Dictionary is not a seq so indexing is not allowed\n",
    "    Dictionary is mutable(because values can be change and item assigment happen in existing dictinary)"
   ]
  },
  {
   "cell_type": "code",
   "execution_count": 33,
   "metadata": {},
   "outputs": [
    {
     "name": "stdout",
     "output_type": "stream",
     "text": [
      "Python\n",
      "True\n"
     ]
    }
   ],
   "source": [
    "d = {1:100, 2:200,10.20:10+20j, 'a':'Python', None:True, (1,2,3):[10,20,30]}\n",
    "print(d['a'])\n",
    "print(d[None])"
   ]
  },
  {
   "cell_type": "code",
   "execution_count": 34,
   "metadata": {},
   "outputs": [
    {
     "data": {
      "text/plain": [
       "{1: 100,\n",
       " 2: 200,\n",
       " 10.2: (10+20j),\n",
       " 'a': 'Python',\n",
       " None: True,\n",
       " (1, 2, 3): [10, 20, 30]}"
      ]
     },
     "execution_count": 34,
     "metadata": {},
     "output_type": "execute_result"
    }
   ],
   "source": [
    "d"
   ]
  },
  {
   "cell_type": "code",
   "execution_count": 35,
   "metadata": {},
   "outputs": [
    {
     "name": "stdout",
     "output_type": "stream",
     "text": [
      "{1: 1000, 2: 200, 10.2: (10+20j), 'a': 'Python', None: True, (1, 2, 3): [10, 20, 30]}\n"
     ]
    }
   ],
   "source": [
    "d[1]= 1000            # Value has been changed from 100 to 10000\n",
    "print(d)"
   ]
  },
  {
   "cell_type": "markdown",
   "metadata": {},
   "source": [
    "#### Operators\n",
    "    Arithmetic - +, -, *, /(Float Division), //(Floor Division- Quotient), %(Modulo - remainder), **(Exponent)\n",
    "    Comparison - <, <=, >, >=\n",
    "    Equality - ==, !=\n",
    "    Logical - and, or, not\n",
    "    Assignment - =\n",
    "    Compound Assignment - +=, -=, *=, /=, //=, %=, **=\n",
    "    Identity - is , is not\n",
    "    Membership - in, not in"
   ]
  },
  {
   "cell_type": "markdown",
   "metadata": {},
   "source": [
    "##### Arithmetic operator"
   ]
  },
  {
   "cell_type": "code",
   "execution_count": 36,
   "metadata": {},
   "outputs": [
    {
     "name": "stdout",
     "output_type": "stream",
     "text": [
      "103\n"
     ]
    }
   ],
   "source": [
    "num1 = 100\n",
    "num2 = 3\n",
    "print(num1 + num2)  "
   ]
  },
  {
   "cell_type": "code",
   "execution_count": 37,
   "metadata": {},
   "outputs": [
    {
     "name": "stdout",
     "output_type": "stream",
     "text": [
      "97\n"
     ]
    }
   ],
   "source": [
    "print(num1 -num2)"
   ]
  },
  {
   "cell_type": "code",
   "execution_count": 38,
   "metadata": {},
   "outputs": [
    {
     "name": "stdout",
     "output_type": "stream",
     "text": [
      "33.333333333333336\n"
     ]
    }
   ],
   "source": [
    "print(num1/num2)       # Returns Float value - Float division   "
   ]
  },
  {
   "cell_type": "code",
   "execution_count": 39,
   "metadata": {},
   "outputs": [
    {
     "name": "stdout",
     "output_type": "stream",
     "text": [
      "33\n"
     ]
    }
   ],
   "source": [
    "print(num1//num2)      # return Floor value of float division result - Floor division"
   ]
  },
  {
   "cell_type": "code",
   "execution_count": 40,
   "metadata": {
    "scrolled": true
   },
   "outputs": [
    {
     "name": "stdout",
     "output_type": "stream",
     "text": [
      "1\n"
     ]
    }
   ],
   "source": [
    "print(num1%num2)"
   ]
  },
  {
   "cell_type": "code",
   "execution_count": 41,
   "metadata": {},
   "outputs": [
    {
     "name": "stdout",
     "output_type": "stream",
     "text": [
      "1000000\n"
     ]
    }
   ],
   "source": [
    "print(num1 ** num2)"
   ]
  },
  {
   "cell_type": "code",
   "execution_count": 42,
   "metadata": {},
   "outputs": [
    {
     "name": "stdout",
     "output_type": "stream",
     "text": [
      "8\n",
      "9\n"
     ]
    }
   ],
   "source": [
    "# Ceil - Top whole number - 4\n",
    "# Floor - Bottom whole number - 3\n",
    "import math\n",
    "print(math.floor(8.33))\n",
    "print(math.ceil(8.33))"
   ]
  },
  {
   "cell_type": "markdown",
   "metadata": {},
   "source": [
    "##### Comaprison\n",
    "    Comapair between two values\n",
    "    Always return Boolean value\n",
    "    Compariosn between complex numbers is not allowed\n",
    "    Comaprison between different data types is also not allowed, exception int and float"
   ]
  },
  {
   "cell_type": "code",
   "execution_count": 43,
   "metadata": {},
   "outputs": [
    {
     "name": "stdout",
     "output_type": "stream",
     "text": [
      "True\n"
     ]
    }
   ],
   "source": [
    "print(10<20)          #less than"
   ]
  },
  {
   "cell_type": "code",
   "execution_count": 44,
   "metadata": {},
   "outputs": [
    {
     "name": "stdout",
     "output_type": "stream",
     "text": [
      "False\n"
     ]
    }
   ],
   "source": [
    "print(10>10.20)       #greater than"
   ]
  },
  {
   "cell_type": "code",
   "execution_count": 45,
   "metadata": {},
   "outputs": [
    {
     "ename": "TypeError",
     "evalue": "'<' not supported between instances of 'complex' and 'int'",
     "output_type": "error",
     "traceback": [
      "\u001b[0;31m---------------------------------------------------------------------------\u001b[0m",
      "\u001b[0;31mTypeError\u001b[0m                                 Traceback (most recent call last)",
      "\u001b[0;32m/var/folders/04/6bn8n4t50h182h2pmshrg70m0000gn/T/ipykernel_3304/3470612313.py\u001b[0m in \u001b[0;36m<module>\u001b[0;34m\u001b[0m\n\u001b[0;32m----> 1\u001b[0;31m \u001b[0mprint\u001b[0m\u001b[0;34m(\u001b[0m\u001b[0;36m10\u001b[0m\u001b[0;34m+\u001b[0m\u001b[0;36m20j\u001b[0m\u001b[0;34m<\u001b[0m\u001b[0;36m300\u001b[0m\u001b[0;34m)\u001b[0m      \u001b[0;31m#TypeError: '<' not supported between instances of 'complex' and 'int'\u001b[0m\u001b[0;34m\u001b[0m\u001b[0;34m\u001b[0m\u001b[0m\n\u001b[0m",
      "\u001b[0;31mTypeError\u001b[0m: '<' not supported between instances of 'complex' and 'int'"
     ]
    }
   ],
   "source": [
    "print(10+20j<300)      #TypeError: '<' not supported between instances of 'complex' and 'int'"
   ]
  },
  {
   "cell_type": "markdown",
   "metadata": {},
   "source": [
    "##### Equality Operator - ==, !=\n",
    "    Returns Boolean Value\n",
    "    Equality comparison between difefrent data is allowed\n",
    "    Compares the content"
   ]
  },
  {
   "cell_type": "code",
   "execution_count": 46,
   "metadata": {},
   "outputs": [
    {
     "name": "stdout",
     "output_type": "stream",
     "text": [
      "True\n"
     ]
    }
   ],
   "source": [
    "print(10 == 10)"
   ]
  },
  {
   "cell_type": "code",
   "execution_count": 47,
   "metadata": {},
   "outputs": [
    {
     "name": "stdout",
     "output_type": "stream",
     "text": [
      "False\n"
     ]
    }
   ],
   "source": [
    "print(10 != 10)"
   ]
  },
  {
   "cell_type": "code",
   "execution_count": 48,
   "metadata": {},
   "outputs": [
    {
     "name": "stdout",
     "output_type": "stream",
     "text": [
      "True\n"
     ]
    }
   ],
   "source": [
    "print(ord('A') == 65)  # returns unicode charactor "
   ]
  },
  {
   "cell_type": "markdown",
   "metadata": {},
   "source": [
    "##### Logical Operator - and, or, not"
   ]
  },
  {
   "cell_type": "markdown",
   "metadata": {},
   "source": [
    "#### And Truth Table - False\n",
    "    True and True = True\n",
    "    True and False = False\n",
    "    False and True = False\n",
    "    False and False = False"
   ]
  },
  {
   "cell_type": "markdown",
   "metadata": {},
   "source": [
    "##### or Truth Table - True\n",
    "    True or True = True\n",
    "    True or False = True\n",
    "    False or True = True\n",
    "    False or False = False"
   ]
  },
  {
   "cell_type": "markdown",
   "metadata": {},
   "source": [
    "##### not\n",
    "    not True = False\n",
    "    not False = True"
   ]
  },
  {
   "cell_type": "markdown",
   "metadata": {},
   "source": [
    "    Note\n",
    "    A & B are two values:\n",
    "    A and B - result will be A if A is False else B\n",
    "    A or B - result will be A if A is True else B"
   ]
  },
  {
   "cell_type": "code",
   "execution_count": 49,
   "metadata": {},
   "outputs": [
    {
     "name": "stdout",
     "output_type": "stream",
     "text": [
      "10 and 20 :  20\n",
      "0 and 20 :  0\n",
      "10 and 0 :  0\n",
      "0 and 0.0 :  0\n",
      "10 or 20 :  10\n",
      "0 or 20 :  20\n",
      "10 or 0 :  10\n",
      "0 or 0.0 :  0.0\n"
     ]
    }
   ],
   "source": [
    "print(\"10 and 20 : \",10 and 20)\n",
    "print(\"0 and 20 : \",0 and 20)\n",
    "print(\"10 and 0 : \",10 and 0)\n",
    "print(\"0 and 0.0 : \",0 and 0.0)\n",
    "\n",
    "print(\"10 or 20 : \",10 or 20)\n",
    "print(\"0 or 20 : \",0 or 20)\n",
    "print(\"10 or 0 : \",10 or 0)\n",
    "print(\"0 or 0.0 : \",0 or 0.0)"
   ]
  },
  {
   "cell_type": "markdown",
   "metadata": {},
   "source": [
    "##### Assignment Operator - ="
   ]
  },
  {
   "cell_type": "code",
   "execution_count": 50,
   "metadata": {},
   "outputs": [],
   "source": [
    "num = 100"
   ]
  },
  {
   "cell_type": "code",
   "execution_count": 51,
   "metadata": {},
   "outputs": [],
   "source": [
    "my_str = 'shivam'"
   ]
  },
  {
   "cell_type": "code",
   "execution_count": 52,
   "metadata": {},
   "outputs": [
    {
     "name": "stdout",
     "output_type": "stream",
     "text": [
      "100\n",
      "shivam\n"
     ]
    }
   ],
   "source": [
    "print(num)\n",
    "print(my_str)"
   ]
  },
  {
   "cell_type": "markdown",
   "metadata": {},
   "source": [
    "##### Compound Assignment - +=, -=, *=, /=, //=, **=, %="
   ]
  },
  {
   "cell_type": "code",
   "execution_count": 53,
   "metadata": {},
   "outputs": [
    {
     "name": "stdout",
     "output_type": "stream",
     "text": [
      "112\n"
     ]
    }
   ],
   "source": [
    "num = 100\n",
    "num += 12                                #num = num + 12\n",
    "print(num)"
   ]
  },
  {
   "cell_type": "code",
   "execution_count": 54,
   "metadata": {},
   "outputs": [
    {
     "name": "stdout",
     "output_type": "stream",
     "text": [
      "88\n"
     ]
    }
   ],
   "source": [
    "num = 100\n",
    "num -= 12                                #num = num - 12\n",
    "print(num)"
   ]
  },
  {
   "cell_type": "code",
   "execution_count": 55,
   "metadata": {},
   "outputs": [
    {
     "name": "stdout",
     "output_type": "stream",
     "text": [
      "8.333333333333334\n"
     ]
    }
   ],
   "source": [
    "num = 100\n",
    "num /= 12                                #num = num / 12\n",
    "print(num)"
   ]
  },
  {
   "cell_type": "code",
   "execution_count": 56,
   "metadata": {},
   "outputs": [
    {
     "name": "stdout",
     "output_type": "stream",
     "text": [
      "8\n"
     ]
    }
   ],
   "source": [
    "num = 100\n",
    "num //= 12                                #num = num // 12,    // - return Floor value of float division result - Floor division\n",
    "print(num)"
   ]
  },
  {
   "cell_type": "code",
   "execution_count": 57,
   "metadata": {},
   "outputs": [
    {
     "name": "stdout",
     "output_type": "stream",
     "text": [
      "1200\n"
     ]
    }
   ],
   "source": [
    "num = 100\n",
    "num *= 12                                #num = num * 12\n",
    "print(num)"
   ]
  },
  {
   "cell_type": "code",
   "execution_count": 58,
   "metadata": {},
   "outputs": [
    {
     "name": "stdout",
     "output_type": "stream",
     "text": [
      "4\n"
     ]
    }
   ],
   "source": [
    "num = 100\n",
    "num %= 12                                #num = num % 12,    % - Modulo operator, gives reminder\n",
    "print(num)"
   ]
  },
  {
   "cell_type": "markdown",
   "metadata": {},
   "source": [
    "##### Identity operator - is, is not"
   ]
  },
  {
   "cell_type": "markdown",
   "metadata": {},
   "source": [
    "    Returns Boolean Values\n",
    "    It checks for the memory address"
   ]
  },
  {
   "cell_type": "code",
   "execution_count": 59,
   "metadata": {},
   "outputs": [
    {
     "name": "stdout",
     "output_type": "stream",
     "text": [
      "140624453048912\n",
      "140624453048912\n",
      "True\n",
      "True\n"
     ]
    }
   ],
   "source": [
    "num1 = 10\n",
    "num2 = 10\n",
    "\n",
    "print(id(num1))\n",
    "print(id(num2))\n",
    "\n",
    "print(num1 == num2)\n",
    "print(num1 is num2)"
   ]
  },
  {
   "cell_type": "markdown",
   "metadata": {},
   "source": [
    "    Object reusability - objects has to be <----- reused\n",
    "    int - (-5 to 256) object <----- reuse\n",
    "    None, True, False  <----- reuse\n",
    "    String - A-Z, a-z, 0-9, _   <----- reuse"
   ]
  },
  {
   "cell_type": "code",
   "execution_count": 60,
   "metadata": {},
   "outputs": [
    {
     "name": "stdout",
     "output_type": "stream",
     "text": [
      "140624556884240\n",
      "140624556884688\n",
      "True\n",
      "False\n"
     ]
    }
   ],
   "source": [
    "num1 = 300            # num1 and num2 are grater than 256 that means object not reusability\n",
    "num2 = 300\n",
    "print(id(num1))\n",
    "print(id(num2))\n",
    "print(num1 == num2)\n",
    "print(num1 is num2)"
   ]
  },
  {
   "cell_type": "markdown",
   "metadata": {},
   "source": [
    "##### Membership operator - in , not in\n",
    "    Gives output Boolean Value"
   ]
  },
  {
   "cell_type": "code",
   "execution_count": 61,
   "metadata": {},
   "outputs": [
    {
     "name": "stdout",
     "output_type": "stream",
     "text": [
      "True\n",
      "True\n",
      "True\n",
      "True\n",
      "False\n",
      "True\n",
      "True\n",
      "False\n",
      "\n",
      "True\n",
      "True\n"
     ]
    }
   ],
   "source": [
    "lst = [10,20,30,40]\n",
    "tpl = (10,20,30,40)\n",
    "string = 'Python'\n",
    "d = {1:100, 2:200, 3:300}\n",
    "\n",
    "print(10 in lst)\n",
    "print(40 in tpl)\n",
    "print('P' in string)\n",
    "print('Py' in string)\n",
    "print('Pn' in string)\n",
    "print('h' in string)\n",
    "print(2 in d)\n",
    "print(100 in d)\n",
    "print()\n",
    "\n",
    "print(100 not in d)\n",
    "print('Pn' not in string)"
   ]
  },
  {
   "cell_type": "markdown",
   "metadata": {},
   "source": [
    "#### Operator precedence\n",
    "    () \t Parentheses\n",
    "    **\tExponent\n",
    "    +x, -x, ~x\tUnary plus, Unary minus, Bitwise NOT\n",
    "    *, /, //, %\tMultiplication, Division, Floor division, Modulus\n",
    "    +, -\tAddition, Subtraction\n",
    "    <<, >>\tBitwise shift operators\n",
    "    &\tBitwise AND\n",
    "    ^\tBitwise XOR\n",
    "    |\tBitwise OR\n",
    "    ==, !=, >, >=, <, <=, is, is not, in, not in\tComparisons, Identity, Membership operators\n",
    "    not\tLogical NOT\n",
    "    and\tLogical AND\n",
    "    or\tLogical OR"
   ]
  },
  {
   "cell_type": "markdown",
   "metadata": {},
   "source": [
    "# Strings in Python\n",
    "    Strings - '...', \"...\", '''...''', \"\"\"....\"\"\"\n",
    "    a string is a sequence of Unicode characters\n",
    "    Strings is Immutable - We can not modify it\n",
    "    Indexing, slicing, concatenation, repetition, membership"
   ]
  },
  {
   "cell_type": "code",
   "execution_count": 62,
   "metadata": {},
   "outputs": [
    {
     "name": "stdout",
     "output_type": "stream",
     "text": [
      "Python <class 'str'>\n",
      "Python <class 'str'>\n",
      "Python <class 'str'>\n",
      "Python <class 'str'>\n"
     ]
    }
   ],
   "source": [
    "s1 = 'Python'           # Using '  '\n",
    "print(s1, type(s1))\n",
    "\n",
    "s2 = \"Python\"          # Using \"   \"\n",
    "print(s2, type(s2))\n",
    "\n",
    "s3 = '''Python'''       # Using '''   '''\n",
    "print(s3, type(s3))\n",
    "\n",
    "s4 = \"\"\"Python\"\"\"        # Using \"\"\"  \"\"\"\n",
    "print(s4, type(s4))"
   ]
  },
  {
   "cell_type": "code",
   "execution_count": 63,
   "metadata": {},
   "outputs": [
    {
     "name": "stdout",
     "output_type": "stream",
     "text": [
      "This is Python's class\n",
      "This is \"Python\" class\n",
      "This is \"Python\"  and 'Java' class\n"
     ]
    }
   ],
   "source": [
    "s1 = \"This is Python's class\"\n",
    "print(s1)\n",
    "\n",
    "# s1 = 'This is 'Python' class'         #  SyntaxError: invalid syntax\n",
    "# print(s1)\n",
    "\n",
    "s1 = 'This is \"Python\" class'         \n",
    "print(s1)\n",
    "\n",
    "s1 = '''This is \"Python\"  and 'Java' class'''\n",
    "print(s1)"
   ]
  },
  {
   "cell_type": "markdown",
   "metadata": {},
   "source": [
    "##### IMP-\n",
    "    String is a sequence - It allows +ve and -ve indexing both\n",
    "    +ve indexing always starts from left side from 0\n",
    "    -ve indexing always starts from right side from -1\n",
    "    Indexing, slicing, concatenation, repetition, membership operation can be done on string\n",
    "    String is immutable - Item assignment is not allowed, changes will not be made into the existing object\n"
   ]
  },
  {
   "cell_type": "code",
   "execution_count": 64,
   "metadata": {},
   "outputs": [],
   "source": [
    "# Indexing - Accessing one element at a time\n",
    "# Syntax - str_name[index]\n",
    "s1 = 'Python'\n",
    "\n",
    "# -6   -5   -4   -3   -2   -1  <--------- (-ve)   \n",
    "#  P    y    t    h    o    n \n",
    "#  0    1    2    3    4    5   ------>  (+ve)"
   ]
  },
  {
   "cell_type": "code",
   "execution_count": 65,
   "metadata": {},
   "outputs": [
    {
     "name": "stdout",
     "output_type": "stream",
     "text": [
      "P\n",
      "P\n",
      "P\n"
     ]
    }
   ],
   "source": [
    "# T0 access the first characters\n",
    "s1 = 'Python'\n",
    "print(s1[0])\n",
    "print(s1[-6])\n",
    "print(s1[-len(s1)])"
   ]
  },
  {
   "cell_type": "code",
   "execution_count": 66,
   "metadata": {},
   "outputs": [
    {
     "name": "stdout",
     "output_type": "stream",
     "text": [
      "n\n",
      "n\n",
      "n\n"
     ]
    }
   ],
   "source": [
    "# TO access the last characters\n",
    "s1 = 'Python'\n",
    "print(s1[-1])\n",
    "print(s1[5])\n",
    "print(s1[len(s1)-1])"
   ]
  },
  {
   "cell_type": "code",
   "execution_count": 67,
   "metadata": {},
   "outputs": [
    {
     "name": "stdout",
     "output_type": "stream",
     "text": [
      "h\n",
      "h\n"
     ]
    }
   ],
   "source": [
    "# Take only 'h' character\n",
    "print(s1[3])\n",
    "print(s1[-3])"
   ]
  },
  {
   "cell_type": "markdown",
   "metadata": {},
   "source": [
    "    Slicing - Accessing more than one element at a time\n",
    "    Syntax - str_name[start_index:stop_index:step]\n",
    "\n",
    "\n",
    "                                                    step = -ve\n",
    "      <----------------------------------------------------------------------------------------------------------\n",
    "    'hjksdbavhadszfjhsdzjxfhvbsdfkzjxhvbsdfjkhzxbvasdhjzxbvhjasdzbvhjasdbzxvhadsbvjhdsbfabdsjhfaeuwjbvczbdsfkeuwa'\n",
    "      ----------------------------------------------------------------------------------------------------------> \n",
    "                                                    step = +ve\n",
    "\n",
    "    Step = +/-1,+/-2, +/-3, +/-4 ---\n",
    "\n",
    "    If step is +ve then start index should be on left than your stop index\n",
    "    If step is -ve then start index should be on right than your stop index"
   ]
  },
  {
   "cell_type": "code",
   "execution_count": 68,
   "metadata": {},
   "outputs": [
    {
     "name": "stdout",
     "output_type": "stream",
     "text": [
      "Python is a high-level, general-purpose programming language.\n",
      "Python is \n",
      "a high-level, general-purpose programming language.\n",
      "ahg-ee,gnr\n",
      "\n",
      "l, g\n",
      "e pr\n"
     ]
    }
   ],
   "source": [
    "my_str = 'Python is a high-level, general-purpose programming language.'\n",
    "print(my_str[::])    # Default - start = 0, stop = end of str, step = 1\n",
    "print(my_str[:10])   # Default - start = 0, stop = 10, step = 1\n",
    "print(my_str[10:])   # Default stop = end of str, start = 10, step = 1\n",
    "print(my_str[10:30:2])    #  start = 10, stop = 30, step = 2\n",
    "print(my_str[30:10:2])    # No output \n",
    "print(my_str[21:25])\n",
    "print(my_str[-23:-19:])"
   ]
  },
  {
   "cell_type": "code",
   "execution_count": 69,
   "metadata": {},
   "outputs": [
    {
     "name": "stdout",
     "output_type": "stream",
     "text": [
      ".egaugnal gnimmargorp esoprup-lareneg ,level-hgih a si nohtyP\n",
      ".gunlgimropeorplrng,ee-ghas otP\n",
      ".an iao ouleglehh  hP\n"
     ]
    }
   ],
   "source": [
    "print(my_str[::-1])  # Default - start = -1, stop = start index of str\n",
    "print(my_str[::-2])\n",
    "print(my_str[::-3])"
   ]
  },
  {
   "cell_type": "code",
   "execution_count": 70,
   "metadata": {},
   "outputs": [
    {
     "name": "stdout",
     "output_type": "stream",
     "text": [
      "g ,l\n",
      "rp e\n"
     ]
    }
   ],
   "source": [
    "print(my_str[24:20:-1])\n",
    "print(my_str[-20:-24:-1])"
   ]
  },
  {
   "cell_type": "code",
   "execution_count": 71,
   "metadata": {},
   "outputs": [
    {
     "name": "stdout",
     "output_type": "stream",
     "text": [
      "Python class\n"
     ]
    }
   ],
   "source": [
    "# Concatenation\n",
    "s1 = 'Python'\n",
    "s2 = 'class'\n",
    "print(s1 +' '+ s2)"
   ]
  },
  {
   "cell_type": "code",
   "execution_count": 72,
   "metadata": {},
   "outputs": [
    {
     "ename": "TypeError",
     "evalue": "can only concatenate str (not \"int\") to str",
     "output_type": "error",
     "traceback": [
      "\u001b[0;31m---------------------------------------------------------------------------\u001b[0m",
      "\u001b[0;31mTypeError\u001b[0m                                 Traceback (most recent call last)",
      "\u001b[0;32m/var/folders/04/6bn8n4t50h182h2pmshrg70m0000gn/T/ipykernel_3304/4052226652.py\u001b[0m in \u001b[0;36m<module>\u001b[0;34m\u001b[0m\n\u001b[1;32m      1\u001b[0m \u001b[0;31m# Concatenation is allowed between the instances of similar type - str to str, list to list, tuple to tuple\u001b[0m\u001b[0;34m\u001b[0m\u001b[0;34m\u001b[0m\u001b[0m\n\u001b[0;32m----> 2\u001b[0;31m \u001b[0mprint\u001b[0m\u001b[0;34m(\u001b[0m\u001b[0ms1\u001b[0m \u001b[0;34m+\u001b[0m \u001b[0;36m10\u001b[0m\u001b[0;34m)\u001b[0m\u001b[0;34m\u001b[0m\u001b[0;34m\u001b[0m\u001b[0m\n\u001b[0m\u001b[1;32m      3\u001b[0m \u001b[0mprint\u001b[0m\u001b[0;34m(\u001b[0m\u001b[0ms1\u001b[0m \u001b[0;34m+\u001b[0m \u001b[0;34m[\u001b[0m\u001b[0;36m10\u001b[0m\u001b[0;34m,\u001b[0m\u001b[0;36m20\u001b[0m\u001b[0;34m,\u001b[0m\u001b[0;36m30\u001b[0m\u001b[0;34m]\u001b[0m\u001b[0;34m)\u001b[0m           \u001b[0;31m# can only concatenate str (not \"int\") to str\u001b[0m\u001b[0;34m\u001b[0m\u001b[0;34m\u001b[0m\u001b[0m\n",
      "\u001b[0;31mTypeError\u001b[0m: can only concatenate str (not \"int\") to str"
     ]
    }
   ],
   "source": [
    "# Concatenation is allowed between the instances of similar type - str to str, list to list, tuple to tuple\n",
    "print(s1 + 10)\n",
    "print(s1 + [10,20,30])           # can only concatenate str (not \"int\") to str"
   ]
  },
  {
   "cell_type": "code",
   "execution_count": 73,
   "metadata": {},
   "outputs": [
    {
     "name": "stdout",
     "output_type": "stream",
     "text": [
      "PythonPythonPython\n"
     ]
    },
    {
     "ename": "TypeError",
     "evalue": "can't multiply sequence by non-int of type 'float'",
     "output_type": "error",
     "traceback": [
      "\u001b[0;31m---------------------------------------------------------------------------\u001b[0m",
      "\u001b[0;31mTypeError\u001b[0m                                 Traceback (most recent call last)",
      "\u001b[0;32m/var/folders/04/6bn8n4t50h182h2pmshrg70m0000gn/T/ipykernel_3304/4119983404.py\u001b[0m in \u001b[0;36m<module>\u001b[0;34m\u001b[0m\n\u001b[1;32m      2\u001b[0m \u001b[0ms1\u001b[0m \u001b[0;34m*\u001b[0m \u001b[0;36m3\u001b[0m\u001b[0;34m\u001b[0m\u001b[0;34m\u001b[0m\u001b[0m\n\u001b[1;32m      3\u001b[0m \u001b[0mprint\u001b[0m\u001b[0;34m(\u001b[0m\u001b[0ms1\u001b[0m\u001b[0;34m*\u001b[0m \u001b[0;36m3\u001b[0m\u001b[0;34m)\u001b[0m\u001b[0;34m\u001b[0m\u001b[0;34m\u001b[0m\u001b[0m\n\u001b[0;32m----> 4\u001b[0;31m \u001b[0mprint\u001b[0m\u001b[0;34m(\u001b[0m\u001b[0ms1\u001b[0m\u001b[0;34m*\u001b[0m \u001b[0;36m3.0\u001b[0m\u001b[0;34m)\u001b[0m     \u001b[0;31m#---->  not possible\u001b[0m\u001b[0;34m\u001b[0m\u001b[0;34m\u001b[0m\u001b[0m\n\u001b[0m",
      "\u001b[0;31mTypeError\u001b[0m: can't multiply sequence by non-int of type 'float'"
     ]
    }
   ],
   "source": [
    "# Repetition - one operand should be sequence type and other should be int type\n",
    "s1 * 3\n",
    "print(s1* 3)\n",
    "print(s1* 3.0)     #---->  not possible    "
   ]
  },
  {
   "cell_type": "markdown",
   "metadata": {},
   "source": [
    "#### String is immutable\n",
    "    if item assignment is not allowed\n",
    "    if changes are done in a different object"
   ]
  },
  {
   "cell_type": "code",
   "execution_count": 74,
   "metadata": {},
   "outputs": [
    {
     "name": "stdout",
     "output_type": "stream",
     "text": [
      "Before the Operation\n",
      "Python 140624454241008\n",
      "After the operation\n",
      "Python 140624454241008\n",
      "PYTHON 140624556923568\n",
      "\n"
     ]
    }
   ],
   "source": [
    "s1 = 'Python'\n",
    "# s1[0] = 'J'                    # TypeError: 'str' object does not support item assignment\n",
    "print('Before the Operation')\n",
    "print(s1, id(s1))\n",
    "s2 = s1.upper()\n",
    "print('After the operation')\n",
    "print(s1, id(s1))\n",
    "print(s2, id(s2))\n",
    "print()"
   ]
  },
  {
   "cell_type": "code",
   "execution_count": 75,
   "metadata": {},
   "outputs": [
    {
     "name": "stdout",
     "output_type": "stream",
     "text": [
      "Before the Operation\n",
      "[10, 20, 30] 140624556008512\n",
      "After the operation\n",
      "[10, 20, 30, 100] 140624556008512\n"
     ]
    }
   ],
   "source": [
    "# List is mutable       # assignment is allowed and changes are done in a same object(same id)\n",
    "lst = [10,20,30]\n",
    "print('Before the Operation')\n",
    "print(lst, id(lst))\n",
    "lst.append(100)\n",
    "print('After the operation')\n",
    "print(lst, id(lst))"
   ]
  },
  {
   "cell_type": "markdown",
   "metadata": {},
   "source": [
    "#### String Methods\n",
    "    'capitalize', 'casefold', 'center', 'count', 'encode', 'endswith', 'expandtabs', 'find', 'format', \n",
    "    'format_map', 'index', 'isalnum', 'isalpha', 'isascii', 'isdecimal', 'isdigit', 'isidentifier', 'islower', \n",
    "    'isnumeric', 'isprintable', 'isspace', 'istitle', 'isupper', 'join', 'ljust', 'lower', 'lstrip', \n",
    "    'maketrans', 'partition', 'replace', 'rfind', 'rindex', 'rjust', 'rpartition', 'rsplit', 'rstrip', \n",
    "    'split', 'splitlines', 'startswith', 'strip', 'swapcase', 'title', 'translate', 'upper', 'zfill'"
   ]
  },
  {
   "cell_type": "code",
   "execution_count": 76,
   "metadata": {},
   "outputs": [
    {
     "name": "stdout",
     "output_type": "stream",
     "text": [
      "['__add__', '__class__', '__contains__', '__delattr__', '__dir__', '__doc__', '__eq__', '__format__', '__ge__', '__getattribute__', '__getitem__', '__getnewargs__', '__gt__', '__hash__', '__init__', '__init_subclass__', '__iter__', '__le__', '__len__', '__lt__', '__mod__', '__mul__', '__ne__', '__new__', '__reduce__', '__reduce_ex__', '__repr__', '__rmod__', '__rmul__', '__setattr__', '__sizeof__', '__str__', '__subclasshook__', 'capitalize', 'casefold', 'center', 'count', 'encode', 'endswith', 'expandtabs', 'find', 'format', 'format_map', 'index', 'isalnum', 'isalpha', 'isascii', 'isdecimal', 'isdigit', 'isidentifier', 'islower', 'isnumeric', 'isprintable', 'isspace', 'istitle', 'isupper', 'join', 'ljust', 'lower', 'lstrip', 'maketrans', 'partition', 'removeprefix', 'removesuffix', 'replace', 'rfind', 'rindex', 'rjust', 'rpartition', 'rsplit', 'rstrip', 'split', 'splitlines', 'startswith', 'strip', 'swapcase', 'title', 'translate', 'upper', 'zfill']\n"
     ]
    }
   ],
   "source": [
    "print(dir(str))"
   ]
  },
  {
   "cell_type": "code",
   "execution_count": 77,
   "metadata": {},
   "outputs": [],
   "source": [
    "# 'isalnum', 'isalpha', 'isascii', 'isidentifier', 'islower', 'isnumeric', \n",
    "# 'isprintable', 'isspace', 'istitle', 'isupper',\n",
    "# All Returns Boolean value"
   ]
  },
  {
   "cell_type": "markdown",
   "metadata": {},
   "source": [
    "    isalnum - alpaha - numreic\n",
    "    isalpha - alphabet\n",
    "    isascii - (fließen,)\n",
    "    isidenitifier - valid identiifier - exception - keywords\n",
    "    islower - checks all letterc are in lower case\n",
    "    isupper - checks all letters in upper case\n",
    "    isnumeric - checks all the letters are numbers\n",
    "    isspace - space characters - ' ', \\n,\\t,\\v,\\f,\\r\n",
    "    isprintable - returns True if every characters in the string is printable"
   ]
  },
  {
   "cell_type": "code",
   "execution_count": 78,
   "metadata": {
    "scrolled": true
   },
   "outputs": [
    {
     "name": "stdout",
     "output_type": "stream",
     "text": [
      "True\n",
      "True\n",
      "True\n",
      "True\n",
      "True\n",
      "True\n",
      "False\n",
      "----------\n",
      "True\n",
      "True\n",
      "False\n",
      "False\n",
      "True\n",
      "----------\n",
      "False\n",
      "True\n",
      "True\n"
     ]
    }
   ],
   "source": [
    "# 'isalnum', 'isalpha', 'isascii', 'isidentifier', 'islower', 'isnumeric', \n",
    "# 'isprintable', 'isspace', 'istitle', 'isupper',\n",
    "s1 = 'Python'\n",
    "s2 = 'Python123'\n",
    "s3 = '1827461726'\n",
    "s4 = '*&$#Q&^$skdbvksdh87236532'\n",
    "s5 = '\\n\\t\\v \\r\\f'\n",
    "s6 = 'This is \\nPython Class'\n",
    "s7 = r'This is \\nPython Class'\n",
    "s8 = 'fließen'\n",
    "\n",
    "print(s1.isalnum())\n",
    "print(s2.isalnum())\n",
    "print(s3.isalnum())\n",
    "\n",
    "print(s1.isalpha())\n",
    "\n",
    "print(s3.isnumeric())\n",
    "\n",
    "print(s4.isascii())\n",
    "print(s8.isascii())\n",
    "print(10*\"-\")\n",
    "print('num'.isidentifier())\n",
    "print('num1'.isidentifier())\n",
    "print('2num1'.isidentifier())\n",
    "print('2num$'.isidentifier())\n",
    "print('else'.isidentifier())\n",
    "print(10*\"-\")\n",
    "s9 = 'python'\n",
    "s10 = 'PYTHON'\n",
    "print(s9.istitle())\n",
    "print(s10.isupper())\n",
    "print(s9.islower())"
   ]
  },
  {
   "cell_type": "markdown",
   "metadata": {},
   "source": [
    "#### String Methods"
   ]
  },
  {
   "cell_type": "markdown",
   "metadata": {},
   "source": [
    "    1. Capitalize - Capitalizes the first letter of the sentence\n",
    "    2. Casefold - converts each letter into lower case in the string(it is aggressive, convert everything into lower case)\n",
    "    3. Lower - converts each letter into lower case in the string(convert Ascii characters)\n",
    "    4. Swapcase - swaps the cases of letter i.e. lower to upper and upper to lower\n",
    "    5. Title - capitalizes first letter of every word in the string\n",
    "    6. Upper - capitalizes every letter in the string"
   ]
  },
  {
   "cell_type": "code",
   "execution_count": 79,
   "metadata": {},
   "outputs": [
    {
     "name": "stdout",
     "output_type": "stream",
     "text": [
      "Python\n"
     ]
    }
   ],
   "source": [
    "str1 = 'python'\n",
    "print(str1.capitalize())"
   ]
  },
  {
   "cell_type": "code",
   "execution_count": 80,
   "metadata": {},
   "outputs": [
    {
     "name": "stdout",
     "output_type": "stream",
     "text": [
      "python\n"
     ]
    }
   ],
   "source": [
    "str1 = 'PYTHON'\n",
    "print(str1.casefold())"
   ]
  },
  {
   "cell_type": "code",
   "execution_count": 81,
   "metadata": {},
   "outputs": [
    {
     "name": "stdout",
     "output_type": "stream",
     "text": [
      "PYTHON\n"
     ]
    }
   ],
   "source": [
    "str1 = 'python'\n",
    "print(str1.upper())"
   ]
  },
  {
   "cell_type": "code",
   "execution_count": 82,
   "metadata": {},
   "outputs": [
    {
     "name": "stdout",
     "output_type": "stream",
     "text": [
      "python\n"
     ]
    }
   ],
   "source": [
    "str1 = 'PYTHON'\n",
    "print(str1.lower())"
   ]
  },
  {
   "cell_type": "code",
   "execution_count": 83,
   "metadata": {},
   "outputs": [
    {
     "name": "stdout",
     "output_type": "stream",
     "text": [
      "pYTHON\n"
     ]
    }
   ],
   "source": [
    "str1 = 'Python'\n",
    "print(str1.swapcase())"
   ]
  },
  {
   "cell_type": "code",
   "execution_count": 84,
   "metadata": {},
   "outputs": [
    {
     "name": "stdout",
     "output_type": "stream",
     "text": [
      "Python Has Most Used Language\n"
     ]
    }
   ],
   "source": [
    "str1 = 'PYTHON has most used language'\n",
    "print(str1.title())"
   ]
  },
  {
   "cell_type": "code",
   "execution_count": 85,
   "metadata": {},
   "outputs": [
    {
     "name": "stdout",
     "output_type": "stream",
     "text": [
      "python@99\n"
     ]
    }
   ],
   "source": [
    "str1 = 'PYTHON@99'\n",
    "print(str1.casefold())"
   ]
  },
  {
   "cell_type": "code",
   "execution_count": 86,
   "metadata": {},
   "outputs": [
    {
     "name": "stdout",
     "output_type": "stream",
     "text": [
      "this is python class\n",
      "this is python class\n",
      "fließen\n",
      "fliessen\n"
     ]
    }
   ],
   "source": [
    "print('This is Python class'.lower())\n",
    "print('This is Python class'.casefold())\n",
    "print('fließen'.lower())     # It work on Ascii characters\n",
    "print('fließen'.casefold())  "
   ]
  },
  {
   "cell_type": "code",
   "execution_count": 87,
   "metadata": {},
   "outputs": [],
   "source": [
    "# Method are function which works on the objects and defined inside the class\n",
    "# Function are defined outside of the class."
   ]
  },
  {
   "cell_type": "code",
   "execution_count": 88,
   "metadata": {},
   "outputs": [
    {
     "name": "stdout",
     "output_type": "stream",
     "text": [
      "This     is Python      class.\n",
      "This     is Python      class.   \n",
      "    This     is Python      class.\n"
     ]
    }
   ],
   "source": [
    "# strip, lstrip, rstrip\n",
    "s1 = '    This     is Python      class.   '\n",
    "print(s1.strip())       # Remove spaces from both side\n",
    "print(s1.lstrip())      # Remove spaces from left side\n",
    "print(s1.rstrip())      # Remove spaces from right side"
   ]
  },
  {
   "cell_type": "code",
   "execution_count": 89,
   "metadata": {},
   "outputs": [
    {
     "name": "stdout",
     "output_type": "stream",
     "text": [
      "46\n",
      "3\n",
      "5\n",
      "0\n"
     ]
    }
   ],
   "source": [
    "# count - count sub_string into main_string\n",
    "# syntax - main_string.count('sub_string')\n",
    "s1 = 'peter piper picked a peck of pickled peppers.'\n",
    "print(s1.count(''))\n",
    "print(s1.count('pi'))\n",
    "print(s1.count('pe'))\n",
    "print(s1.count('pm'))"
   ]
  },
  {
   "cell_type": "code",
   "execution_count": 90,
   "metadata": {},
   "outputs": [],
   "source": [
    "# find, rfind, index, rindex\n",
    "# find and index will return the index of first occurrence of the substring in a given string\n",
    "# the difference between find and index is if substring is not found then it will return -1 whereas \n",
    "# in index method it will return ValueError."
   ]
  },
  {
   "cell_type": "code",
   "execution_count": 91,
   "metadata": {},
   "outputs": [
    {
     "name": "stdout",
     "output_type": "stream",
     "text": [
      "0\n",
      "6\n",
      "0\n",
      "6\n"
     ]
    }
   ],
   "source": [
    "s1 = 'peter piper picked a peck of pickled peppers.'\n",
    "print(s1.find('p'))\n",
    "print(s1.find('pi'))\n",
    "print(s1.index('p'))\n",
    "print(s1.index('pi'))"
   ]
  },
  {
   "cell_type": "code",
   "execution_count": 92,
   "metadata": {},
   "outputs": [
    {
     "data": {
      "text/plain": [
       "-1"
      ]
     },
     "execution_count": 92,
     "metadata": {},
     "output_type": "execute_result"
    }
   ],
   "source": [
    "# main_string.find('sub_string', 'start', 'end')\n",
    "s1.find('pi', 15, 20)"
   ]
  },
  {
   "cell_type": "code",
   "execution_count": 93,
   "metadata": {},
   "outputs": [
    {
     "name": "stdout",
     "output_type": "stream",
     "text": [
      "-1\n"
     ]
    }
   ],
   "source": [
    "print(s1.find('zeter'))      # If sub_string not find gives -1"
   ]
  },
  {
   "cell_type": "code",
   "execution_count": 94,
   "metadata": {},
   "outputs": [
    {
     "ename": "ValueError",
     "evalue": "substring not found",
     "output_type": "error",
     "traceback": [
      "\u001b[0;31m---------------------------------------------------------------------------\u001b[0m",
      "\u001b[0;31mValueError\u001b[0m                                Traceback (most recent call last)",
      "\u001b[0;32m/var/folders/04/6bn8n4t50h182h2pmshrg70m0000gn/T/ipykernel_3304/1331268722.py\u001b[0m in \u001b[0;36m<module>\u001b[0;34m\u001b[0m\n\u001b[0;32m----> 1\u001b[0;31m \u001b[0mprint\u001b[0m\u001b[0;34m(\u001b[0m\u001b[0ms1\u001b[0m\u001b[0;34m.\u001b[0m\u001b[0mindex\u001b[0m\u001b[0;34m(\u001b[0m\u001b[0;34m'zeter'\u001b[0m\u001b[0;34m)\u001b[0m\u001b[0;34m)\u001b[0m    \u001b[0;31m# If sub_string not find gives \"ValueError: substring not found\"\u001b[0m\u001b[0;34m\u001b[0m\u001b[0;34m\u001b[0m\u001b[0m\n\u001b[0m",
      "\u001b[0;31mValueError\u001b[0m: substring not found"
     ]
    }
   ],
   "source": [
    "print(s1.index('zeter'))    # If sub_string not find gives \"ValueError: substring not found\""
   ]
  },
  {
   "cell_type": "code",
   "execution_count": 95,
   "metadata": {},
   "outputs": [
    {
     "name": "stdout",
     "output_type": "stream",
     "text": [
      "19\n",
      "29\n",
      "40\n",
      "29\n"
     ]
    }
   ],
   "source": [
    "# rfind, rindex gives index of sub_string but search index from right side\n",
    "print(s1[10:30].rfind('p'))           \n",
    "print(s1.rfind('pi'))\n",
    "print(s1.rindex('p'))\n",
    "print(s1.rindex('pi'))"
   ]
  },
  {
   "cell_type": "code",
   "execution_count": 96,
   "metadata": {},
   "outputs": [
    {
     "data": {
      "text/plain": [
       "'zeter zizer zicked a zeck of pickled peppers.'"
      ]
     },
     "execution_count": 96,
     "metadata": {},
     "output_type": "execute_result"
    }
   ],
   "source": [
    "# replace\n",
    "s1 = 'peter piper picked a peck of pickled peppers.'\n",
    "s1.replace('p', 'z', 5)"
   ]
  },
  {
   "cell_type": "code",
   "execution_count": 97,
   "metadata": {},
   "outputs": [
    {
     "name": "stdout",
     "output_type": "stream",
     "text": [
      "['This', 'is', 'Python', 'class.']\n"
     ]
    }
   ],
   "source": [
    "# split and join\n",
    "s1 = '    This     is Python      class.   '\n",
    "lst = s1.split()\n",
    "print(lst)"
   ]
  },
  {
   "cell_type": "code",
   "execution_count": 98,
   "metadata": {},
   "outputs": [
    {
     "name": "stdout",
     "output_type": "stream",
     "text": [
      "This is Python class.\n"
     ]
    }
   ],
   "source": [
    "print(' '.join(lst))"
   ]
  },
  {
   "cell_type": "code",
   "execution_count": 99,
   "metadata": {},
   "outputs": [],
   "source": [
    "# center - The center() method will center align the string, using a specified character (space is default) \n",
    "           # as the fill character."
   ]
  },
  {
   "cell_type": "code",
   "execution_count": 100,
   "metadata": {},
   "outputs": [
    {
     "name": "stdout",
     "output_type": "stream",
     "text": [
      "                                Python                                \n"
     ]
    }
   ],
   "source": [
    "txt = \"Python\"\n",
    "\n",
    "x = txt.center(70)\n",
    "\n",
    "print(x)"
   ]
  },
  {
   "cell_type": "code",
   "execution_count": 101,
   "metadata": {},
   "outputs": [
    {
     "name": "stdout",
     "output_type": "stream",
     "text": [
      "+++++++Python+++++++\n"
     ]
    }
   ],
   "source": [
    "txt = \"Python\"\n",
    "\n",
    "x = txt.center(20, \"+\")\n",
    "\n",
    "print(x)"
   ]
  },
  {
   "cell_type": "code",
   "execution_count": 102,
   "metadata": {},
   "outputs": [],
   "source": [
    "# The encode() method encodes the string, using the specified encoding. If no encoding is specified, UTF-8 will be used."
   ]
  },
  {
   "cell_type": "code",
   "execution_count": 103,
   "metadata": {},
   "outputs": [
    {
     "name": "stdout",
     "output_type": "stream",
     "text": [
      "b'peter piper picked a peck of pickled peppers'\n"
     ]
    }
   ],
   "source": [
    "txt = \"peter piper picked a peck of pickled peppers\"\n",
    "\n",
    "x = txt.encode(encoding='utf-8')\n",
    "\n",
    "print(x)"
   ]
  },
  {
   "cell_type": "code",
   "execution_count": 104,
   "metadata": {},
   "outputs": [
    {
     "name": "stdout",
     "output_type": "stream",
     "text": [
      "b'My name is St\\\\xe5le'\n",
      "b'My name is Stle'\n",
      "b'My name is St\\\\N{LATIN SMALL LETTER A WITH RING ABOVE}le'\n",
      "b'My name is St?le'\n",
      "b'My name is St&#229;le'\n"
     ]
    }
   ],
   "source": [
    "txt = \"My name is Ståle\"\n",
    "\n",
    "print(txt.encode(encoding=\"ascii\", errors=\"backslashreplace\"))\n",
    "print(txt.encode(encoding=\"ascii\", errors=\"ignore\"))\n",
    "print(txt.encode(encoding=\"ascii\", errors=\"namereplace\"))\n",
    "print(txt.encode(encoding=\"ascii\", errors=\"replace\"))\n",
    "print(txt.encode(encoding=\"ascii\", errors=\"xmlcharrefreplace\"))"
   ]
  },
  {
   "cell_type": "code",
   "execution_count": 105,
   "metadata": {},
   "outputs": [
    {
     "name": "stdout",
     "output_type": "stream",
     "text": [
      "H    e    l    l    o\n"
     ]
    }
   ],
   "source": [
    "txt = \"H\\te\\tl\\tl\\to\"\n",
    "\n",
    "x =  txt.expandtabs(5)\n",
    "\n",
    "print(x)\n"
   ]
  },
  {
   "cell_type": "code",
   "execution_count": 106,
   "metadata": {},
   "outputs": [
    {
     "name": "stdout",
     "output_type": "stream",
     "text": [
      "H\te\tl\tl\to\n",
      "H       e       l       l       o\n",
      "H e l l o\n",
      "H   e   l   l   o\n",
      "H         e         l         l         o\n"
     ]
    }
   ],
   "source": [
    "txt = \"H\\te\\tl\\tl\\to\"\n",
    "\n",
    "print(txt)\n",
    "print(txt.expandtabs())\n",
    "print(txt.expandtabs(2))\n",
    "print(txt.expandtabs(4))\n",
    "print(txt.expandtabs(10))"
   ]
  },
  {
   "cell_type": "code",
   "execution_count": 107,
   "metadata": {},
   "outputs": [
    {
     "name": "stdout",
     "output_type": "stream",
     "text": [
      "My name is John, I'm 36\n"
     ]
    }
   ],
   "source": [
    "txt1 = \"My name is {fname}, I'm {age}\".format(fname = \"John\", age = 36)\n",
    "print(txt1)"
   ]
  },
  {
   "cell_type": "code",
   "execution_count": 108,
   "metadata": {},
   "outputs": [
    {
     "name": "stdout",
     "output_type": "stream",
     "text": [
      "My name is John, I'm 36\n"
     ]
    }
   ],
   "source": [
    "txt2 = \"My name is {0}, I'm {1}\".format(\"John\",36)\n",
    "print(txt2)"
   ]
  },
  {
   "cell_type": "code",
   "execution_count": 109,
   "metadata": {},
   "outputs": [
    {
     "name": "stdout",
     "output_type": "stream",
     "text": [
      "My name is John, I'm 36\n"
     ]
    }
   ],
   "source": [
    "txt3 = \"My name is {}, I'm {}\".format(\"John\",36)\n",
    "print(txt3)"
   ]
  },
  {
   "cell_type": "code",
   "execution_count": 110,
   "metadata": {},
   "outputs": [],
   "source": [
    "# Maketrans - The maketrans() method returns a mapping table that can be used with the translate() method \n",
    "# to replace specified characters."
   ]
  },
  {
   "cell_type": "code",
   "execution_count": 111,
   "metadata": {},
   "outputs": [
    {
     "name": "stdout",
     "output_type": "stream",
     "text": [
      "{109: 101, 83: 74, 97: 111}\n",
      "Hi Joe!\n"
     ]
    }
   ],
   "source": [
    "txt = \"Hi Sam!\"\n",
    "x = \"mSa\"\n",
    "y = \"eJo\"\n",
    "mytable = txt.maketrans(x, y)\n",
    "print(mytable)\n",
    "print(txt.translate(mytable))"
   ]
  },
  {
   "cell_type": "code",
   "execution_count": 112,
   "metadata": {},
   "outputs": [
    {
     "name": "stdout",
     "output_type": "stream",
     "text": [
      "{109: 101, 83: 74, 97: 111, 111: None, 100: None, 110: None, 103: None, 104: None, 116: None}\n",
      "G i Joe!\n"
     ]
    }
   ],
   "source": [
    "txt = \"Good night Sam!\"\n",
    "x = \"mSa\"\n",
    "y = \"eJo\"\n",
    "z = \"odnght\"\n",
    "mytab = txt.maketrans(x, y, z)\n",
    "print(txt.maketrans(x, y, z))\n",
    "print(txt.translate(mytab))"
   ]
  },
  {
   "cell_type": "markdown",
   "metadata": {},
   "source": [
    "#### partition"
   ]
  },
  {
   "cell_type": "markdown",
   "metadata": {},
   "source": [
    "    The partition() method searches for a specified string, and splits the string into a tuple containing three elements.\n",
    "    The first element contains the part before the specified string.\n",
    "    The second element contains the specified string.\n",
    "    The third element contains the part after the string."
   ]
  },
  {
   "cell_type": "code",
   "execution_count": 113,
   "metadata": {},
   "outputs": [
    {
     "name": "stdout",
     "output_type": "stream",
     "text": [
      "('I could eat ', 'bananas', ' all day')\n"
     ]
    }
   ],
   "source": [
    "txt = \"I could eat bananas all day\"\n",
    "\n",
    "x = txt.partition(\"bananas\")\n",
    "\n",
    "print(x)"
   ]
  },
  {
   "cell_type": "code",
   "execution_count": 114,
   "metadata": {},
   "outputs": [
    {
     "name": "stdout",
     "output_type": "stream",
     "text": [
      "('I could eat bananas all day', '', '')\n"
     ]
    }
   ],
   "source": [
    "txt = \"I could eat bananas all day\"\n",
    "\n",
    "x = txt.partition(\"apples\")\n",
    "\n",
    "print(x)"
   ]
  },
  {
   "cell_type": "markdown",
   "metadata": {},
   "source": [
    "#### rpartition"
   ]
  },
  {
   "cell_type": "markdown",
   "metadata": {},
   "source": [
    "    The rpartition() method searches for the last occurrence of a specified string, \n",
    "    and splits the string into a tuple containing three elements.\n",
    "    The first element contains the part before the specified string.\n",
    "    The second element contains the specified string.\n",
    "    The third element contains the part after the string."
   ]
  },
  {
   "cell_type": "markdown",
   "metadata": {},
   "source": [
    "#### splitlines"
   ]
  },
  {
   "cell_type": "markdown",
   "metadata": {},
   "source": [
    "    The splitlines() method splits a string into a list. The splitting is done at line breaks."
   ]
  },
  {
   "cell_type": "code",
   "execution_count": 115,
   "metadata": {},
   "outputs": [
    {
     "name": "stdout",
     "output_type": "stream",
     "text": [
      "['Thank you for the music. Welcome to the jungle']\n"
     ]
    }
   ],
   "source": [
    "txt = \"Thank you for the music. Welcome to the jungle\"\n",
    "\n",
    "x = txt.splitlines(True)\n",
    "\n",
    "print(x)"
   ]
  },
  {
   "cell_type": "markdown",
   "metadata": {},
   "source": [
    "#### translate"
   ]
  },
  {
   "cell_type": "markdown",
   "metadata": {},
   "source": [
    "    The translate() method returns a string where some specified characters are replaced \n",
    "    with the character described in a dictionary, or in a mapping table.\n",
    "    Use the maketrans() method to create a mapping table.\n",
    "    If a character is not specified in the dictionary/table, the character will not be replaced.\n",
    "    If you use a dictionary, you must use ascii codes instead of characters."
   ]
  },
  {
   "cell_type": "code",
   "execution_count": 116,
   "metadata": {},
   "outputs": [
    {
     "name": "stdout",
     "output_type": "stream",
     "text": [
      "Hello Pam!\n"
     ]
    }
   ],
   "source": [
    "txt = \"Hello Sam!\"\n",
    "mytable = txt.maketrans(\"S\", \"P\")\n",
    "print(txt.translate(mytable))"
   ]
  },
  {
   "cell_type": "code",
   "execution_count": 117,
   "metadata": {},
   "outputs": [
    {
     "name": "stdout",
     "output_type": "stream",
     "text": [
      "G i Joe!\n"
     ]
    }
   ],
   "source": [
    "txt = \"Good night Sam!\"\n",
    "mydict = {109: 101, 83: 74, 97: 111, 111: None, 100: None, 110: None, 103: None, 104: None, 116: None}\n",
    "print(txt.translate(mydict))"
   ]
  },
  {
   "cell_type": "code",
   "execution_count": 118,
   "metadata": {},
   "outputs": [
    {
     "name": "stdout",
     "output_type": "stream",
     "text": [
      "Hello Pam!\n"
     ]
    }
   ],
   "source": [
    "mydict = {83:  80}\n",
    "txt = \"Hello Sam!\"\n",
    "print(txt.translate(mydict))"
   ]
  },
  {
   "cell_type": "markdown",
   "metadata": {},
   "source": [
    "#### zfill"
   ]
  },
  {
   "cell_type": "markdown",
   "metadata": {},
   "source": [
    "    The zfill() method adds zeros (0) at the beginning of the string, until it reaches the specified length.\n",
    "    If the value of the len parameter is less than the length of the string, no filling is done."
   ]
  },
  {
   "cell_type": "code",
   "execution_count": 119,
   "metadata": {},
   "outputs": [
    {
     "name": "stdout",
     "output_type": "stream",
     "text": [
      "0000000050\n",
      "10\n"
     ]
    }
   ],
   "source": [
    "txt = \"50\"\n",
    "\n",
    "x = txt.zfill(10)\n",
    "print(x)\n",
    "print(len(x))"
   ]
  },
  {
   "cell_type": "code",
   "execution_count": 120,
   "metadata": {},
   "outputs": [
    {
     "name": "stdout",
     "output_type": "stream",
     "text": [
      "00000hello\n",
      "welcome to the jungle\n",
      "000010.000\n"
     ]
    }
   ],
   "source": [
    "a = \"hello\"\n",
    "b = \"welcome to the jungle\"\n",
    "c = \"10.000\"\n",
    "\n",
    "print(a.zfill(10))\n",
    "print(b.zfill(10))     #because already len(b) is greater than 10\n",
    "print(c.zfill(10))"
   ]
  },
  {
   "cell_type": "markdown",
   "metadata": {},
   "source": [
    "### Conditional Statmenets in Python"
   ]
  },
  {
   "cell_type": "markdown",
   "metadata": {},
   "source": [
    "    -> if\n",
    "    -> elif\n",
    "    -> else"
   ]
  },
  {
   "cell_type": "code",
   "execution_count": 122,
   "metadata": {},
   "outputs": [
    {
     "name": "stdout",
     "output_type": "stream",
     "text": [
      "Enter 1st number: 53\n",
      "Enter 2nd number: 26\n",
      "Enter 3rd number: 76\n"
     ]
    }
   ],
   "source": [
    "num1 = eval(input('Enter 1st number: '))\n",
    "num2 = eval(input('Enter 2nd number: '))\n",
    "num3 = eval(input('Enter 3rd number: '))\n",
    "if (num1 > num2):\n",
    "    if num1 > num3:\n",
    "        print('num1 is greater')\n",
    "elif num2 > num3:\n",
    "    print('num2 is greater')\n",
    "else:\n",
    "    print('num3 is greater')"
   ]
  },
  {
   "cell_type": "code",
   "execution_count": 123,
   "metadata": {},
   "outputs": [
    {
     "name": "stdout",
     "output_type": "stream",
     "text": [
      "Enter an year: 2034\n",
      "Year is not a leap year\n"
     ]
    }
   ],
   "source": [
    "# Leap year example using if elif and else\n",
    "\n",
    "# Condition\n",
    "# 1. year%4 == 0 leap\n",
    "# 2. year%4==0 and year%100==0 and year%400==0 - leap year\n",
    "# 3. year%4==0 and year%100==0 but year%400!= 0 - not a leap year\n",
    "# 4. year%4!=0 - not a leap year\n",
    "\n",
    "\n",
    "year = eval(input('Enter an year: '))\n",
    "if year % 4 == 0:\n",
    "    if year % 100 == 0:\n",
    "        if year % 400 == 0:\n",
    "            print('Year is leap Year')\n",
    "        else:\n",
    "            print('Year is not a leap year')\n",
    "    else:\n",
    "        print('Year is leap Year')\n",
    "else:\n",
    "    print('Year is not a leap year')"
   ]
  },
  {
   "cell_type": "markdown",
   "metadata": {},
   "source": [
    "### Loops in Python - "
   ]
  },
  {
   "cell_type": "markdown",
   "metadata": {},
   "source": [
    "    -> for loop - Iterate over sequence\n",
    "    -> while loop - Check condition, if condition false then break"
   ]
  },
  {
   "cell_type": "markdown",
   "metadata": {},
   "source": [
    "##### For loop"
   ]
  },
  {
   "cell_type": "code",
   "execution_count": 124,
   "metadata": {},
   "outputs": [
    {
     "name": "stdout",
     "output_type": "stream",
     "text": [
      "10 <class 'int'>\n",
      "\n",
      "20.3 <class 'float'>\n",
      "\n",
      "(30+40j) <class 'complex'>\n",
      "\n",
      "40 <class 'str'>\n",
      "\n",
      "True <class 'bool'>\n",
      "\n",
      "None <class 'NoneType'>\n",
      "\n"
     ]
    }
   ],
   "source": [
    "lst = [10,20.30,30+40j,'40',True, None]\n",
    "for var in lst:\n",
    "    print(var, type(var))\n",
    "    print()"
   ]
  },
  {
   "cell_type": "code",
   "execution_count": 125,
   "metadata": {},
   "outputs": [
    {
     "name": "stdout",
     "output_type": "stream",
     "text": [
      "P\n",
      "yy\n",
      "ttt\n",
      "hhhh\n",
      "ooooo\n",
      "nnnnnn\n"
     ]
    }
   ],
   "source": [
    "my_str = 'Python'\n",
    "rep_fac = 0\n",
    "for i in my_str:\n",
    "    rep_fac += 1\n",
    "    print(i * rep_fac)"
   ]
  },
  {
   "cell_type": "code",
   "execution_count": 126,
   "metadata": {},
   "outputs": [
    {
     "name": "stdout",
     "output_type": "stream",
     "text": [
      "P\n",
      "yy\n",
      "ttt\n",
      "hhhh\n",
      "ooooo\n",
      "nnnnnn\n"
     ]
    }
   ],
   "source": [
    "for i in range(len(my_str)):\n",
    "    print(my_str[i] * (i+1))"
   ]
  },
  {
   "cell_type": "markdown",
   "metadata": {},
   "source": [
    "##### While Loop"
   ]
  },
  {
   "cell_type": "markdown",
   "metadata": {},
   "source": [
    "    Initialization\n",
    "    Condition checking\n",
    "    increment/decrement"
   ]
  },
  {
   "cell_type": "code",
   "execution_count": 127,
   "metadata": {},
   "outputs": [
    {
     "name": "stdout",
     "output_type": "stream",
     "text": [
      "P\n",
      "y\n",
      "t\n",
      "h\n",
      "o\n",
      "n\n"
     ]
    }
   ],
   "source": [
    "my_str = 'Python'\n",
    "ind = 0\n",
    "while ind < len(my_str):\n",
    "    print(my_str[ind])\n",
    "    ind += 1"
   ]
  },
  {
   "cell_type": "code",
   "execution_count": 128,
   "metadata": {},
   "outputs": [
    {
     "name": "stdout",
     "output_type": "stream",
     "text": [
      "0\n",
      "6\n",
      "8\n",
      "12\n",
      "21\n",
      "29\n",
      "37\n",
      "39\n",
      "40\n"
     ]
    }
   ],
   "source": [
    "# find index of each 'p' over string\n",
    "my_str = 'peter piper picked a peck of pickled peppers'\n",
    "ind = -1\n",
    "while True:\n",
    "    ind = my_str.find('p', ind+1)\n",
    "    if ind == -1:\n",
    "        break\n",
    "    else:\n",
    "        print(ind)"
   ]
  },
  {
   "cell_type": "markdown",
   "metadata": {},
   "source": [
    "##### break, continue and pass"
   ]
  },
  {
   "cell_type": "code",
   "execution_count": 129,
   "metadata": {},
   "outputs": [
    {
     "name": "stdout",
     "output_type": "stream",
     "text": [
      "33\n",
      "33\n",
      "22\n"
     ]
    }
   ],
   "source": [
    "# break\n",
    "for i in [11, 22]:\n",
    "    for j in [33, 44]:\n",
    "        if j % 2 != 0:\n",
    "            break\n",
    "        else:\n",
    "            print(j)\n",
    "        print('Hi')\n",
    "    print(j)\n",
    "\n",
    "print(i)"
   ]
  },
  {
   "cell_type": "code",
   "execution_count": 130,
   "metadata": {},
   "outputs": [
    {
     "name": "stdout",
     "output_type": "stream",
     "text": [
      "10\n",
      "20\n",
      "1\n",
      "11\n",
      "99\n",
      "67\n",
      "100\n",
      "20\n",
      "65\n",
      "29\n",
      "68\n",
      "76\n"
     ]
    }
   ],
   "source": [
    "# continue\n",
    "lst = [10,20,1,11,99,67,100,20,101,65,110,29,68,76]\n",
    "for i in lst:\n",
    "    if i > 100:\n",
    "        continue\n",
    "    print(i)"
   ]
  },
  {
   "cell_type": "code",
   "execution_count": 131,
   "metadata": {},
   "outputs": [
    {
     "name": "stdout",
     "output_type": "stream",
     "text": [
      "10\n",
      "20\n",
      "30\n",
      "33\n",
      "44\n"
     ]
    }
   ],
   "source": [
    "# pass\n",
    "for i in [10,20,1,30,33,44]:\n",
    "    if i < 10:\n",
    "        pass\n",
    "    else:\n",
    "        print(i)"
   ]
  },
  {
   "cell_type": "markdown",
   "metadata": {},
   "source": [
    "# List"
   ]
  },
  {
   "cell_type": "code",
   "execution_count": 132,
   "metadata": {},
   "outputs": [
    {
     "name": "stdout",
     "output_type": "stream",
     "text": [
      "[10, 20, 30, 40, 50] <class 'list'>\n"
     ]
    }
   ],
   "source": [
    "# List - [] - all values are kept inside [] separated by comma\n",
    "lst = [10,20,30,40,50]\n",
    "print(lst, type(lst))"
   ]
  },
  {
   "cell_type": "code",
   "execution_count": 133,
   "metadata": {},
   "outputs": [
    {
     "name": "stdout",
     "output_type": "stream",
     "text": [
      "[10, 10.2, (10+20j), 'Python', None, True, [1, 2, 3], (1, 2, 3), {1: 100, 2: 200, 3: 300}] <class 'list'>\n"
     ]
    }
   ],
   "source": [
    "# List is a collection of heterogeneous elements\n",
    "lst = [10, 10.20, 10+20j, 'Python', None, True, [1,2,3], (1,2,3), {1:100, 2:200, 3:300}]\n",
    "print(lst, type(lst))"
   ]
  },
  {
   "cell_type": "code",
   "execution_count": 134,
   "metadata": {},
   "outputs": [
    {
     "name": "stdout",
     "output_type": "stream",
     "text": [
      "[10, 20, 1, 100, 10, 20, 200, 1, 20, 10, 2, 200] <class 'list'>\n"
     ]
    }
   ],
   "source": [
    "# List can have duplicate elements\n",
    "lst = [10,20,1,100,10,20,200,1,20,10,2,200]\n",
    "print(lst, type(lst))"
   ]
  },
  {
   "cell_type": "code",
   "execution_count": 135,
   "metadata": {},
   "outputs": [
    {
     "name": "stdout",
     "output_type": "stream",
     "text": [
      "['P', 'y', 't', 'h', 'o', 'n']\n",
      "[1, 2, 3, 4]\n",
      "[1, 2, 3, 4]\n",
      "[1, 2, 3]\n"
     ]
    }
   ],
   "source": [
    "# Using list function\n",
    "print(list('Python'))\n",
    "\n",
    "print(list((1,2,3,4,)))\n",
    "\n",
    "print(list([1,2,3,4,]))\n",
    "\n",
    "print(list({1:100, 2:200, 3:300}))"
   ]
  },
  {
   "cell_type": "code",
   "execution_count": 136,
   "metadata": {},
   "outputs": [
    {
     "name": "stdout",
     "output_type": "stream",
     "text": [
      "Enter a number: 1526\n",
      "1526 <class 'int'>\n"
     ]
    }
   ],
   "source": [
    "a = eval(input('Enter a number: '))\n",
    "print(a, type(a))"
   ]
  },
  {
   "cell_type": "markdown",
   "metadata": {},
   "source": [
    "    List is a seq - \n",
    "        It supports +ve and -ve indexing both\n",
    "        Basic operations - Indexing, slicing, concatenation, repetition"
   ]
  },
  {
   "cell_type": "code",
   "execution_count": 137,
   "metadata": {},
   "outputs": [
    {
     "name": "stdout",
     "output_type": "stream",
     "text": [
      "10\n",
      "10\n"
     ]
    }
   ],
   "source": [
    "# First element\n",
    "lst = [10, 10.20, 10+20j, 'Python', None, True, [1,2,3], (1,2,3)]\n",
    "print(lst[0])\n",
    "print(lst[-len(lst)])"
   ]
  },
  {
   "cell_type": "code",
   "execution_count": 138,
   "metadata": {},
   "outputs": [
    {
     "name": "stdout",
     "output_type": "stream",
     "text": [
      "(1, 2, 3)\n",
      "(1, 2, 3)\n"
     ]
    }
   ],
   "source": [
    "# Last element\n",
    "print(lst[-1])\n",
    "print(lst[len(lst)-1])"
   ]
  },
  {
   "cell_type": "code",
   "execution_count": 139,
   "metadata": {},
   "outputs": [
    {
     "name": "stdout",
     "output_type": "stream",
     "text": [
      "[10, 10.2, (10+20j), 'Python', None, True, [1, 2, 3], (1, 2, 3)]\n",
      "[(1, 2, 3), [1, 2, 3], True, None, 'Python', (10+20j), 10.2, 10]\n",
      "[10, (10+20j), None, [1, 2, 3]]\n",
      "[(1, 2, 3), True, 'Python', 10.2]\n",
      "['Python', None, True]\n",
      "[True, None, 'Python']\n"
     ]
    }
   ],
   "source": [
    "# Slicing\n",
    "# syntax - list[start:stop:step]\n",
    "\n",
    "lst = [10, 10.20, 10+20j, 'Python', None, True, [1,2,3], (1,2,3)]\n",
    "print(lst[::])\n",
    "print(lst[::-1])\n",
    "print(lst[::2])\n",
    "print(lst[::-2])\n",
    "print(lst[3:6])\n",
    "# print(lst[3:6:-1])\n",
    "print(lst[5:2:-1])"
   ]
  },
  {
   "cell_type": "code",
   "execution_count": 140,
   "metadata": {},
   "outputs": [
    {
     "name": "stdout",
     "output_type": "stream",
     "text": [
      "[10, 20, 30, 1, 2, 3]\n"
     ]
    }
   ],
   "source": [
    "# concatenation\n",
    "lst = [10,20,30]\n",
    "lst1 = [1,2,3]\n",
    "print(lst + lst1)\n",
    "# print(lst + 3)                             # TypeError: can only concatenate list (not \"int\") to list"
   ]
  },
  {
   "cell_type": "code",
   "execution_count": 141,
   "metadata": {},
   "outputs": [
    {
     "name": "stdout",
     "output_type": "stream",
     "text": [
      "[10, 20, 30, 10, 20, 30, 10, 20, 30]\n"
     ]
    }
   ],
   "source": [
    "# Repetation\n",
    "print(lst * 3)\n",
    "# print(lst * 5.0)                         # TypeError: can't multiply sequence by non-int of type 'float'"
   ]
  },
  {
   "cell_type": "markdown",
   "metadata": {},
   "source": [
    "    List is mutable - \n",
    "        1. Changes are done to the existing object\n",
    "        2. Item assignment is possible"
   ]
  },
  {
   "cell_type": "code",
   "execution_count": 142,
   "metadata": {},
   "outputs": [
    {
     "name": "stdout",
     "output_type": "stream",
     "text": [
      "[100, 20, 30, 40]\n"
     ]
    }
   ],
   "source": [
    "lst = [10,20,30,40]\n",
    "lst[0] = 100\n",
    "print(lst)"
   ]
  },
  {
   "cell_type": "code",
   "execution_count": 143,
   "metadata": {},
   "outputs": [
    {
     "name": "stdout",
     "output_type": "stream",
     "text": [
      "['__add__', '__class__', '__class_getitem__', '__contains__', '__delattr__', '__delitem__', '__dir__', '__doc__', '__eq__', '__format__', '__ge__', '__getattribute__', '__getitem__', '__gt__', '__hash__', '__iadd__', '__imul__', '__init__', '__init_subclass__', '__iter__', '__le__', '__len__', '__lt__', '__mul__', '__ne__', '__new__', '__reduce__', '__reduce_ex__', '__repr__', '__reversed__', '__rmul__', '__setattr__', '__setitem__', '__sizeof__', '__str__', '__subclasshook__', 'append', 'clear', 'copy', 'count', 'extend', 'index', 'insert', 'pop', 'remove', 'reverse', 'sort']\n"
     ]
    }
   ],
   "source": [
    "# Methods in list\n",
    "print(dir(list))"
   ]
  },
  {
   "cell_type": "code",
   "execution_count": 144,
   "metadata": {},
   "outputs": [],
   "source": [
    "# 'append', 'clear', 'copy', 'count', 'extend', 'index', 'insert', 'pop', 'remove', 'reverse', 'sort'"
   ]
  },
  {
   "cell_type": "markdown",
   "metadata": {},
   "source": [
    "##### append"
   ]
  },
  {
   "cell_type": "code",
   "execution_count": 145,
   "metadata": {},
   "outputs": [
    {
     "name": "stdout",
     "output_type": "stream",
     "text": [
      "[10, 10.2, (10+20j), 'Python', None, True, [1, 2, 3], (1, 2, 3), 111]\n"
     ]
    }
   ],
   "source": [
    "lst = [10, 10.20, 10+20j, 'Python', None, True, [1,2,3], (1,2,3)]\n",
    "\n",
    "#append - adds the elemenet to the end of the list\n",
    "lst.append(111)\n",
    "print(lst)"
   ]
  },
  {
   "cell_type": "code",
   "execution_count": 146,
   "metadata": {},
   "outputs": [
    {
     "name": "stdout",
     "output_type": "stream",
     "text": [
      "[10, 10.2, (10+20j), 'Python', None, True, [1, 2, 3], (1, 2, 3), 111, [11, 22, 33]]\n"
     ]
    }
   ],
   "source": [
    "lst.append([11,22,33])       # Whole list added as one element\n",
    "print(lst)"
   ]
  },
  {
   "cell_type": "markdown",
   "metadata": {},
   "source": [
    "##### extend"
   ]
  },
  {
   "cell_type": "code",
   "execution_count": 147,
   "metadata": {},
   "outputs": [
    {
     "name": "stdout",
     "output_type": "stream",
     "text": [
      "[10, 10.2, (10+20j), 'Python', None, True, [1, 2, 3], (1, 2, 3)] 140624557029312\n",
      "[10, 10.2, (10+20j), 'Python', None, True, [1, 2, 3], (1, 2, 3), 11, 22, 33, 44, 55] 140624557029312\n",
      "[11, 22, 33, 44, 55]\n"
     ]
    }
   ],
   "source": [
    "# extend - is similar to concatenate but it makes the changes to existing unlike concatenate which creates a new object\n",
    "# below method extends or update lst1 in lst\n",
    "lst = [10, 10.20, 10+20j, 'Python', None, True, [1,2,3], (1,2,3)]\n",
    "lst1 = [11, 22, 33, 44, 55]\n",
    "\n",
    "print(lst, id(lst))\n",
    "lst.extend(lst1)\n",
    "print(lst, id(lst))\n",
    "print(lst1)"
   ]
  },
  {
   "cell_type": "markdown",
   "metadata": {},
   "source": [
    "##### insert"
   ]
  },
  {
   "cell_type": "code",
   "execution_count": 148,
   "metadata": {},
   "outputs": [
    {
     "name": "stdout",
     "output_type": "stream",
     "text": [
      "[10, 10.2, (10+20j), 'Python', [11, 22, 33, 44, 55], None, True, [1, 2, 3], (1, 2, 3), 11, 22, 33, 44, 55]\n"
     ]
    }
   ],
   "source": [
    "# insert - inserts the value at a given index\n",
    "lst.insert(4, lst1)\n",
    "print(lst)"
   ]
  },
  {
   "cell_type": "markdown",
   "metadata": {},
   "source": [
    "##### count"
   ]
  },
  {
   "cell_type": "code",
   "execution_count": 149,
   "metadata": {},
   "outputs": [
    {
     "name": "stdout",
     "output_type": "stream",
     "text": [
      "3\n",
      "5\n"
     ]
    }
   ],
   "source": [
    "# count - gives the number of times an element is repeating inside a seq\n",
    "lst2 = [10,1,20,200,10,1,20,30,40,50,20,10,1,20,10,20]\n",
    "print(lst2.count(1))\n",
    "print(lst2.count(20))"
   ]
  },
  {
   "cell_type": "markdown",
   "metadata": {},
   "source": [
    "##### index"
   ]
  },
  {
   "cell_type": "code",
   "execution_count": 150,
   "metadata": {},
   "outputs": [
    {
     "name": "stdout",
     "output_type": "stream",
     "text": [
      "2\n"
     ]
    }
   ],
   "source": [
    "# index - returns the first occurrenec of the element inside the list\n",
    "print(lst2.index(20))"
   ]
  },
  {
   "cell_type": "markdown",
   "metadata": {},
   "source": [
    "##### pop,   pop(index)   remove(value)"
   ]
  },
  {
   "cell_type": "code",
   "execution_count": 151,
   "metadata": {},
   "outputs": [
    {
     "name": "stdout",
     "output_type": "stream",
     "text": [
      "30\n"
     ]
    }
   ],
   "source": [
    "# pop() - removes be default the last element - it is the only method which does the operation on list and returns some value\n",
    "# pop(index) - removes the element at a particular index\n",
    "# remove(value) - removes the value from the list\n",
    "lst2 = [10,1,20,200,30]\n",
    "print(lst2.pop())"
   ]
  },
  {
   "cell_type": "code",
   "execution_count": 152,
   "metadata": {},
   "outputs": [
    {
     "data": {
      "text/plain": [
       "[10, 1, 20, 200]"
      ]
     },
     "execution_count": 152,
     "metadata": {},
     "output_type": "execute_result"
    }
   ],
   "source": [
    "lst2"
   ]
  },
  {
   "cell_type": "code",
   "execution_count": 153,
   "metadata": {},
   "outputs": [
    {
     "name": "stdout",
     "output_type": "stream",
     "text": [
      "20\n"
     ]
    }
   ],
   "source": [
    "print(lst2.pop(2))"
   ]
  },
  {
   "cell_type": "code",
   "execution_count": 154,
   "metadata": {},
   "outputs": [
    {
     "data": {
      "text/plain": [
       "[10, 1, 200]"
      ]
     },
     "execution_count": 154,
     "metadata": {},
     "output_type": "execute_result"
    }
   ],
   "source": [
    "lst2"
   ]
  },
  {
   "cell_type": "code",
   "execution_count": 155,
   "metadata": {},
   "outputs": [],
   "source": [
    "lst2.remove(200)"
   ]
  },
  {
   "cell_type": "code",
   "execution_count": 156,
   "metadata": {},
   "outputs": [
    {
     "data": {
      "text/plain": [
       "[10, 1]"
      ]
     },
     "execution_count": 156,
     "metadata": {},
     "output_type": "execute_result"
    }
   ],
   "source": [
    "lst2"
   ]
  },
  {
   "cell_type": "markdown",
   "metadata": {},
   "source": [
    "##### Clear"
   ]
  },
  {
   "cell_type": "code",
   "execution_count": 157,
   "metadata": {},
   "outputs": [
    {
     "name": "stdout",
     "output_type": "stream",
     "text": [
      "[]\n"
     ]
    }
   ],
   "source": [
    "# Clear - does not deletes a list rather it delets the elements from the list, and leaves empty list behind\n",
    "lst2.clear()\n",
    "print(lst2)"
   ]
  },
  {
   "cell_type": "markdown",
   "metadata": {},
   "source": [
    "##### reverse"
   ]
  },
  {
   "cell_type": "code",
   "execution_count": 158,
   "metadata": {},
   "outputs": [
    {
     "name": "stdout",
     "output_type": "stream",
     "text": [
      "[10, 10.2, (10+20j), 'Python', [11, 22, 33, 44, 55], None, True, [1, 2, 3], (1, 2, 3), 11, 22, 33, 44, 55]\n",
      "[55, 44, 33, 22, 11, (1, 2, 3), [1, 2, 3], True, None, [11, 22, 33, 44, 55], 'Python', (10+20j), 10.2, 10]\n"
     ]
    }
   ],
   "source": [
    "# reverse - revesrse the list\n",
    "lst = [10, 10.2, (10+20j), 'Python', [11, 22, 33, 44, 55], None, True, [1, 2, 3], (1, 2, 3), 11, 22, 33, 44, 55]\n",
    "print(lst)\n",
    "lst.reverse()\n",
    "print(lst)"
   ]
  },
  {
   "cell_type": "markdown",
   "metadata": {},
   "source": [
    "##### sort"
   ]
  },
  {
   "cell_type": "code",
   "execution_count": 159,
   "metadata": {},
   "outputs": [
    {
     "name": "stdout",
     "output_type": "stream",
     "text": [
      "[10, 20, 30, 100]\n",
      "[10, 20, 30, 100]\n"
     ]
    }
   ],
   "source": [
    "# sort - implements comparison operator internally, to sort a list we should have a list of elements of same type\n",
    "# sorts the list in ascending order\n",
    "lst2 = [10, 20, 30, 100]\n",
    "print(lst2)\n",
    "lst2.sort()    # default reverse = False, Ascending order\n",
    "print(lst2)"
   ]
  },
  {
   "cell_type": "code",
   "execution_count": 160,
   "metadata": {},
   "outputs": [
    {
     "name": "stdout",
     "output_type": "stream",
     "text": [
      "[10, 20, 30, 100]\n",
      "[100, 30, 20, 10]\n"
     ]
    }
   ],
   "source": [
    "lst2 = [10, 20, 30, 100]\n",
    "print(lst2)\n",
    "lst2.sort(reverse = True)    \n",
    "print(lst2)"
   ]
  },
  {
   "cell_type": "code",
   "execution_count": 161,
   "metadata": {},
   "outputs": [
    {
     "name": "stdout",
     "output_type": "stream",
     "text": [
      "[100, 30, 20, 10]\n"
     ]
    }
   ],
   "source": [
    "print(lst2)"
   ]
  },
  {
   "cell_type": "code",
   "execution_count": 162,
   "metadata": {},
   "outputs": [
    {
     "data": {
      "text/plain": [
       "[100, 30, 20, 10]"
      ]
     },
     "execution_count": 162,
     "metadata": {},
     "output_type": "execute_result"
    }
   ],
   "source": [
    "# using sorted function\n",
    "lst2 = [10, 20, 30, 100]\n",
    "sorted(lst2, reverse = True)\n",
    "# print(lst2)"
   ]
  },
  {
   "cell_type": "markdown",
   "metadata": {},
   "source": [
    "#### Shallow copy and deep copy - only for mutable DS"
   ]
  },
  {
   "cell_type": "code",
   "execution_count": 163,
   "metadata": {},
   "outputs": [
    {
     "name": "stdout",
     "output_type": "stream",
     "text": [
      "True\n",
      "True\n",
      "140624557024384\n",
      "140624557024384\n"
     ]
    }
   ],
   "source": [
    "# Aliasing\n",
    "lst = [10,20,30,40]\n",
    "lst1 = lst                        # Aliasing\n",
    "\n",
    "print(lst is lst1)\n",
    "print(lst == lst1)\n",
    "print(id(lst))\n",
    "print(id(lst1))"
   ]
  },
  {
   "cell_type": "code",
   "execution_count": 164,
   "metadata": {},
   "outputs": [
    {
     "name": "stdout",
     "output_type": "stream",
     "text": [
      "[100, 20, 30, 40]\n",
      "[100, 20, 30, 40]\n"
     ]
    }
   ],
   "source": [
    "# Problem in aliasing  - Update in both list\n",
    "lst1[0] = 100\n",
    "print(lst)\n",
    "print(lst1)"
   ]
  },
  {
   "cell_type": "code",
   "execution_count": 165,
   "metadata": {},
   "outputs": [
    {
     "name": "stdout",
     "output_type": "stream",
     "text": [
      "[10, 20, 30, 40]\n",
      "[10, 20, 30, 40]\n",
      "True\n",
      "False\n",
      "140624557025152\n",
      "140624557026368\n"
     ]
    }
   ],
   "source": [
    "# Shallow copy - use slicing or copy\n",
    "lst = [10,20,30,40]\n",
    "lst2 = lst[::]\n",
    "print(lst)\n",
    "print(lst2)\n",
    "print(lst == lst2)\n",
    "print(lst is lst2)\n",
    "print(id(lst))\n",
    "print(id(lst2))"
   ]
  },
  {
   "cell_type": "code",
   "execution_count": 166,
   "metadata": {},
   "outputs": [
    {
     "name": "stdout",
     "output_type": "stream",
     "text": [
      "[11, 20, 30, 40]\n",
      "[10, 20, 30, 40]\n"
     ]
    }
   ],
   "source": [
    "lst2[0] = 11                   # Not update on both list but when nested list come then its fails\n",
    "print(lst2)\n",
    "print(lst)"
   ]
  },
  {
   "cell_type": "code",
   "execution_count": 167,
   "metadata": {},
   "outputs": [
    {
     "name": "stdout",
     "output_type": "stream",
     "text": [
      "False\n",
      "140624557026240\n",
      "140624557026048\n",
      "[10, 20, 30, [1, 2, 3], 40, 50]\n",
      "[10, 20, 30, [1, 2, 3], 40, 50]\n"
     ]
    }
   ],
   "source": [
    "# problem with shollow copy\n",
    "lst = [10,20,30,[1,2,3], 40,50]\n",
    "lst3 = lst.copy()\n",
    "\n",
    "print(lst is lst3)\n",
    "print(id(lst))\n",
    "print(id(lst3))\n",
    "print(lst)\n",
    "print(lst3)"
   ]
  },
  {
   "cell_type": "code",
   "execution_count": 168,
   "metadata": {},
   "outputs": [
    {
     "name": "stdout",
     "output_type": "stream",
     "text": [
      "[10, 20, 30, [1, 2, 3], 40, 50]\n",
      "[10, 20, 30, [1, 2, 3], 40, 500]\n"
     ]
    }
   ],
   "source": [
    "lst3[-1] = 500\n",
    "print(lst)\n",
    "print(lst3)"
   ]
  },
  {
   "cell_type": "code",
   "execution_count": 169,
   "metadata": {},
   "outputs": [
    {
     "name": "stdout",
     "output_type": "stream",
     "text": [
      "[10, 20, 30, [1, 2, 333], 40, 50]\n",
      "[10, 20, 30, [1, 2, 333], 40, 500]\n",
      "140624557008432\n",
      "140624557008432\n"
     ]
    }
   ],
   "source": [
    "lst[3][-1] = 333                 # Update in both list\n",
    "print(lst)\n",
    "print(lst3)\n",
    "\n",
    "print(id(lst[3][2]))                # same ids\n",
    "print(id(lst3[3][2]))"
   ]
  },
  {
   "cell_type": "code",
   "execution_count": 170,
   "metadata": {},
   "outputs": [
    {
     "name": "stdout",
     "output_type": "stream",
     "text": [
      "[10, 20, 30, [1, 2, 333], 40, 50]\n",
      "[10, 20, 30, [1, 2, 333], 40, 500]\n",
      "140624556969728\n",
      "140624556969728\n"
     ]
    }
   ],
   "source": [
    "lst[3][-1] = 333                 # Update in both list\n",
    "print(lst)\n",
    "print(lst3)\n",
    "\n",
    "print(id(lst[3]))                # same ids\n",
    "print(id(lst3[3]))"
   ]
  },
  {
   "cell_type": "code",
   "execution_count": 171,
   "metadata": {},
   "outputs": [
    {
     "name": "stdout",
     "output_type": "stream",
     "text": [
      "False\n",
      "False\n"
     ]
    }
   ],
   "source": [
    "# Deepcopy\n",
    "from copy import deepcopy\n",
    "lst = [10,20,30,[1,2,[1,4]], 40,50]\n",
    "lst4 = deepcopy(lst)\n",
    "print(lst is lst4)\n",
    "print(lst[3] is lst4[3])"
   ]
  },
  {
   "cell_type": "code",
   "execution_count": 172,
   "metadata": {},
   "outputs": [
    {
     "name": "stdout",
     "output_type": "stream",
     "text": [
      "140624557026880\n",
      "140624557027200\n"
     ]
    }
   ],
   "source": [
    "print(id(lst))\n",
    "print(id(lst4))"
   ]
  },
  {
   "cell_type": "code",
   "execution_count": 173,
   "metadata": {},
   "outputs": [
    {
     "name": "stdout",
     "output_type": "stream",
     "text": [
      "140624557029568\n",
      "140624556234816\n"
     ]
    }
   ],
   "source": [
    "print(id(lst[3]))\n",
    "print(id(lst4[3]))"
   ]
  },
  {
   "cell_type": "code",
   "execution_count": 174,
   "metadata": {},
   "outputs": [
    {
     "name": "stdout",
     "output_type": "stream",
     "text": [
      "[10, 20, 30, [1, 2, [1, 4]], 40, 50]\n",
      "[10, 20, 30, [1, 2, [1, 0]], 40, 50]\n"
     ]
    }
   ],
   "source": [
    "lst4[3][2][1] = 0\n",
    "print(lst)\n",
    "print(lst4)"
   ]
  },
  {
   "cell_type": "markdown",
   "metadata": {},
   "source": [
    "# Tuple"
   ]
  },
  {
   "cell_type": "markdown",
   "metadata": {},
   "source": [
    "      - Everything is similar to list but tuple in immutable\n",
    "      - All the elements should be kept inside () separated by comma[() are optional]\n",
    "      - Tuple is immutable (item assignment is not allowed, changes are not made to exiting made)"
   ]
  },
  {
   "cell_type": "markdown",
   "metadata": {},
   "source": [
    "##### Defining a tuple"
   ]
  },
  {
   "cell_type": "code",
   "execution_count": 175,
   "metadata": {},
   "outputs": [
    {
     "name": "stdout",
     "output_type": "stream",
     "text": [
      "(10, 20, 30, 40) <class 'tuple'>\n"
     ]
    }
   ],
   "source": [
    "tpl = (10,20,30,40)\n",
    "print(tpl, type(tpl))"
   ]
  },
  {
   "cell_type": "code",
   "execution_count": 176,
   "metadata": {},
   "outputs": [
    {
     "name": "stdout",
     "output_type": "stream",
     "text": [
      "('P', 'y', 't', 'h', 'o', 'n')\n",
      "(10, 20, 30, 40)\n",
      "(1, 2, 3)\n"
     ]
    }
   ],
   "source": [
    "# Using tuple function\n",
    "print(tuple('Python'))\n",
    "print(tuple([10,20,30,40]))\n",
    "print(tuple({1:100,2:200, 3:300}))        # Take only keys in tuple"
   ]
  },
  {
   "cell_type": "code",
   "execution_count": 177,
   "metadata": {},
   "outputs": [
    {
     "name": "stdout",
     "output_type": "stream",
     "text": [
      "(10,) <class 'tuple'> (20,) <class 'tuple'>\n"
     ]
    }
   ],
   "source": [
    "# Creating a tuple with single element\n",
    "tpl = (10,)\n",
    "tpl1 = 20,\n",
    "print(tpl,type(tpl), tpl1, type(tpl1))"
   ]
  },
  {
   "cell_type": "code",
   "execution_count": 179,
   "metadata": {},
   "outputs": [
    {
     "name": "stdout",
     "output_type": "stream",
     "text": [
      "Enter a tuple: (9,8,7,6,)\n",
      "(9, 8, 7, 6) <class 'tuple'>\n"
     ]
    }
   ],
   "source": [
    "# taking tuple as input from user\n",
    "tpl = eval(input('Enter a tuple: '))\n",
    "print(tpl, type(tpl))"
   ]
  },
  {
   "cell_type": "code",
   "execution_count": 180,
   "metadata": {},
   "outputs": [
    {
     "name": "stdout",
     "output_type": "stream",
     "text": [
      "(20, 30)\n",
      "(10, 20, 30, 40)\n"
     ]
    }
   ],
   "source": [
    "# slicing in tuple\n",
    "tpl = (10,20,30,40)\n",
    "print(tpl[1:3])\n",
    "print(tpl)"
   ]
  },
  {
   "cell_type": "code",
   "execution_count": 181,
   "metadata": {},
   "outputs": [
    {
     "data": {
      "text/plain": [
       "[0, 2, 4, 6, 8]"
      ]
     },
     "execution_count": 181,
     "metadata": {},
     "output_type": "execute_result"
    }
   ],
   "source": [
    "[i for i in range(0,10) if i%2==0] # list comprehension "
   ]
  },
  {
   "cell_type": "code",
   "execution_count": 182,
   "metadata": {},
   "outputs": [],
   "source": [
    "# tuple comprehensian does not generate tuple, it generate generator object"
   ]
  },
  {
   "cell_type": "code",
   "execution_count": 183,
   "metadata": {},
   "outputs": [
    {
     "data": {
      "text/plain": [
       "[0, 2, 4, 6, 8]"
      ]
     },
     "execution_count": 183,
     "metadata": {},
     "output_type": "execute_result"
    }
   ],
   "source": [
    "list(i for i in range(0,10) if i%2==0)"
   ]
  },
  {
   "cell_type": "code",
   "execution_count": 184,
   "metadata": {
    "scrolled": true
   },
   "outputs": [
    {
     "name": "stdout",
     "output_type": "stream",
     "text": [
      "['__add__', '__class__', '__class_getitem__', '__contains__', '__delattr__', '__dir__', '__doc__', '__eq__', '__format__', '__ge__', '__getattribute__', '__getitem__', '__getnewargs__', '__gt__', '__hash__', '__init__', '__init_subclass__', '__iter__', '__le__', '__len__', '__lt__', '__mul__', '__ne__', '__new__', '__reduce__', '__reduce_ex__', '__repr__', '__rmul__', '__setattr__', '__sizeof__', '__str__', '__subclasshook__', 'count', 'index']\n"
     ]
    }
   ],
   "source": [
    "print(dir(tuple))"
   ]
  },
  {
   "cell_type": "code",
   "execution_count": 185,
   "metadata": {},
   "outputs": [
    {
     "data": {
      "text/plain": [
       "('count', 'index')"
      ]
     },
     "execution_count": 185,
     "metadata": {},
     "output_type": "execute_result"
    }
   ],
   "source": [
    "'count', 'index'"
   ]
  },
  {
   "cell_type": "code",
   "execution_count": 186,
   "metadata": {},
   "outputs": [
    {
     "name": "stdout",
     "output_type": "stream",
     "text": [
      "4\n",
      "5\n"
     ]
    }
   ],
   "source": [
    "# count - gives the number of times an element is repeating inside a seq\n",
    "tup2 = (10,1,20,200,10,20,20,30,40,50,20,10,1,1,20,10,1)\n",
    "print(tup2.count(1))\n",
    "print(tup2.count(20))"
   ]
  },
  {
   "cell_type": "code",
   "execution_count": 187,
   "metadata": {},
   "outputs": [
    {
     "name": "stdout",
     "output_type": "stream",
     "text": [
      "2\n"
     ]
    }
   ],
   "source": [
    "# index - returns the first occurrenec of the element inside the tuple\n",
    "tup2 = (10,1,20,200,10,20,20,30,40,50,20,10,1,1,20,10,1)\n",
    "print(tup2.index(20))"
   ]
  },
  {
   "cell_type": "code",
   "execution_count": 188,
   "metadata": {},
   "outputs": [
    {
     "name": "stdout",
     "output_type": "stream",
     "text": [
      "(10, 20, 30, 40) <class 'tuple'>\n"
     ]
    }
   ],
   "source": [
    "# Tuple packing - assigning multiple values to a single variable\n",
    "a = 10\n",
    "b = 20\n",
    "c = 30\n",
    "d = 40\n",
    "tpl = a, b, c, d\n",
    "print(tpl, type(tpl))"
   ]
  },
  {
   "cell_type": "code",
   "execution_count": 189,
   "metadata": {},
   "outputs": [
    {
     "name": "stdout",
     "output_type": "stream",
     "text": [
      "10 1 20 3 40 5 8\n",
      "1\n"
     ]
    }
   ],
   "source": [
    "# Tuple unpacking - assigning the values in a tuple to different variables\n",
    "tpl = (10,1,20,3,40,5,60)\n",
    "a,b,c,d,e,f,g = 10,1,20,3,40,5,8\n",
    "print(a,b,c,d,e,f,g)\n",
    "print(b)"
   ]
  },
  {
   "cell_type": "markdown",
   "metadata": {},
   "source": [
    "# Dictionary"
   ]
  },
  {
   "cell_type": "markdown",
   "metadata": {},
   "source": [
    "    --> A collection of key value pair\n",
    "    --> {} are mandatory\n",
    "    --> Key:value -> element or item\n",
    "    --> Key can be only immutable data and key can not be duplicated\n",
    "    --> Values can be duplicated and can mutable or immutable\n",
    "    --> We can not perform indexing, slicing, concatenation or repetition\n",
    "    --> Keep the structure data together\n",
    "    --> Dictionary is a mutable data structure"
   ]
  },
  {
   "cell_type": "code",
   "execution_count": 190,
   "metadata": {},
   "outputs": [
    {
     "name": "stdout",
     "output_type": "stream",
     "text": [
      "{10: 100, 10.2: 100.2, (10+20j): (100+20j), None: True, True: False, 'a': 'Python', (1, 2, 3): [10, 20, 304]} <class 'dict'>\n"
     ]
    }
   ],
   "source": [
    "d = {10: 100, 10.20:100.20, 10+20j:100+20j, None:True, True:False, 'a':\"Python\", (1,2,3):[10,20,304]}\n",
    "print(d, type(d))"
   ]
  },
  {
   "cell_type": "code",
   "execution_count": 191,
   "metadata": {},
   "outputs": [
    {
     "name": "stdout",
     "output_type": "stream",
     "text": [
      "100\n",
      "(100+20j)\n",
      "Python\n"
     ]
    }
   ],
   "source": [
    "print(d[10])\n",
    "print(d[10+20j])\n",
    "print(d['a'])"
   ]
  },
  {
   "cell_type": "code",
   "execution_count": 192,
   "metadata": {},
   "outputs": [
    {
     "ename": "TypeError",
     "evalue": "unhashable type: 'list'",
     "output_type": "error",
     "traceback": [
      "\u001b[0;31m---------------------------------------------------------------------------\u001b[0m",
      "\u001b[0;31mTypeError\u001b[0m                                 Traceback (most recent call last)",
      "\u001b[0;32m/var/folders/04/6bn8n4t50h182h2pmshrg70m0000gn/T/ipykernel_3304/2349256506.py\u001b[0m in \u001b[0;36m<module>\u001b[0;34m\u001b[0m\n\u001b[1;32m      1\u001b[0m \u001b[0;31m# we cant use mutable data structure as key\u001b[0m\u001b[0;34m\u001b[0m\u001b[0;34m\u001b[0m\u001b[0m\n\u001b[0;32m----> 2\u001b[0;31m \u001b[0md\u001b[0m \u001b[0;34m=\u001b[0m \u001b[0;34m{\u001b[0m\u001b[0;36m10\u001b[0m\u001b[0;34m:\u001b[0m \u001b[0;36m100\u001b[0m\u001b[0;34m,\u001b[0m \u001b[0;36m10.20\u001b[0m\u001b[0;34m:\u001b[0m\u001b[0;36m100.20\u001b[0m\u001b[0;34m,\u001b[0m \u001b[0;34m[\u001b[0m\u001b[0;36m1\u001b[0m\u001b[0;34m,\u001b[0m\u001b[0;36m2\u001b[0m\u001b[0;34m,\u001b[0m\u001b[0;36m3\u001b[0m\u001b[0;34m]\u001b[0m\u001b[0;34m:\u001b[0m\u001b[0;34m(\u001b[0m\u001b[0;36m1\u001b[0m\u001b[0;34m,\u001b[0m\u001b[0;36m3\u001b[0m\u001b[0;34m,\u001b[0m\u001b[0;36m4\u001b[0m\u001b[0;34m)\u001b[0m\u001b[0;34m}\u001b[0m\u001b[0;34m\u001b[0m\u001b[0;34m\u001b[0m\u001b[0m\n\u001b[0m\u001b[1;32m      3\u001b[0m \u001b[0mprint\u001b[0m\u001b[0;34m(\u001b[0m\u001b[0md\u001b[0m\u001b[0;34m,\u001b[0m \u001b[0mtype\u001b[0m\u001b[0;34m(\u001b[0m\u001b[0md\u001b[0m\u001b[0;34m)\u001b[0m\u001b[0;34m)\u001b[0m                                              \u001b[0;31m# TypeError: unhashable type: 'list'\u001b[0m\u001b[0;34m\u001b[0m\u001b[0;34m\u001b[0m\u001b[0m\n",
      "\u001b[0;31mTypeError\u001b[0m: unhashable type: 'list'"
     ]
    }
   ],
   "source": [
    "# we cant use mutable data structure as key\n",
    "d = {10: 100, 10.20:100.20, [1,2,3]:(1,3,4)}\n",
    "print(d, type(d))                                              # TypeError: unhashable type: 'list'"
   ]
  },
  {
   "cell_type": "code",
   "execution_count": 193,
   "metadata": {},
   "outputs": [
    {
     "name": "stdout",
     "output_type": "stream",
     "text": [
      "emp1\n",
      "name --> ABC\n",
      "sal --> 10000\n",
      "id --> 101\n",
      "\n",
      "emp2\n",
      "name --> XYZ\n",
      "id --> 102\n",
      "sal --> 20000\n",
      "\n"
     ]
    }
   ],
   "source": [
    "d = {'emp1':{'name':'ABC', 'sal':10000, 'id':101},'emp2':{'name':'XYZ',  'id':102, 'sal':20000}}\n",
    "for i in d:\n",
    "    print(i)\n",
    "    for j in d[i]:\n",
    "        print(j,'-->',d[i][j])\n",
    "    print()"
   ]
  },
  {
   "cell_type": "markdown",
   "metadata": {},
   "source": [
    "##### defining dict"
   ]
  },
  {
   "cell_type": "code",
   "execution_count": 194,
   "metadata": {},
   "outputs": [
    {
     "name": "stdout",
     "output_type": "stream",
     "text": [
      "Enter a dictionary: {\"name\":\"namvnath\", 14:3245}\n",
      "{'name': 'namvnath', 14: 3245} <class 'dict'>\n"
     ]
    }
   ],
   "source": [
    "# Taking dictionary as input from user\n",
    "d = eval(input('Enter a dictionary: '))\n",
    "print(d, type(d))"
   ]
  },
  {
   "cell_type": "code",
   "execution_count": 195,
   "metadata": {},
   "outputs": [
    {
     "data": {
      "text/plain": [
       "{'emp1': ('ABC', 101, 10000),\n",
       " 'emp2': ('XYZ', 102, 20000),\n",
       " 'emp3': ('MNO', 103, 30000)}"
      ]
     },
     "execution_count": 195,
     "metadata": {},
     "output_type": "execute_result"
    }
   ],
   "source": [
    "# Using dict function\n",
    "dict([('emp1', ('ABC', 101, 10000)), ('emp2', ('XYZ', 102, 20000)), ('emp3', ('MNO', 103, 30000))])"
   ]
  },
  {
   "cell_type": "code",
   "execution_count": 196,
   "metadata": {},
   "outputs": [
    {
     "data": {
      "text/plain": [
       "{'emp1': {'name': 'ABC', 'id': 101, 'sal': 10000},\n",
       " 'emp2': {'name': 'XYZ', 'id': 102, 'sal': 20000}}"
      ]
     },
     "execution_count": 196,
     "metadata": {},
     "output_type": "execute_result"
    }
   ],
   "source": [
    "dict([('emp1', {'name':'ABC', 'id':101, 'sal':10000}), ('emp2', {'name':'XYZ', 'id':102, 'sal':20000})])"
   ]
  },
  {
   "cell_type": "code",
   "execution_count": 197,
   "metadata": {},
   "outputs": [
    {
     "data": {
      "text/plain": [
       "{1: (10, 'ABC', 101),\n",
       " 2: (20, 'XYZ', 102),\n",
       " 3: (30, 'MNO', 103),\n",
       " 4: (40, 'ks', 29)}"
      ]
     },
     "execution_count": 197,
     "metadata": {},
     "output_type": "execute_result"
    }
   ],
   "source": [
    "lst1 = [1,2,3,4]\n",
    "lst2 = [10,20,30,40]\n",
    "lst3 = ['ABC', 'XYZ', 'MNO','ks']\n",
    "lst4 = (101, 102, 103,29)\n",
    "dict(zip(lst1, zip(lst2, lst3, lst4)))"
   ]
  },
  {
   "cell_type": "markdown",
   "metadata": {},
   "source": [
    "##### Dictionary Comprehension\n",
    "syntax - {key:expr for loop if cond}"
   ]
  },
  {
   "cell_type": "code",
   "execution_count": 198,
   "metadata": {},
   "outputs": [
    {
     "data": {
      "text/plain": [
       "{2: 4, 4: 16, 6: 36, 8: 64, 10: 100}"
      ]
     },
     "execution_count": 198,
     "metadata": {},
     "output_type": "execute_result"
    }
   ],
   "source": [
    "{num:num**2 for num in range(1,11) if num%2==0}"
   ]
  },
  {
   "cell_type": "code",
   "execution_count": 199,
   "metadata": {},
   "outputs": [
    {
     "name": "stdout",
     "output_type": "stream",
     "text": [
      "{'emp1': {'name': 'ABC', 'sal': 10000, 'id': 101}, 'emp2': {'name': 'XYZ', 'id': 102, 'sal': 20000}} 140624557131968\n",
      "\n",
      "{'emp1': {'name': 'ABC', 'sal': 10000, 'id': 110}, 'emp2': {'name': 'XYZ', 'id': 102, 'sal': 20000}} 140624557131968\n"
     ]
    }
   ],
   "source": [
    "# Dictionary is mutable data structure\n",
    "\n",
    "emp_info = {'emp1':{'name':'ABC', 'sal':10000, 'id':101},'emp2':{'name':'XYZ',  'id':102, 'sal':20000}}\n",
    "\n",
    "# Assignment is possible\n",
    "print(emp_info, id(emp_info))\n",
    "emp_info['emp1']['id'] = 110\n",
    "print()\n",
    "print(emp_info, id(emp_info))"
   ]
  },
  {
   "cell_type": "code",
   "execution_count": 200,
   "metadata": {},
   "outputs": [
    {
     "name": "stdout",
     "output_type": "stream",
     "text": [
      "['__class__', '__class_getitem__', '__contains__', '__delattr__', '__delitem__', '__dir__', '__doc__', '__eq__', '__format__', '__ge__', '__getattribute__', '__getitem__', '__gt__', '__hash__', '__init__', '__init_subclass__', '__ior__', '__iter__', '__le__', '__len__', '__lt__', '__ne__', '__new__', '__or__', '__reduce__', '__reduce_ex__', '__repr__', '__reversed__', '__ror__', '__setattr__', '__setitem__', '__sizeof__', '__str__', '__subclasshook__', 'clear', 'copy', 'fromkeys', 'get', 'items', 'keys', 'pop', 'popitem', 'setdefault', 'update', 'values']\n"
     ]
    }
   ],
   "source": [
    "print(dir(dict))"
   ]
  },
  {
   "cell_type": "code",
   "execution_count": 201,
   "metadata": {},
   "outputs": [
    {
     "data": {
      "text/plain": [
       "('clear',\n",
       " 'copy',\n",
       " 'fromkeys',\n",
       " 'get',\n",
       " 'items',\n",
       " 'keys',\n",
       " 'pop',\n",
       " 'popitem',\n",
       " 'setdefault',\n",
       " 'update',\n",
       " 'values')"
      ]
     },
     "execution_count": 201,
     "metadata": {},
     "output_type": "execute_result"
    }
   ],
   "source": [
    "'clear', 'copy', 'fromkeys', 'get', 'items', 'keys', 'pop', 'popitem', 'setdefault', 'update', 'values'"
   ]
  },
  {
   "cell_type": "code",
   "execution_count": 202,
   "metadata": {},
   "outputs": [
    {
     "ename": "KeyError",
     "evalue": "'emp3'",
     "output_type": "error",
     "traceback": [
      "\u001b[0;31m---------------------------------------------------------------------------\u001b[0m",
      "\u001b[0;31mKeyError\u001b[0m                                  Traceback (most recent call last)",
      "\u001b[0;32m/var/folders/04/6bn8n4t50h182h2pmshrg70m0000gn/T/ipykernel_3304/2437363966.py\u001b[0m in \u001b[0;36m<module>\u001b[0;34m\u001b[0m\n\u001b[1;32m      4\u001b[0m \u001b[0;34m\u001b[0m\u001b[0m\n\u001b[1;32m      5\u001b[0m \u001b[0memp_info\u001b[0m \u001b[0;34m=\u001b[0m \u001b[0;34m{\u001b[0m\u001b[0;34m'emp1'\u001b[0m\u001b[0;34m:\u001b[0m\u001b[0;34m{\u001b[0m\u001b[0;34m'name'\u001b[0m\u001b[0;34m:\u001b[0m\u001b[0;34m'ABC'\u001b[0m\u001b[0;34m,\u001b[0m \u001b[0;34m'sal'\u001b[0m\u001b[0;34m:\u001b[0m\u001b[0;36m10000\u001b[0m\u001b[0;34m,\u001b[0m \u001b[0;34m'id'\u001b[0m\u001b[0;34m:\u001b[0m\u001b[0;36m101\u001b[0m\u001b[0;34m}\u001b[0m\u001b[0;34m,\u001b[0m\u001b[0;34m'emp2'\u001b[0m\u001b[0;34m:\u001b[0m\u001b[0;34m{\u001b[0m\u001b[0;34m'name'\u001b[0m\u001b[0;34m:\u001b[0m\u001b[0;34m'XYZ'\u001b[0m\u001b[0;34m,\u001b[0m  \u001b[0;34m'id'\u001b[0m\u001b[0;34m:\u001b[0m\u001b[0;36m102\u001b[0m\u001b[0;34m,\u001b[0m \u001b[0;34m'sal'\u001b[0m\u001b[0;34m:\u001b[0m\u001b[0;36m20000\u001b[0m\u001b[0;34m}\u001b[0m\u001b[0;34m}\u001b[0m\u001b[0;34m\u001b[0m\u001b[0;34m\u001b[0m\u001b[0m\n\u001b[0;32m----> 6\u001b[0;31m \u001b[0mprint\u001b[0m\u001b[0;34m(\u001b[0m\u001b[0memp_info\u001b[0m\u001b[0;34m[\u001b[0m\u001b[0;34m'emp3'\u001b[0m\u001b[0;34m]\u001b[0m\u001b[0;34m)\u001b[0m\u001b[0;34m\u001b[0m\u001b[0;34m\u001b[0m\u001b[0m\n\u001b[0m\u001b[1;32m      7\u001b[0m \u001b[0;31m# print(emp_info.get('emp2'))\u001b[0m\u001b[0;34m\u001b[0m\u001b[0;34m\u001b[0m\u001b[0m\n",
      "\u001b[0;31mKeyError\u001b[0m: 'emp3'"
     ]
    }
   ],
   "source": [
    "# get - used to access the value assiciated with key and if key is not present then it return None instead of keyError\n",
    "# and if you pass the second argument then it retruns the second args as a result if key is not present\n",
    "# it does not make any change to the dictionary\n",
    "\n",
    "emp_info = {'emp1':{'name':'ABC', 'sal':10000, 'id':101},'emp2':{'name':'XYZ',  'id':102, 'sal':20000}}\n",
    "print(emp_info['emp3'])\n",
    "# print(emp_info.get('emp2'))"
   ]
  },
  {
   "cell_type": "code",
   "execution_count": 203,
   "metadata": {},
   "outputs": [
    {
     "name": "stdout",
     "output_type": "stream",
     "text": [
      "None\n",
      "{'name': 'XYZ', 'id': 102, 'sal': 20000}\n"
     ]
    }
   ],
   "source": [
    "# get - used to access the value assiciated with key and if key is not present then it return None instead of keyError\n",
    "# and if you pass the second argument then it retruns the second args as a result if key is not present\n",
    "# it does not make any change to the dictionary\n",
    "\n",
    "emp_info = {'emp1':{'name':'ABC', 'sal':10000, 'id':101},'emp2':{'name':'XYZ',  'id':102, 'sal':20000}}\n",
    "print(emp_info.get('emp3'))\n",
    "print(emp_info.get('emp2'))"
   ]
  },
  {
   "cell_type": "code",
   "execution_count": 204,
   "metadata": {},
   "outputs": [
    {
     "name": "stdout",
     "output_type": "stream",
     "text": [
      "emp4 This key is not present\n"
     ]
    }
   ],
   "source": [
    "key = 'emp4'\n",
    "print(emp_info.get(key, f'{key} This key is not present'))"
   ]
  },
  {
   "cell_type": "code",
   "execution_count": 205,
   "metadata": {},
   "outputs": [
    {
     "name": "stdout",
     "output_type": "stream",
     "text": [
      "10000\n"
     ]
    }
   ],
   "source": [
    "print(emp_info.get('emp1').get('sal'))"
   ]
  },
  {
   "cell_type": "code",
   "execution_count": 206,
   "metadata": {},
   "outputs": [
    {
     "name": "stdout",
     "output_type": "stream",
     "text": [
      "{'name': 'ABC', 'sal': 10000, 'id': 101}\n",
      "None\n",
      "{'emp1': {'name': 'ABC', 'sal': 10000, 'id': 101}, 'emp2': {'name': 'XYZ', 'id': 102, 'sal': 20000}, 'emp3': None}\n"
     ]
    }
   ],
   "source": [
    "# setdefault - is similar to get method\n",
    "# used to access the value assiciated with key and if key is not present then it return None instead of keyError\n",
    "# and if you pass the second argument then it retruns the second args as a result if key is not present\n",
    "# it updates the dictionary with key which you have passed as 1st arg and value which you have passed as 2nd arg\n",
    "\n",
    "emp_info = {'emp1':{'name':'ABC', 'sal':10000, 'id':101},'emp2':{'name':'XYZ',  'id':102, 'sal':20000}}\n",
    "print(emp_info.setdefault('emp1'))\n",
    "print(emp_info.setdefault('emp3'))                   # if key not present then None value assign to key\n",
    "print(emp_info)"
   ]
  },
  {
   "cell_type": "code",
   "execution_count": 207,
   "metadata": {},
   "outputs": [
    {
     "name": "stdout",
     "output_type": "stream",
     "text": [
      "{'emp1': {'name': 'ABC', 'sal': 10000, 'id': 101}, 'emp2': {'name': 'XYZ', 'id': 102, 'sal': 20000}, 'emp3': {'name': 'PQR', 'sal': 30000, 'id': 103}}\n"
     ]
    }
   ],
   "source": [
    "# update - similar to extend methods in list\n",
    "# It updates one dictionary into another\n",
    "\n",
    "main_emp_info = {'emp1':{'name':'ABC', 'sal':10000, 'id':101},'emp2':{'name':'XYZ',  'id':102, 'sal':20000}}\n",
    "sub_emp_info = {'emp3':{'name':'PQR', 'sal':30000, 'id':103}}\n",
    "# Updating sub_emp_info into main_emp_info\n",
    "main_emp_info.update(sub_emp_info)\n",
    "print(main_emp_info)"
   ]
  },
  {
   "cell_type": "code",
   "execution_count": 208,
   "metadata": {},
   "outputs": [
    {
     "name": "stdout",
     "output_type": "stream",
     "text": [
      "{'name': 'XYZ', 'id': 102, 'sal': 20000}\n",
      "{'emp1': {'name': 'ABC', 'sal': 10000, 'id': 101}}\n"
     ]
    }
   ],
   "source": [
    "# 'pop' - pop(key, [val]) - it removes the key value pair from the dictionary and returns the value which it has removed\n",
    "# if key is not present then gives\n",
    "# keyerror if 2nd arg is not passed and if 2nd arguments is passed then it will give you the output as whatever \n",
    "# message you have [passed as 2nd arg]\n",
    "\n",
    "main_emp_info = {'emp1':{'name':'ABC', 'sal':10000, 'id':101},'emp2':{'name':'XYZ',  'id':102, 'sal':20000}}\n",
    "print(main_emp_info.pop('emp2'))\n",
    "print(main_emp_info)"
   ]
  },
  {
   "cell_type": "code",
   "execution_count": 209,
   "metadata": {},
   "outputs": [
    {
     "ename": "KeyError",
     "evalue": "'emp3'",
     "output_type": "error",
     "traceback": [
      "\u001b[0;31m---------------------------------------------------------------------------\u001b[0m",
      "\u001b[0;31mKeyError\u001b[0m                                  Traceback (most recent call last)",
      "\u001b[0;32m/var/folders/04/6bn8n4t50h182h2pmshrg70m0000gn/T/ipykernel_3304/413409258.py\u001b[0m in \u001b[0;36m<module>\u001b[0;34m\u001b[0m\n\u001b[0;32m----> 1\u001b[0;31m \u001b[0mprint\u001b[0m\u001b[0;34m(\u001b[0m\u001b[0mmain_emp_info\u001b[0m\u001b[0;34m.\u001b[0m\u001b[0mpop\u001b[0m\u001b[0;34m(\u001b[0m\u001b[0;34m'emp3'\u001b[0m\u001b[0;34m)\u001b[0m\u001b[0;34m)\u001b[0m                \u001b[0;31m# KeyError: 'emp3'\u001b[0m\u001b[0;34m\u001b[0m\u001b[0;34m\u001b[0m\u001b[0m\n\u001b[0m",
      "\u001b[0;31mKeyError\u001b[0m: 'emp3'"
     ]
    }
   ],
   "source": [
    "print(main_emp_info.pop('emp3'))                # KeyError: 'emp3'"
   ]
  },
  {
   "cell_type": "code",
   "execution_count": 210,
   "metadata": {},
   "outputs": [
    {
     "name": "stdout",
     "output_type": "stream",
     "text": [
      "This key is not present\n"
     ]
    }
   ],
   "source": [
    "print(main_emp_info.pop('emp3', 'This key is not present'))"
   ]
  },
  {
   "cell_type": "code",
   "execution_count": 211,
   "metadata": {},
   "outputs": [
    {
     "name": "stdout",
     "output_type": "stream",
     "text": [
      "('emp2', {'name': 'XYZ', 'id': 102, 'sal': 20000})\n"
     ]
    }
   ],
   "source": [
    "# popitem - it removes the last entry from the dictionary and returns the key value pair in form of tuple\n",
    "main_emp_info = {'emp1':{'name':'ABC', 'sal':10000, 'id':101},'emp2':{'name':'XYZ',  'id':102, 'sal':20000}}\n",
    "print(main_emp_info.popitem())"
   ]
  },
  {
   "cell_type": "code",
   "execution_count": 212,
   "metadata": {},
   "outputs": [
    {
     "name": "stdout",
     "output_type": "stream",
     "text": [
      "dict_keys([10, 10.2, (10+20j), None, True, 'a', (1, 2, 3)])\n",
      "dict_values([111, 100.2, (100+20j), True, False, 'Python', [10, 20, 304]])\n",
      "dict_items([(10, 111), (10.2, 100.2), ((10+20j), (100+20j)), (None, True), (True, False), ('a', 'Python'), ((1, 2, 3), [10, 20, 304])])\n"
     ]
    }
   ],
   "source": [
    "d = {10: 100, 10.20:100.20, 10+20j:100+20j, None:True, True:False, 'a':\"Python\", (1,2,3):[10,20,304], 10:111}\n",
    "print(d.keys())\n",
    "print(d.values())\n",
    "print(d.items())"
   ]
  },
  {
   "cell_type": "code",
   "execution_count": 213,
   "metadata": {},
   "outputs": [
    {
     "name": "stdout",
     "output_type": "stream",
     "text": [
      "{}\n"
     ]
    }
   ],
   "source": [
    "# clear method deletes all the items from the dictionary and leaves a empty dictionary behind\n",
    "d = {10: 100, 10.20:100.20, 10+20j:100+20j, None:True, True:False, 'a':\"Python\", (1,2,3):[10,20,304], 10:111}\n",
    "d.clear()\n",
    "print(d)"
   ]
  },
  {
   "cell_type": "code",
   "execution_count": 214,
   "metadata": {},
   "outputs": [
    {
     "name": "stdout",
     "output_type": "stream",
     "text": [
      "{'P': None, 'y': None, 't': None, 'h': None, 'o': None, 'n': None}\n",
      "{10: [1, 2, 3, 'r'], 20: [1, 2, 3, 'r'], 30: [1, 2, 3, 'r'], 40: [1, 2, 3, 'r']}\n"
     ]
    }
   ],
   "source": [
    "# fromkeys - it creates a key value pair from every elemeny of an iterable which is passed asfirst arg\n",
    "# and default value will be set to None as value = None in the definition\n",
    "# if 2nd arg is passed then a dictionary will be created with keys from the ietrable and all keys will \n",
    "# be set to 2nd args as the values\n",
    "d = {}\n",
    "d = d.fromkeys('Python')\n",
    "print(d)\n",
    "d = d.fromkeys([10,20,30,40], [1,2,3,'r'])\n",
    "print(d)"
   ]
  },
  {
   "cell_type": "markdown",
   "metadata": {},
   "source": [
    "# File handling"
   ]
  },
  {
   "cell_type": "markdown",
   "metadata": {},
   "source": [
    "    Types of files\n",
    "        Text File \n",
    "        Binary File"
   ]
  },
  {
   "cell_type": "markdown",
   "metadata": {},
   "source": [
    "    Steps -\n",
    "        Open the file\n",
    "        Do the operation\n",
    "        Close the file"
   ]
  },
  {
   "cell_type": "markdown",
   "metadata": {},
   "source": [
    "    Modes of operation\n",
    "        Read mode - 'r'\n",
    "        Write mode - 'w'\n",
    "        Append mode - 'a'\n",
    "        Read and write - 'r+'\n",
    "        Write and read mode = 'w+'\n",
    "        append and read mode - 'a+'"
   ]
  },
  {
   "cell_type": "raw",
   "metadata": {},
   "source": [
    "Basic syntax\n",
    "f = open('File_name.ext', 'mode')     - returns a file object\n",
    "f.write('String')\n",
    "f.read()                              - the whole content of the file and returns a string object\n",
    "f.close()"
   ]
  },
  {
   "cell_type": "code",
   "execution_count": 215,
   "metadata": {},
   "outputs": [],
   "source": [
    "# Read mode - 'r'\n",
    "# If the file exists then it will open the file in read mode and places the cursor at the begining of the file\n",
    "# If the file does not exists then it will give \"FileNotFoundError\"\n",
    "# You are allowed only to read from the file but not allowed to write into the file"
   ]
  },
  {
   "cell_type": "code",
   "execution_count": 216,
   "metadata": {},
   "outputs": [],
   "source": [
    "# if file does not exist\n",
    "f = open('f1.py', 'r')   # FileNotFoundError: [Errno 2] No such file or directory: 'f1.py'\n",
    "f.close()"
   ]
  },
  {
   "cell_type": "code",
   "execution_count": 217,
   "metadata": {},
   "outputs": [
    {
     "name": "stdout",
     "output_type": "stream",
     "text": [
      "0\n",
      "Hello\n",
      "Hello\n",
      "Hello\n",
      "\n",
      "18\n"
     ]
    }
   ],
   "source": [
    "# If file exists \n",
    "# first create a new f1.py file on same location where this file is present          \n",
    "f = open('f1.py', 'r')\n",
    "print(f.tell())           # # gives current location of cursor\n",
    "print(f.read())           # read file\n",
    "print(f.tell())\n",
    "# print(f.write('Hello'))   # UnsupportedOperation: not writable   -> because we have open this on read mode\n",
    "f.close()                 # close file"
   ]
  },
  {
   "cell_type": "code",
   "execution_count": 218,
   "metadata": {},
   "outputs": [
    {
     "name": "stdout",
     "output_type": "stream",
     "text": [
      "Hello\n",
      "Hello\n",
      "Hello\n",
      "\n"
     ]
    }
   ],
   "source": [
    "f = open(r'//Users//navnathsatre//Downloads//f1.py', 'r')\n",
    "print(f.read())\n",
    "f.close()"
   ]
  },
  {
   "cell_type": "code",
   "execution_count": 219,
   "metadata": {},
   "outputs": [],
   "source": [
    "# Write mode - 'w'\n",
    "# If the file exists then it will open the file in write mode and deletes the content of teh file\n",
    "# if the file does not exists then it will create a file with given name and extension\n",
    "# You are allowed only to write into the file but not allowed to read from the file"
   ]
  },
  {
   "cell_type": "code",
   "execution_count": 220,
   "metadata": {},
   "outputs": [],
   "source": [
    "# if file does not exist\n",
    "f = open('f2.py', 'w')         # create new f2.py file\n",
    "f.close()"
   ]
  },
  {
   "cell_type": "code",
   "execution_count": 221,
   "metadata": {},
   "outputs": [],
   "source": [
    "# If file exists\n",
    "f = open('f2.py', 'w')\n",
    "f.write('Hello')           # write Hello word\n",
    "# print(f.read())            # UnsupportedOperation: not readable  -> because we have open in write mode\n",
    "f.close()"
   ]
  },
  {
   "cell_type": "code",
   "execution_count": 222,
   "metadata": {},
   "outputs": [],
   "source": [
    "# append mode - 'a'\n",
    "# If the file exists then it will open the file in append mode and places the cursor at the end of the file\n",
    "# if the file does not exists then it will create a file with given name and extension\n",
    "# You are allowed only to write into the file but not allowed to read from the file"
   ]
  },
  {
   "cell_type": "code",
   "execution_count": 223,
   "metadata": {},
   "outputs": [
    {
     "name": "stdout",
     "output_type": "stream",
     "text": [
      "5\n"
     ]
    }
   ],
   "source": [
    "# if file exist\n",
    "f = open('f2.py', 'a')\n",
    "print(f.tell())\n",
    "f.write('\\nHello world')\n",
    "# print(f.read())     UnsupportedOperation: not readable\n",
    "f.close()"
   ]
  },
  {
   "cell_type": "code",
   "execution_count": 224,
   "metadata": {},
   "outputs": [],
   "source": [
    "# if file does not exists\n",
    "f = open('f3.py', 'a')                   # create new f3.py file\n",
    "f.close()"
   ]
  },
  {
   "cell_type": "code",
   "execution_count": 225,
   "metadata": {},
   "outputs": [],
   "source": [
    "# Write and read mode - 'w+'\n",
    "# If the file exists then it will open the file in write mode and deletes the content of the file\n",
    "# if the file does not exists then it will create a file with given name and extension\n",
    "# You are allowed to write into the file and also allowed to read from the file"
   ]
  },
  {
   "cell_type": "code",
   "execution_count": 226,
   "metadata": {},
   "outputs": [],
   "source": [
    "# If file does not exists\n",
    "f = open('f4.py', 'w+')                # create new f4.py file\n",
    "f.close()"
   ]
  },
  {
   "cell_type": "code",
   "execution_count": 227,
   "metadata": {},
   "outputs": [
    {
     "name": "stdout",
     "output_type": "stream",
     "text": [
      "0\n",
      "46\n",
      "ryone\n",
      "We are learning File Handling.\n"
     ]
    }
   ],
   "source": [
    "# If file exists\n",
    "f = open('f1.py', 'w+')\n",
    "print(f.tell())\n",
    "f.write('Hello Evevryone\\nWe are learning File Handling.')\n",
    "print(f.tell())\n",
    "f.seek(10)            # take cursor at begining\n",
    "print(f.read())\n",
    "f.close()"
   ]
  },
  {
   "cell_type": "code",
   "execution_count": 228,
   "metadata": {},
   "outputs": [],
   "source": [
    "# read and write - 'r+'\n",
    "# If the file exists then it will open the file in read mode and places the cursor at the begining of the file\n",
    "# if the file does not exists then it will give FileNotFoundError\n",
    "# You are allowed to write into the file and also allowed to read from the file"
   ]
  },
  {
   "cell_type": "code",
   "execution_count": 229,
   "metadata": {},
   "outputs": [
    {
     "ename": "FileNotFoundError",
     "evalue": "[Errno 2] No such file or directory: 'f6.txt'",
     "output_type": "error",
     "traceback": [
      "\u001b[0;31m---------------------------------------------------------------------------\u001b[0m",
      "\u001b[0;31mFileNotFoundError\u001b[0m                         Traceback (most recent call last)",
      "\u001b[0;32m/var/folders/04/6bn8n4t50h182h2pmshrg70m0000gn/T/ipykernel_3304/1122708454.py\u001b[0m in \u001b[0;36m<module>\u001b[0;34m\u001b[0m\n\u001b[1;32m      1\u001b[0m \u001b[0;31m# If file does not exists\u001b[0m\u001b[0;34m\u001b[0m\u001b[0;34m\u001b[0m\u001b[0m\n\u001b[0;32m----> 2\u001b[0;31m \u001b[0mf\u001b[0m \u001b[0;34m=\u001b[0m \u001b[0mopen\u001b[0m\u001b[0;34m(\u001b[0m\u001b[0;34m'f6.txt'\u001b[0m\u001b[0;34m,\u001b[0m \u001b[0;34m'r+'\u001b[0m\u001b[0;34m)\u001b[0m              \u001b[0;31m# FileNotFoundError: [Errno 2] No such file or directory: 'f6.txt'\u001b[0m\u001b[0;34m\u001b[0m\u001b[0;34m\u001b[0m\u001b[0m\n\u001b[0m\u001b[1;32m      3\u001b[0m \u001b[0mf\u001b[0m\u001b[0;34m.\u001b[0m\u001b[0mclose\u001b[0m\u001b[0;34m(\u001b[0m\u001b[0;34m)\u001b[0m\u001b[0;34m\u001b[0m\u001b[0;34m\u001b[0m\u001b[0m\n",
      "\u001b[0;31mFileNotFoundError\u001b[0m: [Errno 2] No such file or directory: 'f6.txt'"
     ]
    }
   ],
   "source": [
    "# If file does not exists\n",
    "f = open('f6.txt', 'r+')              # FileNotFoundError: [Errno 2] No such file or directory: 'f6.txt'\n",
    "f.close()"
   ]
  },
  {
   "cell_type": "code",
   "execution_count": 230,
   "metadata": {},
   "outputs": [
    {
     "name": "stdout",
     "output_type": "stream",
     "text": [
      "0\n",
      "d\n",
      "17\n"
     ]
    }
   ],
   "source": [
    "# If file exists\n",
    "f = open('f2.py', 'r+')\n",
    "print(f.tell())           # gives current location of cursor\n",
    "f.write('\\nHellow World!!!')\n",
    "print(f.read())\n",
    "print(f.tell())\n",
    "f.close()"
   ]
  },
  {
   "cell_type": "code",
   "execution_count": 231,
   "metadata": {},
   "outputs": [],
   "source": [
    "# Append and read mode - 'a+'\n",
    "# If the file exists then it will open the file in append mode and places the cursor at the end of the file\n",
    "# if the file does not exists then it will create a file with given name and extension\n",
    "# You are allowed to write into the file and also allowed to read from the file"
   ]
  },
  {
   "cell_type": "code",
   "execution_count": 232,
   "metadata": {},
   "outputs": [],
   "source": [
    "# if file not exist\n",
    "f = open('f6.py', 'a+')                # create new f6.py file\n",
    "f.close()"
   ]
  },
  {
   "cell_type": "code",
   "execution_count": 233,
   "metadata": {},
   "outputs": [
    {
     "name": "stdout",
     "output_type": "stream",
     "text": [
      "17\n",
      "\n",
      "Hellow World!!!d\n"
     ]
    }
   ],
   "source": [
    "# if file exist\n",
    "f = open('f2.py', 'a+')\n",
    "print(f.tell())\n",
    "f.seek(0)                   \n",
    "print(f.read())\n",
    "f.write('\\nThis is Python class')\n",
    "f.close()"
   ]
  },
  {
   "cell_type": "markdown",
   "metadata": {},
   "source": [
    "    Modes on binary\n",
    "        Read mode - 'rb'\n",
    "        Write mode - 'wb'\n",
    "        Append mode - 'ab'\n",
    "        Read and write - 'rb+'\n",
    "        Write and read mode = 'wb+'\n",
    "        append and read mode - 'ab+'"
   ]
  },
  {
   "cell_type": "code",
   "execution_count": 234,
   "metadata": {},
   "outputs": [],
   "source": [
    "# Methods to do the operation\n",
    "# read() - reads the whole content of the file and returns a string object\n",
    "# read(char) - reads the specified no of characters from current position and returns string\n",
    "# readline() - reads the current line from the current position of the cursor and retruns a string object\n",
    "# readlines() - reads the whole content of the file and retuns a list of string where every element is a \n",
    "               # string and represents a line"
   ]
  },
  {
   "cell_type": "code",
   "execution_count": 235,
   "metadata": {},
   "outputs": [
    {
     "name": "stdout",
     "output_type": "stream",
     "text": [
      "\n",
      "Hellow World!!!d\n",
      "This is Python class <class 'str'>\n"
     ]
    }
   ],
   "source": [
    "f = open('f2.py', 'r')\n",
    "var = f.read()\n",
    "print(var, type(var))\n",
    "f.close()"
   ]
  },
  {
   "cell_type": "code",
   "execution_count": 236,
   "metadata": {},
   "outputs": [
    {
     "name": "stdout",
     "output_type": "stream",
     "text": [
      "ld!!!d\n",
      "Thi <class 'str'>\n"
     ]
    }
   ],
   "source": [
    "f = open('f2.py', 'r')\n",
    "f.seek(11)\n",
    "var = f.read(10)\n",
    "print(var, type(var))\n",
    "f.close()"
   ]
  },
  {
   "cell_type": "code",
   "execution_count": 237,
   "metadata": {},
   "outputs": [
    {
     "name": "stdout",
     "output_type": "stream",
     "text": [
      "Hello Evevryone\n",
      " <class 'str'>\n"
     ]
    }
   ],
   "source": [
    "f = open('f1.py', 'r')\n",
    "var = f.readline()\n",
    "print(var, type(var))\n",
    "f.close()"
   ]
  },
  {
   "cell_type": "code",
   "execution_count": 238,
   "metadata": {},
   "outputs": [
    {
     "name": "stdout",
     "output_type": "stream",
     "text": [
      "['\\n', 'Hellow World!!!d\\n', 'This is Python class'] <class 'list'>\n"
     ]
    }
   ],
   "source": [
    "f = open('f2.py', 'r')\n",
    "var = f.readlines()\n",
    "print(var, type(var))\n",
    "f.close()"
   ]
  },
  {
   "cell_type": "code",
   "execution_count": 239,
   "metadata": {},
   "outputs": [],
   "source": [
    "# Write methods\n",
    "    # write('str')\n",
    "    # writelines(['str1\\n', 'str2\\n', 'str3\\n'])"
   ]
  },
  {
   "cell_type": "code",
   "execution_count": 240,
   "metadata": {},
   "outputs": [
    {
     "name": "stdout",
     "output_type": "stream",
     "text": [
      "27\n",
      "['Hello World\\n', 'Str1\\n', 'str2\\n', 'str3\\n']\n"
     ]
    }
   ],
   "source": [
    "f = open('f3.py', 'w+')\n",
    "f.write('Hello World\\n')\n",
    "f.writelines(['Str1\\n', 'str2\\n', 'str3\\n'])\n",
    "print(f.tell())\n",
    "f.seek(0)\n",
    "print(f.readlines())       # gives list of lines\n",
    "f.close()"
   ]
  },
  {
   "cell_type": "code",
   "execution_count": 241,
   "metadata": {},
   "outputs": [],
   "source": [
    "# with statmenet\n",
    "f = open('f1.py', 'w+')\n",
    "f.write('Hello')\n",
    "f.close()\n",
    "\n",
    "with open('f1.py', 'w+') as file1:\n",
    "    file1.write('Hello\\n')\n",
    "    file1.write('Hello\\n')\n",
    "    file1.write('Hello\\n')"
   ]
  },
  {
   "cell_type": "code",
   "execution_count": 242,
   "metadata": {},
   "outputs": [
    {
     "name": "stdout",
     "output_type": "stream",
     "text": [
      "['_CHUNK_SIZE', '__class__', '__del__', '__delattr__', '__dict__', '__dir__', '__doc__', '__enter__', '__eq__', '__exit__', '__format__', '__ge__', '__getattribute__', '__gt__', '__hash__', '__init__', '__init_subclass__', '__iter__', '__le__', '__lt__', '__ne__', '__new__', '__next__', '__reduce__', '__reduce_ex__', '__repr__', '__setattr__', '__sizeof__', '__str__', '__subclasshook__', '_checkClosed', '_checkReadable', '_checkSeekable', '_checkWritable', '_finalizing', 'buffer', 'close', 'closed', 'detach', 'encoding', 'errors', 'fileno', 'flush', 'isatty', 'line_buffering', 'mode', 'name', 'newlines', 'read', 'readable', 'readline', 'readlines', 'reconfigure', 'seek', 'seekable', 'tell', 'truncate', 'writable', 'write', 'write_through', 'writelines']\n"
     ]
    }
   ],
   "source": [
    "# file properties\n",
    "print(dir(f))"
   ]
  },
  {
   "cell_type": "markdown",
   "metadata": {},
   "source": [
    "# Function"
   ]
  },
  {
   "cell_type": "markdown",
   "metadata": {},
   "source": [
    "    A function is a block of code which only runs when it is called.\n",
    "    You can pass data, known as parameters, into a function.\n",
    "    A function can return data as a result.\n",
    "    \n",
    "    \n",
    "    Note - Function defination is not function execution"
   ]
  },
  {
   "cell_type": "code",
   "execution_count": 243,
   "metadata": {},
   "outputs": [],
   "source": [
    "def my_function():\n",
    "      print(\"Hello from a function\")"
   ]
  },
  {
   "cell_type": "code",
   "execution_count": 244,
   "metadata": {},
   "outputs": [
    {
     "name": "stdout",
     "output_type": "stream",
     "text": [
      "Hello from a function\n"
     ]
    }
   ],
   "source": [
    "def my_function():                 # Function definintion\n",
    "      print(\"Hello from a function\")\n",
    "\n",
    "my_function()                      # Function execution"
   ]
  },
  {
   "cell_type": "markdown",
   "metadata": {},
   "source": [
    "#### Arguments"
   ]
  },
  {
   "cell_type": "markdown",
   "metadata": {},
   "source": [
    "    Information can be passed into functions as arguments.\n",
    "    Arguments are specified after the function name, inside the parentheses. \n",
    "    You can add as many arguments as you want, just separate them with a comma.\n",
    "    \n",
    "    \n",
    "    Note - Arguments are often shortened to args in Python documentations.\n",
    "         - To execute the function we have to call the function"
   ]
  },
  {
   "cell_type": "code",
   "execution_count": 245,
   "metadata": {},
   "outputs": [
    {
     "name": "stdout",
     "output_type": "stream",
     "text": [
      "Navnath is a Data Scientist\n",
      "Shubham is a Data Scientist\n",
      "Akshay is a Data Scientist\n"
     ]
    }
   ],
   "source": [
    "def my_function(firstname):\n",
    "      print(firstname + \" is a Data Scientist\")\n",
    "\n",
    "my_function(\"Navnath\")\n",
    "my_function(\"Shubham\")\n",
    "my_function(\"Akshay\")"
   ]
  },
  {
   "cell_type": "markdown",
   "metadata": {},
   "source": [
    "#### Parameters or Arguments?"
   ]
  },
  {
   "cell_type": "markdown",
   "metadata": {},
   "source": [
    "    From a function's perspective:\n",
    "        A parameter is the variable listed inside the parentheses in the function definition.\n",
    "        An argument is the value that is sent to the function when it is called."
   ]
  },
  {
   "cell_type": "markdown",
   "metadata": {},
   "source": [
    "#### Arbitrary Arguments, *args"
   ]
  },
  {
   "cell_type": "markdown",
   "metadata": {},
   "source": [
    "    If you do not know how many arguments that will be passed into your function, \n",
    "    add a * before the parameter name in the function definition.\n",
    "    \n",
    "    \n",
    "    Note - Arbitrary Arguments are often shortened to *args in Python documentations."
   ]
  },
  {
   "cell_type": "code",
   "execution_count": 246,
   "metadata": {},
   "outputs": [
    {
     "name": "stdout",
     "output_type": "stream",
     "text": [
      "The youngest child is Tobias\n"
     ]
    }
   ],
   "source": [
    "def my_function(*kids):\n",
    "      print(\"The youngest child is \" + kids[1])\n",
    "\n",
    "my_function(\"Emil\", \"Tobias\", \"Linus\")"
   ]
  },
  {
   "cell_type": "markdown",
   "metadata": {},
   "source": [
    "#### Keyword Arguments"
   ]
  },
  {
   "cell_type": "markdown",
   "metadata": {},
   "source": [
    "    You can also send arguments with the key = value syntax.\n",
    "    \n",
    "    Note - The phrase Keyword Arguments are often shortened to kwargs in Python documentations."
   ]
  },
  {
   "cell_type": "code",
   "execution_count": 247,
   "metadata": {},
   "outputs": [
    {
     "name": "stdout",
     "output_type": "stream",
     "text": [
      "The youngest child is Linus\n"
     ]
    }
   ],
   "source": [
    "def my_function(child3, child2, child1):\n",
    "  print(\"The youngest child is \" + child3)\n",
    "\n",
    "my_function(child1 = \"Emil\", child2 = \"Tobias\", child3 = \"Linus\")"
   ]
  },
  {
   "cell_type": "markdown",
   "metadata": {},
   "source": [
    "#### Arbitrary Keyword Arguments, **kwargs"
   ]
  },
  {
   "cell_type": "markdown",
   "metadata": {},
   "source": [
    "    If you do not know how many keyword arguments that will be passed into your function, \n",
    "    add two asterisk: ** before the parameter name in the function definition.\n",
    "    \n",
    "    \n",
    "    Note - Arbitrary Kword Arguments are often shortened to **kwargs in Python documentations."
   ]
  },
  {
   "cell_type": "code",
   "execution_count": 248,
   "metadata": {},
   "outputs": [
    {
     "name": "stdout",
     "output_type": "stream",
     "text": [
      "His last name is Refsnes\n"
     ]
    }
   ],
   "source": [
    "def my_function(**kid):\n",
    "      print(\"His last name is \" + kid[\"lname\"])\n",
    "\n",
    "my_function(fname = \"Tobias\", lname = \"Refsnes\")"
   ]
  },
  {
   "cell_type": "markdown",
   "metadata": {},
   "source": [
    "#### Default Parameter Value"
   ]
  },
  {
   "cell_type": "code",
   "execution_count": 249,
   "metadata": {},
   "outputs": [
    {
     "name": "stdout",
     "output_type": "stream",
     "text": [
      "I am from India\n",
      "I am from India\n"
     ]
    }
   ],
   "source": [
    "def my_function(country = \"India\"):\n",
    "      print(\"I am from \" + country)\n",
    "\n",
    "my_function()\n",
    "my_function(\"India\")"
   ]
  },
  {
   "cell_type": "markdown",
   "metadata": {},
   "source": [
    "#### Return Values\n",
    "    Default return value = None if we donot mention any return statement"
   ]
  },
  {
   "cell_type": "code",
   "execution_count": 250,
   "metadata": {},
   "outputs": [
    {
     "name": "stdout",
     "output_type": "stream",
     "text": [
      "15\n",
      "25\n",
      "45\n"
     ]
    }
   ],
   "source": [
    "def my_function(x):\n",
    "      return 5 * x\n",
    "\n",
    "print(my_function(3))\n",
    "print(my_function(5))\n",
    "print(my_function(9))"
   ]
  },
  {
   "cell_type": "markdown",
   "metadata": {},
   "source": [
    "#### Passing a List as an Argument"
   ]
  },
  {
   "cell_type": "markdown",
   "metadata": {},
   "source": [
    "    You can send any data types of argument to a function (string, number, list, dictionary etc.), \n",
    "    and it will be treated as the same data type inside the function."
   ]
  },
  {
   "cell_type": "code",
   "execution_count": 251,
   "metadata": {},
   "outputs": [
    {
     "name": "stdout",
     "output_type": "stream",
     "text": [
      "apple\n",
      "banana\n",
      "cherry\n",
      "mango\n"
     ]
    }
   ],
   "source": [
    "def my_function(food):\n",
    "      for x in food:\n",
    "            print(x)\n",
    "\n",
    "fruits = [\"apple\", \"banana\", \"cherry\",\"mango\"]\n",
    "\n",
    "my_function(fruits)"
   ]
  },
  {
   "cell_type": "markdown",
   "metadata": {},
   "source": [
    "#### The pass Statement"
   ]
  },
  {
   "cell_type": "markdown",
   "metadata": {},
   "source": [
    "    function definitions cannot be empty, but if you for some reason have a function definition with no content, \n",
    "    put in the pass statement to avoid getting an error."
   ]
  },
  {
   "cell_type": "code",
   "execution_count": 252,
   "metadata": {},
   "outputs": [
    {
     "ename": "IndentationError",
     "evalue": "expected an indented block (2181008725.py, line 2)",
     "output_type": "error",
     "traceback": [
      "\u001b[0;36m  File \u001b[0;32m\"/var/folders/04/6bn8n4t50h182h2pmshrg70m0000gn/T/ipykernel_3304/2181008725.py\"\u001b[0;36m, line \u001b[0;32m2\u001b[0m\n\u001b[0;31m    \u001b[0m\n\u001b[0m    ^\u001b[0m\n\u001b[0;31mIndentationError\u001b[0m\u001b[0;31m:\u001b[0m expected an indented block\n"
     ]
    }
   ],
   "source": [
    "def myfunction():\n",
    "    "
   ]
  },
  {
   "cell_type": "code",
   "execution_count": 253,
   "metadata": {},
   "outputs": [],
   "source": [
    "def myfunction():\n",
    "      pass"
   ]
  },
  {
   "cell_type": "markdown",
   "metadata": {},
   "source": [
    "#### Anonymous Function -  Lambda\n",
    "    Anonymous Function - a function without name\n",
    "        A lambda function can take any number of arguments, but can only have one expression.\n",
    "        \n",
    "        \n",
    "        \n",
    "        Note - Use lambda functions when an anonymous function is required for a short period of time."
   ]
  },
  {
   "cell_type": "markdown",
   "metadata": {},
   "source": [
    "    Syntax - lambda arguments : expression"
   ]
  },
  {
   "cell_type": "code",
   "execution_count": 254,
   "metadata": {},
   "outputs": [
    {
     "name": "stdout",
     "output_type": "stream",
     "text": [
      "15\n"
     ]
    }
   ],
   "source": [
    "x = lambda a : a + 10\n",
    "print(x(5))"
   ]
  },
  {
   "cell_type": "code",
   "execution_count": 255,
   "metadata": {},
   "outputs": [
    {
     "name": "stdout",
     "output_type": "stream",
     "text": [
      "42\n"
     ]
    }
   ],
   "source": [
    "x = lambda a, b,c,d,e : a * b+c+d+e\n",
    "print(x(5,6,3,4,5,))"
   ]
  },
  {
   "cell_type": "code",
   "execution_count": 256,
   "metadata": {},
   "outputs": [
    {
     "name": "stdout",
     "output_type": "stream",
     "text": [
      "13\n"
     ]
    }
   ],
   "source": [
    "x = lambda a, b, c : a + b + c\n",
    "print(x(5, 6, 2))"
   ]
  },
  {
   "cell_type": "code",
   "execution_count": 257,
   "metadata": {},
   "outputs": [
    {
     "name": "stdout",
     "output_type": "stream",
     "text": [
      "22\n",
      "33\n"
     ]
    }
   ],
   "source": [
    "def myfunc(n):\n",
    "      return lambda a : a * n\n",
    "\n",
    "mydoubler = myfunc(2)\n",
    "mytripler = myfunc(3)\n",
    "\n",
    "print(mydoubler(11))\n",
    "print(mytripler(11))"
   ]
  },
  {
   "cell_type": "code",
   "execution_count": 258,
   "metadata": {},
   "outputs": [],
   "source": [
    "# Lambda functions are used along with built-in functions like filter(), map(), reduce etc."
   ]
  },
  {
   "cell_type": "markdown",
   "metadata": {},
   "source": [
    "##### filter\n",
    "    --> Filter function is used to filter a seq and it returns a filter object\n",
    "    --> The seq will shortened\n",
    "    --> filter(fun, seq)"
   ]
  },
  {
   "cell_type": "code",
   "execution_count": 259,
   "metadata": {},
   "outputs": [
    {
     "name": "stdout",
     "output_type": "stream",
     "text": [
      "[4, 6, 8, 12]\n"
     ]
    }
   ],
   "source": [
    "# Program to filter out only the even items from a list\n",
    "my_list = [1, 5, 4, 6, 8, 11, 3, 12]\n",
    "\n",
    "new_list = list(filter(lambda x: (x%2 == 0) , my_list))\n",
    "\n",
    "print(new_list)"
   ]
  },
  {
   "cell_type": "markdown",
   "metadata": {},
   "source": [
    "##### map\n",
    "    --> map is used to map every element of a seq to some value\n",
    "    --> The length of seq will not change\n",
    "    --> map(func, seq)"
   ]
  },
  {
   "cell_type": "code",
   "execution_count": 260,
   "metadata": {},
   "outputs": [
    {
     "name": "stdout",
     "output_type": "stream",
     "text": [
      "[2, 10, 8, 12, 16, 22, 6, 24]\n"
     ]
    }
   ],
   "source": [
    "# Program to double each item in a list using map()\n",
    "\n",
    "my_list = [1, 5, 4, 6, 8, 11, 3, 12]\n",
    "\n",
    "new_list = list(map(lambda x: x * 2, my_list))\n",
    "\n",
    "print(new_list)"
   ]
  },
  {
   "cell_type": "code",
   "execution_count": 261,
   "metadata": {},
   "outputs": [
    {
     "name": "stdout",
     "output_type": "stream",
     "text": [
      "[(9, 1), (11, 2), (4, 3), (3, 5), (5, 11)]\n"
     ]
    }
   ],
   "source": [
    "lst = [(3,5), (5,11), (11,2), (9,1), (4,3)]\n",
    "lst.sort(key = lambda tpl : tpl[-1])\n",
    "print(lst)"
   ]
  },
  {
   "cell_type": "markdown",
   "metadata": {},
   "source": [
    "##### reduce\n",
    "    --> for aggregator function - sum, product, max, min\n",
    "    --> Returns a single value\n",
    "    --> reduce(func, seq)"
   ]
  },
  {
   "cell_type": "code",
   "execution_count": 262,
   "metadata": {},
   "outputs": [
    {
     "name": "stdout",
     "output_type": "stream",
     "text": [
      "[10, 11, 12, 13, 14, 15, 16, 17, 18, 19]\n",
      "sum : 145\n",
      "max : 19\n",
      "min : 10\n"
     ]
    }
   ],
   "source": [
    "lst = list(range(10, 20))\n",
    "print(lst)\n",
    "print(\"sum :\", sum(lst))\n",
    "print(\"max :\", max(lst))\n",
    "print(\"min :\", min(lst))"
   ]
  },
  {
   "cell_type": "code",
   "execution_count": 263,
   "metadata": {},
   "outputs": [],
   "source": [
    "from functools import reduce"
   ]
  },
  {
   "cell_type": "code",
   "execution_count": 264,
   "metadata": {
    "scrolled": true
   },
   "outputs": [
    {
     "name": "stdout",
     "output_type": "stream",
     "text": [
      "sum : 145\n",
      "max : 19\n",
      "min : 10\n"
     ]
    }
   ],
   "source": [
    "import functools\n",
    "lst = list(range(10, 20))\n",
    "print(\"sum :\", reduce(lambda x,y:x+y, lst))\n",
    "print(\"max :\", reduce(lambda x,y:x if x>y else y, lst))\n",
    "print(\"min :\", reduce(lambda x,y:x if x<y else y, lst))"
   ]
  },
  {
   "cell_type": "markdown",
   "metadata": {},
   "source": [
    "### Iterators, Generators and Range"
   ]
  },
  {
   "cell_type": "markdown",
   "metadata": {},
   "source": [
    "##### Iterators"
   ]
  },
  {
   "cell_type": "markdown",
   "metadata": {},
   "source": [
    "    An iterator is an object that contains a countable number of values.\n",
    "    An iterator is an object that can be iterated upon, meaning that you can traverse through all the values.\n",
    "    Technically, in Python, an iterator is an object which implements the iterator protocol, \n",
    "    which consist of the methods __iter__() and __next__()."
   ]
  },
  {
   "cell_type": "markdown",
   "metadata": {},
   "source": [
    "#### Iterator vs Iterable\n",
    "    Lists, tuples, dictionaries, and sets are all iterable objects. \n",
    "    They are iterable containers which you can get an iterator from.\n",
    "    All these objects have a iter() method which is used to get an iterator"
   ]
  },
  {
   "cell_type": "code",
   "execution_count": 265,
   "metadata": {},
   "outputs": [
    {
     "name": "stdout",
     "output_type": "stream",
     "text": [
      "apple\n",
      "banana\n",
      "cherry\n"
     ]
    },
    {
     "ename": "StopIteration",
     "evalue": "",
     "output_type": "error",
     "traceback": [
      "\u001b[0;31m---------------------------------------------------------------------------\u001b[0m",
      "\u001b[0;31mStopIteration\u001b[0m                             Traceback (most recent call last)",
      "\u001b[0;32m/var/folders/04/6bn8n4t50h182h2pmshrg70m0000gn/T/ipykernel_3304/889430052.py\u001b[0m in \u001b[0;36m<module>\u001b[0;34m\u001b[0m\n\u001b[1;32m      5\u001b[0m \u001b[0mprint\u001b[0m\u001b[0;34m(\u001b[0m\u001b[0mnext\u001b[0m\u001b[0;34m(\u001b[0m\u001b[0mmyit\u001b[0m\u001b[0;34m)\u001b[0m\u001b[0;34m)\u001b[0m\u001b[0;34m\u001b[0m\u001b[0;34m\u001b[0m\u001b[0m\n\u001b[1;32m      6\u001b[0m \u001b[0mprint\u001b[0m\u001b[0;34m(\u001b[0m\u001b[0mnext\u001b[0m\u001b[0;34m(\u001b[0m\u001b[0mmyit\u001b[0m\u001b[0;34m)\u001b[0m\u001b[0;34m)\u001b[0m\u001b[0;34m\u001b[0m\u001b[0;34m\u001b[0m\u001b[0m\n\u001b[0;32m----> 7\u001b[0;31m \u001b[0mprint\u001b[0m\u001b[0;34m(\u001b[0m\u001b[0mnext\u001b[0m\u001b[0;34m(\u001b[0m\u001b[0mmyit\u001b[0m\u001b[0;34m)\u001b[0m\u001b[0;34m)\u001b[0m        \u001b[0;31m# when not any iterable object then shows --> StopIteration:\u001b[0m\u001b[0;34m\u001b[0m\u001b[0;34m\u001b[0m\u001b[0m\n\u001b[0m",
      "\u001b[0;31mStopIteration\u001b[0m: "
     ]
    }
   ],
   "source": [
    "mytuple = (\"apple\", \"banana\", \"cherry\")\n",
    "myit = iter(mytuple)\n",
    "\n",
    "print(next(myit))\n",
    "print(next(myit))\n",
    "print(next(myit))\n",
    "print(next(myit))        # when not any iterable object then shows --> StopIteration: "
   ]
  },
  {
   "cell_type": "code",
   "execution_count": 266,
   "metadata": {},
   "outputs": [
    {
     "name": "stdout",
     "output_type": "stream",
     "text": [
      "apple\n",
      "banana\n",
      "cherry\n"
     ]
    }
   ],
   "source": [
    "# We can also use a for loop to iterate through an iterable object:\n",
    "\n",
    "mytuple = (\"apple\", \"banana\", \"cherry\")\n",
    "\n",
    "for x in mytuple:\n",
    "      print(x)\n",
    "\n",
    "\n",
    "# The for loop actually creates an iterator object and executes the next() method for each loop."
   ]
  },
  {
   "cell_type": "markdown",
   "metadata": {},
   "source": [
    "##### Generators"
   ]
  },
  {
   "cell_type": "markdown",
   "metadata": {},
   "source": [
    "#### Generators - is a sequence\n",
    "\n",
    "    It is similar to the normal function defined by the def keyword and uses a yield keyword instead of return. \n",
    "    Or we can say that if the body of any function contains a yield statement, it automatically becomes a generator function"
   ]
  },
  {
   "cell_type": "code",
   "execution_count": 267,
   "metadata": {},
   "outputs": [
    {
     "name": "stdout",
     "output_type": "stream",
     "text": [
      "0\n",
      "2\n",
      "4\n",
      "6\n",
      "8\n"
     ]
    }
   ],
   "source": [
    "def simple():\n",
    "    for i in range(10):  \n",
    "        if(i%2==0):  \n",
    "             yield i  \n",
    "\n",
    "                \n",
    "# Successive Function call using for loop                  \n",
    "for i in simple():  \n",
    "    print(i)  "
   ]
  },
  {
   "cell_type": "code",
   "execution_count": 268,
   "metadata": {},
   "outputs": [
    {
     "name": "stdout",
     "output_type": "stream",
     "text": [
      "10\n",
      "10.2\n",
      "(10+20j)\n",
      "Python\n",
      "True\n",
      "None\n",
      "[10, 20, 30]\n",
      "(1, 2, 3)\n"
     ]
    }
   ],
   "source": [
    "def my_gen():\n",
    "    yield 10\n",
    "    yield 10.20\n",
    "    yield 10+20j\n",
    "    yield 'Python'\n",
    "    yield True\n",
    "    yield None\n",
    "    yield [10,20,30]\n",
    "    yield (1,2,3)\n",
    "    \n",
    "for i in my_gen():\n",
    "    print(i)"
   ]
  },
  {
   "cell_type": "code",
   "execution_count": 269,
   "metadata": {},
   "outputs": [
    {
     "name": "stdout",
     "output_type": "stream",
     "text": [
      "10\n",
      "10.2\n",
      "(10+20j)\n",
      "Python\n",
      "True\n",
      "None\n",
      "[10, 20, 30]\n",
      "(1, 2, 3)\n"
     ]
    },
    {
     "ename": "StopIteration",
     "evalue": "",
     "output_type": "error",
     "traceback": [
      "\u001b[0;31m---------------------------------------------------------------------------\u001b[0m",
      "\u001b[0;31mStopIteration\u001b[0m                             Traceback (most recent call last)",
      "\u001b[0;32m/var/folders/04/6bn8n4t50h182h2pmshrg70m0000gn/T/ipykernel_3304/2592804744.py\u001b[0m in \u001b[0;36m<module>\u001b[0;34m\u001b[0m\n\u001b[1;32m      8\u001b[0m \u001b[0mprint\u001b[0m\u001b[0;34m(\u001b[0m\u001b[0mnext\u001b[0m\u001b[0;34m(\u001b[0m\u001b[0mit_obj\u001b[0m\u001b[0;34m)\u001b[0m\u001b[0;34m)\u001b[0m\u001b[0;34m\u001b[0m\u001b[0;34m\u001b[0m\u001b[0m\n\u001b[1;32m      9\u001b[0m \u001b[0mprint\u001b[0m\u001b[0;34m(\u001b[0m\u001b[0mnext\u001b[0m\u001b[0;34m(\u001b[0m\u001b[0mit_obj\u001b[0m\u001b[0;34m)\u001b[0m\u001b[0;34m)\u001b[0m\u001b[0;34m\u001b[0m\u001b[0;34m\u001b[0m\u001b[0m\n\u001b[0;32m---> 10\u001b[0;31m \u001b[0mprint\u001b[0m\u001b[0;34m(\u001b[0m\u001b[0mnext\u001b[0m\u001b[0;34m(\u001b[0m\u001b[0mit_obj\u001b[0m\u001b[0;34m)\u001b[0m\u001b[0;34m)\u001b[0m             \u001b[0;31m# when not any iterable then shows --> StopIteration:\u001b[0m\u001b[0;34m\u001b[0m\u001b[0;34m\u001b[0m\u001b[0m\n\u001b[0m",
      "\u001b[0;31mStopIteration\u001b[0m: "
     ]
    }
   ],
   "source": [
    "it_obj = iter(my_gen())\n",
    "print(next(it_obj))\n",
    "print(next(it_obj))\n",
    "print(next(it_obj))\n",
    "print(next(it_obj))\n",
    "print(next(it_obj))\n",
    "print(next(it_obj))\n",
    "print(next(it_obj))\n",
    "print(next(it_obj))\n",
    "print(next(it_obj))             # when not any iterable then shows --> StopIteration:"
   ]
  },
  {
   "cell_type": "code",
   "execution_count": 270,
   "metadata": {},
   "outputs": [
    {
     "data": {
      "text/plain": [
       "[10, 10.2, (10+20j), 'Python', True, None, [10, 20, 30], (1, 2, 3)]"
      ]
     },
     "execution_count": 270,
     "metadata": {},
     "output_type": "execute_result"
    }
   ],
   "source": [
    "list(my_gen())"
   ]
  },
  {
   "cell_type": "markdown",
   "metadata": {},
   "source": [
    "##### Range\n",
    "    range - used to create a sequence of number in specific range\n",
    "    range(start, stop, step) - \n",
    "    range(stop) - default strt = 0, step = 1\n",
    "    \n",
    "    \n",
    "    \n",
    "    Step can be postive and negative both - \n",
    "    Step = +ve - It will generate the seq from -inf to +inf (------------------>)\n",
    "    Step = -ve - It will generate the seq from +inf to _inf (<------------------)\n",
    "    step can be +/-1, +/-2, +/-3, +/-4 ...\n",
    "    1 = > every value\n",
    "    2 => every second value\n",
    "    3 = > Every 3rd value"
   ]
  },
  {
   "cell_type": "code",
   "execution_count": 271,
   "metadata": {},
   "outputs": [
    {
     "name": "stdout",
     "output_type": "stream",
     "text": [
      "[0, 1, 2, 3, 4, 5, 6, 7, 8, 9]\n",
      "[0, 1, 2, 3, 4, 5, 6, 7, 8, 9]\n"
     ]
    }
   ],
   "source": [
    "#Generate a seq of nubers from 0 - 10 with changing step size\n",
    "print(list(range(0, 10, 1)))\n",
    "print(list(range(10)))"
   ]
  },
  {
   "cell_type": "code",
   "execution_count": 272,
   "metadata": {},
   "outputs": [
    {
     "name": "stdout",
     "output_type": "stream",
     "text": [
      "[0, 2, 4, 6, 8, 10, 12, 14, 16, 18, 20, 22, 24, 26, 28, 30, 32, 34, 36, 38, 40, 42, 44, 46, 48, 50, 52, 54, 56, 58, 60, 62, 64, 66, 68, 70, 72, 74, 76, 78, 80, 82, 84, 86, 88, 90, 92, 94, 96, 98, 100]\n",
      "[0, 3, 6, 9]\n",
      "[0, 4, 8]\n"
     ]
    }
   ],
   "source": [
    "print(list(range(0, 101, 2)))\n",
    "print(list(range(0, 10, 3)))\n",
    "print(list(range(0, 10, 4)))"
   ]
  },
  {
   "cell_type": "code",
   "execution_count": 273,
   "metadata": {},
   "outputs": [
    {
     "name": "stdout",
     "output_type": "stream",
     "text": [
      "[21, 23, 25, 27, 29, 31, 33, 35, 37, 39, 41, 43, 45, 47, 49]\n",
      "[21, 24, 27, 30, 33, 36, 39, 42, 45, 48]\n",
      "[21, 25, 29, 33, 37, 41, 45, 49]\n"
     ]
    }
   ],
   "source": [
    "print(list(range(21,51, 2)))\n",
    "print(list(range(21,51, 3)))\n",
    "print(list(range(21,51, 4)))"
   ]
  },
  {
   "cell_type": "code",
   "execution_count": 274,
   "metadata": {},
   "outputs": [
    {
     "name": "stdout",
     "output_type": "stream",
     "text": [
      "range(0, -10, -3)\n"
     ]
    }
   ],
   "source": [
    "print(range(0, -10, -3))"
   ]
  },
  {
   "cell_type": "code",
   "execution_count": 275,
   "metadata": {},
   "outputs": [
    {
     "name": "stdout",
     "output_type": "stream",
     "text": [
      "[0, -1, -2, -3, -4, -5, -6, -7, -8, -9]\n",
      "[0, -2, -4, -6, -8]\n"
     ]
    }
   ],
   "source": [
    "print(list(range(0, -10, -1)))\n",
    "print(list(range(0, -10, -2)))"
   ]
  },
  {
   "cell_type": "markdown",
   "metadata": {},
   "source": [
    "## Exception Handling"
   ]
  },
  {
   "attachments": {
    "1.png": {
     "image/png": "[encoded data removed]"
    }
   },
   "cell_type": "markdown",
   "metadata": {},
   "source": [
    "![1.png](attachment:1.png)"
   ]
  },
  {
   "attachments": {
    "2.webp": {
     "image/webp": "[encoded data removed]"
    }
   },
   "cell_type": "markdown",
   "metadata": {},
   "source": [
    "![2.webp](attachment:2.webp)"
   ]
  },
  {
   "cell_type": "code",
   "execution_count": 276,
   "metadata": {},
   "outputs": [],
   "source": [
    "# Type of Error\n",
    "    # Compile Time Error - Syantax Error, Indentation Error - Can not be handled\n",
    "    # Run Time Error - FileNotFoundError, NameError, TypeError, ValueError, ZeroDivisionError etc"
   ]
  },
  {
   "cell_type": "code",
   "execution_count": 277,
   "metadata": {},
   "outputs": [
    {
     "name": "stdout",
     "output_type": "stream",
     "text": [
      "['ArithmeticError', 'AssertionError', 'AttributeError', 'BaseException', 'BlockingIOError', 'BrokenPipeError', 'BufferError', 'BytesWarning', 'ChildProcessError', 'ConnectionAbortedError', 'ConnectionError', 'ConnectionRefusedError', 'ConnectionResetError', 'DeprecationWarning', 'EOFError', 'Ellipsis', 'EnvironmentError', 'Exception', 'False', 'FileExistsError', 'FileNotFoundError', 'FloatingPointError', 'FutureWarning', 'GeneratorExit', 'IOError', 'ImportError', 'ImportWarning', 'IndentationError', 'IndexError', 'InterruptedError', 'IsADirectoryError', 'KeyError', 'KeyboardInterrupt', 'LookupError', 'MemoryError', 'ModuleNotFoundError', 'NameError', 'None', 'NotADirectoryError', 'NotImplemented', 'NotImplementedError', 'OSError', 'OverflowError', 'PendingDeprecationWarning', 'PermissionError', 'ProcessLookupError', 'RecursionError', 'ReferenceError', 'ResourceWarning', 'RuntimeError', 'RuntimeWarning', 'StopAsyncIteration', 'StopIteration', 'SyntaxError', 'SyntaxWarning', 'SystemError', 'SystemExit', 'TabError', 'TimeoutError', 'True', 'TypeError', 'UnboundLocalError', 'UnicodeDecodeError', 'UnicodeEncodeError', 'UnicodeError', 'UnicodeTranslateError', 'UnicodeWarning', 'UserWarning', 'ValueError', 'Warning', 'ZeroDivisionError', '__IPYTHON__', '__build_class__', '__debug__', '__doc__', '__import__', '__loader__', '__name__', '__package__', '__spec__', 'abs', 'all', 'any', 'ascii', 'bin', 'bool', 'breakpoint', 'bytearray', 'bytes', 'callable', 'chr', 'classmethod', 'compile', 'complex', 'copyright', 'credits', 'delattr', 'dict', 'dir', 'display', 'divmod', 'enumerate', 'eval', 'exec', 'execfile', 'filter', 'float', 'format', 'frozenset', 'get_ipython', 'getattr', 'globals', 'hasattr', 'hash', 'help', 'hex', 'id', 'input', 'int', 'isinstance', 'issubclass', 'iter', 'len', 'license', 'list', 'locals', 'map', 'max', 'memoryview', 'min', 'next', 'object', 'oct', 'open', 'ord', 'pow', 'print', 'property', 'range', 'repr', 'reversed', 'round', 'runfile', 'set', 'setattr', 'slice', 'sorted', 'staticmethod', 'str', 'sum', 'super', 'tuple', 'type', 'vars', 'zip']\n"
     ]
    }
   ],
   "source": [
    "print(dir(__builtins__))"
   ]
  },
  {
   "cell_type": "code",
   "execution_count": 279,
   "metadata": {},
   "outputs": [
    {
     "name": "stdout",
     "output_type": "stream",
     "text": [
      "Enter some value: nath\n",
      "Input given by you is incorrect\n"
     ]
    }
   ],
   "source": [
    "try:\n",
    "    a = int(input('Enter some value: '))\n",
    "except:\n",
    "    print('Input given by you is incorrect')\n",
    "else:\n",
    "    print(a)"
   ]
  },
  {
   "cell_type": "code",
   "execution_count": 280,
   "metadata": {},
   "outputs": [
    {
     "name": "stdout",
     "output_type": "stream",
     "text": [
      "File Does not Exist\n",
      "Line 2\n",
      "Line 3\n",
      "Line 4\n",
      "Line 5\n"
     ]
    }
   ],
   "source": [
    "try:\n",
    "    f = open('f9.py', 'r')\n",
    "    print(f.read())\n",
    "    f.close() \n",
    "except:\n",
    "    print('File Does not Exist')\n",
    "    \n",
    "\n",
    "print('Line 2')\n",
    "print('Line 3')\n",
    "print('Line 4')\n",
    "print('Line 5')"
   ]
  },
  {
   "cell_type": "code",
   "execution_count": 281,
   "metadata": {},
   "outputs": [
    {
     "name": "stdout",
     "output_type": "stream",
     "text": [
      "\n",
      "Hellow World!!!d\n",
      "This is Python class\n",
      "Finally Executed\n",
      "Line 2\n",
      "Line 3\n",
      "Line 4\n",
      "Line 5\n"
     ]
    }
   ],
   "source": [
    "try:\n",
    "    f = open('f2.py', 'r')\n",
    "except:\n",
    "    print('File Does not Exist')\n",
    "else:\n",
    "    print(f.read())\n",
    "finally:\n",
    "    print('Finally Executed')\n",
    "    f.close()\n",
    "    \n",
    "print('Line 2')\n",
    "print('Line 3')\n",
    "print('Line 4')\n",
    "print('Line 5')"
   ]
  },
  {
   "cell_type": "code",
   "execution_count": 284,
   "metadata": {},
   "outputs": [
    {
     "name": "stdout",
     "output_type": "stream",
     "text": [
      "Enter 1st number: wfsdv\n",
      "Some Error\n"
     ]
    }
   ],
   "source": [
    "try:\n",
    "    a = eval(input('Enter 1st number: '))\n",
    "    b = eval(input('Enter 2nd number: '))\n",
    "    print(a/b)\n",
    "except ZeroDivisionError as e:\n",
    "    print('Executing ZeroD')\n",
    "    print(e)\n",
    "except TypeError as e:\n",
    "    print(e)\n",
    "except ArithmeticError:\n",
    "    print('Executing Ari')\n",
    "    print(e)\n",
    "except:\n",
    "    print('Some Error')"
   ]
  },
  {
   "cell_type": "markdown",
   "metadata": {},
   "source": [
    "#### Userdefined Exceptions - raise"
   ]
  },
  {
   "cell_type": "code",
   "execution_count": 285,
   "metadata": {},
   "outputs": [],
   "source": [
    "# Using base Exception class\n",
    "class MyException(Exception):\n",
    "    def __init__(self, msg):\n",
    "        self.msg = msg"
   ]
  },
  {
   "cell_type": "code",
   "execution_count": 287,
   "metadata": {},
   "outputs": [
    {
     "name": "stdout",
     "output_type": "stream",
     "text": [
      "Enter an amount: 9068765\n",
      "Over limit\n"
     ]
    }
   ],
   "source": [
    "amt = eval(input('Enter an amount: '))\n",
    "try:\n",
    "    if amt > 49999:\n",
    "        raise MyException('Over limit')\n",
    "except MyException as e:\n",
    "    print(e)"
   ]
  },
  {
   "cell_type": "code",
   "execution_count": 288,
   "metadata": {},
   "outputs": [],
   "source": [
    "# Example"
   ]
  },
  {
   "cell_type": "code",
   "execution_count": 289,
   "metadata": {},
   "outputs": [],
   "source": [
    "def Amount_Deposit(amt):\n",
    "    if amt > 49999:\n",
    "        raise MyException('Need Pan Card')\n",
    "    else:\n",
    "        print('Amount Deposited')\n",
    "        \n",
    "        \n",
    "def submit_pan(pan):\n",
    "    if len(pan) == 10:\n",
    "        print('Thanks for sbmitting the PAN no, we will review your case')\n",
    "    else:\n",
    "        raise MyException('Wrong Pan No')"
   ]
  },
  {
   "cell_type": "code",
   "execution_count": 292,
   "metadata": {},
   "outputs": [
    {
     "name": "stdout",
     "output_type": "stream",
     "text": [
      "Enter an amount: 500000\n",
      "Need Pan Card\n",
      "Enter your PAN: 1342432\n",
      "Wrong Pan No\n"
     ]
    }
   ],
   "source": [
    "try:\n",
    "    amt = eval(input('Enter an amount: '))\n",
    "    Amount_Deposit(amt)\n",
    "except MyException as e:\n",
    "    print(e)\n",
    "    try:\n",
    "        pan = input('Enter your PAN: ')\n",
    "        submit_pan(pan)\n",
    "    except MyException as e:\n",
    "        print(e)"
   ]
  },
  {
   "cell_type": "markdown",
   "metadata": {},
   "source": [
    "### Regular Expression - Regex\n",
    "    A RegEx, or Regular Expression, is a sequence of characters that forms a search pattern.\n",
    "    RegEx can be used to check if a string contains the specified search pattern.\n",
    "    Python has a built-in package called re, which can be used to work with Regular Expressions."
   ]
  },
  {
   "cell_type": "markdown",
   "metadata": {},
   "source": [
    "#### RegEx Functions\n",
    "\n",
    "    findall\t--> Returns a list containing all matches\n",
    "    search\t--> Returns a Match object if there is a match anywhere in the string\n",
    "    split\t--> Returns a list where the string has been split at each match\n",
    "    sub\t    --> Replaces one or many matches with a string"
   ]
  },
  {
   "cell_type": "markdown",
   "metadata": {},
   "source": [
    "##### Metacharacters\n",
    "    []\t---> A set of characters\t\t\n",
    "    \\\t---> Signals a special sequence (can also be used to escape special characters)\t\n",
    "    .\t---> Any character (except newline character)\n",
    "    ^\t---> Starts with\t\t\n",
    "    $\t---> Ends with\t\t\n",
    "    *\t---> Zero or more occurrences\t\n",
    "    +\t---> One or more occurrences\t\t\n",
    "    ?\t---> Zero or one occurrences\t\n",
    "    {}\t---> Exactly the specified number of occurrences\t\t\n",
    "    |\t---> Either or\t\"falls|stays\"\t\n",
    "    ()\t---> Capture and group"
   ]
  },
  {
   "cell_type": "markdown",
   "metadata": {},
   "source": [
    "#### Special Sequences\n",
    "    \\A\t---> Returns a match if the specified characters are at the beginning of the string\t\"\\AThe\"\t\n",
    "    \\b\t---> Returns a match where the specified characters are at the beginning or at the end of a word\n",
    "    (the \"r\" in the beginning is making sure that the string is being treated as a \"raw string\")\tr\"\\bain\"\n",
    "    r\"ain\\b\"\t\n",
    "    \\B\t---> Returns a match where the specified characters are present, but NOT at the beginning (or at the end) of a word\n",
    "    (the \"r\" in the beginning is making sure that the string is being treated as a \"raw string\")\tr\"\\Bain\"\n",
    "    r\"ain\\B\"\t\n",
    "    \\d\t---> Returns a match where the string contains digits (numbers from 0-9)\t\"\\d\"\t\n",
    "    \\D\t---> Returns a match where the string DOES NOT contain digits\t\"\\D\"\t\n",
    "    \\s\t---> Returns a match where the string contains a white space character\t\"\\s\"\t\n",
    "    \\S\t---> Returns a match where the string DOES NOT contain a white space character\t\"\\S\"\t\n",
    "    \\w\t---> Returns a match where the string contains any word characters (characters from a to Z, digits from 0-9, and the underscore _ character)\t\"\\w\"\t\n",
    "    \\W\t---> Returns a match where the string DOES NOT contain any word characters\t\"\\W\"\t\n",
    "    \\Z\t---> Returns a match if the specified characters are at the end of the string\t\"Spain\\Z\""
   ]
  },
  {
   "cell_type": "markdown",
   "metadata": {},
   "source": [
    "#### Sets ---> [ ]\n",
    "    [arn]  ---> Returns a match where one of the specified characters (a, r, or n) are present\t\n",
    "    [a-n]  ---> Returns a match for any lower case character, alphabetically between a and n\t\n",
    "    [^arn]\t---> Returns a match for any character EXCEPT a, r, and n\t\n",
    "    [0123]\t---> Returns a match where any of the specified digits (0, 1, 2, or 3) are present\t\n",
    "    [0-9]\t---> Returns a match for any digit between 0 and 9\t\n",
    "    [0-5][0-9]\t---> Returns a match for any two-digit numbers from 00 and 59\t\n",
    "    [a-zA-Z]\t---> Returns a match for any character alphabetically between a and z, lower case OR upper case\t\n",
    "    [+]\t---> In sets, +, *, ., |, (), $,{} has no special meaning, so [+] means: return a match for any + character in the string"
   ]
  },
  {
   "cell_type": "code",
   "execution_count": 293,
   "metadata": {},
   "outputs": [
    {
     "name": "stdout",
     "output_type": "stream",
     "text": [
      "['ai', 'ai']\n"
     ]
    }
   ],
   "source": [
    "import re\n",
    "\n",
    "txt = \"The rain in Spain\"\n",
    "x = re.findall(\"ai\", txt)\n",
    "print(x)"
   ]
  },
  {
   "cell_type": "code",
   "execution_count": 294,
   "metadata": {},
   "outputs": [
    {
     "name": "stdout",
     "output_type": "stream",
     "text": [
      "['Its', 'Its']\n"
     ]
    }
   ],
   "source": [
    "import re\n",
    "\n",
    "txt = \"\"\"Python is a high-level, general-purpose programming language. \\n\n",
    "        Its design philosophy emphasizes code readability with the use of significant indentation. \\n\n",
    "        Its language constructs and object-oriented approach aim to help programmers write clear, \\n\n",
    "        logical code for small- and large-scale projects\"\"\"\n",
    "x = re.findall(\"Its\", txt)\n",
    "print(x)"
   ]
  },
  {
   "cell_type": "code",
   "execution_count": 296,
   "metadata": {},
   "outputs": [
    {
     "name": "stdout",
     "output_type": "stream",
     "text": [
      "<re.Match object; span=(3, 4), match=' '>\n",
      "The first white-space character is located in position: 3\n"
     ]
    }
   ],
   "source": [
    "import re\n",
    "\n",
    "txt = \"The rain in Spain\"\n",
    "x = re.search(\"\\s\", txt)\n",
    "print(x)\n",
    "print(\"The first white-space character is located in position:\", x.start())"
   ]
  },
  {
   "cell_type": "code",
   "execution_count": 297,
   "metadata": {},
   "outputs": [
    {
     "name": "stdout",
     "output_type": "stream",
     "text": [
      "The rain in Spain\n"
     ]
    }
   ],
   "source": [
    "import re\n",
    "\n",
    "txt = \"The rain in Spain\"\n",
    "x = re.search(r\"\\bS\\w+\", txt)\n",
    "print(x.string)"
   ]
  },
  {
   "cell_type": "code",
   "execution_count": 298,
   "metadata": {},
   "outputs": [
    {
     "name": "stdout",
     "output_type": "stream",
     "text": [
      "Spain\n"
     ]
    }
   ],
   "source": [
    "import re\n",
    "\n",
    "txt = \"The rain in Spain\"\n",
    "x = re.search(r\"\\bS\\w+\", txt)\n",
    "print(x.group())"
   ]
  },
  {
   "cell_type": "code",
   "execution_count": 299,
   "metadata": {},
   "outputs": [
    {
     "name": "stdout",
     "output_type": "stream",
     "text": [
      "The9rain9in9Spain\n"
     ]
    }
   ],
   "source": [
    "import re\n",
    "\n",
    "txt = \"The rain in Spain\"\n",
    "x = re.sub(\"\\s\", \"9\", txt)\n",
    "print(x)"
   ]
  },
  {
   "cell_type": "code",
   "execution_count": 300,
   "metadata": {},
   "outputs": [
    {
     "name": "stdout",
     "output_type": "stream",
     "text": [
      "The rain in India\n"
     ]
    }
   ],
   "source": [
    "import re\n",
    "\n",
    "txt = \"The rain in Spain\"\n",
    "x = re.sub(\"Spain\", \"India\", txt)\n",
    "print(x)"
   ]
  },
  {
   "cell_type": "markdown",
   "metadata": {},
   "source": [
    "## Object Oriented Programming"
   ]
  },
  {
   "cell_type": "markdown",
   "metadata": {},
   "source": [
    "    Programming Paradigm\n",
    "        Programming paradigm where everything is treated as objects.\n",
    "        1. Structured\n",
    "        2. Procedural\n",
    "        3. Functuonal\n",
    "        4. Scripting\n",
    "        5. OOP"
   ]
  },
  {
   "cell_type": "markdown",
   "metadata": {},
   "source": [
    "    Class vs Object\n",
    "    Constructors and self\n",
    "        Types of variables\n",
    "            Class Variables\n",
    "            Instance Variables\n",
    "        Types of Methods\n",
    "            Class methods\n",
    "            Instance Methods\n",
    "            Static Methods\n",
    "        Encapsulation\n",
    "            Setter and Getter\n",
    "            Property\n",
    "        Polymorphism \n",
    "            Duck Typing\n",
    "            Overloading\n",
    "            Overriding\n",
    "        Inheritance\n",
    "            Types of Inheritance\n",
    "            super()\n",
    "            MRO\n",
    "        Abstraction\n",
    "        Interface"
   ]
  },
  {
   "cell_type": "markdown",
   "metadata": {},
   "source": [
    "    Class - Blueprint(its not real entities)\n",
    "    Object - Features and Attributes(it is real entities)"
   ]
  },
  {
   "cell_type": "code",
   "execution_count": 301,
   "metadata": {},
   "outputs": [],
   "source": [
    "# Attribute - Data or variables\n",
    "# Behaviour - Method/function\n",
    "\n",
    "# int class\n",
    "#     Attribute - value\n",
    "#     behaviour - add(), abs(), mul(), sub(), floor()\n",
    "\n",
    "# Eg. Student definition(class)\n",
    "#     Attribute - name, id, marks, addr, rollno, std, sec\n",
    "#     Behaviour - talking(), walking(), sleeping(), eating()"
   ]
  },
  {
   "cell_type": "markdown",
   "metadata": {},
   "source": [
    "    Class - Is a blueprint for an object\n",
    "    Object - is an instance of the class."
   ]
  },
  {
   "cell_type": "code",
   "execution_count": 302,
   "metadata": {},
   "outputs": [],
   "source": [
    "# Class Definition\n",
    "class Student:\n",
    "    ''' This is my First class and we will explore the Object Oriented Programming with this example.'''\n",
    "    pass"
   ]
  },
  {
   "cell_type": "code",
   "execution_count": 303,
   "metadata": {},
   "outputs": [
    {
     "name": "stdout",
     "output_type": "stream",
     "text": [
      "<__main__.Student object at 0x7fe5b4c32fd0> <class '__main__.Student'>\n"
     ]
    }
   ],
   "source": [
    "# Instantitation or object creation\n",
    "st1 = Student()\n",
    "st2 = Student()\n",
    "st3 = Student()\n",
    "print(st1, type(st1))"
   ]
  },
  {
   "cell_type": "code",
   "execution_count": 304,
   "metadata": {},
   "outputs": [
    {
     "name": "stdout",
     "output_type": "stream",
     "text": [
      " This is my First class and we will explore the Object Oriented Programming with this example.\n"
     ]
    }
   ],
   "source": [
    "# Accessing the documentation\n",
    "print(Student.__doc__)"
   ]
  },
  {
   "cell_type": "code",
   "execution_count": 305,
   "metadata": {},
   "outputs": [
    {
     "name": "stdout",
     "output_type": "stream",
     "text": [
      "Navnath\n",
      "Roshni\n",
      "Abdul\n"
     ]
    }
   ],
   "source": [
    "# Adding the attribute to the object at outside(not recommended way)\n",
    "st1.name = 'Navnath'\n",
    "st2.name = 'Roshni'\n",
    "st3.name = 'Abdul'\n",
    "\n",
    "print(st1.name)\n",
    "print(st2.name)\n",
    "print(st3.name)"
   ]
  },
  {
   "cell_type": "code",
   "execution_count": 306,
   "metadata": {},
   "outputs": [],
   "source": [
    "# Constructor - Constructor is a method which is called by default when we create the object.\n",
    "# __init__() - constructor\n",
    "# The first argument to the constructor is always 'self'"
   ]
  },
  {
   "cell_type": "code",
   "execution_count": 307,
   "metadata": {},
   "outputs": [],
   "source": [
    "class Student:\n",
    "    def __init__(self, st_name, st_roll_no, st_marks, st_addr, st_std = 'V'):\n",
    "        print(f'Starting the constructor{self}')\n",
    "        self.name = st_name\n",
    "        self.roll_no = st_roll_no\n",
    "        self.marks = st_marks\n",
    "        self.addr = st_addr\n",
    "        self.std = st_std\n",
    "        print(f'Stopping the constructor{self}')"
   ]
  },
  {
   "cell_type": "code",
   "execution_count": 310,
   "metadata": {},
   "outputs": [
    {
     "name": "stdout",
     "output_type": "stream",
     "text": [
      "Starting the constructor<__main__.Student object at 0x7fe5b6062370>\n",
      "Stopping the constructor<__main__.Student object at 0x7fe5b6062370>\n",
      "Abhishek\n",
      "\n",
      "Starting the constructor<__main__.Student object at 0x7fe5b60644f0>\n",
      "Stopping the constructor<__main__.Student object at 0x7fe5b60644f0>\n",
      "102\n",
      "\n",
      "Starting the constructor<__main__.Student object at 0x7fe5b6025490>\n",
      "Stopping the constructor<__main__.Student object at 0x7fe5b6025490>\n",
      "99\n"
     ]
    }
   ],
   "source": [
    "st1 = Student('Abhishek', 101, 99, 'BLR', 'V')\n",
    "print(st1.name)\n",
    "print()\n",
    "st2 = Student('Aniket', 102, 98, 'CHN', 'VI')\n",
    "print(st2.roll_no)\n",
    "print()\n",
    "st3 = Student('Anshu', 103, 99, 'KOL', 'VI')\n",
    "print(st3.marks)"
   ]
  },
  {
   "cell_type": "code",
   "execution_count": 311,
   "metadata": {},
   "outputs": [
    {
     "name": "stdout",
     "output_type": "stream",
     "text": [
      "Abhishek\n",
      "101\n",
      "\n",
      "Aniket\n",
      "102\n",
      "\n",
      "Anshu\n",
      "103\n"
     ]
    }
   ],
   "source": [
    "print(st1.name)\n",
    "print(st1.roll_no)\n",
    "print()\n",
    "print(st2.name)\n",
    "print(st2.roll_no)\n",
    "print()\n",
    "print(st3.name)\n",
    "print(st3.roll_no)"
   ]
  },
  {
   "cell_type": "code",
   "execution_count": 312,
   "metadata": {},
   "outputs": [],
   "source": [
    "# Instance Variable - will be different for each instance\n",
    "# A different copy of instance variable will be shared with each instance of the class.\n",
    "\n",
    "# Class Varibale - a same copy will be shared with each instance of the class\n"
   ]
  },
  {
   "cell_type": "markdown",
   "metadata": {},
   "source": [
    "    Types of Methods\n",
    "        Class methods\n",
    "        Instance Methods\n",
    "        Static Method"
   ]
  },
  {
   "cell_type": "code",
   "execution_count": 313,
   "metadata": {},
   "outputs": [
    {
     "name": "stdout",
     "output_type": "stream",
     "text": [
      "8876543210\n",
      "mathew@gmail.com\n",
      "2\n"
     ]
    }
   ],
   "source": [
    "class Contact:\n",
    "    contact_lst = []\n",
    "    \n",
    "    def __init__(self, name, mob, email):\n",
    "        self.name = name\n",
    "        self.mob = mob\n",
    "        self.email = email\n",
    "        Contact.contact_lst.append(self)\n",
    "    \n",
    "    @classmethod\n",
    "    def contact_info(cls, name):\n",
    "        for i in cls.contact_lst:\n",
    "            if i.name == name:\n",
    "                print(i.mob)\n",
    "                print(i.email)\n",
    "    \n",
    "    @staticmethod\n",
    "    def my_method(a, b):\n",
    "        return a * b\n",
    "\n",
    "    \n",
    "    \n",
    "    \n",
    "c1 = Contact('Bob', 9876543210, 'bob@gmail.com')\n",
    "c2 = Contact('Mathew', 8876543210, 'mathew@gmail.com')\n",
    "\n",
    "Contact.contact_info('Mathew')\n",
    "\n",
    "Contact.my_method(10, 20)\n",
    "\n",
    "print(c1.my_method(1, 2))"
   ]
  },
  {
   "cell_type": "markdown",
   "metadata": {},
   "source": [
    "#### Encapsulation"
   ]
  },
  {
   "cell_type": "code",
   "execution_count": null,
   "metadata": {},
   "outputs": [],
   "source": [
    "# Accessor(Getter) Methods and Mutator(Setter) Methods\n",
    "\n",
    "# Access Modifier - Private, Public, Protected\n",
    "\n",
    "# Private Indentifier - _abc -> Take special care before changing it\n",
    "# Strongly private identifier - __abc - Not accessible easily outside of the class., NameMangling"
   ]
  },
  {
   "cell_type": "code",
   "execution_count": 314,
   "metadata": {},
   "outputs": [
    {
     "name": "stdout",
     "output_type": "stream",
     "text": [
      "Ravi\n",
      "9876543210\n"
     ]
    }
   ],
   "source": [
    "class Employee:\n",
    "    def set_name(self,name):\n",
    "        self.__e_name = name\n",
    "        \n",
    "    def get_name(self):\n",
    "        return self.__e_name\n",
    "    \n",
    "    def set_mob(self,mob):\n",
    "        self.__e_mob = mob\n",
    "        \n",
    "    def get_mob(self):\n",
    "        return self.__e_mob\n",
    "    \n",
    "    def set_email(self,email):\n",
    "        self.__e_email = email\n",
    "        \n",
    "    def get_email(self):\n",
    "        return self.__e_email\n",
    "    \n",
    "e1 = Employee()\n",
    "e1.set_name('Ravi')\n",
    "e1.set_mob(9876543210)\n",
    "print(e1.get_name())\n",
    "print(e1.get_mob())"
   ]
  },
  {
   "cell_type": "markdown",
   "metadata": {},
   "source": [
    "##### Advantages of Encapsulation"
   ]
  },
  {
   "cell_type": "markdown",
   "metadata": {},
   "source": [
    "1. Security: The main advantage of using encapsulation is the security of the data. \n",
    "    Encapsulation protects an object from unauthorized access. \n",
    "    It allows private and protected access levels to prevent accidental data modification.\n",
    "    \n",
    "2. Data Hiding: The user would not be knowing what is going on behind the scene. \n",
    "    They would only be knowing that to modify a data member, call the setter method. \n",
    "    To read a data member, call the getter method. What these setter and getter methods are doing is hidden from them.\n",
    "    \n",
    "3. Simplicity: It simplifies the maintenance of the application by keeping classes \n",
    "    separated and preventing them from tightly coupling with each other.\n",
    "    \n",
    "4. Aesthetics: Bundling data and methods within a class makes code more readable and maintainable"
   ]
  },
  {
   "cell_type": "markdown",
   "metadata": {},
   "source": [
    "#### Inheritance - "
   ]
  },
  {
   "cell_type": "markdown",
   "metadata": {},
   "source": [
    "Inheritance allows us to define a class that inherits all the methods and properties from another class.\n",
    "\n",
    "Parent class is the class being inherited from, also called base class.\n",
    "\n",
    "Child class is the class that inherits from another class, also called derived class.\n",
    "\n",
    "Parent class is also called super class"
   ]
  },
  {
   "cell_type": "code",
   "execution_count": 315,
   "metadata": {},
   "outputs": [
    {
     "name": "stdout",
     "output_type": "stream",
     "text": [
      "sumit deore\n"
     ]
    }
   ],
   "source": [
    "class Person:\n",
    "    def __init__(self, fname, lname):\n",
    "        self.firstname = fname\n",
    "        self.lastname = lname\n",
    "\n",
    "    def printname(self):\n",
    "        print(self.firstname, self.lastname)\n",
    "\n",
    "#Use the Person class to create an object, and then execute the printname method:\n",
    "\n",
    "x = Person(\"sumit\", \"deore\")\n",
    "x.printname()"
   ]
  },
  {
   "cell_type": "code",
   "execution_count": 316,
   "metadata": {},
   "outputs": [],
   "source": [
    "# Create a class named Student, which will inherit the properties and methods from the Person class\n",
    "class Student(Person):\n",
    "      pass"
   ]
  },
  {
   "cell_type": "code",
   "execution_count": 317,
   "metadata": {},
   "outputs": [
    {
     "name": "stdout",
     "output_type": "stream",
     "text": [
      "akshay saykar\n"
     ]
    }
   ],
   "source": [
    "s1 = Student(\"akshay\", \"saykar\")\n",
    "s1.printname()"
   ]
  },
  {
   "cell_type": "code",
   "execution_count": 321,
   "metadata": {},
   "outputs": [],
   "source": [
    "# Adding __init__\n",
    "class Student(Person):\n",
    "    def __init__(self, fname, lname):\n",
    "        pass\n",
    "        #add properties etc"
   ]
  },
  {
   "cell_type": "code",
   "execution_count": 322,
   "metadata": {},
   "outputs": [],
   "source": [
    "# Use the super() Function\n",
    "class Student(Person):\n",
    "    def __init__(self, fname, lname):\n",
    "        super().__init__(fname, lname)"
   ]
  },
  {
   "cell_type": "code",
   "execution_count": 329,
   "metadata": {},
   "outputs": [
    {
     "name": "stdout",
     "output_type": "stream",
     "text": [
      "Mike Olsen\n"
     ]
    }
   ],
   "source": [
    "# adding graduation year\n",
    "class Student(Person):\n",
    "    def __init__(self, fname, lname, year):\n",
    "        super().__init__(fname, lname)\n",
    "        self.graduationyear = year\n",
    "\n",
    "x = Student(\"Mike\", \"Olsen\", 2019)\n",
    "x.printname()"
   ]
  },
  {
   "cell_type": "code",
   "execution_count": 330,
   "metadata": {},
   "outputs": [
    {
     "name": "stdout",
     "output_type": "stream",
     "text": [
      "Constructor in class C\n",
      "Constructor in class B\n",
      "Constructor in class A\n"
     ]
    }
   ],
   "source": [
    "# MultiLevel Inheritance\n",
    "class A():\n",
    "    def __init__(self):\n",
    "        print('Constructor in class A')\n",
    "\n",
    "class B(A):\n",
    "    def __init__(self):\n",
    "        print('Constructor in class B')\n",
    "        super().__init__()\n",
    "        \n",
    "class C(B):\n",
    "    def __init__(self):\n",
    "        print('Constructor in class C')\n",
    "        super().__init__()\n",
    "\n",
    "c1 = C()"
   ]
  },
  {
   "cell_type": "code",
   "execution_count": 331,
   "metadata": {},
   "outputs": [],
   "source": [
    "# Note Every class in Python Inherits Object class which is built-in class\n",
    "# Default constructor which NULL constructor"
   ]
  },
  {
   "cell_type": "code",
   "execution_count": 332,
   "metadata": {},
   "outputs": [
    {
     "name": "stdout",
     "output_type": "stream",
     "text": [
      "Constructor in class C\n",
      "Constructor in class A\n",
      "Constructor in class B\n",
      "Constructor in class D\n"
     ]
    },
    {
     "data": {
      "text/plain": [
       "[__main__.C, __main__.A, __main__.B, __main__.D, object]"
      ]
     },
     "execution_count": 332,
     "metadata": {},
     "output_type": "execute_result"
    }
   ],
   "source": [
    "# Multpile Inheritance\n",
    "class A:\n",
    "    def __init__(self):\n",
    "        print('Constructor in class A')\n",
    "        super().__init__()\n",
    "\n",
    "class B:\n",
    "    def __init__(self):\n",
    "        print('Constructor in class B')\n",
    "        super().__init__()\n",
    "        \n",
    "class D:\n",
    "    def __init__(self):\n",
    "        print('Constructor in class D')\n",
    "        \n",
    "class C(A,B,D):\n",
    "    def __init__(self):\n",
    "        print('Constructor in class C')\n",
    "        super().__init__()\n",
    "    \n",
    "\n",
    "c1 = C()\n",
    "\n",
    "C.mro()                 #mro - method resolution order"
   ]
  },
  {
   "cell_type": "code",
   "execution_count": 333,
   "metadata": {},
   "outputs": [],
   "source": [
    "# Polymorphism - Used for overload and overriding\n",
    "\n",
    "# poly - many\n",
    "# morphism - form\n",
    "\n",
    "#     + - numbers - addition\n",
    "#     + - string - concatenation"
   ]
  },
  {
   "cell_type": "markdown",
   "metadata": {},
   "source": [
    "    # Duck Typing\n",
    "\n",
    "    # Overloading\n",
    "        1. Operator Overloading\n",
    "        2. Method Overloading\n",
    "        3. Constructor Overloading\n",
    "\n",
    "    # Overriding\n",
    "        1. Method Overriding\n",
    "        2. Construtor Overriding"
   ]
  },
  {
   "cell_type": "code",
   "execution_count": 334,
   "metadata": {},
   "outputs": [],
   "source": [
    "# Duck typing - \n",
    "#     Duck typing is a concept related to dynamic typing, where the type or the class of an object is \n",
    "#         less important than the methods it defines. When you use duck typing, you do not check types at all. \n",
    "#     Instead, you check for the presence of a given method or attribute."
   ]
  },
  {
   "cell_type": "code",
   "execution_count": 335,
   "metadata": {},
   "outputs": [],
   "source": [
    "# How you can say an object is a duck?\n",
    "# If object walks like a duck, talks like a duck, swims like a duck"
   ]
  },
  {
   "cell_type": "code",
   "execution_count": 336,
   "metadata": {},
   "outputs": [
    {
     "name": "stdout",
     "output_type": "stream",
     "text": [
      "4300\n"
     ]
    }
   ],
   "source": [
    "# Operator Overloading\n",
    "\n",
    "# print(dir(str))\n",
    "\n",
    "class Mobile:\n",
    "    def __init__(self, no_of_units_per_day, total_work_days):\n",
    "        self.no_days = no_of_units_per_day\n",
    "        self.days = total_work_days\n",
    "        self.total_unit_month = self.no_days * self.days\n",
    "        \n",
    "    def __add__(self, other):\n",
    "        return self.total_unit_month + other.total_unit_month\n",
    "    \n",
    "        \n",
    "samsung = Mobile(100, 21)\n",
    "nokia = Mobile(110, 20)\n",
    "\n",
    "print(samsung + nokia)"
   ]
  },
  {
   "cell_type": "code",
   "execution_count": 337,
   "metadata": {},
   "outputs": [
    {
     "name": "stdout",
     "output_type": "stream",
     "text": [
      "m1 with 2 arg\n"
     ]
    }
   ],
   "source": [
    "# Method Overloading\n",
    "\n",
    "class A:\n",
    "    def m1():\n",
    "        print('m1 without arg')\n",
    "    def m1(a):\n",
    "        print('m1 with 1 arg')\n",
    "    def m1(a, b):\n",
    "        print('m1 with 2 arg')\n",
    "        \n",
    "a = A()\n",
    "a.m1(6)"
   ]
  },
  {
   "cell_type": "code",
   "execution_count": 338,
   "metadata": {},
   "outputs": [
    {
     "name": "stdout",
     "output_type": "stream",
     "text": [
      "Python\n"
     ]
    }
   ],
   "source": [
    "a = 10          \n",
    "a = 'Python'\n",
    "print(a)"
   ]
  },
  {
   "cell_type": "code",
   "execution_count": 339,
   "metadata": {},
   "outputs": [
    {
     "name": "stdout",
     "output_type": "stream",
     "text": [
      "m1 with no arg\n",
      "m1 with 1 arg\n",
      "m1 with 2 arg\n",
      "m1 with 2 arg\n"
     ]
    }
   ],
   "source": [
    "class A:\n",
    "    def m1(self, a = None, b = None):\n",
    "        if (a != None) and (b != None):\n",
    "            print('m1 with 2 arg')\n",
    "        elif (a!= None) or (b!=None):\n",
    "            print('m1 with 1 arg')\n",
    "        else:\n",
    "            print('m1 with no arg')\n",
    "            \n",
    "a = A()\n",
    "a.m1()\n",
    "a.m1(10)\n",
    "a.m1(10, 20)\n",
    "a.m1(0, 0)"
   ]
  },
  {
   "cell_type": "code",
   "execution_count": 340,
   "metadata": {},
   "outputs": [
    {
     "name": "stdout",
     "output_type": "stream",
     "text": [
      "Constrctor with 2 arg\n"
     ]
    }
   ],
   "source": [
    "# Constructor overloading\n",
    "class A:    \n",
    "    def __init__(self, a= None, b= None):\n",
    "        print('Constrctor with 2 arg')\n",
    "        \n",
    "a = A(10, 20)\n"
   ]
  },
  {
   "cell_type": "code",
   "execution_count": 341,
   "metadata": {},
   "outputs": [
    {
     "name": "stdout",
     "output_type": "stream",
     "text": [
      "Constructr in class B\n",
      "constructor in class A\n"
     ]
    }
   ],
   "source": [
    "# Overriding\n",
    "    # Constructor overruding\n",
    "    \n",
    "class A:\n",
    "    def __init__(self, a, b):\n",
    "        print('constructor in class A')\n",
    "        \n",
    "class B(A):\n",
    "    def __init__(self, x,y,z):\n",
    "        print('Constructr in class B')\n",
    "        super().__init__(y,z)\n",
    "\n",
    "b = B(10,20, 30)"
   ]
  },
  {
   "cell_type": "code",
   "execution_count": 342,
   "metadata": {},
   "outputs": [
    {
     "name": "stdout",
     "output_type": "stream",
     "text": [
      "m1 in class C\n",
      "m1 in class A\n",
      "m1 in class B\n"
     ]
    },
    {
     "data": {
      "text/plain": [
       "[__main__.C, __main__.A, __main__.B, object]"
      ]
     },
     "execution_count": 342,
     "metadata": {},
     "output_type": "execute_result"
    }
   ],
   "source": [
    "# Method Overridng\n",
    "\n",
    "class A:\n",
    "    def m1(self):\n",
    "        print('m1 in class A')\n",
    "        super().m1()\n",
    "\n",
    "class B:\n",
    "    def m1(self):\n",
    "        print('m1 in class B')\n",
    "#         super().m1()\n",
    "    \n",
    "        \n",
    "class C(A, B):\n",
    "    def m1(self):\n",
    "        print('m1 in class C')\n",
    "        super().m1()\n",
    "        \n",
    "c = C()\n",
    "c.m1()\n",
    "\n",
    "C.mro()"
   ]
  },
  {
   "cell_type": "code",
   "execution_count": 345,
   "metadata": {},
   "outputs": [
    {
     "name": "stdout",
     "output_type": "stream",
     "text": [
      "C\n",
      "A\n",
      "B\n"
     ]
    },
    {
     "data": {
      "text/plain": [
       "[__main__.C, __main__.A, __main__.B, object]"
      ]
     },
     "execution_count": 345,
     "metadata": {},
     "output_type": "execute_result"
    }
   ],
   "source": [
    "class A:\n",
    "    def __init__(self):\n",
    "        print('A')\n",
    "        super().__init__()\n",
    "        \n",
    "class B:\n",
    "    def __init__(self):\n",
    "        print('B')\n",
    "        super().__init__()\n",
    "        \n",
    "class C(A,B):\n",
    "    def __init__(self):\n",
    "        print('C')\n",
    "        super().__init__()\n",
    "        \n",
    "c = C()\n",
    "C.mro()"
   ]
  }
 ],
 "metadata": {
  "kernelspec": {
   "display_name": "Python 3 (ipykernel)",
   "language": "python",
   "name": "python3"
  },
  "language_info": {
   "codemirror_mode": {
    "name": "ipython",
    "version": 3
   },
   "file_extension": ".py",
   "mimetype": "text/x-python",
   "name": "python",
   "nbconvert_exporter": "python",
   "pygments_lexer": "ipython3",
   "version": "3.9.7"
  }
 },
 "nbformat": 4,
 "nbformat_minor": 2
}
