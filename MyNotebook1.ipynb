{
 "cells": [
  {
   "cell_type": "markdown",
   "id": "2bec4aef",
   "metadata": {},
   "source": [
    "# Data types"
   ]
  },
  {
   "cell_type": "code",
   "execution_count": 1,
   "id": "ce087dbb",
   "metadata": {},
   "outputs": [],
   "source": [
    "# Introduction to data types"
   ]
  },
  {
   "cell_type": "code",
   "execution_count": 2,
   "id": "d74bca3a",
   "metadata": {},
   "outputs": [],
   "source": [
    "i=10"
   ]
  },
  {
   "cell_type": "code",
   "execution_count": 3,
   "id": "d7519df4",
   "metadata": {},
   "outputs": [
    {
     "data": {
      "text/plain": [
       "int"
      ]
     },
     "execution_count": 3,
     "metadata": {},
     "output_type": "execute_result"
    }
   ],
   "source": [
    "type(i)"
   ]
  },
  {
   "cell_type": "code",
   "execution_count": 4,
   "id": "091f7ef9",
   "metadata": {},
   "outputs": [
    {
     "name": "stdout",
     "output_type": "stream",
     "text": [
      "<class 'int'>\n"
     ]
    }
   ],
   "source": [
    "print(type(i))"
   ]
  },
  {
   "cell_type": "code",
   "execution_count": 5,
   "id": "a4205e40",
   "metadata": {},
   "outputs": [
    {
     "data": {
      "text/plain": [
       "140706453727312"
      ]
     },
     "execution_count": 5,
     "metadata": {},
     "output_type": "execute_result"
    }
   ],
   "source": [
    "id(i)"
   ]
  },
  {
   "cell_type": "code",
   "execution_count": 6,
   "id": "27fb643b",
   "metadata": {},
   "outputs": [
    {
     "data": {
      "text/plain": [
       "10"
      ]
     },
     "execution_count": 6,
     "metadata": {},
     "output_type": "execute_result"
    }
   ],
   "source": [
    "i"
   ]
  },
  {
   "cell_type": "code",
   "execution_count": 7,
   "id": "e6e62b85",
   "metadata": {},
   "outputs": [
    {
     "name": "stdout",
     "output_type": "stream",
     "text": [
      "10\n"
     ]
    }
   ],
   "source": [
    "print(i)"
   ]
  },
  {
   "cell_type": "markdown",
   "id": "73bf6dfb",
   "metadata": {},
   "source": [
    "## String\n",
    "* String -  a collection of characters\n",
    "* can be defined using either double or singe quote\n",
    "* IMMUTABLE"
   ]
  },
  {
   "cell_type": "code",
   "execution_count": 8,
   "id": "5e1c8f73",
   "metadata": {},
   "outputs": [],
   "source": [
    "s = \"WELCOME\""
   ]
  },
  {
   "cell_type": "code",
   "execution_count": 9,
   "id": "90e99956",
   "metadata": {},
   "outputs": [
    {
     "name": "stdout",
     "output_type": "stream",
     "text": [
      "<class 'str'>\n"
     ]
    }
   ],
   "source": [
    "print(type(s))"
   ]
  },
  {
   "cell_type": "code",
   "execution_count": 10,
   "id": "78a135c3",
   "metadata": {},
   "outputs": [
    {
     "data": {
      "text/plain": [
       "7"
      ]
     },
     "execution_count": 10,
     "metadata": {},
     "output_type": "execute_result"
    }
   ],
   "source": [
    "len(s)"
   ]
  },
  {
   "cell_type": "code",
   "execution_count": 11,
   "id": "3024e0fc",
   "metadata": {},
   "outputs": [],
   "source": [
    "# Len => is a function, ssame function can be used to find of List, Tuple, Dict... "
   ]
  },
  {
   "cell_type": "markdown",
   "id": "2fe343a0",
   "metadata": {},
   "source": [
    "### Indexing (Positive)"
   ]
  },
  {
   "cell_type": "code",
   "execution_count": 12,
   "id": "7c74a95d",
   "metadata": {},
   "outputs": [],
   "source": [
    "# Idexing start from 0(Zero) to Length - 1\n",
    "# To acces any element, always use subscript operator []"
   ]
  },
  {
   "cell_type": "code",
   "execution_count": 13,
   "id": "b56e9a6a",
   "metadata": {},
   "outputs": [
    {
     "data": {
      "text/plain": [
       "'W'"
      ]
     },
     "execution_count": 13,
     "metadata": {},
     "output_type": "execute_result"
    }
   ],
   "source": [
    "s[0]"
   ]
  },
  {
   "cell_type": "code",
   "execution_count": 14,
   "id": "e0582dc1",
   "metadata": {},
   "outputs": [
    {
     "data": {
      "text/plain": [
       "'E'"
      ]
     },
     "execution_count": 14,
     "metadata": {},
     "output_type": "execute_result"
    }
   ],
   "source": [
    "s[6]"
   ]
  },
  {
   "cell_type": "code",
   "execution_count": 15,
   "id": "6dc124fb",
   "metadata": {},
   "outputs": [
    {
     "ename": "IndexError",
     "evalue": "string index out of range",
     "output_type": "error",
     "traceback": [
      "\u001b[1;31m---------------------------------------------------------------------------\u001b[0m",
      "\u001b[1;31mIndexError\u001b[0m                                Traceback (most recent call last)",
      "\u001b[1;32m<ipython-input-15-a683a3ca67b3>\u001b[0m in \u001b[0;36m<module>\u001b[1;34m\u001b[0m\n\u001b[1;32m----> 1\u001b[1;33m \u001b[0ms\u001b[0m\u001b[1;33m[\u001b[0m\u001b[1;36m7\u001b[0m\u001b[1;33m]\u001b[0m  \u001b[1;31m# out of range\u001b[0m\u001b[1;33m\u001b[0m\u001b[1;33m\u001b[0m\u001b[0m\n\u001b[0m",
      "\u001b[1;31mIndexError\u001b[0m: string index out of range"
     ]
    }
   ],
   "source": [
    "s[7]  # out of range"
   ]
  },
  {
   "cell_type": "code",
   "execution_count": 16,
   "id": "190b9cb0",
   "metadata": {},
   "outputs": [
    {
     "data": {
      "text/plain": [
       "'WELCOME'"
      ]
     },
     "execution_count": 16,
     "metadata": {},
     "output_type": "execute_result"
    }
   ],
   "source": [
    "s"
   ]
  },
  {
   "cell_type": "code",
   "execution_count": 17,
   "id": "263c946b",
   "metadata": {},
   "outputs": [
    {
     "data": {
      "text/plain": [
       "2"
      ]
     },
     "execution_count": 17,
     "metadata": {},
     "output_type": "execute_result"
    }
   ],
   "source": [
    "s.index('L')"
   ]
  },
  {
   "cell_type": "markdown",
   "id": "83aa99c2",
   "metadata": {},
   "source": [
    "### Indexing (Negative)"
   ]
  },
  {
   "cell_type": "code",
   "execution_count": 18,
   "id": "2c99d4d4",
   "metadata": {},
   "outputs": [
    {
     "data": {
      "text/plain": [
       "'E'"
      ]
     },
     "execution_count": 18,
     "metadata": {},
     "output_type": "execute_result"
    }
   ],
   "source": [
    "s[-1]"
   ]
  },
  {
   "cell_type": "code",
   "execution_count": 19,
   "id": "7fb5dfa8",
   "metadata": {},
   "outputs": [
    {
     "data": {
      "text/plain": [
       "'W'"
      ]
     },
     "execution_count": 19,
     "metadata": {},
     "output_type": "execute_result"
    }
   ],
   "source": [
    "s[-7]"
   ]
  },
  {
   "cell_type": "code",
   "execution_count": 20,
   "id": "0dfb9ef4",
   "metadata": {
    "scrolled": true
   },
   "outputs": [
    {
     "ename": "IndexError",
     "evalue": "string index out of range",
     "output_type": "error",
     "traceback": [
      "\u001b[1;31m---------------------------------------------------------------------------\u001b[0m",
      "\u001b[1;31mIndexError\u001b[0m                                Traceback (most recent call last)",
      "\u001b[1;32m<ipython-input-20-83dfea2e2fc1>\u001b[0m in \u001b[0;36m<module>\u001b[1;34m\u001b[0m\n\u001b[1;32m----> 1\u001b[1;33m \u001b[0ms\u001b[0m\u001b[1;33m[\u001b[0m\u001b[1;33m-\u001b[0m\u001b[1;36m8\u001b[0m\u001b[1;33m]\u001b[0m  \u001b[1;31m# out of raange\u001b[0m\u001b[1;33m\u001b[0m\u001b[1;33m\u001b[0m\u001b[0m\n\u001b[0m",
      "\u001b[1;31mIndexError\u001b[0m: string index out of range"
     ]
    }
   ],
   "source": [
    "s[-8]  # out of raange"
   ]
  },
  {
   "cell_type": "code",
   "execution_count": 21,
   "id": "62b33f23",
   "metadata": {},
   "outputs": [
    {
     "data": {
      "text/plain": [
       "'WELCOME'"
      ]
     },
     "execution_count": 21,
     "metadata": {},
     "output_type": "execute_result"
    }
   ],
   "source": [
    "s[-10000:]"
   ]
  },
  {
   "cell_type": "markdown",
   "id": "be41c606",
   "metadata": {},
   "source": [
    "### Slicing\n",
    "* Extract a substring from a string\n",
    "* Sytax: StratPos : EndPos : SkipCount/Direction\n",
    "* ByDefault, slicing always works from left to right (unless change by derection)"
   ]
  },
  {
   "cell_type": "code",
   "execution_count": 22,
   "id": "799b7a39",
   "metadata": {},
   "outputs": [
    {
     "data": {
      "text/plain": [
       "'WEL'"
      ]
     },
     "execution_count": 22,
     "metadata": {},
     "output_type": "execute_result"
    }
   ],
   "source": [
    "s[0:3]"
   ]
  },
  {
   "cell_type": "code",
   "execution_count": 23,
   "id": "9c85ed3d",
   "metadata": {},
   "outputs": [
    {
     "data": {
      "text/plain": [
       "'COME'"
      ]
     },
     "execution_count": 23,
     "metadata": {},
     "output_type": "execute_result"
    }
   ],
   "source": [
    "s[3:7]"
   ]
  },
  {
   "cell_type": "code",
   "execution_count": 24,
   "id": "9ea4a721",
   "metadata": {},
   "outputs": [
    {
     "data": {
      "text/plain": [
       "'COME'"
      ]
     },
     "execution_count": 24,
     "metadata": {},
     "output_type": "execute_result"
    }
   ],
   "source": [
    "s[3:]"
   ]
  },
  {
   "cell_type": "code",
   "execution_count": 25,
   "id": "23842af7",
   "metadata": {},
   "outputs": [],
   "source": [
    "# Negative indexing can be used for slicing"
   ]
  },
  {
   "cell_type": "code",
   "execution_count": 26,
   "id": "90394d68",
   "metadata": {},
   "outputs": [
    {
     "data": {
      "text/plain": [
       "'WEL'"
      ]
     },
     "execution_count": 26,
     "metadata": {},
     "output_type": "execute_result"
    }
   ],
   "source": [
    "s[-7:-4]"
   ]
  },
  {
   "cell_type": "code",
   "execution_count": 27,
   "id": "37bdc921",
   "metadata": {},
   "outputs": [
    {
     "data": {
      "text/plain": [
       "'WEL'"
      ]
     },
     "execution_count": 27,
     "metadata": {},
     "output_type": "execute_result"
    }
   ],
   "source": [
    "s[:-4]"
   ]
  },
  {
   "cell_type": "code",
   "execution_count": 28,
   "id": "0ce98c66",
   "metadata": {},
   "outputs": [
    {
     "data": {
      "text/plain": [
       "'WEL'"
      ]
     },
     "execution_count": 28,
     "metadata": {},
     "output_type": "execute_result"
    }
   ],
   "source": [
    "s[-100:3]"
   ]
  },
  {
   "cell_type": "code",
   "execution_count": 29,
   "id": "a3d2e437",
   "metadata": {},
   "outputs": [
    {
     "data": {
      "text/plain": [
       "'WELCOME'"
      ]
     },
     "execution_count": 29,
     "metadata": {},
     "output_type": "execute_result"
    }
   ],
   "source": [
    "s[:]"
   ]
  },
  {
   "cell_type": "code",
   "execution_count": 30,
   "id": "ade431ea",
   "metadata": {},
   "outputs": [
    {
     "ename": "SyntaxError",
     "evalue": "invalid syntax (<ipython-input-30-116f4134c265>, line 1)",
     "output_type": "error",
     "traceback": [
      "\u001b[1;36m  File \u001b[1;32m\"<ipython-input-30-116f4134c265>\"\u001b[1;36m, line \u001b[1;32m1\u001b[0m\n\u001b[1;33m    s[] # not working\u001b[0m\n\u001b[1;37m      ^\u001b[0m\n\u001b[1;31mSyntaxError\u001b[0m\u001b[1;31m:\u001b[0m invalid syntax\n"
     ]
    }
   ],
   "source": [
    "s[] # not working"
   ]
  },
  {
   "cell_type": "code",
   "execution_count": 31,
   "id": "9e85e61a",
   "metadata": {},
   "outputs": [],
   "source": [
    "# Write a program to extract 'Class' from the below string (using slicing)\n",
    "msg = \"Wlecome to Python Prograamming Class\""
   ]
  },
  {
   "cell_type": "code",
   "execution_count": 32,
   "id": "35818740",
   "metadata": {},
   "outputs": [
    {
     "data": {
      "text/plain": [
       "36"
      ]
     },
     "execution_count": 32,
     "metadata": {},
     "output_type": "execute_result"
    }
   ],
   "source": [
    "len(msg)"
   ]
  },
  {
   "cell_type": "code",
   "execution_count": 33,
   "id": "f1bc1480",
   "metadata": {},
   "outputs": [
    {
     "data": {
      "text/plain": [
       "'Class'"
      ]
     },
     "execution_count": 33,
     "metadata": {},
     "output_type": "execute_result"
    }
   ],
   "source": [
    "msg[-5:]"
   ]
  },
  {
   "cell_type": "code",
   "execution_count": 34,
   "id": "44c4c9e6",
   "metadata": {},
   "outputs": [
    {
     "data": {
      "text/plain": [
       "' Class'"
      ]
     },
     "execution_count": 34,
     "metadata": {},
     "output_type": "execute_result"
    }
   ],
   "source": [
    "msg[30:]"
   ]
  },
  {
   "cell_type": "code",
   "execution_count": 35,
   "id": "4b172c64",
   "metadata": {},
   "outputs": [
    {
     "data": {
      "text/plain": [
       "'WELCOME'"
      ]
     },
     "execution_count": 35,
     "metadata": {},
     "output_type": "execute_result"
    }
   ],
   "source": [
    "s"
   ]
  },
  {
   "cell_type": "code",
   "execution_count": 36,
   "id": "e08f1a1e",
   "metadata": {},
   "outputs": [
    {
     "data": {
      "text/plain": [
       "'WLOE'"
      ]
     },
     "execution_count": 36,
     "metadata": {},
     "output_type": "execute_result"
    }
   ],
   "source": [
    "s[::2]"
   ]
  },
  {
   "cell_type": "code",
   "execution_count": 37,
   "id": "9059df8c",
   "metadata": {},
   "outputs": [
    {
     "data": {
      "text/plain": [
       "'E'"
      ]
     },
     "execution_count": 37,
     "metadata": {},
     "output_type": "execute_result"
    }
   ],
   "source": [
    "s[-1:]"
   ]
  },
  {
   "cell_type": "code",
   "execution_count": 38,
   "id": "9117d276",
   "metadata": {},
   "outputs": [
    {
     "data": {
      "text/plain": [
       "''"
      ]
     },
     "execution_count": 38,
     "metadata": {},
     "output_type": "execute_result"
    }
   ],
   "source": [
    "s[-1:-4]"
   ]
  },
  {
   "cell_type": "code",
   "execution_count": 39,
   "id": "c5776297",
   "metadata": {},
   "outputs": [
    {
     "data": {
      "text/plain": [
       "'WCE'"
      ]
     },
     "execution_count": 39,
     "metadata": {},
     "output_type": "execute_result"
    }
   ],
   "source": [
    "s[::3]"
   ]
  },
  {
   "cell_type": "code",
   "execution_count": 40,
   "id": "993e59b6",
   "metadata": {},
   "outputs": [
    {
     "data": {
      "text/plain": [
       "'WELCOME'"
      ]
     },
     "execution_count": 40,
     "metadata": {},
     "output_type": "execute_result"
    }
   ],
   "source": [
    "s[::1]"
   ]
  },
  {
   "cell_type": "code",
   "execution_count": 41,
   "id": "acd8da77",
   "metadata": {},
   "outputs": [
    {
     "data": {
      "text/plain": [
       "'EOLW'"
      ]
     },
     "execution_count": 41,
     "metadata": {},
     "output_type": "execute_result"
    }
   ],
   "source": [
    "s[::-2]"
   ]
  },
  {
   "cell_type": "code",
   "execution_count": 42,
   "id": "d8757418",
   "metadata": {},
   "outputs": [
    {
     "ename": "TypeError",
     "evalue": "can only concatenate str (not \"int\") to str",
     "output_type": "error",
     "traceback": [
      "\u001b[1;31m---------------------------------------------------------------------------\u001b[0m",
      "\u001b[1;31mTypeError\u001b[0m                                 Traceback (most recent call last)",
      "\u001b[1;32m<ipython-input-42-1cd0a04dc981>\u001b[0m in \u001b[0;36m<module>\u001b[1;34m\u001b[0m\n\u001b[1;32m----> 1\u001b[1;33m \u001b[0ms\u001b[0m \u001b[1;33m+\u001b[0m \u001b[1;36m10\u001b[0m   \u001b[1;31m# not possible\u001b[0m\u001b[1;33m\u001b[0m\u001b[1;33m\u001b[0m\u001b[0m\n\u001b[0m",
      "\u001b[1;31mTypeError\u001b[0m: can only concatenate str (not \"int\") to str"
     ]
    }
   ],
   "source": [
    "s + 10   # not possible"
   ]
  },
  {
   "cell_type": "code",
   "execution_count": 43,
   "id": "b7328774",
   "metadata": {},
   "outputs": [
    {
     "data": {
      "text/plain": [
       "'WELCOME10'"
      ]
     },
     "execution_count": 43,
     "metadata": {},
     "output_type": "execute_result"
    }
   ],
   "source": [
    "s + \"10\""
   ]
  },
  {
   "cell_type": "code",
   "execution_count": 44,
   "id": "80c28c94",
   "metadata": {},
   "outputs": [
    {
     "data": {
      "text/plain": [
       "'WELCOMEWELCOMEWELCOME'"
      ]
     },
     "execution_count": 44,
     "metadata": {},
     "output_type": "execute_result"
    }
   ],
   "source": [
    "s * 3"
   ]
  },
  {
   "cell_type": "code",
   "execution_count": 45,
   "id": "06082c12",
   "metadata": {},
   "outputs": [],
   "source": [
    "# * operator can be eithor a multiplicative or repetition prerator"
   ]
  },
  {
   "cell_type": "code",
   "execution_count": 46,
   "id": "74ce940f",
   "metadata": {},
   "outputs": [],
   "source": [
    "a = \"python\""
   ]
  },
  {
   "cell_type": "code",
   "execution_count": 47,
   "id": "cc557ed2",
   "metadata": {},
   "outputs": [
    {
     "data": {
      "text/plain": [
       "'python 10'"
      ]
     },
     "execution_count": 47,
     "metadata": {},
     "output_type": "execute_result"
    }
   ],
   "source": [
    "a + \" \" + \"10\""
   ]
  },
  {
   "cell_type": "markdown",
   "id": "eaf02b92",
   "metadata": {},
   "source": [
    "## Lists\n",
    "* Ordered Collection of items/elements/objects\n",
    "* Syntax: [ ]\n",
    "* MUTABLE"
   ]
  },
  {
   "cell_type": "code",
   "execution_count": 48,
   "id": "0a0b016c",
   "metadata": {},
   "outputs": [],
   "source": [
    "languages = [\"C\", \"CPP\", \"Java\", \"C#\"]"
   ]
  },
  {
   "cell_type": "code",
   "execution_count": 49,
   "id": "b19af32e",
   "metadata": {},
   "outputs": [
    {
     "data": {
      "text/plain": [
       "['C', 'CPP', 'Java', 'C#']"
      ]
     },
     "execution_count": 49,
     "metadata": {},
     "output_type": "execute_result"
    }
   ],
   "source": [
    "languages"
   ]
  },
  {
   "cell_type": "code",
   "execution_count": 50,
   "id": "f1d0772c",
   "metadata": {},
   "outputs": [
    {
     "name": "stdout",
     "output_type": "stream",
     "text": [
      "<class 'list'>\n"
     ]
    }
   ],
   "source": [
    "print(type(languages))"
   ]
  },
  {
   "cell_type": "code",
   "execution_count": 51,
   "id": "1f45936d",
   "metadata": {},
   "outputs": [
    {
     "data": {
      "text/plain": [
       "4"
      ]
     },
     "execution_count": 51,
     "metadata": {},
     "output_type": "execute_result"
    }
   ],
   "source": [
    "len(languages)"
   ]
  },
  {
   "cell_type": "code",
   "execution_count": 52,
   "id": "f28c1ba5",
   "metadata": {},
   "outputs": [
    {
     "data": {
      "text/plain": [
       "'C'"
      ]
     },
     "execution_count": 52,
     "metadata": {},
     "output_type": "execute_result"
    }
   ],
   "source": [
    "languages[0]"
   ]
  },
  {
   "cell_type": "code",
   "execution_count": 53,
   "id": "894d32a5",
   "metadata": {},
   "outputs": [
    {
     "data": {
      "text/plain": [
       "'C#'"
      ]
     },
     "execution_count": 53,
     "metadata": {},
     "output_type": "execute_result"
    }
   ],
   "source": [
    "languages[3]"
   ]
  },
  {
   "cell_type": "code",
   "execution_count": 54,
   "id": "36c466b4",
   "metadata": {},
   "outputs": [
    {
     "data": {
      "text/plain": [
       "'C#'"
      ]
     },
     "execution_count": 54,
     "metadata": {},
     "output_type": "execute_result"
    }
   ],
   "source": [
    "languages[-1]"
   ]
  },
  {
   "cell_type": "code",
   "execution_count": 55,
   "id": "7e0a24b3",
   "metadata": {},
   "outputs": [
    {
     "data": {
      "text/plain": [
       "'J'"
      ]
     },
     "execution_count": 55,
     "metadata": {},
     "output_type": "execute_result"
    }
   ],
   "source": [
    "languages[-2][0]"
   ]
  },
  {
   "cell_type": "code",
   "execution_count": 56,
   "id": "3d81a70a",
   "metadata": {},
   "outputs": [],
   "source": [
    "# using Slicing extract \"CPP\" and \"Java\""
   ]
  },
  {
   "cell_type": "code",
   "execution_count": 57,
   "id": "d4d7ef48",
   "metadata": {},
   "outputs": [
    {
     "data": {
      "text/plain": [
       "['C', 'CPP', 'Java', 'C#']"
      ]
     },
     "execution_count": 57,
     "metadata": {},
     "output_type": "execute_result"
    }
   ],
   "source": [
    "languages"
   ]
  },
  {
   "cell_type": "code",
   "execution_count": 58,
   "id": "ea7105a4",
   "metadata": {},
   "outputs": [
    {
     "data": {
      "text/plain": [
       "['CPP', 'Java']"
      ]
     },
     "execution_count": 58,
     "metadata": {},
     "output_type": "execute_result"
    }
   ],
   "source": [
    "languages[1:3]"
   ]
  },
  {
   "cell_type": "code",
   "execution_count": 59,
   "id": "38559dd0",
   "metadata": {},
   "outputs": [
    {
     "ename": "TypeError",
     "evalue": "can only concatenate list (not \"int\") to list",
     "output_type": "error",
     "traceback": [
      "\u001b[1;31m---------------------------------------------------------------------------\u001b[0m",
      "\u001b[1;31mTypeError\u001b[0m                                 Traceback (most recent call last)",
      "\u001b[1;32m<ipython-input-59-9d859bc6cafb>\u001b[0m in \u001b[0;36m<module>\u001b[1;34m\u001b[0m\n\u001b[1;32m----> 1\u001b[1;33m \u001b[0mlanguages\u001b[0m \u001b[1;33m+\u001b[0m \u001b[1;36m10\u001b[0m \u001b[1;31m# not working\u001b[0m\u001b[1;33m\u001b[0m\u001b[1;33m\u001b[0m\u001b[0m\n\u001b[0m",
      "\u001b[1;31mTypeError\u001b[0m: can only concatenate list (not \"int\") to list"
     ]
    }
   ],
   "source": [
    "languages + 10 # not working"
   ]
  },
  {
   "cell_type": "code",
   "execution_count": 60,
   "id": "454d2212",
   "metadata": {},
   "outputs": [
    {
     "data": {
      "text/plain": [
       "['C', 'CPP', 'Java', 'C#', 10]"
      ]
     },
     "execution_count": 60,
     "metadata": {},
     "output_type": "execute_result"
    }
   ],
   "source": [
    "languages + [10]"
   ]
  },
  {
   "cell_type": "code",
   "execution_count": 61,
   "id": "5cd76c94",
   "metadata": {},
   "outputs": [
    {
     "data": {
      "text/plain": [
       "['C', 'CPP', 'Java', 'C#', 'C', 'CPP', 'Java', 'C#', 'C', 'CPP', 'Java', 'C#']"
      ]
     },
     "execution_count": 61,
     "metadata": {},
     "output_type": "execute_result"
    }
   ],
   "source": [
    "languages * 3"
   ]
  },
  {
   "cell_type": "code",
   "execution_count": 62,
   "id": "c6e1f4e3",
   "metadata": {},
   "outputs": [
    {
     "data": {
      "text/plain": [
       "[]"
      ]
     },
     "execution_count": 62,
     "metadata": {},
     "output_type": "execute_result"
    }
   ],
   "source": [
    "languages[2:2]"
   ]
  },
  {
   "cell_type": "code",
   "execution_count": 63,
   "id": "4c79f12b",
   "metadata": {},
   "outputs": [],
   "source": [
    "# Write a code to extract # from the above list"
   ]
  },
  {
   "cell_type": "code",
   "execution_count": 64,
   "id": "bc99406e",
   "metadata": {},
   "outputs": [
    {
     "data": {
      "text/plain": [
       "['C', 'CPP', 'Java', 'C#']"
      ]
     },
     "execution_count": 64,
     "metadata": {},
     "output_type": "execute_result"
    }
   ],
   "source": [
    "languages"
   ]
  },
  {
   "cell_type": "code",
   "execution_count": 65,
   "id": "35dc24ca",
   "metadata": {},
   "outputs": [
    {
     "data": {
      "text/plain": [
       "'#'"
      ]
     },
     "execution_count": 65,
     "metadata": {},
     "output_type": "execute_result"
    }
   ],
   "source": [
    "languages[-1][1]"
   ]
  },
  {
   "cell_type": "code",
   "execution_count": 66,
   "id": "57ab7c67",
   "metadata": {},
   "outputs": [
    {
     "data": {
      "text/plain": [
       "'#'"
      ]
     },
     "execution_count": 66,
     "metadata": {},
     "output_type": "execute_result"
    }
   ],
   "source": [
    "languages[-1][-1]"
   ]
  },
  {
   "cell_type": "code",
   "execution_count": 67,
   "id": "9219027f",
   "metadata": {},
   "outputs": [
    {
     "data": {
      "text/plain": [
       "'#'"
      ]
     },
     "execution_count": 67,
     "metadata": {},
     "output_type": "execute_result"
    }
   ],
   "source": [
    "languages[3][1]"
   ]
  },
  {
   "cell_type": "code",
   "execution_count": 68,
   "id": "a81a11d2",
   "metadata": {},
   "outputs": [],
   "source": [
    "# Append\n",
    "# Insert\n",
    "# Remove\n",
    "# Pop\n",
    "# Reverse\n",
    "# Sort\n",
    "# Del\n",
    "# Index\n",
    "# Count"
   ]
  },
  {
   "cell_type": "code",
   "execution_count": 69,
   "id": "82405fc2",
   "metadata": {},
   "outputs": [],
   "source": [
    "# Simple Keywords and Operators"
   ]
  },
  {
   "cell_type": "code",
   "execution_count": 70,
   "id": "f32750e1",
   "metadata": {},
   "outputs": [],
   "source": [
    "f = 3.14"
   ]
  },
  {
   "cell_type": "code",
   "execution_count": 71,
   "id": "92adc77e",
   "metadata": {},
   "outputs": [
    {
     "name": "stdout",
     "output_type": "stream",
     "text": [
      "<class 'float'>\n"
     ]
    }
   ],
   "source": [
    "print(type(f))"
   ]
  },
  {
   "cell_type": "code",
   "execution_count": 72,
   "id": "f167968f",
   "metadata": {},
   "outputs": [],
   "source": [
    "a = True"
   ]
  },
  {
   "cell_type": "code",
   "execution_count": 73,
   "id": "42c93d69",
   "metadata": {},
   "outputs": [
    {
     "name": "stdout",
     "output_type": "stream",
     "text": [
      "<class 'bool'>\n"
     ]
    }
   ],
   "source": [
    "print(type(a))"
   ]
  },
  {
   "cell_type": "code",
   "execution_count": 74,
   "id": "49c70fe1",
   "metadata": {},
   "outputs": [],
   "source": [
    "a = False"
   ]
  },
  {
   "cell_type": "code",
   "execution_count": 75,
   "id": "aae73e2b",
   "metadata": {},
   "outputs": [],
   "source": [
    "a = 3 + 2j"
   ]
  },
  {
   "cell_type": "code",
   "execution_count": 76,
   "id": "4f6b7b48",
   "metadata": {},
   "outputs": [
    {
     "name": "stdout",
     "output_type": "stream",
     "text": [
      "<class 'complex'>\n"
     ]
    }
   ],
   "source": [
    "print(type(a))"
   ]
  },
  {
   "cell_type": "code",
   "execution_count": null,
   "id": "e67cec16",
   "metadata": {},
   "outputs": [],
   "source": []
  },
  {
   "cell_type": "code",
   "execution_count": 77,
   "id": "68e7e184",
   "metadata": {},
   "outputs": [
    {
     "data": {
      "text/plain": [
       "22"
      ]
     },
     "execution_count": 77,
     "metadata": {},
     "output_type": "execute_result"
    }
   ],
   "source": [
    "18 + 4 "
   ]
  },
  {
   "cell_type": "code",
   "execution_count": 78,
   "id": "4191d19d",
   "metadata": {},
   "outputs": [
    {
     "data": {
      "text/plain": [
       "14"
      ]
     },
     "execution_count": 78,
     "metadata": {},
     "output_type": "execute_result"
    }
   ],
   "source": [
    "18 - 4"
   ]
  },
  {
   "cell_type": "code",
   "execution_count": 79,
   "id": "b882dfaf",
   "metadata": {},
   "outputs": [
    {
     "data": {
      "text/plain": [
       "72"
      ]
     },
     "execution_count": 79,
     "metadata": {},
     "output_type": "execute_result"
    }
   ],
   "source": [
    "18 * 4"
   ]
  },
  {
   "cell_type": "code",
   "execution_count": 80,
   "id": "e9062a69",
   "metadata": {},
   "outputs": [
    {
     "data": {
      "text/plain": [
       "4.5"
      ]
     },
     "execution_count": 80,
     "metadata": {},
     "output_type": "execute_result"
    }
   ],
   "source": [
    "18 / 4"
   ]
  },
  {
   "cell_type": "code",
   "execution_count": 81,
   "id": "54f97124",
   "metadata": {},
   "outputs": [
    {
     "data": {
      "text/plain": [
       "4"
      ]
     },
     "execution_count": 81,
     "metadata": {},
     "output_type": "execute_result"
    }
   ],
   "source": [
    "18 // 4"
   ]
  },
  {
   "cell_type": "code",
   "execution_count": 82,
   "id": "5b3798d2",
   "metadata": {},
   "outputs": [
    {
     "data": {
      "text/plain": [
       "2"
      ]
     },
     "execution_count": 82,
     "metadata": {},
     "output_type": "execute_result"
    }
   ],
   "source": [
    "18 % 4"
   ]
  },
  {
   "cell_type": "markdown",
   "id": "aee9b7ae",
   "metadata": {},
   "source": [
    "### List Operator"
   ]
  },
  {
   "cell_type": "markdown",
   "id": "b592acf1",
   "metadata": {},
   "source": [
    "#### Append\n",
    "* always add the element/object at the end of the List"
   ]
  },
  {
   "cell_type": "code",
   "execution_count": 83,
   "id": "5aedb0e6",
   "metadata": {},
   "outputs": [
    {
     "data": {
      "text/plain": [
       "['C', 'CPP', 'Java', 'C#']"
      ]
     },
     "execution_count": 83,
     "metadata": {},
     "output_type": "execute_result"
    }
   ],
   "source": [
    "languages"
   ]
  },
  {
   "cell_type": "code",
   "execution_count": 84,
   "id": "3faf761d",
   "metadata": {},
   "outputs": [],
   "source": [
    "languages.append(\"Python\")"
   ]
  },
  {
   "cell_type": "code",
   "execution_count": 85,
   "id": "a6ff4e74",
   "metadata": {},
   "outputs": [
    {
     "data": {
      "text/plain": [
       "['C', 'CPP', 'Java', 'C#', 'Python']"
      ]
     },
     "execution_count": 85,
     "metadata": {},
     "output_type": "execute_result"
    }
   ],
   "source": [
    "languages"
   ]
  },
  {
   "cell_type": "markdown",
   "id": "60d633da",
   "metadata": {},
   "source": [
    "#### Insert\n",
    "* Insert an element/object at a specified index"
   ]
  },
  {
   "cell_type": "code",
   "execution_count": 86,
   "id": "9802f52d",
   "metadata": {},
   "outputs": [],
   "source": [
    "languages.insert(1, \"Perl\")"
   ]
  },
  {
   "cell_type": "code",
   "execution_count": 87,
   "id": "80242560",
   "metadata": {},
   "outputs": [
    {
     "data": {
      "text/plain": [
       "['C', 'Perl', 'CPP', 'Java', 'C#', 'Python']"
      ]
     },
     "execution_count": 87,
     "metadata": {},
     "output_type": "execute_result"
    }
   ],
   "source": [
    "languages"
   ]
  },
  {
   "cell_type": "code",
   "execution_count": 88,
   "id": "cb2ebb80",
   "metadata": {},
   "outputs": [],
   "source": [
    "languages.insert(-1, \"Ruby\")"
   ]
  },
  {
   "cell_type": "code",
   "execution_count": 89,
   "id": "16ed8050",
   "metadata": {},
   "outputs": [
    {
     "data": {
      "text/plain": [
       "['C', 'Perl', 'CPP', 'Java', 'C#', 'Ruby', 'Python']"
      ]
     },
     "execution_count": 89,
     "metadata": {},
     "output_type": "execute_result"
    }
   ],
   "source": [
    "languages"
   ]
  },
  {
   "cell_type": "code",
   "execution_count": 90,
   "id": "1db76b46",
   "metadata": {},
   "outputs": [
    {
     "name": "stdout",
     "output_type": "stream",
     "text": [
      "Help on method_descriptor:\n",
      "\n",
      "insert(self, index, object, /)\n",
      "    Insert object before index.\n",
      "\n"
     ]
    }
   ],
   "source": [
    "help(list.insert)"
   ]
  },
  {
   "cell_type": "markdown",
   "id": "10d2585e",
   "metadata": {},
   "source": [
    "#### Remove\n",
    "* Remove an element/object based on value"
   ]
  },
  {
   "cell_type": "code",
   "execution_count": 91,
   "id": "d1232b33",
   "metadata": {},
   "outputs": [
    {
     "data": {
      "text/plain": [
       "['C', 'Perl', 'CPP', 'Java', 'C#', 'Ruby', 'Python']"
      ]
     },
     "execution_count": 91,
     "metadata": {},
     "output_type": "execute_result"
    }
   ],
   "source": [
    "languages"
   ]
  },
  {
   "cell_type": "code",
   "execution_count": 92,
   "id": "4850f9b2",
   "metadata": {},
   "outputs": [],
   "source": [
    "languages.remove(\"Java\")"
   ]
  },
  {
   "cell_type": "code",
   "execution_count": 93,
   "id": "fcce5a2c",
   "metadata": {},
   "outputs": [
    {
     "data": {
      "text/plain": [
       "['C', 'Perl', 'CPP', 'C#', 'Ruby', 'Python']"
      ]
     },
     "execution_count": 93,
     "metadata": {},
     "output_type": "execute_result"
    }
   ],
   "source": [
    "languages"
   ]
  },
  {
   "cell_type": "code",
   "execution_count": 94,
   "id": "32038f18",
   "metadata": {},
   "outputs": [
    {
     "name": "stdout",
     "output_type": "stream",
     "text": [
      "Help on method_descriptor:\n",
      "\n",
      "remove(self, value, /)\n",
      "    Remove first occurrence of value.\n",
      "    \n",
      "    Raises ValueError if the value is not present.\n",
      "\n"
     ]
    }
   ],
   "source": [
    "help(list.remove)"
   ]
  },
  {
   "cell_type": "code",
   "execution_count": 95,
   "id": "9740516c",
   "metadata": {},
   "outputs": [
    {
     "ename": "ValueError",
     "evalue": "list.remove(x): x not in list",
     "output_type": "error",
     "traceback": [
      "\u001b[1;31m---------------------------------------------------------------------------\u001b[0m",
      "\u001b[1;31mValueError\u001b[0m                                Traceback (most recent call last)",
      "\u001b[1;32m<ipython-input-95-22877c9da934>\u001b[0m in \u001b[0;36m<module>\u001b[1;34m\u001b[0m\n\u001b[1;32m----> 1\u001b[1;33m \u001b[0mlanguages\u001b[0m\u001b[1;33m.\u001b[0m\u001b[0mremove\u001b[0m\u001b[1;33m(\u001b[0m\u001b[1;34m'perl'\u001b[0m\u001b[1;33m)\u001b[0m \u001b[1;31m# case sensetive\u001b[0m\u001b[1;33m\u001b[0m\u001b[1;33m\u001b[0m\u001b[0m\n\u001b[0m",
      "\u001b[1;31mValueError\u001b[0m: list.remove(x): x not in list"
     ]
    }
   ],
   "source": [
    "languages.remove('perl') # case sensetive"
   ]
  },
  {
   "cell_type": "markdown",
   "id": "3646e3ca",
   "metadata": {},
   "source": [
    "#### pop\n",
    "* Remove an element/object besed on index\n",
    "* By Default the index is -1 (i.e. last element)"
   ]
  },
  {
   "cell_type": "code",
   "execution_count": 96,
   "id": "9323f247",
   "metadata": {},
   "outputs": [
    {
     "data": {
      "text/plain": [
       "'Perl'"
      ]
     },
     "execution_count": 96,
     "metadata": {},
     "output_type": "execute_result"
    }
   ],
   "source": [
    "languages.pop(1)"
   ]
  },
  {
   "cell_type": "code",
   "execution_count": 97,
   "id": "495ac071",
   "metadata": {},
   "outputs": [
    {
     "data": {
      "text/plain": [
       "['C', 'CPP', 'C#', 'Ruby', 'Python']"
      ]
     },
     "execution_count": 97,
     "metadata": {},
     "output_type": "execute_result"
    }
   ],
   "source": [
    "languages"
   ]
  },
  {
   "cell_type": "code",
   "execution_count": 98,
   "id": "0c14ca22",
   "metadata": {},
   "outputs": [
    {
     "data": {
      "text/plain": [
       "'Python'"
      ]
     },
     "execution_count": 98,
     "metadata": {},
     "output_type": "execute_result"
    }
   ],
   "source": [
    "languages.pop()"
   ]
  },
  {
   "cell_type": "code",
   "execution_count": 99,
   "id": "25beb677",
   "metadata": {},
   "outputs": [
    {
     "data": {
      "text/plain": [
       "['C', 'CPP', 'C#', 'Ruby']"
      ]
     },
     "execution_count": 99,
     "metadata": {},
     "output_type": "execute_result"
    }
   ],
   "source": [
    "languages"
   ]
  },
  {
   "cell_type": "code",
   "execution_count": 100,
   "id": "bc782017",
   "metadata": {},
   "outputs": [
    {
     "data": {
      "text/plain": [
       "'Ruby'"
      ]
     },
     "execution_count": 100,
     "metadata": {},
     "output_type": "execute_result"
    }
   ],
   "source": [
    "languages.pop(-1)"
   ]
  },
  {
   "cell_type": "code",
   "execution_count": 101,
   "id": "f442ff89",
   "metadata": {},
   "outputs": [
    {
     "data": {
      "text/plain": [
       "['C', 'CPP', 'C#']"
      ]
     },
     "execution_count": 101,
     "metadata": {},
     "output_type": "execute_result"
    }
   ],
   "source": [
    "languages"
   ]
  },
  {
   "cell_type": "markdown",
   "id": "054f5e0b",
   "metadata": {},
   "source": [
    "#### del (keyword)"
   ]
  },
  {
   "cell_type": "code",
   "execution_count": 102,
   "id": "4a2b8dbe",
   "metadata": {},
   "outputs": [
    {
     "data": {
      "text/plain": [
       "['C', 'CPP', 'C#']"
      ]
     },
     "execution_count": 102,
     "metadata": {},
     "output_type": "execute_result"
    }
   ],
   "source": [
    "languages"
   ]
  },
  {
   "cell_type": "code",
   "execution_count": 103,
   "id": "48e53a4b",
   "metadata": {},
   "outputs": [],
   "source": [
    "languages.append(\"Ruby\")"
   ]
  },
  {
   "cell_type": "code",
   "execution_count": 104,
   "id": "9ff649e4",
   "metadata": {},
   "outputs": [],
   "source": [
    "languages.append(\"Scala\")"
   ]
  },
  {
   "cell_type": "code",
   "execution_count": 105,
   "id": "93ed273d",
   "metadata": {},
   "outputs": [
    {
     "data": {
      "text/plain": [
       "['C', 'CPP', 'C#', 'Ruby', 'Scala']"
      ]
     },
     "execution_count": 105,
     "metadata": {},
     "output_type": "execute_result"
    }
   ],
   "source": [
    "languages"
   ]
  },
  {
   "cell_type": "code",
   "execution_count": 106,
   "id": "462a148c",
   "metadata": {},
   "outputs": [],
   "source": [
    "del languages[2]"
   ]
  },
  {
   "cell_type": "code",
   "execution_count": 107,
   "id": "4e969122",
   "metadata": {},
   "outputs": [
    {
     "data": {
      "text/plain": [
       "['C', 'CPP', 'Ruby', 'Scala']"
      ]
     },
     "execution_count": 107,
     "metadata": {},
     "output_type": "execute_result"
    }
   ],
   "source": [
    "languages"
   ]
  },
  {
   "cell_type": "code",
   "execution_count": 108,
   "id": "5ae40ed9",
   "metadata": {},
   "outputs": [],
   "source": [
    "del languages[1:3]"
   ]
  },
  {
   "cell_type": "code",
   "execution_count": 109,
   "id": "eb71127f",
   "metadata": {},
   "outputs": [
    {
     "data": {
      "text/plain": [
       "['C', 'Scala']"
      ]
     },
     "execution_count": 109,
     "metadata": {},
     "output_type": "execute_result"
    }
   ],
   "source": [
    "languages"
   ]
  },
  {
   "cell_type": "code",
   "execution_count": 110,
   "id": "6aa794d4",
   "metadata": {},
   "outputs": [],
   "source": [
    "languages.append(\"C\")"
   ]
  },
  {
   "cell_type": "code",
   "execution_count": 111,
   "id": "a6c159e6",
   "metadata": {},
   "outputs": [],
   "source": [
    "languages.append(\"VB\")"
   ]
  },
  {
   "cell_type": "code",
   "execution_count": 112,
   "id": "7c258cc8",
   "metadata": {},
   "outputs": [
    {
     "data": {
      "text/plain": [
       "['C', 'Scala', 'C', 'VB']"
      ]
     },
     "execution_count": 112,
     "metadata": {},
     "output_type": "execute_result"
    }
   ],
   "source": [
    "languages"
   ]
  },
  {
   "cell_type": "code",
   "execution_count": 113,
   "id": "e6bf2e26",
   "metadata": {},
   "outputs": [],
   "source": [
    "del languages[0:3:3]"
   ]
  },
  {
   "cell_type": "code",
   "execution_count": 114,
   "id": "21b75d04",
   "metadata": {},
   "outputs": [
    {
     "data": {
      "text/plain": [
       "['Scala', 'C', 'VB']"
      ]
     },
     "execution_count": 114,
     "metadata": {},
     "output_type": "execute_result"
    }
   ],
   "source": [
    "languages"
   ]
  },
  {
   "cell_type": "code",
   "execution_count": 115,
   "id": "43719ce8",
   "metadata": {},
   "outputs": [],
   "source": [
    "del languages[0:4:3]"
   ]
  },
  {
   "cell_type": "code",
   "execution_count": 116,
   "id": "e90747c2",
   "metadata": {},
   "outputs": [
    {
     "data": {
      "text/plain": [
       "['C', 'VB']"
      ]
     },
     "execution_count": 116,
     "metadata": {},
     "output_type": "execute_result"
    }
   ],
   "source": [
    "languages"
   ]
  },
  {
   "cell_type": "markdown",
   "id": "bb07f5c9",
   "metadata": {},
   "source": [
    "#### Append (using List)"
   ]
  },
  {
   "cell_type": "code",
   "execution_count": 117,
   "id": "f8c6f72e",
   "metadata": {},
   "outputs": [
    {
     "data": {
      "text/plain": [
       "['C', 'VB']"
      ]
     },
     "execution_count": 117,
     "metadata": {},
     "output_type": "execute_result"
    }
   ],
   "source": [
    "languages"
   ]
  },
  {
   "cell_type": "code",
   "execution_count": 118,
   "id": "6d4c6d20",
   "metadata": {},
   "outputs": [],
   "source": [
    "languages.append(\"VC\")"
   ]
  },
  {
   "cell_type": "code",
   "execution_count": 119,
   "id": "d39146ec",
   "metadata": {},
   "outputs": [],
   "source": [
    "languages.append(\"Java\")"
   ]
  },
  {
   "cell_type": "code",
   "execution_count": 120,
   "id": "bc3ee922",
   "metadata": {},
   "outputs": [
    {
     "data": {
      "text/plain": [
       "['C', 'VB', 'VC', 'Java']"
      ]
     },
     "execution_count": 120,
     "metadata": {},
     "output_type": "execute_result"
    }
   ],
   "source": [
    "languages"
   ]
  },
  {
   "cell_type": "code",
   "execution_count": 121,
   "id": "3eb5b7df",
   "metadata": {},
   "outputs": [],
   "source": [
    "numlist = [100, 200, 300]"
   ]
  },
  {
   "cell_type": "code",
   "execution_count": 122,
   "id": "11a07edc",
   "metadata": {},
   "outputs": [
    {
     "data": {
      "text/plain": [
       "4"
      ]
     },
     "execution_count": 122,
     "metadata": {},
     "output_type": "execute_result"
    }
   ],
   "source": [
    "len(languages)"
   ]
  },
  {
   "cell_type": "code",
   "execution_count": 123,
   "id": "6f399f94",
   "metadata": {},
   "outputs": [
    {
     "data": {
      "text/plain": [
       "3"
      ]
     },
     "execution_count": 123,
     "metadata": {},
     "output_type": "execute_result"
    }
   ],
   "source": [
    "len(numlist)"
   ]
  },
  {
   "cell_type": "code",
   "execution_count": 124,
   "id": "adbefa11",
   "metadata": {},
   "outputs": [],
   "source": [
    "languages.append(numlist)"
   ]
  },
  {
   "cell_type": "code",
   "execution_count": 125,
   "id": "a9709707",
   "metadata": {},
   "outputs": [
    {
     "data": {
      "text/plain": [
       "['C', 'VB', 'VC', 'Java', [100, 200, 300]]"
      ]
     },
     "execution_count": 125,
     "metadata": {},
     "output_type": "execute_result"
    }
   ],
   "source": [
    "languages"
   ]
  },
  {
   "cell_type": "code",
   "execution_count": 126,
   "id": "d070a0f7",
   "metadata": {},
   "outputs": [
    {
     "data": {
      "text/plain": [
       "5"
      ]
     },
     "execution_count": 126,
     "metadata": {},
     "output_type": "execute_result"
    }
   ],
   "source": [
    "len(languages)"
   ]
  },
  {
   "cell_type": "code",
   "execution_count": 127,
   "id": "712dbbf2",
   "metadata": {},
   "outputs": [
    {
     "data": {
      "text/plain": [
       "200"
      ]
     },
     "execution_count": 127,
     "metadata": {},
     "output_type": "execute_result"
    }
   ],
   "source": [
    "languages[-1][1]"
   ]
  },
  {
   "cell_type": "code",
   "execution_count": 128,
   "id": "f55e173f",
   "metadata": {},
   "outputs": [
    {
     "data": {
      "text/plain": [
       "200"
      ]
     },
     "execution_count": 128,
     "metadata": {},
     "output_type": "execute_result"
    }
   ],
   "source": [
    "languages[-1][-2]"
   ]
  },
  {
   "cell_type": "code",
   "execution_count": 129,
   "id": "83a012fa",
   "metadata": {},
   "outputs": [
    {
     "data": {
      "text/plain": [
       "['C', 'VB', 'VC', 'Java', [100, 200, 300]]"
      ]
     },
     "execution_count": 129,
     "metadata": {},
     "output_type": "execute_result"
    }
   ],
   "source": [
    "languages"
   ]
  },
  {
   "cell_type": "code",
   "execution_count": 130,
   "id": "ab87e936",
   "metadata": {},
   "outputs": [
    {
     "data": {
      "text/plain": [
       "'WELCOME'"
      ]
     },
     "execution_count": 130,
     "metadata": {},
     "output_type": "execute_result"
    }
   ],
   "source": [
    "s"
   ]
  },
  {
   "cell_type": "code",
   "execution_count": 131,
   "id": "9ba664e9",
   "metadata": {},
   "outputs": [],
   "source": [
    "languages.append(s)"
   ]
  },
  {
   "cell_type": "code",
   "execution_count": 132,
   "id": "ccef34fa",
   "metadata": {},
   "outputs": [
    {
     "data": {
      "text/plain": [
       "['C', 'VB', 'VC', 'Java', [100, 200, 300], 'WELCOME']"
      ]
     },
     "execution_count": 132,
     "metadata": {},
     "output_type": "execute_result"
    }
   ],
   "source": [
    "languages"
   ]
  },
  {
   "cell_type": "markdown",
   "id": "8f3de2ee",
   "metadata": {},
   "source": [
    "#### Extend\n",
    "* Extend the list with the element of the container/object passed\n",
    "* Increases the lenth of list by the length of the object/container/element passed"
   ]
  },
  {
   "cell_type": "code",
   "execution_count": 133,
   "id": "cf6d2229",
   "metadata": {},
   "outputs": [
    {
     "data": {
      "text/plain": [
       "['C', 'VB', 'VC', 'Java', [100, 200, 300], 'WELCOME']"
      ]
     },
     "execution_count": 133,
     "metadata": {},
     "output_type": "execute_result"
    }
   ],
   "source": [
    "languages"
   ]
  },
  {
   "cell_type": "code",
   "execution_count": 134,
   "id": "327190fa",
   "metadata": {},
   "outputs": [],
   "source": [
    "anotherlist = [\"TCS\", \"IBM\", \"INFY\"]"
   ]
  },
  {
   "cell_type": "code",
   "execution_count": 135,
   "id": "21f5a5e5",
   "metadata": {},
   "outputs": [
    {
     "data": {
      "text/plain": [
       "6"
      ]
     },
     "execution_count": 135,
     "metadata": {},
     "output_type": "execute_result"
    }
   ],
   "source": [
    "len(languages)"
   ]
  },
  {
   "cell_type": "code",
   "execution_count": 136,
   "id": "4750057c",
   "metadata": {},
   "outputs": [
    {
     "data": {
      "text/plain": [
       "3"
      ]
     },
     "execution_count": 136,
     "metadata": {},
     "output_type": "execute_result"
    }
   ],
   "source": [
    "len(anotherlist)"
   ]
  },
  {
   "cell_type": "code",
   "execution_count": 137,
   "id": "fc189f26",
   "metadata": {},
   "outputs": [],
   "source": [
    "languages.extend(anotherlist)"
   ]
  },
  {
   "cell_type": "code",
   "execution_count": 138,
   "id": "ce25f867",
   "metadata": {},
   "outputs": [
    {
     "data": {
      "text/plain": [
       "['C', 'VB', 'VC', 'Java', [100, 200, 300], 'WELCOME', 'TCS', 'IBM', 'INFY']"
      ]
     },
     "execution_count": 138,
     "metadata": {},
     "output_type": "execute_result"
    }
   ],
   "source": [
    "languages"
   ]
  },
  {
   "cell_type": "code",
   "execution_count": 139,
   "id": "b46315b1",
   "metadata": {},
   "outputs": [
    {
     "data": {
      "text/plain": [
       "9"
      ]
     },
     "execution_count": 139,
     "metadata": {},
     "output_type": "execute_result"
    }
   ],
   "source": [
    "len(languages)"
   ]
  },
  {
   "cell_type": "code",
   "execution_count": 140,
   "id": "5e646539",
   "metadata": {},
   "outputs": [],
   "source": [
    "languages.extend(s)"
   ]
  },
  {
   "cell_type": "code",
   "execution_count": 141,
   "id": "cc031a4c",
   "metadata": {},
   "outputs": [
    {
     "data": {
      "text/plain": [
       "['C',\n",
       " 'VB',\n",
       " 'VC',\n",
       " 'Java',\n",
       " [100, 200, 300],\n",
       " 'WELCOME',\n",
       " 'TCS',\n",
       " 'IBM',\n",
       " 'INFY',\n",
       " 'W',\n",
       " 'E',\n",
       " 'L',\n",
       " 'C',\n",
       " 'O',\n",
       " 'M',\n",
       " 'E']"
      ]
     },
     "execution_count": 141,
     "metadata": {},
     "output_type": "execute_result"
    }
   ],
   "source": [
    "languages"
   ]
  },
  {
   "cell_type": "code",
   "execution_count": 142,
   "id": "334742cd",
   "metadata": {},
   "outputs": [],
   "source": [
    "languages.extend(numlist)"
   ]
  },
  {
   "cell_type": "code",
   "execution_count": 143,
   "id": "e0601921",
   "metadata": {},
   "outputs": [
    {
     "data": {
      "text/plain": [
       "['C',\n",
       " 'VB',\n",
       " 'VC',\n",
       " 'Java',\n",
       " [100, 200, 300],\n",
       " 'WELCOME',\n",
       " 'TCS',\n",
       " 'IBM',\n",
       " 'INFY',\n",
       " 'W',\n",
       " 'E',\n",
       " 'L',\n",
       " 'C',\n",
       " 'O',\n",
       " 'M',\n",
       " 'E',\n",
       " 100,\n",
       " 200,\n",
       " 300]"
      ]
     },
     "execution_count": 143,
     "metadata": {},
     "output_type": "execute_result"
    }
   ],
   "source": [
    "languages"
   ]
  },
  {
   "cell_type": "code",
   "execution_count": 144,
   "id": "bdaefb69",
   "metadata": {},
   "outputs": [],
   "source": [
    "player = [\"Virat\", \"Rohit\", \"Dhawan\", [100, 200, 300]]"
   ]
  },
  {
   "cell_type": "code",
   "execution_count": 145,
   "id": "3f2acc6b",
   "metadata": {},
   "outputs": [
    {
     "data": {
      "text/plain": [
       "['TCS', 'IBM', 'INFY']"
      ]
     },
     "execution_count": 145,
     "metadata": {},
     "output_type": "execute_result"
    }
   ],
   "source": [
    "anotherlist"
   ]
  },
  {
   "cell_type": "code",
   "execution_count": 146,
   "id": "5ac7d59a",
   "metadata": {},
   "outputs": [],
   "source": [
    "anotherlist.extend(player)"
   ]
  },
  {
   "cell_type": "code",
   "execution_count": 147,
   "id": "3ca13d5a",
   "metadata": {},
   "outputs": [
    {
     "data": {
      "text/plain": [
       "['TCS', 'IBM', 'INFY', 'Virat', 'Rohit', 'Dhawan', [100, 200, 300]]"
      ]
     },
     "execution_count": 147,
     "metadata": {},
     "output_type": "execute_result"
    }
   ],
   "source": [
    "anotherlist # List as a element here"
   ]
  },
  {
   "cell_type": "markdown",
   "id": "3a0f93f4",
   "metadata": {},
   "source": [
    "#### Count\n",
    "* count the no. of elements/objects"
   ]
  },
  {
   "cell_type": "code",
   "execution_count": 148,
   "id": "911ca4d4",
   "metadata": {},
   "outputs": [
    {
     "data": {
      "text/plain": [
       "['C',\n",
       " 'VB',\n",
       " 'VC',\n",
       " 'Java',\n",
       " [100, 200, 300],\n",
       " 'WELCOME',\n",
       " 'TCS',\n",
       " 'IBM',\n",
       " 'INFY',\n",
       " 'W',\n",
       " 'E',\n",
       " 'L',\n",
       " 'C',\n",
       " 'O',\n",
       " 'M',\n",
       " 'E',\n",
       " 100,\n",
       " 200,\n",
       " 300]"
      ]
     },
     "execution_count": 148,
     "metadata": {},
     "output_type": "execute_result"
    }
   ],
   "source": [
    "languages"
   ]
  },
  {
   "cell_type": "code",
   "execution_count": 149,
   "id": "8252db33",
   "metadata": {},
   "outputs": [
    {
     "data": {
      "text/plain": [
       "1"
      ]
     },
     "execution_count": 149,
     "metadata": {},
     "output_type": "execute_result"
    }
   ],
   "source": [
    "languages.count(\"VB\")"
   ]
  },
  {
   "cell_type": "code",
   "execution_count": 150,
   "id": "8abd13c1",
   "metadata": {},
   "outputs": [
    {
     "data": {
      "text/plain": [
       "2"
      ]
     },
     "execution_count": 150,
     "metadata": {},
     "output_type": "execute_result"
    }
   ],
   "source": [
    "languages.count(\"C\")"
   ]
  },
  {
   "cell_type": "code",
   "execution_count": 151,
   "id": "16f4d46e",
   "metadata": {},
   "outputs": [
    {
     "data": {
      "text/plain": [
       "1"
      ]
     },
     "execution_count": 151,
     "metadata": {},
     "output_type": "execute_result"
    }
   ],
   "source": [
    "languages.count(100)"
   ]
  },
  {
   "cell_type": "code",
   "execution_count": 152,
   "id": "515435fe",
   "metadata": {},
   "outputs": [
    {
     "data": {
      "text/plain": [
       "0"
      ]
     },
     "execution_count": 152,
     "metadata": {},
     "output_type": "execute_result"
    }
   ],
   "source": [
    "languages.count(\"w\")"
   ]
  },
  {
   "cell_type": "markdown",
   "id": "2469200f",
   "metadata": {},
   "source": [
    "#### Index\n",
    "* check the index position"
   ]
  },
  {
   "cell_type": "code",
   "execution_count": 153,
   "id": "f65b5739",
   "metadata": {},
   "outputs": [
    {
     "data": {
      "text/plain": [
       "['C',\n",
       " 'VB',\n",
       " 'VC',\n",
       " 'Java',\n",
       " [100, 200, 300],\n",
       " 'WELCOME',\n",
       " 'TCS',\n",
       " 'IBM',\n",
       " 'INFY',\n",
       " 'W',\n",
       " 'E',\n",
       " 'L',\n",
       " 'C',\n",
       " 'O',\n",
       " 'M',\n",
       " 'E',\n",
       " 100,\n",
       " 200,\n",
       " 300]"
      ]
     },
     "execution_count": 153,
     "metadata": {},
     "output_type": "execute_result"
    }
   ],
   "source": [
    "languages"
   ]
  },
  {
   "cell_type": "code",
   "execution_count": 154,
   "id": "ef487746",
   "metadata": {},
   "outputs": [
    {
     "data": {
      "text/plain": [
       "6"
      ]
     },
     "execution_count": 154,
     "metadata": {},
     "output_type": "execute_result"
    }
   ],
   "source": [
    "languages.index(\"TCS\")"
   ]
  },
  {
   "cell_type": "code",
   "execution_count": 155,
   "id": "4ea9715c",
   "metadata": {},
   "outputs": [
    {
     "data": {
      "text/plain": [
       "0"
      ]
     },
     "execution_count": 155,
     "metadata": {},
     "output_type": "execute_result"
    }
   ],
   "source": [
    "languages.index(\"C\")"
   ]
  },
  {
   "cell_type": "code",
   "execution_count": 156,
   "id": "e152e09b",
   "metadata": {},
   "outputs": [
    {
     "data": {
      "text/plain": [
       "12"
      ]
     },
     "execution_count": 156,
     "metadata": {},
     "output_type": "execute_result"
    }
   ],
   "source": [
    "languages.index(\"C\", 2)"
   ]
  },
  {
   "cell_type": "code",
   "execution_count": 157,
   "id": "da039d4a",
   "metadata": {},
   "outputs": [
    {
     "data": {
      "text/plain": [
       "4"
      ]
     },
     "execution_count": 157,
     "metadata": {},
     "output_type": "execute_result"
    }
   ],
   "source": [
    "languages.index([100, 200, 300])"
   ]
  },
  {
   "cell_type": "markdown",
   "id": "de30dadc",
   "metadata": {},
   "source": [
    "#### Mutable Vs Immutable"
   ]
  },
  {
   "cell_type": "code",
   "execution_count": 158,
   "id": "95aa6800",
   "metadata": {},
   "outputs": [
    {
     "data": {
      "text/plain": [
       "'WELCOME'"
      ]
     },
     "execution_count": 158,
     "metadata": {},
     "output_type": "execute_result"
    }
   ],
   "source": [
    "s"
   ]
  },
  {
   "cell_type": "code",
   "execution_count": 159,
   "id": "4986f3da",
   "metadata": {},
   "outputs": [],
   "source": [
    "languages = [\"Python\", \"Perl\", \"Ruby\"]"
   ]
  },
  {
   "cell_type": "code",
   "execution_count": 160,
   "id": "b5ebe0e2",
   "metadata": {},
   "outputs": [],
   "source": [
    "languages[0] = \"Java\""
   ]
  },
  {
   "cell_type": "code",
   "execution_count": 161,
   "id": "41c2772b",
   "metadata": {},
   "outputs": [
    {
     "data": {
      "text/plain": [
       "['Java', 'Perl', 'Ruby']"
      ]
     },
     "execution_count": 161,
     "metadata": {},
     "output_type": "execute_result"
    }
   ],
   "source": [
    "languages"
   ]
  },
  {
   "cell_type": "code",
   "execution_count": 162,
   "id": "4bba7bd6",
   "metadata": {},
   "outputs": [
    {
     "data": {
      "text/plain": [
       "'W'"
      ]
     },
     "execution_count": 162,
     "metadata": {},
     "output_type": "execute_result"
    }
   ],
   "source": [
    "s[0]"
   ]
  },
  {
   "cell_type": "code",
   "execution_count": 163,
   "id": "8379fb37",
   "metadata": {},
   "outputs": [
    {
     "ename": "TypeError",
     "evalue": "'str' object does not support item assignment",
     "output_type": "error",
     "traceback": [
      "\u001b[1;31m---------------------------------------------------------------------------\u001b[0m",
      "\u001b[1;31mTypeError\u001b[0m                                 Traceback (most recent call last)",
      "\u001b[1;32m<ipython-input-163-f4775d040fea>\u001b[0m in \u001b[0;36m<module>\u001b[1;34m\u001b[0m\n\u001b[1;32m----> 1\u001b[1;33m \u001b[0ms\u001b[0m\u001b[1;33m[\u001b[0m\u001b[1;36m0\u001b[0m\u001b[1;33m]\u001b[0m \u001b[1;33m=\u001b[0m \u001b[1;34m\"z\"\u001b[0m  \u001b[1;31m#coz immutable\u001b[0m\u001b[1;33m\u001b[0m\u001b[1;33m\u001b[0m\u001b[0m\n\u001b[0m",
      "\u001b[1;31mTypeError\u001b[0m: 'str' object does not support item assignment"
     ]
    }
   ],
   "source": [
    "s[0] = \"z\"  #coz immutable"
   ]
  },
  {
   "cell_type": "code",
   "execution_count": 164,
   "id": "e9c0338f",
   "metadata": {},
   "outputs": [],
   "source": [
    "s = \"ZELCOME\""
   ]
  },
  {
   "cell_type": "code",
   "execution_count": 165,
   "id": "92a4a9fe",
   "metadata": {},
   "outputs": [
    {
     "data": {
      "text/plain": [
       "'ZELCOME'"
      ]
     },
     "execution_count": 165,
     "metadata": {},
     "output_type": "execute_result"
    }
   ],
   "source": [
    "s"
   ]
  },
  {
   "cell_type": "code",
   "execution_count": 166,
   "id": "a104a706",
   "metadata": {},
   "outputs": [],
   "source": [
    "a = \"Python\""
   ]
  },
  {
   "cell_type": "code",
   "execution_count": 167,
   "id": "f6fd6a21",
   "metadata": {},
   "outputs": [
    {
     "data": {
      "text/plain": [
       "2564620774000"
      ]
     },
     "execution_count": 167,
     "metadata": {},
     "output_type": "execute_result"
    }
   ],
   "source": [
    "id(a)"
   ]
  },
  {
   "cell_type": "code",
   "execution_count": 168,
   "id": "08cabd69",
   "metadata": {},
   "outputs": [],
   "source": [
    "a = \"Java\""
   ]
  },
  {
   "cell_type": "code",
   "execution_count": 169,
   "id": "c35e8d38",
   "metadata": {},
   "outputs": [
    {
     "data": {
      "text/plain": [
       "2564628980016"
      ]
     },
     "execution_count": 169,
     "metadata": {},
     "output_type": "execute_result"
    }
   ],
   "source": [
    "id(a)"
   ]
  },
  {
   "cell_type": "code",
   "execution_count": 170,
   "id": "d12f8271",
   "metadata": {},
   "outputs": [
    {
     "data": {
      "text/plain": [
       "'Java'"
      ]
     },
     "execution_count": 170,
     "metadata": {},
     "output_type": "execute_result"
    }
   ],
   "source": [
    "a"
   ]
  },
  {
   "cell_type": "code",
   "execution_count": 171,
   "id": "051d1ae5",
   "metadata": {},
   "outputs": [],
   "source": [
    "b = \"Java\""
   ]
  },
  {
   "cell_type": "code",
   "execution_count": 172,
   "id": "7477972f",
   "metadata": {},
   "outputs": [
    {
     "data": {
      "text/plain": [
       "2564628980016"
      ]
     },
     "execution_count": 172,
     "metadata": {},
     "output_type": "execute_result"
    }
   ],
   "source": [
    "id(b)"
   ]
  },
  {
   "cell_type": "code",
   "execution_count": 173,
   "id": "9e2e64f3",
   "metadata": {},
   "outputs": [],
   "source": [
    "# Mutable : List, Dict, Set\n",
    "#Immutable : String, Int, Float, Tuple, Bool"
   ]
  },
  {
   "cell_type": "code",
   "execution_count": 174,
   "id": "f21b9bcd",
   "metadata": {},
   "outputs": [],
   "source": [
    "# Reference count mechanism"
   ]
  },
  {
   "cell_type": "code",
   "execution_count": 175,
   "id": "1151ddd5",
   "metadata": {},
   "outputs": [],
   "source": [
    "b = \"Test\""
   ]
  },
  {
   "cell_type": "code",
   "execution_count": 176,
   "id": "721a3594",
   "metadata": {},
   "outputs": [
    {
     "data": {
      "text/plain": [
       "2564795114288"
      ]
     },
     "execution_count": 176,
     "metadata": {},
     "output_type": "execute_result"
    }
   ],
   "source": [
    "id(b)"
   ]
  },
  {
   "cell_type": "code",
   "execution_count": 177,
   "id": "d227efb5",
   "metadata": {},
   "outputs": [],
   "source": [
    "c = \"Test\""
   ]
  },
  {
   "cell_type": "code",
   "execution_count": 178,
   "id": "28dcd180",
   "metadata": {},
   "outputs": [
    {
     "data": {
      "text/plain": [
       "2564795114288"
      ]
     },
     "execution_count": 178,
     "metadata": {},
     "output_type": "execute_result"
    }
   ],
   "source": [
    "id(c)"
   ]
  },
  {
   "cell_type": "markdown",
   "id": "faa7b8bd",
   "metadata": {},
   "source": [
    "#### Sort"
   ]
  },
  {
   "cell_type": "code",
   "execution_count": 179,
   "id": "6199093f",
   "metadata": {},
   "outputs": [
    {
     "data": {
      "text/plain": [
       "['Java', 'Perl', 'Ruby']"
      ]
     },
     "execution_count": 179,
     "metadata": {},
     "output_type": "execute_result"
    }
   ],
   "source": [
    "languages"
   ]
  },
  {
   "cell_type": "code",
   "execution_count": 180,
   "id": "49aea627",
   "metadata": {},
   "outputs": [],
   "source": [
    "languages.append(\"CPP\")"
   ]
  },
  {
   "cell_type": "code",
   "execution_count": 181,
   "id": "79e7afc3",
   "metadata": {},
   "outputs": [],
   "source": [
    "languages.append(\"C#\")"
   ]
  },
  {
   "cell_type": "code",
   "execution_count": 182,
   "id": "bd5a47c7",
   "metadata": {},
   "outputs": [
    {
     "data": {
      "text/plain": [
       "['Java', 'Perl', 'Ruby', 'CPP', 'C#']"
      ]
     },
     "execution_count": 182,
     "metadata": {},
     "output_type": "execute_result"
    }
   ],
   "source": [
    "languages"
   ]
  },
  {
   "cell_type": "code",
   "execution_count": 183,
   "id": "9e015757",
   "metadata": {},
   "outputs": [],
   "source": [
    "languages.sort()  # IN-PLACE Sorting"
   ]
  },
  {
   "cell_type": "code",
   "execution_count": 184,
   "id": "7933c8dc",
   "metadata": {},
   "outputs": [
    {
     "data": {
      "text/plain": [
       "['C#', 'CPP', 'Java', 'Perl', 'Ruby']"
      ]
     },
     "execution_count": 184,
     "metadata": {},
     "output_type": "execute_result"
    }
   ],
   "source": [
    "languages"
   ]
  },
  {
   "cell_type": "markdown",
   "id": "e4c9b27f",
   "metadata": {},
   "source": [
    "#### Reverse"
   ]
  },
  {
   "cell_type": "code",
   "execution_count": 185,
   "id": "4f112047",
   "metadata": {},
   "outputs": [
    {
     "data": {
      "text/plain": [
       "['C#', 'CPP', 'Java', 'Perl', 'Ruby']"
      ]
     },
     "execution_count": 185,
     "metadata": {},
     "output_type": "execute_result"
    }
   ],
   "source": [
    "languages"
   ]
  },
  {
   "cell_type": "code",
   "execution_count": 186,
   "id": "4f2e318b",
   "metadata": {},
   "outputs": [],
   "source": [
    "languages.reverse()  # inplace reverse, modifies"
   ]
  },
  {
   "cell_type": "code",
   "execution_count": 187,
   "id": "9c6238fc",
   "metadata": {},
   "outputs": [
    {
     "data": {
      "text/plain": [
       "['Ruby', 'Perl', 'Java', 'CPP', 'C#']"
      ]
     },
     "execution_count": 187,
     "metadata": {},
     "output_type": "execute_result"
    }
   ],
   "source": [
    "languages"
   ]
  },
  {
   "cell_type": "code",
   "execution_count": null,
   "id": "47fa4276",
   "metadata": {},
   "outputs": [],
   "source": []
  },
  {
   "cell_type": "markdown",
   "id": "0196041f",
   "metadata": {},
   "source": [
    "## Tuple\n",
    "* Ordered Collection of items/objects/elementss\n",
    "* Syntav : ()\n",
    "* IMMUTABLE"
   ]
  },
  {
   "cell_type": "code",
   "execution_count": 188,
   "id": "6aa93f92",
   "metadata": {},
   "outputs": [],
   "source": [
    "vaccines = (\"Covaxin\", \"Covishild\", \"Sputnik\")"
   ]
  },
  {
   "cell_type": "code",
   "execution_count": 189,
   "id": "765a3398",
   "metadata": {},
   "outputs": [
    {
     "data": {
      "text/plain": [
       "('Covaxin', 'Covishild', 'Sputnik')"
      ]
     },
     "execution_count": 189,
     "metadata": {},
     "output_type": "execute_result"
    }
   ],
   "source": [
    "vaccines"
   ]
  },
  {
   "cell_type": "code",
   "execution_count": 190,
   "id": "2183da48",
   "metadata": {},
   "outputs": [
    {
     "name": "stdout",
     "output_type": "stream",
     "text": [
      "<class 'tuple'>\n"
     ]
    }
   ],
   "source": [
    "print(type(vaccines))"
   ]
  },
  {
   "cell_type": "code",
   "execution_count": 191,
   "id": "67e9e724",
   "metadata": {},
   "outputs": [
    {
     "data": {
      "text/plain": [
       "3"
      ]
     },
     "execution_count": 191,
     "metadata": {},
     "output_type": "execute_result"
    }
   ],
   "source": [
    "len(vaccines)"
   ]
  },
  {
   "cell_type": "code",
   "execution_count": 192,
   "id": "edc3f784",
   "metadata": {},
   "outputs": [
    {
     "data": {
      "text/plain": [
       "'Covaxin'"
      ]
     },
     "execution_count": 192,
     "metadata": {},
     "output_type": "execute_result"
    }
   ],
   "source": [
    "vaccines[0]"
   ]
  },
  {
   "cell_type": "code",
   "execution_count": 193,
   "id": "f6f93961",
   "metadata": {},
   "outputs": [
    {
     "data": {
      "text/plain": [
       "('Covaxin', 'Covishild')"
      ]
     },
     "execution_count": 193,
     "metadata": {},
     "output_type": "execute_result"
    }
   ],
   "source": [
    "vaccines[0:2]"
   ]
  },
  {
   "cell_type": "code",
   "execution_count": 194,
   "id": "7221cab9",
   "metadata": {},
   "outputs": [
    {
     "data": {
      "text/plain": [
       "1"
      ]
     },
     "execution_count": 194,
     "metadata": {},
     "output_type": "execute_result"
    }
   ],
   "source": [
    "vaccines.count(\"Covaxin\")"
   ]
  },
  {
   "cell_type": "code",
   "execution_count": 195,
   "id": "9ea8a0c3",
   "metadata": {},
   "outputs": [
    {
     "data": {
      "text/plain": [
       "2"
      ]
     },
     "execution_count": 195,
     "metadata": {},
     "output_type": "execute_result"
    }
   ],
   "source": [
    "vaccines.index(\"Sputnik\")"
   ]
  },
  {
   "cell_type": "code",
   "execution_count": 196,
   "id": "3bcf31d2",
   "metadata": {},
   "outputs": [
    {
     "ename": "TypeError",
     "evalue": "'tuple' object doesn't support item deletion",
     "output_type": "error",
     "traceback": [
      "\u001b[1;31m---------------------------------------------------------------------------\u001b[0m",
      "\u001b[1;31mTypeError\u001b[0m                                 Traceback (most recent call last)",
      "\u001b[1;32m<ipython-input-196-ab213a755767>\u001b[0m in \u001b[0;36m<module>\u001b[1;34m\u001b[0m\n\u001b[1;32m----> 1\u001b[1;33m \u001b[1;32mdel\u001b[0m \u001b[0mvaccines\u001b[0m\u001b[1;33m[\u001b[0m\u001b[1;36m0\u001b[0m\u001b[1;33m]\u001b[0m  \u001b[1;31m# not working\u001b[0m\u001b[1;33m\u001b[0m\u001b[1;33m\u001b[0m\u001b[0m\n\u001b[0m",
      "\u001b[1;31mTypeError\u001b[0m: 'tuple' object doesn't support item deletion"
     ]
    }
   ],
   "source": [
    "del vaccines[0]  # not working"
   ]
  },
  {
   "cell_type": "markdown",
   "id": "39f818ff",
   "metadata": {},
   "source": [
    "### Packing"
   ]
  },
  {
   "cell_type": "code",
   "execution_count": 197,
   "id": "1f5c13e0",
   "metadata": {},
   "outputs": [],
   "source": [
    "rs = \"Rohit\", 39, \"MUM\""
   ]
  },
  {
   "cell_type": "code",
   "execution_count": 198,
   "id": "51147539",
   "metadata": {},
   "outputs": [
    {
     "name": "stdout",
     "output_type": "stream",
     "text": [
      "('Rohit', 39, 'MUM')\n"
     ]
    }
   ],
   "source": [
    "print(rs)"
   ]
  },
  {
   "cell_type": "code",
   "execution_count": 199,
   "id": "cb728ae5",
   "metadata": {},
   "outputs": [
    {
     "name": "stdout",
     "output_type": "stream",
     "text": [
      "<class 'tuple'>\n"
     ]
    }
   ],
   "source": [
    "print(type(rs))"
   ]
  },
  {
   "cell_type": "code",
   "execution_count": 200,
   "id": "c0b9ece1",
   "metadata": {},
   "outputs": [],
   "source": [
    "name, age, team = \"Virat\", 35, \"RCB\""
   ]
  },
  {
   "cell_type": "code",
   "execution_count": 201,
   "id": "890f5be5",
   "metadata": {},
   "outputs": [
    {
     "data": {
      "text/plain": [
       "'Virat'"
      ]
     },
     "execution_count": 201,
     "metadata": {},
     "output_type": "execute_result"
    }
   ],
   "source": [
    "name"
   ]
  },
  {
   "cell_type": "code",
   "execution_count": 202,
   "id": "aa78df5a",
   "metadata": {},
   "outputs": [
    {
     "data": {
      "text/plain": [
       "35"
      ]
     },
     "execution_count": 202,
     "metadata": {},
     "output_type": "execute_result"
    }
   ],
   "source": [
    "age"
   ]
  },
  {
   "cell_type": "code",
   "execution_count": 203,
   "id": "769dffa2",
   "metadata": {},
   "outputs": [
    {
     "data": {
      "text/plain": [
       "'RCB'"
      ]
     },
     "execution_count": 203,
     "metadata": {},
     "output_type": "execute_result"
    }
   ],
   "source": [
    "team"
   ]
  },
  {
   "cell_type": "code",
   "execution_count": 204,
   "id": "29733655",
   "metadata": {},
   "outputs": [
    {
     "ename": "ValueError",
     "evalue": "too many values to unpack (expected 3)",
     "output_type": "error",
     "traceback": [
      "\u001b[1;31m---------------------------------------------------------------------------\u001b[0m",
      "\u001b[1;31mValueError\u001b[0m                                Traceback (most recent call last)",
      "\u001b[1;32m<ipython-input-204-581a0d477054>\u001b[0m in \u001b[0;36m<module>\u001b[1;34m\u001b[0m\n\u001b[1;32m----> 1\u001b[1;33m \u001b[0mname\u001b[0m\u001b[1;33m,\u001b[0m \u001b[0mage\u001b[0m\u001b[1;33m,\u001b[0m \u001b[0mteam\u001b[0m \u001b[1;33m=\u001b[0m \u001b[1;34m\"Virat\"\u001b[0m\u001b[1;33m,\u001b[0m \u001b[1;36m35\u001b[0m\u001b[1;33m,\u001b[0m \u001b[1;34m\"RCB\"\u001b[0m\u001b[1;33m,\u001b[0m \u001b[1;34m\"India\"\u001b[0m\u001b[1;33m\u001b[0m\u001b[1;33m\u001b[0m\u001b[0m\n\u001b[0m",
      "\u001b[1;31mValueError\u001b[0m: too many values to unpack (expected 3)"
     ]
    }
   ],
   "source": [
    "name, age, team = \"Virat\", 35, \"RCB\", \"India\""
   ]
  },
  {
   "cell_type": "code",
   "execution_count": 205,
   "id": "814c0b54",
   "metadata": {},
   "outputs": [],
   "source": [
    "name, age, *team = \"Virat\", 35, \"RCB\", \"India\""
   ]
  },
  {
   "cell_type": "code",
   "execution_count": 206,
   "id": "c7e3b867",
   "metadata": {},
   "outputs": [
    {
     "data": {
      "text/plain": [
       "'Virat'"
      ]
     },
     "execution_count": 206,
     "metadata": {},
     "output_type": "execute_result"
    }
   ],
   "source": [
    "name"
   ]
  },
  {
   "cell_type": "code",
   "execution_count": 207,
   "id": "d8bf160f",
   "metadata": {},
   "outputs": [
    {
     "data": {
      "text/plain": [
       "35"
      ]
     },
     "execution_count": 207,
     "metadata": {},
     "output_type": "execute_result"
    }
   ],
   "source": [
    "age"
   ]
  },
  {
   "cell_type": "code",
   "execution_count": 208,
   "id": "50830e7c",
   "metadata": {},
   "outputs": [
    {
     "data": {
      "text/plain": [
       "['RCB', 'India']"
      ]
     },
     "execution_count": 208,
     "metadata": {},
     "output_type": "execute_result"
    }
   ],
   "source": [
    "team"
   ]
  },
  {
   "cell_type": "code",
   "execution_count": 209,
   "id": "f8d05498",
   "metadata": {},
   "outputs": [],
   "source": [
    "*name, age, team = \"Virat\", 35, \"RCB\", \"India\""
   ]
  },
  {
   "cell_type": "code",
   "execution_count": 210,
   "id": "ae8f2de1",
   "metadata": {},
   "outputs": [
    {
     "data": {
      "text/plain": [
       "['Virat', 35]"
      ]
     },
     "execution_count": 210,
     "metadata": {},
     "output_type": "execute_result"
    }
   ],
   "source": [
    "name"
   ]
  },
  {
   "cell_type": "code",
   "execution_count": 211,
   "id": "7d4f05ca",
   "metadata": {},
   "outputs": [
    {
     "data": {
      "text/plain": [
       "'RCB'"
      ]
     },
     "execution_count": 211,
     "metadata": {},
     "output_type": "execute_result"
    }
   ],
   "source": [
    "age"
   ]
  },
  {
   "cell_type": "code",
   "execution_count": 212,
   "id": "18fc8aa6",
   "metadata": {},
   "outputs": [
    {
     "data": {
      "text/plain": [
       "'India'"
      ]
     },
     "execution_count": 212,
     "metadata": {},
     "output_type": "execute_result"
    }
   ],
   "source": [
    "team"
   ]
  },
  {
   "cell_type": "markdown",
   "id": "6654c765",
   "metadata": {},
   "source": [
    "### List in a tuple"
   ]
  },
  {
   "cell_type": "code",
   "execution_count": 213,
   "id": "38ae1fbc",
   "metadata": {},
   "outputs": [],
   "source": [
    "player = (\"Virat\", \"RCB\", [100, 120, 45, 60], \"Tests\")"
   ]
  },
  {
   "cell_type": "code",
   "execution_count": 214,
   "id": "bcd6bd82",
   "metadata": {},
   "outputs": [
    {
     "name": "stdout",
     "output_type": "stream",
     "text": [
      "('Virat', 'RCB', [100, 120, 45, 60], 'Tests')\n"
     ]
    }
   ],
   "source": [
    "print(player)"
   ]
  },
  {
   "cell_type": "code",
   "execution_count": 215,
   "id": "99d3c357",
   "metadata": {},
   "outputs": [
    {
     "data": {
      "text/plain": [
       "tuple"
      ]
     },
     "execution_count": 215,
     "metadata": {},
     "output_type": "execute_result"
    }
   ],
   "source": [
    "type(player)"
   ]
  },
  {
   "cell_type": "code",
   "execution_count": 216,
   "id": "ade44beb",
   "metadata": {},
   "outputs": [
    {
     "data": {
      "text/plain": [
       "[100, 120, 45, 60]"
      ]
     },
     "execution_count": 216,
     "metadata": {},
     "output_type": "execute_result"
    }
   ],
   "source": [
    "player[2]"
   ]
  },
  {
   "cell_type": "code",
   "execution_count": 217,
   "id": "66e1a086",
   "metadata": {},
   "outputs": [
    {
     "ename": "TypeError",
     "evalue": "'tuple' object does not support item assignment",
     "output_type": "error",
     "traceback": [
      "\u001b[1;31m---------------------------------------------------------------------------\u001b[0m",
      "\u001b[1;31mTypeError\u001b[0m                                 Traceback (most recent call last)",
      "\u001b[1;32m<ipython-input-217-c21d100892bf>\u001b[0m in \u001b[0;36m<module>\u001b[1;34m\u001b[0m\n\u001b[1;32m----> 1\u001b[1;33m \u001b[0mplayer\u001b[0m\u001b[1;33m[\u001b[0m\u001b[1;36m0\u001b[0m\u001b[1;33m]\u001b[0m \u001b[1;33m=\u001b[0m \u001b[1;34m\"Virat Kohali\"\u001b[0m\u001b[1;33m\u001b[0m\u001b[1;33m\u001b[0m\u001b[0m\n\u001b[0m",
      "\u001b[1;31mTypeError\u001b[0m: 'tuple' object does not support item assignment"
     ]
    }
   ],
   "source": [
    "player[0] = \"Virat Kohali\""
   ]
  },
  {
   "cell_type": "code",
   "execution_count": 218,
   "id": "01c20a4e",
   "metadata": {},
   "outputs": [],
   "source": [
    "player[2].append(111)"
   ]
  },
  {
   "cell_type": "code",
   "execution_count": 219,
   "id": "629c9ca2",
   "metadata": {},
   "outputs": [
    {
     "data": {
      "text/plain": [
       "[100, 120, 45, 60, 111]"
      ]
     },
     "execution_count": 219,
     "metadata": {},
     "output_type": "execute_result"
    }
   ],
   "source": [
    "player[2]"
   ]
  },
  {
   "cell_type": "code",
   "execution_count": 220,
   "id": "65ff1736",
   "metadata": {},
   "outputs": [
    {
     "data": {
      "text/plain": [
       "('Virat', 'RCB', [100, 120, 45, 60, 111], 'Tests')"
      ]
     },
     "execution_count": 220,
     "metadata": {},
     "output_type": "execute_result"
    }
   ],
   "source": [
    "player"
   ]
  },
  {
   "cell_type": "code",
   "execution_count": 221,
   "id": "fde13c7c",
   "metadata": {},
   "outputs": [
    {
     "ename": "TypeError",
     "evalue": "'tuple' object does not support item assignment",
     "output_type": "error",
     "traceback": [
      "\u001b[1;31m---------------------------------------------------------------------------\u001b[0m",
      "\u001b[1;31mTypeError\u001b[0m                                 Traceback (most recent call last)",
      "\u001b[1;32m<ipython-input-221-f255be283ac1>\u001b[0m in \u001b[0;36m<module>\u001b[1;34m\u001b[0m\n\u001b[1;32m----> 1\u001b[1;33m \u001b[0mplayer\u001b[0m\u001b[1;33m[\u001b[0m\u001b[1;36m2\u001b[0m\u001b[1;33m]\u001b[0m \u001b[1;33m=\u001b[0m \u001b[1;34m\"SomeOtherValue\"\u001b[0m\u001b[1;33m\u001b[0m\u001b[1;33m\u001b[0m\u001b[0m\n\u001b[0m",
      "\u001b[1;31mTypeError\u001b[0m: 'tuple' object does not support item assignment"
     ]
    }
   ],
   "source": [
    "player[2] = \"SomeOtherValue\""
   ]
  },
  {
   "cell_type": "markdown",
   "id": "55db48f1",
   "metadata": {},
   "source": [
    "### IN operator"
   ]
  },
  {
   "cell_type": "code",
   "execution_count": 222,
   "id": "d3ca5b9a",
   "metadata": {},
   "outputs": [
    {
     "data": {
      "text/plain": [
       "('Virat', 'RCB', [100, 120, 45, 60, 111], 'Tests')"
      ]
     },
     "execution_count": 222,
     "metadata": {},
     "output_type": "execute_result"
    }
   ],
   "source": [
    "player"
   ]
  },
  {
   "cell_type": "code",
   "execution_count": 223,
   "id": "4f7cbcfa",
   "metadata": {},
   "outputs": [
    {
     "data": {
      "text/plain": [
       "True"
      ]
     },
     "execution_count": 223,
     "metadata": {},
     "output_type": "execute_result"
    }
   ],
   "source": [
    "\"Virat\" in player"
   ]
  },
  {
   "cell_type": "code",
   "execution_count": 224,
   "id": "271a974d",
   "metadata": {},
   "outputs": [
    {
     "data": {
      "text/plain": [
       "False"
      ]
     },
     "execution_count": 224,
     "metadata": {},
     "output_type": "execute_result"
    }
   ],
   "source": [
    "\"Rohit\" in player"
   ]
  },
  {
   "cell_type": "code",
   "execution_count": 225,
   "id": "97c5fc2c",
   "metadata": {},
   "outputs": [
    {
     "data": {
      "text/plain": [
       "True"
      ]
     },
     "execution_count": 225,
     "metadata": {},
     "output_type": "execute_result"
    }
   ],
   "source": [
    "\"Dhoni\" not in player"
   ]
  },
  {
   "cell_type": "code",
   "execution_count": 226,
   "id": "3efbed03",
   "metadata": {},
   "outputs": [],
   "source": [
    "s = \"WELCOME\""
   ]
  },
  {
   "cell_type": "code",
   "execution_count": 227,
   "id": "614f5214",
   "metadata": {},
   "outputs": [
    {
     "data": {
      "text/plain": [
       "True"
      ]
     },
     "execution_count": 227,
     "metadata": {},
     "output_type": "execute_result"
    }
   ],
   "source": [
    "\"W\" in s"
   ]
  },
  {
   "cell_type": "code",
   "execution_count": 228,
   "id": "6e0013fe",
   "metadata": {},
   "outputs": [
    {
     "data": {
      "text/plain": [
       "False"
      ]
     },
     "execution_count": 228,
     "metadata": {},
     "output_type": "execute_result"
    }
   ],
   "source": [
    "\"Y\" in s"
   ]
  },
  {
   "cell_type": "code",
   "execution_count": 229,
   "id": "0b855e36",
   "metadata": {},
   "outputs": [
    {
     "data": {
      "text/plain": [
       "True"
      ]
     },
     "execution_count": 229,
     "metadata": {},
     "output_type": "execute_result"
    }
   ],
   "source": [
    "\"a\" not in s"
   ]
  },
  {
   "cell_type": "code",
   "execution_count": 230,
   "id": "1e234858",
   "metadata": {},
   "outputs": [
    {
     "data": {
      "text/plain": [
       "True"
      ]
     },
     "execution_count": 230,
     "metadata": {},
     "output_type": "execute_result"
    }
   ],
   "source": [
    "\"Ruby\" in languages"
   ]
  },
  {
   "cell_type": "code",
   "execution_count": 231,
   "id": "1fb684ab",
   "metadata": {},
   "outputs": [
    {
     "data": {
      "text/plain": [
       "False"
      ]
     },
     "execution_count": 231,
     "metadata": {},
     "output_type": "execute_result"
    }
   ],
   "source": [
    "\"Python\" in languages"
   ]
  },
  {
   "cell_type": "markdown",
   "id": "7eb6ea80",
   "metadata": {},
   "source": [
    "### Misc - String"
   ]
  },
  {
   "cell_type": "code",
   "execution_count": 232,
   "id": "a35e2a21",
   "metadata": {},
   "outputs": [],
   "source": [
    "location = \"C:\\newfolder\""
   ]
  },
  {
   "cell_type": "code",
   "execution_count": 233,
   "id": "1306cb5e",
   "metadata": {},
   "outputs": [
    {
     "name": "stdout",
     "output_type": "stream",
     "text": [
      "C:\n",
      "ewfolder\n"
     ]
    }
   ],
   "source": [
    "print(location)"
   ]
  },
  {
   "cell_type": "code",
   "execution_count": 234,
   "id": "dcd9ca80",
   "metadata": {},
   "outputs": [],
   "source": [
    "location = \"C:\\\\newfolder\""
   ]
  },
  {
   "cell_type": "code",
   "execution_count": 235,
   "id": "ee8dbc6d",
   "metadata": {},
   "outputs": [
    {
     "name": "stdout",
     "output_type": "stream",
     "text": [
      "C:\\newfolder\n"
     ]
    }
   ],
   "source": [
    "print(location)"
   ]
  },
  {
   "cell_type": "code",
   "execution_count": 236,
   "id": "370e91f9",
   "metadata": {},
   "outputs": [
    {
     "data": {
      "text/plain": [
       "'C:\\\\newfolder'"
      ]
     },
     "execution_count": 236,
     "metadata": {},
     "output_type": "execute_result"
    }
   ],
   "source": [
    "location"
   ]
  },
  {
   "cell_type": "code",
   "execution_count": 237,
   "id": "3cf542cb",
   "metadata": {},
   "outputs": [],
   "source": [
    "location = r\"C:\\newfolder\""
   ]
  },
  {
   "cell_type": "code",
   "execution_count": 238,
   "id": "1744e03d",
   "metadata": {},
   "outputs": [],
   "source": [
    "# r => RAW String => Treat the string as it is.(Don't escape any charactors)"
   ]
  },
  {
   "cell_type": "code",
   "execution_count": 239,
   "id": "9c9fdcb7",
   "metadata": {},
   "outputs": [
    {
     "name": "stdout",
     "output_type": "stream",
     "text": [
      "C:\\newfolder\n"
     ]
    }
   ],
   "source": [
    "print(location)"
   ]
  },
  {
   "cell_type": "markdown",
   "id": "3b3fbd55",
   "metadata": {},
   "source": [
    "### Fomat"
   ]
  },
  {
   "cell_type": "code",
   "execution_count": 240,
   "id": "cbce358a",
   "metadata": {},
   "outputs": [],
   "source": [
    "sessionCount = 10"
   ]
  },
  {
   "cell_type": "code",
   "execution_count": 241,
   "id": "d65f8c1d",
   "metadata": {},
   "outputs": [],
   "source": [
    "chapters = 8"
   ]
  },
  {
   "cell_type": "code",
   "execution_count": 242,
   "id": "c3c96daa",
   "metadata": {},
   "outputs": [
    {
     "name": "stdout",
     "output_type": "stream",
     "text": [
      "8\n"
     ]
    }
   ],
   "source": [
    "print(chapters)"
   ]
  },
  {
   "cell_type": "code",
   "execution_count": 243,
   "id": "195e51bf",
   "metadata": {},
   "outputs": [
    {
     "name": "stdout",
     "output_type": "stream",
     "text": [
      "8\n"
     ]
    }
   ],
   "source": [
    "print(str(chapters))"
   ]
  },
  {
   "cell_type": "code",
   "execution_count": 244,
   "id": "f42073df",
   "metadata": {},
   "outputs": [
    {
     "ename": "TypeError",
     "evalue": "can only concatenate str (not \"int\") to str",
     "output_type": "error",
     "traceback": [
      "\u001b[1;31m---------------------------------------------------------------------------\u001b[0m",
      "\u001b[1;31mTypeError\u001b[0m                                 Traceback (most recent call last)",
      "\u001b[1;32m<ipython-input-244-96b45c86e1de>\u001b[0m in \u001b[0;36m<module>\u001b[1;34m\u001b[0m\n\u001b[1;32m----> 1\u001b[1;33m \u001b[0mmsg\u001b[0m \u001b[1;33m=\u001b[0m \u001b[1;34m\"There will be \"\u001b[0m \u001b[1;33m+\u001b[0m \u001b[0mchapters\u001b[0m\u001b[1;33m\u001b[0m\u001b[1;33m\u001b[0m\u001b[0m\n\u001b[0m",
      "\u001b[1;31mTypeError\u001b[0m: can only concatenate str (not \"int\") to str"
     ]
    }
   ],
   "source": [
    "msg = \"There will be \" + chapters"
   ]
  },
  {
   "cell_type": "code",
   "execution_count": 245,
   "id": "dda7b957",
   "metadata": {},
   "outputs": [],
   "source": [
    "msg = \"There will be \" + str(chapters) + \" chapters in the course, spanned across \" + str(sessionCount)"
   ]
  },
  {
   "cell_type": "code",
   "execution_count": 246,
   "id": "a940f685",
   "metadata": {},
   "outputs": [
    {
     "name": "stdout",
     "output_type": "stream",
     "text": [
      "There will be 8 chapters in the course, spanned across 10\n"
     ]
    }
   ],
   "source": [
    "print(msg)"
   ]
  },
  {
   "cell_type": "code",
   "execution_count": 247,
   "id": "437eb776",
   "metadata": {},
   "outputs": [],
   "source": [
    "fmsg = \"There will be {} chapters in the course, spanned across {} sessions.\".format(chapters, sessionCount)"
   ]
  },
  {
   "cell_type": "code",
   "execution_count": 248,
   "id": "01b2f221",
   "metadata": {},
   "outputs": [
    {
     "name": "stdout",
     "output_type": "stream",
     "text": [
      "There will be 8 chapters in the course, spanned across 10 sessions.\n"
     ]
    }
   ],
   "source": [
    "print(fmsg)"
   ]
  },
  {
   "cell_type": "code",
   "execution_count": null,
   "id": "4a4b0599",
   "metadata": {},
   "outputs": [],
   "source": []
  },
  {
   "cell_type": "markdown",
   "id": "0d61b91f",
   "metadata": {},
   "source": [
    "## Dictionaries\n",
    "* Collection of key value pairs\n",
    "* Syntax : {}\n",
    "* MUTABLE\n",
    "* Maps, Hash maps"
   ]
  },
  {
   "cell_type": "code",
   "execution_count": 249,
   "id": "8413fc40",
   "metadata": {},
   "outputs": [],
   "source": [
    "fruits = {\"a\":\"apple\", \"b\":\"banana\",\"c\":\"cherry\"}"
   ]
  },
  {
   "cell_type": "code",
   "execution_count": 250,
   "id": "1c08b4cb",
   "metadata": {},
   "outputs": [
    {
     "name": "stdout",
     "output_type": "stream",
     "text": [
      "{'a': 'apple', 'b': 'banana', 'c': 'cherry'}\n"
     ]
    }
   ],
   "source": [
    "print(fruits)"
   ]
  },
  {
   "cell_type": "code",
   "execution_count": 251,
   "id": "e1236123",
   "metadata": {},
   "outputs": [
    {
     "name": "stdout",
     "output_type": "stream",
     "text": [
      "<class 'dict'>\n"
     ]
    }
   ],
   "source": [
    "print(type(fruits))"
   ]
  },
  {
   "cell_type": "code",
   "execution_count": 252,
   "id": "5fcf343e",
   "metadata": {},
   "outputs": [
    {
     "data": {
      "text/plain": [
       "3"
      ]
     },
     "execution_count": 252,
     "metadata": {},
     "output_type": "execute_result"
    }
   ],
   "source": [
    "len(fruits)"
   ]
  },
  {
   "cell_type": "code",
   "execution_count": 253,
   "id": "1cc4fcce",
   "metadata": {},
   "outputs": [
    {
     "data": {
      "text/plain": [
       "'apple'"
      ]
     },
     "execution_count": 253,
     "metadata": {},
     "output_type": "execute_result"
    }
   ],
   "source": [
    "fruits['a']"
   ]
  },
  {
   "cell_type": "code",
   "execution_count": 254,
   "id": "a15c5f8a",
   "metadata": {},
   "outputs": [
    {
     "ename": "KeyError",
     "evalue": "'d'",
     "output_type": "error",
     "traceback": [
      "\u001b[1;31m---------------------------------------------------------------------------\u001b[0m",
      "\u001b[1;31mKeyError\u001b[0m                                  Traceback (most recent call last)",
      "\u001b[1;32m<ipython-input-254-e8415fe90d81>\u001b[0m in \u001b[0;36m<module>\u001b[1;34m\u001b[0m\n\u001b[1;32m----> 1\u001b[1;33m \u001b[0mfruits\u001b[0m\u001b[1;33m[\u001b[0m\u001b[1;34m'd'\u001b[0m\u001b[1;33m]\u001b[0m\u001b[1;33m\u001b[0m\u001b[1;33m\u001b[0m\u001b[0m\n\u001b[0m",
      "\u001b[1;31mKeyError\u001b[0m: 'd'"
     ]
    }
   ],
   "source": [
    "fruits['d']"
   ]
  },
  {
   "cell_type": "markdown",
   "id": "c27ccecd",
   "metadata": {},
   "source": [
    "### Add elements to dict"
   ]
  },
  {
   "cell_type": "code",
   "execution_count": 255,
   "id": "a12a6be0",
   "metadata": {},
   "outputs": [],
   "source": [
    "fruits['p'] = 'papaya'"
   ]
  },
  {
   "cell_type": "code",
   "execution_count": 256,
   "id": "15477f31",
   "metadata": {},
   "outputs": [
    {
     "data": {
      "text/plain": [
       "{'a': 'apple', 'b': 'banana', 'c': 'cherry', 'p': 'papaya'}"
      ]
     },
     "execution_count": 256,
     "metadata": {},
     "output_type": "execute_result"
    }
   ],
   "source": [
    "fruits"
   ]
  },
  {
   "cell_type": "code",
   "execution_count": 257,
   "id": "e11ceb46",
   "metadata": {},
   "outputs": [],
   "source": [
    "fruits['a'] = 'apricot'"
   ]
  },
  {
   "cell_type": "code",
   "execution_count": 258,
   "id": "e9683b40",
   "metadata": {},
   "outputs": [
    {
     "data": {
      "text/plain": [
       "{'a': 'apricot', 'b': 'banana', 'c': 'cherry', 'p': 'papaya'}"
      ]
     },
     "execution_count": 258,
     "metadata": {},
     "output_type": "execute_result"
    }
   ],
   "source": [
    "fruits"
   ]
  },
  {
   "cell_type": "markdown",
   "id": "e00284f9",
   "metadata": {},
   "source": [
    "### Delete element(key-value) from dict"
   ]
  },
  {
   "cell_type": "code",
   "execution_count": 259,
   "id": "09e0ed28",
   "metadata": {},
   "outputs": [
    {
     "data": {
      "text/plain": [
       "'banana'"
      ]
     },
     "execution_count": 259,
     "metadata": {},
     "output_type": "execute_result"
    }
   ],
   "source": [
    "fruits.pop(\"b\")"
   ]
  },
  {
   "cell_type": "code",
   "execution_count": 260,
   "id": "811a8dad",
   "metadata": {},
   "outputs": [
    {
     "data": {
      "text/plain": [
       "{'a': 'apricot', 'c': 'cherry', 'p': 'papaya'}"
      ]
     },
     "execution_count": 260,
     "metadata": {},
     "output_type": "execute_result"
    }
   ],
   "source": [
    "fruits"
   ]
  },
  {
   "cell_type": "code",
   "execution_count": 261,
   "id": "208aa6bf",
   "metadata": {},
   "outputs": [],
   "source": [
    "# using del keyword "
   ]
  },
  {
   "cell_type": "code",
   "execution_count": 262,
   "id": "27d85dfa",
   "metadata": {},
   "outputs": [],
   "source": [
    "del fruits['c']"
   ]
  },
  {
   "cell_type": "code",
   "execution_count": 263,
   "id": "21c96768",
   "metadata": {},
   "outputs": [
    {
     "data": {
      "text/plain": [
       "{'a': 'apricot', 'p': 'papaya'}"
      ]
     },
     "execution_count": 263,
     "metadata": {},
     "output_type": "execute_result"
    }
   ],
   "source": [
    "fruits"
   ]
  },
  {
   "cell_type": "code",
   "execution_count": 264,
   "id": "7736abd1",
   "metadata": {},
   "outputs": [
    {
     "data": {
      "text/plain": [
       "('p', 'papaya')"
      ]
     },
     "execution_count": 264,
     "metadata": {},
     "output_type": "execute_result"
    }
   ],
   "source": [
    "fruits.popitem() #delete last key-value pair"
   ]
  },
  {
   "cell_type": "code",
   "execution_count": 265,
   "id": "dc1f60be",
   "metadata": {},
   "outputs": [
    {
     "data": {
      "text/plain": [
       "{'a': 'apricot'}"
      ]
     },
     "execution_count": 265,
     "metadata": {},
     "output_type": "execute_result"
    }
   ],
   "source": [
    "fruits"
   ]
  },
  {
   "cell_type": "code",
   "execution_count": 266,
   "id": "761844fe",
   "metadata": {},
   "outputs": [
    {
     "data": {
      "text/plain": [
       "('a', 'apricot')"
      ]
     },
     "execution_count": 266,
     "metadata": {},
     "output_type": "execute_result"
    }
   ],
   "source": [
    "fruits.popitem()"
   ]
  },
  {
   "cell_type": "code",
   "execution_count": 267,
   "id": "96ff7e39",
   "metadata": {},
   "outputs": [
    {
     "data": {
      "text/plain": [
       "{}"
      ]
     },
     "execution_count": 267,
     "metadata": {},
     "output_type": "execute_result"
    }
   ],
   "source": [
    "fruits"
   ]
  },
  {
   "cell_type": "code",
   "execution_count": 268,
   "id": "f8534b8b",
   "metadata": {},
   "outputs": [
    {
     "ename": "KeyError",
     "evalue": "'popitem(): dictionary is empty'",
     "output_type": "error",
     "traceback": [
      "\u001b[1;31m---------------------------------------------------------------------------\u001b[0m",
      "\u001b[1;31mKeyError\u001b[0m                                  Traceback (most recent call last)",
      "\u001b[1;32m<ipython-input-268-dc20ee1c1c35>\u001b[0m in \u001b[0;36m<module>\u001b[1;34m\u001b[0m\n\u001b[1;32m----> 1\u001b[1;33m \u001b[0mfruits\u001b[0m\u001b[1;33m.\u001b[0m\u001b[0mpopitem\u001b[0m\u001b[1;33m(\u001b[0m\u001b[1;33m)\u001b[0m\u001b[1;33m\u001b[0m\u001b[1;33m\u001b[0m\u001b[0m\n\u001b[0m",
      "\u001b[1;31mKeyError\u001b[0m: 'popitem(): dictionary is empty'"
     ]
    }
   ],
   "source": [
    "fruits.popitem()"
   ]
  },
  {
   "cell_type": "markdown",
   "id": "e8dd89a0",
   "metadata": {},
   "source": [
    "### Misc Operations"
   ]
  },
  {
   "cell_type": "code",
   "execution_count": 269,
   "id": "1cdd2fd1",
   "metadata": {},
   "outputs": [
    {
     "data": {
      "text/plain": [
       "{}"
      ]
     },
     "execution_count": 269,
     "metadata": {},
     "output_type": "execute_result"
    }
   ],
   "source": [
    "fruits"
   ]
  },
  {
   "cell_type": "code",
   "execution_count": 270,
   "id": "d79ccff0",
   "metadata": {},
   "outputs": [],
   "source": [
    "fruits['a'] = 'apple'\n",
    "fruits['b'] = 'banana'\n",
    "fruits['c'] = 'cherry'"
   ]
  },
  {
   "cell_type": "code",
   "execution_count": 271,
   "id": "c11315a9",
   "metadata": {},
   "outputs": [
    {
     "data": {
      "text/plain": [
       "{'a': 'apple', 'b': 'banana', 'c': 'cherry'}"
      ]
     },
     "execution_count": 271,
     "metadata": {},
     "output_type": "execute_result"
    }
   ],
   "source": [
    "fruits"
   ]
  },
  {
   "cell_type": "code",
   "execution_count": 272,
   "id": "321a6a56",
   "metadata": {},
   "outputs": [
    {
     "data": {
      "text/plain": [
       "dict_keys(['a', 'b', 'c'])"
      ]
     },
     "execution_count": 272,
     "metadata": {},
     "output_type": "execute_result"
    }
   ],
   "source": [
    "fruits.keys()"
   ]
  },
  {
   "cell_type": "code",
   "execution_count": 273,
   "id": "b8f849cc",
   "metadata": {},
   "outputs": [
    {
     "data": {
      "text/plain": [
       "dict_values(['apple', 'banana', 'cherry'])"
      ]
     },
     "execution_count": 273,
     "metadata": {},
     "output_type": "execute_result"
    }
   ],
   "source": [
    "fruits.values()"
   ]
  },
  {
   "cell_type": "code",
   "execution_count": 274,
   "id": "67fa7023",
   "metadata": {},
   "outputs": [
    {
     "data": {
      "text/plain": [
       "dict_items([('a', 'apple'), ('b', 'banana'), ('c', 'cherry')])"
      ]
     },
     "execution_count": 274,
     "metadata": {},
     "output_type": "execute_result"
    }
   ],
   "source": [
    "fruits.items()"
   ]
  },
  {
   "cell_type": "code",
   "execution_count": 275,
   "id": "088ba1e8",
   "metadata": {},
   "outputs": [
    {
     "name": "stdout",
     "output_type": "stream",
     "text": [
      "<class 'dict_items'>\n"
     ]
    }
   ],
   "source": [
    "print(type(fruits.items()))"
   ]
  },
  {
   "cell_type": "code",
   "execution_count": 276,
   "id": "51713320",
   "metadata": {},
   "outputs": [],
   "source": [
    "# IN operator"
   ]
  },
  {
   "cell_type": "code",
   "execution_count": 277,
   "id": "033c7238",
   "metadata": {},
   "outputs": [
    {
     "data": {
      "text/plain": [
       "True"
      ]
     },
     "execution_count": 277,
     "metadata": {},
     "output_type": "execute_result"
    }
   ],
   "source": [
    "\"a\" in fruits"
   ]
  },
  {
   "cell_type": "code",
   "execution_count": 278,
   "id": "3adacc5b",
   "metadata": {},
   "outputs": [
    {
     "data": {
      "text/plain": [
       "False"
      ]
     },
     "execution_count": 278,
     "metadata": {},
     "output_type": "execute_result"
    }
   ],
   "source": [
    "\"banana\" in fruits  # only for key access"
   ]
  },
  {
   "cell_type": "code",
   "execution_count": 279,
   "id": "3421cafe",
   "metadata": {},
   "outputs": [
    {
     "data": {
      "text/plain": [
       "True"
      ]
     },
     "execution_count": 279,
     "metadata": {},
     "output_type": "execute_result"
    }
   ],
   "source": [
    "\"banana\" in fruits.values()"
   ]
  },
  {
   "cell_type": "code",
   "execution_count": 280,
   "id": "1dcde1e1",
   "metadata": {},
   "outputs": [
    {
     "data": {
      "text/plain": [
       "False"
      ]
     },
     "execution_count": 280,
     "metadata": {},
     "output_type": "execute_result"
    }
   ],
   "source": [
    "\"c\" not in fruits"
   ]
  },
  {
   "cell_type": "code",
   "execution_count": null,
   "id": "487d1be0",
   "metadata": {},
   "outputs": [],
   "source": []
  },
  {
   "cell_type": "markdown",
   "id": "e0e006cc",
   "metadata": {},
   "source": [
    "## Range\n",
    "* Used to generate a series/sequence of numbers\n",
    "* Start (include) : Stop(exclude) : Step count"
   ]
  },
  {
   "cell_type": "code",
   "execution_count": 281,
   "id": "406c7f2a",
   "metadata": {},
   "outputs": [],
   "source": [
    "r = range(0, 11)"
   ]
  },
  {
   "cell_type": "code",
   "execution_count": 282,
   "id": "8ad8be90",
   "metadata": {},
   "outputs": [
    {
     "data": {
      "text/plain": [
       "range(0, 11)"
      ]
     },
     "execution_count": 282,
     "metadata": {},
     "output_type": "execute_result"
    }
   ],
   "source": [
    "r"
   ]
  },
  {
   "cell_type": "code",
   "execution_count": 283,
   "id": "e1b8c819",
   "metadata": {},
   "outputs": [
    {
     "name": "stdout",
     "output_type": "stream",
     "text": [
      "<class 'range'>\n"
     ]
    }
   ],
   "source": [
    "print(type(r))"
   ]
  },
  {
   "cell_type": "code",
   "execution_count": 284,
   "id": "1ef9b2c9",
   "metadata": {},
   "outputs": [
    {
     "data": {
      "text/plain": [
       "[0, 1, 2, 3, 4, 5, 6, 7, 8, 9, 10]"
      ]
     },
     "execution_count": 284,
     "metadata": {},
     "output_type": "execute_result"
    }
   ],
   "source": [
    "list(r)"
   ]
  },
  {
   "cell_type": "code",
   "execution_count": 285,
   "id": "477b3950",
   "metadata": {},
   "outputs": [
    {
     "data": {
      "text/plain": [
       "(0, 1, 2, 3, 4, 5, 6, 7, 8, 9, 10)"
      ]
     },
     "execution_count": 285,
     "metadata": {},
     "output_type": "execute_result"
    }
   ],
   "source": [
    "tuple(r)"
   ]
  },
  {
   "cell_type": "code",
   "execution_count": 286,
   "id": "8e32fc8c",
   "metadata": {},
   "outputs": [],
   "source": [
    "r1 = range(15)"
   ]
  },
  {
   "cell_type": "code",
   "execution_count": 287,
   "id": "5c539179",
   "metadata": {},
   "outputs": [
    {
     "name": "stdout",
     "output_type": "stream",
     "text": [
      "range(0, 15)\n"
     ]
    }
   ],
   "source": [
    "print(r1)"
   ]
  },
  {
   "cell_type": "code",
   "execution_count": 288,
   "id": "e43a92b7",
   "metadata": {},
   "outputs": [
    {
     "data": {
      "text/plain": [
       "[0, 1, 2, 3, 4, 5, 6, 7, 8, 9, 10, 11, 12, 13, 14]"
      ]
     },
     "execution_count": 288,
     "metadata": {},
     "output_type": "execute_result"
    }
   ],
   "source": [
    "list(r1)"
   ]
  },
  {
   "cell_type": "code",
   "execution_count": 289,
   "id": "f2f2c5bf",
   "metadata": {},
   "outputs": [],
   "source": [
    "r2 = range(5, 20, 2)"
   ]
  },
  {
   "cell_type": "code",
   "execution_count": 290,
   "id": "1c27c13c",
   "metadata": {},
   "outputs": [
    {
     "name": "stdout",
     "output_type": "stream",
     "text": [
      "range(5, 20, 2)\n"
     ]
    }
   ],
   "source": [
    "print(r2)"
   ]
  },
  {
   "cell_type": "code",
   "execution_count": 291,
   "id": "a3af864f",
   "metadata": {},
   "outputs": [
    {
     "data": {
      "text/plain": [
       "[5, 7, 9, 11, 13, 15, 17, 19]"
      ]
     },
     "execution_count": 291,
     "metadata": {},
     "output_type": "execute_result"
    }
   ],
   "source": [
    "list(r2)"
   ]
  },
  {
   "cell_type": "code",
   "execution_count": 292,
   "id": "5e066bb5",
   "metadata": {},
   "outputs": [],
   "source": [
    "r4 = range(100, 0, -10)"
   ]
  },
  {
   "cell_type": "code",
   "execution_count": 293,
   "id": "3edaa589",
   "metadata": {},
   "outputs": [
    {
     "data": {
      "text/plain": [
       "[100, 90, 80, 70, 60, 50, 40, 30, 20, 10]"
      ]
     },
     "execution_count": 293,
     "metadata": {},
     "output_type": "execute_result"
    }
   ],
   "source": [
    "list(r4)"
   ]
  },
  {
   "cell_type": "code",
   "execution_count": 294,
   "id": "a5e6ac0c",
   "metadata": {},
   "outputs": [],
   "source": [
    "r5 = range(-10, -100, 10)"
   ]
  },
  {
   "cell_type": "code",
   "execution_count": 295,
   "id": "e7af658f",
   "metadata": {},
   "outputs": [
    {
     "data": {
      "text/plain": [
       "[]"
      ]
     },
     "execution_count": 295,
     "metadata": {},
     "output_type": "execute_result"
    }
   ],
   "source": [
    "list(r5)"
   ]
  },
  {
   "cell_type": "code",
   "execution_count": 296,
   "id": "f36af43f",
   "metadata": {},
   "outputs": [],
   "source": [
    "r6 = range(-10, -100, -10)"
   ]
  },
  {
   "cell_type": "code",
   "execution_count": 297,
   "id": "f95f49c3",
   "metadata": {},
   "outputs": [
    {
     "data": {
      "text/plain": [
       "[-10, -20, -30, -40, -50, -60, -70, -80, -90]"
      ]
     },
     "execution_count": 297,
     "metadata": {},
     "output_type": "execute_result"
    }
   ],
   "source": [
    "list(r6)"
   ]
  },
  {
   "cell_type": "code",
   "execution_count": null,
   "id": "3e02cb7b",
   "metadata": {},
   "outputs": [],
   "source": []
  },
  {
   "cell_type": "markdown",
   "id": "672841de",
   "metadata": {},
   "source": [
    "## Sets\n",
    "* Unique collection of IMMUTABLE items/objects\n",
    "* Syntax: {}\n",
    "* MUTABLE"
   ]
  },
  {
   "cell_type": "code",
   "execution_count": 298,
   "id": "12bc629c",
   "metadata": {},
   "outputs": [],
   "source": [
    "a = {\"Sun\", \"Mon\", \"Tue\"}"
   ]
  },
  {
   "cell_type": "code",
   "execution_count": 299,
   "id": "742c4a90",
   "metadata": {},
   "outputs": [
    {
     "name": "stdout",
     "output_type": "stream",
     "text": [
      "{'Tue', 'Sun', 'Mon'}\n"
     ]
    }
   ],
   "source": [
    "print(a)"
   ]
  },
  {
   "cell_type": "code",
   "execution_count": 300,
   "id": "1db07b5a",
   "metadata": {},
   "outputs": [
    {
     "name": "stdout",
     "output_type": "stream",
     "text": [
      "<class 'set'>\n"
     ]
    }
   ],
   "source": [
    "print(type(a))"
   ]
  },
  {
   "cell_type": "code",
   "execution_count": 301,
   "id": "979e8bf0",
   "metadata": {},
   "outputs": [],
   "source": [
    "a.add(\"Wed\")"
   ]
  },
  {
   "cell_type": "code",
   "execution_count": 302,
   "id": "caee8335",
   "metadata": {},
   "outputs": [
    {
     "data": {
      "text/plain": [
       "{'Mon', 'Sun', 'Tue', 'Wed'}"
      ]
     },
     "execution_count": 302,
     "metadata": {},
     "output_type": "execute_result"
    }
   ],
   "source": [
    "a"
   ]
  },
  {
   "cell_type": "code",
   "execution_count": 303,
   "id": "1b082048",
   "metadata": {},
   "outputs": [],
   "source": [
    "a.add(\"Sun\")"
   ]
  },
  {
   "cell_type": "code",
   "execution_count": 304,
   "id": "f9bb2a21",
   "metadata": {},
   "outputs": [
    {
     "data": {
      "text/plain": [
       "{'Mon', 'Sun', 'Tue', 'Wed'}"
      ]
     },
     "execution_count": 304,
     "metadata": {},
     "output_type": "execute_result"
    }
   ],
   "source": [
    "a"
   ]
  },
  {
   "cell_type": "code",
   "execution_count": 305,
   "id": "a6cab6f7",
   "metadata": {},
   "outputs": [],
   "source": [
    "a.add(\"sun\")"
   ]
  },
  {
   "cell_type": "code",
   "execution_count": 306,
   "id": "52f195ae",
   "metadata": {},
   "outputs": [
    {
     "data": {
      "text/plain": [
       "{'Mon', 'Sun', 'Tue', 'Wed', 'sun'}"
      ]
     },
     "execution_count": 306,
     "metadata": {},
     "output_type": "execute_result"
    }
   ],
   "source": [
    "a"
   ]
  },
  {
   "cell_type": "code",
   "execution_count": 307,
   "id": "27632078",
   "metadata": {},
   "outputs": [],
   "source": [
    "b = {\"Thu\", \"Fri\", \"Sat\"}"
   ]
  },
  {
   "cell_type": "code",
   "execution_count": 308,
   "id": "dc356778",
   "metadata": {},
   "outputs": [
    {
     "data": {
      "text/plain": [
       "{'Fri', 'Sat', 'Thu'}"
      ]
     },
     "execution_count": 308,
     "metadata": {},
     "output_type": "execute_result"
    }
   ],
   "source": [
    "b"
   ]
  },
  {
   "cell_type": "code",
   "execution_count": 309,
   "id": "e516e8c4",
   "metadata": {},
   "outputs": [
    {
     "ename": "TypeError",
     "evalue": "unsupported operand type(s) for +: 'set' and 'set'",
     "output_type": "error",
     "traceback": [
      "\u001b[1;31m---------------------------------------------------------------------------\u001b[0m",
      "\u001b[1;31mTypeError\u001b[0m                                 Traceback (most recent call last)",
      "\u001b[1;32m<ipython-input-309-bd58363a63fc>\u001b[0m in \u001b[0;36m<module>\u001b[1;34m\u001b[0m\n\u001b[1;32m----> 1\u001b[1;33m \u001b[0ma\u001b[0m \u001b[1;33m+\u001b[0m \u001b[0mb\u001b[0m\u001b[1;33m\u001b[0m\u001b[1;33m\u001b[0m\u001b[0m\n\u001b[0m",
      "\u001b[1;31mTypeError\u001b[0m: unsupported operand type(s) for +: 'set' and 'set'"
     ]
    }
   ],
   "source": [
    " a + b"
   ]
  },
  {
   "cell_type": "code",
   "execution_count": 310,
   "id": "cb95e558",
   "metadata": {},
   "outputs": [
    {
     "data": {
      "text/plain": [
       "{'Fri', 'Mon', 'Sat', 'Sun', 'Thu', 'Tue', 'Wed', 'sun'}"
      ]
     },
     "execution_count": 310,
     "metadata": {},
     "output_type": "execute_result"
    }
   ],
   "source": [
    "a | b  # union"
   ]
  },
  {
   "cell_type": "code",
   "execution_count": 311,
   "id": "0fe895df",
   "metadata": {},
   "outputs": [
    {
     "data": {
      "text/plain": [
       "{'Fri', 'Mon', 'Sat', 'Sun', 'Thu', 'Tue', 'Wed', 'sun'}"
      ]
     },
     "execution_count": 311,
     "metadata": {},
     "output_type": "execute_result"
    }
   ],
   "source": [
    "a.union(b)"
   ]
  },
  {
   "cell_type": "code",
   "execution_count": 312,
   "id": "a6303529",
   "metadata": {},
   "outputs": [
    {
     "data": {
      "text/plain": [
       "{'Mon', 'Sun', 'Tue', 'Wed', 'sun'}"
      ]
     },
     "execution_count": 312,
     "metadata": {},
     "output_type": "execute_result"
    }
   ],
   "source": [
    "a - b"
   ]
  },
  {
   "cell_type": "code",
   "execution_count": 313,
   "id": "5d60c35b",
   "metadata": {},
   "outputs": [
    {
     "data": {
      "text/plain": [
       "{'Fri', 'Sat', 'Thu'}"
      ]
     },
     "execution_count": 313,
     "metadata": {},
     "output_type": "execute_result"
    }
   ],
   "source": [
    "b - a"
   ]
  },
  {
   "cell_type": "code",
   "execution_count": 314,
   "id": "3d071318",
   "metadata": {},
   "outputs": [
    {
     "data": {
      "text/plain": [
       "{'Fri', 'Sat', 'Thu'}"
      ]
     },
     "execution_count": 314,
     "metadata": {},
     "output_type": "execute_result"
    }
   ],
   "source": [
    "b.difference(a)"
   ]
  },
  {
   "cell_type": "code",
   "execution_count": 315,
   "id": "38616dc8",
   "metadata": {},
   "outputs": [],
   "source": [
    "b.add(\"Sun\")"
   ]
  },
  {
   "cell_type": "code",
   "execution_count": 316,
   "id": "1f8d9b59",
   "metadata": {},
   "outputs": [
    {
     "data": {
      "text/plain": [
       "{'Fri', 'Sat', 'Sun', 'Thu'}"
      ]
     },
     "execution_count": 316,
     "metadata": {},
     "output_type": "execute_result"
    }
   ],
   "source": [
    "b"
   ]
  },
  {
   "cell_type": "code",
   "execution_count": 317,
   "id": "065057f3",
   "metadata": {},
   "outputs": [
    {
     "data": {
      "text/plain": [
       "{'Mon', 'Sun', 'Tue', 'Wed', 'sun'}"
      ]
     },
     "execution_count": 317,
     "metadata": {},
     "output_type": "execute_result"
    }
   ],
   "source": [
    "a"
   ]
  },
  {
   "cell_type": "code",
   "execution_count": 318,
   "id": "8afd352e",
   "metadata": {},
   "outputs": [
    {
     "data": {
      "text/plain": [
       "{'Sun'}"
      ]
     },
     "execution_count": 318,
     "metadata": {},
     "output_type": "execute_result"
    }
   ],
   "source": [
    "a & b  # intersectipn"
   ]
  },
  {
   "cell_type": "code",
   "execution_count": 319,
   "id": "2f508a9d",
   "metadata": {},
   "outputs": [
    {
     "data": {
      "text/plain": [
       "{'Fri', 'Mon', 'Sat', 'Thu', 'Tue', 'Wed', 'sun'}"
      ]
     },
     "execution_count": 319,
     "metadata": {},
     "output_type": "execute_result"
    }
   ],
   "source": [
    "a ^ b # skip commen element"
   ]
  },
  {
   "cell_type": "code",
   "execution_count": null,
   "id": "1c39f005",
   "metadata": {},
   "outputs": [],
   "source": []
  },
  {
   "cell_type": "code",
   "execution_count": 320,
   "id": "0f379154",
   "metadata": {},
   "outputs": [],
   "source": [
    "p = {}"
   ]
  },
  {
   "cell_type": "code",
   "execution_count": 321,
   "id": "25d62db5",
   "metadata": {},
   "outputs": [
    {
     "name": "stdout",
     "output_type": "stream",
     "text": [
      "<class 'dict'>\n"
     ]
    }
   ],
   "source": [
    "print(type(p))"
   ]
  },
  {
   "cell_type": "code",
   "execution_count": 322,
   "id": "73d9e391",
   "metadata": {},
   "outputs": [],
   "source": [
    "q = set()"
   ]
  },
  {
   "cell_type": "code",
   "execution_count": 323,
   "id": "037feeb8",
   "metadata": {},
   "outputs": [
    {
     "name": "stdout",
     "output_type": "stream",
     "text": [
      "<class 'set'>\n"
     ]
    }
   ],
   "source": [
    "print(type(q))"
   ]
  },
  {
   "cell_type": "code",
   "execution_count": 324,
   "id": "1c5b5c8c",
   "metadata": {},
   "outputs": [
    {
     "data": {
      "text/plain": [
       "set()"
      ]
     },
     "execution_count": 324,
     "metadata": {},
     "output_type": "execute_result"
    }
   ],
   "source": [
    "q"
   ]
  },
  {
   "cell_type": "markdown",
   "id": "4d656c03",
   "metadata": {},
   "source": [
    "# Control Structures"
   ]
  },
  {
   "cell_type": "markdown",
   "id": "3d13bf9a",
   "metadata": {},
   "source": [
    "## Taking User Input"
   ]
  },
  {
   "cell_type": "code",
   "execution_count": 325,
   "id": "e52f42b3",
   "metadata": {},
   "outputs": [],
   "source": [
    "# input() => It always return a string datatypes"
   ]
  },
  {
   "cell_type": "code",
   "execution_count": 326,
   "id": "8021842c",
   "metadata": {},
   "outputs": [
    {
     "name": "stdout",
     "output_type": "stream",
     "text": [
      "Enter the current Score: \n"
     ]
    }
   ],
   "source": [
    "score = input(\"Enter the current Score: \")"
   ]
  },
  {
   "cell_type": "code",
   "execution_count": 327,
   "id": "b932e7cb",
   "metadata": {},
   "outputs": [
    {
     "name": "stdout",
     "output_type": "stream",
     "text": [
      "\n"
     ]
    }
   ],
   "source": [
    "print(score)"
   ]
  },
  {
   "cell_type": "code",
   "execution_count": 328,
   "id": "4c9164d0",
   "metadata": {},
   "outputs": [
    {
     "name": "stdout",
     "output_type": "stream",
     "text": [
      "<class 'str'>\n"
     ]
    }
   ],
   "source": [
    "print(type(score))"
   ]
  },
  {
   "cell_type": "code",
   "execution_count": null,
   "id": "fd9f47a5",
   "metadata": {},
   "outputs": [],
   "source": []
  },
  {
   "cell_type": "markdown",
   "id": "0cdc98dc",
   "metadata": {},
   "source": [
    "## if, if-else, if-elif-else"
   ]
  },
  {
   "cell_type": "code",
   "execution_count": 329,
   "id": "42d33d01",
   "metadata": {},
   "outputs": [
    {
     "name": "stdout",
     "output_type": "stream",
     "text": [
      "Enter any number: 90\n",
      "90 <class 'int'>\n"
     ]
    }
   ],
   "source": [
    "number = input(\"Enter any number: \")\n",
    "number = int(number)\n",
    "print(number, type(number))"
   ]
  },
  {
   "cell_type": "code",
   "execution_count": 330,
   "id": "e831e513",
   "metadata": {},
   "outputs": [],
   "source": [
    "# if else"
   ]
  },
  {
   "cell_type": "code",
   "execution_count": 331,
   "id": "8a7134ca",
   "metadata": {},
   "outputs": [
    {
     "name": "stdout",
     "output_type": "stream",
     "text": [
      "User has entered positive number.\n"
     ]
    }
   ],
   "source": [
    "if number >= 0:\n",
    "    print(\"User has entered positive number.\")\n",
    "else:\n",
    "    print(\"User has entered negative number.\")"
   ]
  },
  {
   "cell_type": "code",
   "execution_count": 332,
   "id": "a9963b6e",
   "metadata": {},
   "outputs": [
    {
     "name": "stdout",
     "output_type": "stream",
     "text": [
      "Enter any number: -2\n",
      "User entered Negative Number.\n"
     ]
    }
   ],
   "source": [
    "number = int(input(\"Enter any number: \"))\n",
    "if number > 0:\n",
    "    print(\"User entered Positive Number.\")\n",
    "elif number == 0:\n",
    "    print(\"User entered Zero\")\n",
    "else:\n",
    "    print(\"User entered Negative Number.\")"
   ]
  },
  {
   "cell_type": "code",
   "execution_count": null,
   "id": "bf43b494",
   "metadata": {},
   "outputs": [],
   "source": []
  },
  {
   "cell_type": "markdown",
   "id": "b61b7584",
   "metadata": {},
   "source": [
    "## While loop"
   ]
  },
  {
   "cell_type": "code",
   "execution_count": 333,
   "id": "04b45158",
   "metadata": {},
   "outputs": [
    {
     "name": "stdout",
     "output_type": "stream",
     "text": [
      "1 2 3 4 5 6 7 8 9 10 "
     ]
    }
   ],
   "source": [
    "index = 1\n",
    "while index <=10:\n",
    "    print(index, end=\" \")\n",
    "    index += 1 # index = index +1"
   ]
  },
  {
   "cell_type": "code",
   "execution_count": null,
   "id": "057d7f02",
   "metadata": {},
   "outputs": [],
   "source": []
  },
  {
   "cell_type": "markdown",
   "id": "4e71276d",
   "metadata": {},
   "source": [
    "## For loop(using range)"
   ]
  },
  {
   "cell_type": "code",
   "execution_count": 334,
   "id": "3487a79d",
   "metadata": {},
   "outputs": [],
   "source": [
    "r = range(5, 51, 15)"
   ]
  },
  {
   "cell_type": "code",
   "execution_count": 335,
   "id": "708f1586",
   "metadata": {},
   "outputs": [
    {
     "name": "stdout",
     "output_type": "stream",
     "text": [
      "5\n",
      "20\n",
      "35\n",
      "50\n"
     ]
    }
   ],
   "source": [
    "for item in r:\n",
    "    print(item)"
   ]
  },
  {
   "cell_type": "code",
   "execution_count": null,
   "id": "314b6219",
   "metadata": {},
   "outputs": [],
   "source": []
  },
  {
   "cell_type": "markdown",
   "id": "f21ed39b",
   "metadata": {},
   "source": [
    "## For loop(using list)"
   ]
  },
  {
   "cell_type": "code",
   "execution_count": 336,
   "id": "7416e48c",
   "metadata": {},
   "outputs": [],
   "source": [
    "websites = [\"amazon\", \"flipcart\", \"snapdeal\"]"
   ]
  },
  {
   "cell_type": "code",
   "execution_count": 337,
   "id": "acbea714",
   "metadata": {},
   "outputs": [
    {
     "name": "stdout",
     "output_type": "stream",
     "text": [
      "www.amazon.com\n",
      "www.flipcart.com\n",
      "www.snapdeal.com\n"
     ]
    }
   ],
   "source": [
    "for item in websites:\n",
    "    print(\"www.\" + item + \".com\")"
   ]
  },
  {
   "cell_type": "code",
   "execution_count": 338,
   "id": "3aa5f6bf",
   "metadata": {},
   "outputs": [
    {
     "name": "stdout",
     "output_type": "stream",
     "text": [
      "www.amazon.com\n",
      "www.flipcart.com\n",
      "www.snapdeal.com\n"
     ]
    }
   ],
   "source": [
    "for item in websites:\n",
    "    print(\"www.{}.com\".format(item))"
   ]
  },
  {
   "cell_type": "code",
   "execution_count": null,
   "id": "1ef78141",
   "metadata": {},
   "outputs": [],
   "source": []
  },
  {
   "cell_type": "markdown",
   "id": "48eea3bf",
   "metadata": {},
   "source": [
    "## For loop(using dict)"
   ]
  },
  {
   "cell_type": "code",
   "execution_count": 339,
   "id": "5714a72e",
   "metadata": {},
   "outputs": [],
   "source": [
    "vk = {\"Name\": \"Virat\", \"Age\": 38, \"Team\": \"RCB\"}"
   ]
  },
  {
   "cell_type": "code",
   "execution_count": 340,
   "id": "48a94f2f",
   "metadata": {},
   "outputs": [
    {
     "data": {
      "text/plain": [
       "dict_keys(['Name', 'Age', 'Team'])"
      ]
     },
     "execution_count": 340,
     "metadata": {},
     "output_type": "execute_result"
    }
   ],
   "source": [
    "vk.keys()"
   ]
  },
  {
   "cell_type": "code",
   "execution_count": 341,
   "id": "a22694a7",
   "metadata": {},
   "outputs": [
    {
     "data": {
      "text/plain": [
       "dict_values(['Virat', 38, 'RCB'])"
      ]
     },
     "execution_count": 341,
     "metadata": {},
     "output_type": "execute_result"
    }
   ],
   "source": [
    "vk.values()"
   ]
  },
  {
   "cell_type": "code",
   "execution_count": 342,
   "id": "411da375",
   "metadata": {},
   "outputs": [
    {
     "data": {
      "text/plain": [
       "dict_items([('Name', 'Virat'), ('Age', 38), ('Team', 'RCB')])"
      ]
     },
     "execution_count": 342,
     "metadata": {},
     "output_type": "execute_result"
    }
   ],
   "source": [
    "vk.items()"
   ]
  },
  {
   "cell_type": "code",
   "execution_count": 343,
   "id": "eb3b5744",
   "metadata": {},
   "outputs": [],
   "source": [
    "#Iterate through keys"
   ]
  },
  {
   "cell_type": "code",
   "execution_count": 344,
   "id": "eecdcff8",
   "metadata": {},
   "outputs": [
    {
     "name": "stdout",
     "output_type": "stream",
     "text": [
      "Name\n",
      "Age\n",
      "Team\n"
     ]
    }
   ],
   "source": [
    "for item in vk:\n",
    "    print(item)"
   ]
  },
  {
   "cell_type": "code",
   "execution_count": 345,
   "id": "13a26b50",
   "metadata": {},
   "outputs": [
    {
     "name": "stdout",
     "output_type": "stream",
     "text": [
      "Virat\n",
      "38\n",
      "RCB\n"
     ]
    }
   ],
   "source": [
    "for item in vk.values():\n",
    "    print(item)"
   ]
  },
  {
   "cell_type": "code",
   "execution_count": 346,
   "id": "41f51d2e",
   "metadata": {},
   "outputs": [
    {
     "name": "stdout",
     "output_type": "stream",
     "text": [
      "Name Virat\n",
      "Age 38\n",
      "Team RCB\n"
     ]
    }
   ],
   "source": [
    "for k, v in vk.items():\n",
    "    print(k, v)"
   ]
  },
  {
   "cell_type": "code",
   "execution_count": null,
   "id": "93fa9b56",
   "metadata": {},
   "outputs": [],
   "source": []
  },
  {
   "cell_type": "markdown",
   "id": "cba1cd6a",
   "metadata": {},
   "source": [
    "## break"
   ]
  },
  {
   "cell_type": "code",
   "execution_count": 347,
   "id": "eac64fac",
   "metadata": {},
   "outputs": [
    {
     "name": "stdout",
     "output_type": "stream",
     "text": [
      "1,2,3,4,5,"
     ]
    }
   ],
   "source": [
    "# print numbers till 5\n",
    "for item in range(1,11):\n",
    "    print(item, end=(\",\"))\n",
    "    if item == 5:\n",
    "        break              # To stop the loop"
   ]
  },
  {
   "cell_type": "code",
   "execution_count": null,
   "id": "2ec7e3af",
   "metadata": {},
   "outputs": [],
   "source": []
  },
  {
   "cell_type": "markdown",
   "id": "fc418ec0",
   "metadata": {},
   "source": [
    "## continue"
   ]
  },
  {
   "cell_type": "code",
   "execution_count": 348,
   "id": "209a4b87",
   "metadata": {},
   "outputs": [],
   "source": [
    "#print odd numbers"
   ]
  },
  {
   "cell_type": "code",
   "execution_count": 349,
   "id": "be2ed370",
   "metadata": {},
   "outputs": [
    {
     "name": "stdout",
     "output_type": "stream",
     "text": [
      "1\n",
      "3\n",
      "5\n",
      "7\n",
      "9\n"
     ]
    }
   ],
   "source": [
    "for item in range(1,11):\n",
    "    if item % 2 == 0:\n",
    "        continue      # To skip the condition\n",
    "    print(item)"
   ]
  },
  {
   "cell_type": "code",
   "execution_count": null,
   "id": "84651a44",
   "metadata": {},
   "outputs": [],
   "source": []
  },
  {
   "cell_type": "markdown",
   "id": "3a9cd05a",
   "metadata": {},
   "source": [
    "## pass"
   ]
  },
  {
   "cell_type": "code",
   "execution_count": 350,
   "id": "8659252d",
   "metadata": {},
   "outputs": [],
   "source": [
    "# Syntax fiter\n",
    "#Does nothing"
   ]
  },
  {
   "cell_type": "code",
   "execution_count": 351,
   "id": "7ef9dbd4",
   "metadata": {},
   "outputs": [
    {
     "ename": "SyntaxError",
     "evalue": "unexpected EOF while parsing (<ipython-input-351-5c96743df6fa>, line 2)",
     "output_type": "error",
     "traceback": [
      "\u001b[1;36m  File \u001b[1;32m\"<ipython-input-351-5c96743df6fa>\"\u001b[1;36m, line \u001b[1;32m2\u001b[0m\n\u001b[1;33m    for item in range(1,11):\u001b[0m\n\u001b[1;37m                            ^\u001b[0m\n\u001b[1;31mSyntaxError\u001b[0m\u001b[1;31m:\u001b[0m unexpected EOF while parsing\n"
     ]
    }
   ],
   "source": [
    "#when we use pass\n",
    "for item in range(1,11):"
   ]
  },
  {
   "cell_type": "code",
   "execution_count": null,
   "id": "9b3001c9",
   "metadata": {},
   "outputs": [],
   "source": [
    "for item in range(1,11):\n",
    "    pass                      # To avoid error"
   ]
  },
  {
   "cell_type": "code",
   "execution_count": null,
   "id": "94611edc",
   "metadata": {},
   "outputs": [],
   "source": []
  },
  {
   "cell_type": "markdown",
   "id": "9010da0b",
   "metadata": {},
   "source": [
    "## Examples"
   ]
  },
  {
   "cell_type": "code",
   "execution_count": null,
   "id": "d4e38351",
   "metadata": {},
   "outputs": [],
   "source": [
    "# Take input from the user and print the reverse of a number \n",
    "# Input: 123\n",
    "# Output: 321"
   ]
  },
  {
   "cell_type": "code",
   "execution_count": null,
   "id": "be77e3e0",
   "metadata": {},
   "outputs": [],
   "source": [
    "num = input(\"Eter any number \")\n",
    "print(\"Reverse : \", num[::-1])"
   ]
  },
  {
   "cell_type": "code",
   "execution_count": null,
   "id": "49aef8b2",
   "metadata": {},
   "outputs": [],
   "source": [
    "s = \"WELCOME\""
   ]
  },
  {
   "cell_type": "code",
   "execution_count": null,
   "id": "2b4da63b",
   "metadata": {},
   "outputs": [],
   "source": [
    "s[::-1]"
   ]
  },
  {
   "cell_type": "code",
   "execution_count": null,
   "id": "91f2247f",
   "metadata": {},
   "outputs": [],
   "source": []
  },
  {
   "cell_type": "code",
   "execution_count": null,
   "id": "967c09ce",
   "metadata": {},
   "outputs": [],
   "source": [
    "# Write a program to get the sum of all elements in the list\n",
    "numbers = [11, 22, 33, 44, 55, 66, 77, 88, 99]"
   ]
  },
  {
   "cell_type": "code",
   "execution_count": null,
   "id": "eb77125f",
   "metadata": {},
   "outputs": [],
   "source": [
    "result = 0\n",
    "for item in numbers:\n",
    "    result += item \n",
    "print(\"Result: \", result)"
   ]
  },
  {
   "cell_type": "code",
   "execution_count": null,
   "id": "7bd3ba4a",
   "metadata": {},
   "outputs": [],
   "source": []
  },
  {
   "cell_type": "code",
   "execution_count": null,
   "id": "2bca66ee",
   "metadata": {},
   "outputs": [],
   "source": [
    "# Write a program to print below pattern\n",
    "#       *\n",
    "#      *  *\n",
    "#     *  *  *\n",
    "#    *  *  *  *\n",
    "#  *   *  *  *  *"
   ]
  },
  {
   "cell_type": "code",
   "execution_count": null,
   "id": "ebb3b34e",
   "metadata": {},
   "outputs": [],
   "source": [
    "rows = 5 #int(input(\"Enter the number of rows: \"))\n",
    "k =  rows-1 # no. of spaces\n",
    "for i in range(1, rows+1):  #for rows\n",
    "    for j in range(1, k+1):  #for spaces\n",
    "        print(end=\" \")\n",
    "    k = k - 1\n",
    "    for j in range(1, i+1):\n",
    "        print(\"* \", end=\"\")\n",
    "    print(\"\")"
   ]
  },
  {
   "cell_type": "code",
   "execution_count": null,
   "id": "933710e7",
   "metadata": {},
   "outputs": [],
   "source": []
  },
  {
   "cell_type": "markdown",
   "id": "5513266a",
   "metadata": {},
   "source": [
    "# Functions"
   ]
  },
  {
   "cell_type": "code",
   "execution_count": null,
   "id": "f7d1bb15",
   "metadata": {},
   "outputs": [],
   "source": [
    "# Block of code\n",
    "# Codee reduseability \n",
    "# DRY - Don't Reprat Yourself"
   ]
  },
  {
   "cell_type": "markdown",
   "id": "6c6738f2",
   "metadata": {},
   "source": [
    "## Basics"
   ]
  },
  {
   "cell_type": "code",
   "execution_count": null,
   "id": "9e774add",
   "metadata": {},
   "outputs": [],
   "source": [
    "def SimpleFunction():\n",
    "    print(\"Inside SimpleFFunction !!\")\n",
    "    print(\"Exiting SimpleFunction\")"
   ]
  },
  {
   "cell_type": "code",
   "execution_count": null,
   "id": "30131958",
   "metadata": {},
   "outputs": [],
   "source": [
    "SimpleFunction()  #calling SimpleFunction"
   ]
  },
  {
   "cell_type": "code",
   "execution_count": null,
   "id": "aafecff1",
   "metadata": {},
   "outputs": [],
   "source": []
  },
  {
   "cell_type": "code",
   "execution_count": null,
   "id": "b7d87912",
   "metadata": {},
   "outputs": [],
   "source": [
    "def FindMaxNum(x, y):\n",
    "    if x > y:\n",
    "        return x\n",
    "    else:\n",
    "        return y"
   ]
  },
  {
   "cell_type": "code",
   "execution_count": null,
   "id": "a5cad50b",
   "metadata": {},
   "outputs": [],
   "source": [
    "FindMaxNum(10, 9.999)"
   ]
  },
  {
   "cell_type": "code",
   "execution_count": null,
   "id": "9e8b6896",
   "metadata": {},
   "outputs": [],
   "source": [
    "result = FindMaxNum(10,12)"
   ]
  },
  {
   "cell_type": "code",
   "execution_count": null,
   "id": "a45dd073",
   "metadata": {},
   "outputs": [],
   "source": [
    "result"
   ]
  },
  {
   "cell_type": "code",
   "execution_count": null,
   "id": "f90bf090",
   "metadata": {},
   "outputs": [],
   "source": [
    "print(result)"
   ]
  },
  {
   "cell_type": "code",
   "execution_count": null,
   "id": "5034f941",
   "metadata": {},
   "outputs": [],
   "source": []
  },
  {
   "cell_type": "markdown",
   "id": "847ceddc",
   "metadata": {},
   "source": [
    "## Factorial of Number"
   ]
  },
  {
   "cell_type": "markdown",
   "id": "bfb30a6b",
   "metadata": {},
   "source": [
    "### Iterative Approach"
   ]
  },
  {
   "cell_type": "code",
   "execution_count": 352,
   "id": "ef2a4f4b",
   "metadata": {},
   "outputs": [],
   "source": [
    "# 5! = 5 * 4 * 3 * 2 * 1\n",
    "# 4! = 4 * 3 * 2 * 1\n",
    "# 3! = 3 * 2 * 1\n",
    "# 2! = 2 * 1\n",
    "# 1! = 1\n",
    "# 0! = 1"
   ]
  },
  {
   "cell_type": "code",
   "execution_count": 353,
   "id": "aa71c540",
   "metadata": {},
   "outputs": [],
   "source": [
    "def iterFactorial(num):\n",
    "    #result, iteratin, sequence\n",
    "    result = 1\n",
    "    for item in range(1, num + 1):\n",
    "        result = result * item\n",
    "    return result"
   ]
  },
  {
   "cell_type": "code",
   "execution_count": 354,
   "id": "e3c3c7e3",
   "metadata": {},
   "outputs": [
    {
     "name": "stdout",
     "output_type": "stream",
     "text": [
      "120\n"
     ]
    }
   ],
   "source": [
    "print(iterFactorial(5))"
   ]
  },
  {
   "cell_type": "code",
   "execution_count": 355,
   "id": "bf1cd8cf",
   "metadata": {},
   "outputs": [],
   "source": [
    "#Taking user input and call this function"
   ]
  },
  {
   "cell_type": "code",
   "execution_count": 356,
   "id": "3a545b2c",
   "metadata": {},
   "outputs": [
    {
     "name": "stdout",
     "output_type": "stream",
     "text": [
      "Enter any number: \n"
     ]
    },
    {
     "ename": "ValueError",
     "evalue": "invalid literal for int() with base 10: ''",
     "output_type": "error",
     "traceback": [
      "\u001b[1;31m---------------------------------------------------------------------------\u001b[0m",
      "\u001b[1;31mValueError\u001b[0m                                Traceback (most recent call last)",
      "\u001b[1;32m<ipython-input-356-15355d887a57>\u001b[0m in \u001b[0;36m<module>\u001b[1;34m\u001b[0m\n\u001b[1;32m----> 1\u001b[1;33m \u001b[0mnum\u001b[0m \u001b[1;33m=\u001b[0m \u001b[0mint\u001b[0m\u001b[1;33m(\u001b[0m\u001b[0minput\u001b[0m\u001b[1;33m(\u001b[0m\u001b[1;34m\"Enter any number: \"\u001b[0m\u001b[1;33m)\u001b[0m\u001b[1;33m)\u001b[0m\u001b[1;33m\u001b[0m\u001b[1;33m\u001b[0m\u001b[0m\n\u001b[0m\u001b[0;32m      2\u001b[0m \u001b[0mprint\u001b[0m\u001b[1;33m(\u001b[0m\u001b[0miterFactorial\u001b[0m\u001b[1;33m(\u001b[0m\u001b[0mnum\u001b[0m\u001b[1;33m)\u001b[0m\u001b[1;33m)\u001b[0m\u001b[1;33m\u001b[0m\u001b[1;33m\u001b[0m\u001b[0m\n",
      "\u001b[1;31mValueError\u001b[0m: invalid literal for int() with base 10: ''"
     ]
    }
   ],
   "source": [
    "num = int(input(\"Enter any number: \"))\n",
    "print(iterFactorial(num))"
   ]
  },
  {
   "cell_type": "code",
   "execution_count": null,
   "id": "30ab06ce",
   "metadata": {},
   "outputs": [],
   "source": []
  },
  {
   "cell_type": "markdown",
   "id": "a7b8fbf4",
   "metadata": {},
   "source": [
    "### Recursive Approach"
   ]
  },
  {
   "cell_type": "code",
   "execution_count": 357,
   "id": "62f6a836",
   "metadata": {},
   "outputs": [],
   "source": [
    "# 5! = 5 * 4!\n",
    "# 4! = 4 * 3!\n",
    "# 3! = 3 * 2!\n",
    "# 2! = 2 * 1!\n",
    "# n! = n * (n-1)!"
   ]
  },
  {
   "cell_type": "code",
   "execution_count": 358,
   "id": "85799daf",
   "metadata": {},
   "outputs": [],
   "source": [
    "def recurFactorial(num):\n",
    "    if num == 0 or num ==1:\n",
    "        return 1\n",
    "    else:\n",
    "        return num * recurFactorial(num - 1)"
   ]
  },
  {
   "cell_type": "code",
   "execution_count": 360,
   "id": "8fe5d5c2",
   "metadata": {},
   "outputs": [
    {
     "name": "stdout",
     "output_type": "stream",
     "text": [
      "Enter any number10\n",
      "Result:  3628800\n"
     ]
    }
   ],
   "source": [
    "num = int(input(\"Enter any number\"))\n",
    "print(\"Result: \", recurFactorial(num))"
   ]
  },
  {
   "cell_type": "code",
   "execution_count": null,
   "id": "95cacae7",
   "metadata": {},
   "outputs": [],
   "source": []
  },
  {
   "cell_type": "markdown",
   "id": "f725c665",
   "metadata": {},
   "source": [
    "## Default Arguments"
   ]
  },
  {
   "cell_type": "code",
   "execution_count": 361,
   "id": "ecd3f03a",
   "metadata": {},
   "outputs": [],
   "source": [
    "def DefaultArgumentFun(x = 123):\n",
    "    print(\"The value of x is {}\".format(x))"
   ]
  },
  {
   "cell_type": "code",
   "execution_count": 362,
   "id": "253b5291",
   "metadata": {},
   "outputs": [
    {
     "name": "stdout",
     "output_type": "stream",
     "text": [
      "The value of x is 123\n"
     ]
    }
   ],
   "source": [
    "DefaultArgumentFun()"
   ]
  },
  {
   "cell_type": "code",
   "execution_count": 363,
   "id": "f959746d",
   "metadata": {},
   "outputs": [
    {
     "name": "stdout",
     "output_type": "stream",
     "text": [
      "The value of x is 456\n"
     ]
    }
   ],
   "source": [
    "DefaultArgumentFun(456)"
   ]
  },
  {
   "cell_type": "code",
   "execution_count": 364,
   "id": "2ecef316",
   "metadata": {},
   "outputs": [
    {
     "name": "stdout",
     "output_type": "stream",
     "text": [
      "The value of x is Hellow World !!\n"
     ]
    }
   ],
   "source": [
    "DefaultArgumentFun(\"Hellow World !!\")"
   ]
  },
  {
   "cell_type": "code",
   "execution_count": null,
   "id": "3781c86d",
   "metadata": {},
   "outputs": [],
   "source": []
  },
  {
   "cell_type": "markdown",
   "id": "ca070ab5",
   "metadata": {},
   "source": [
    "## Named Arguments"
   ]
  },
  {
   "cell_type": "code",
   "execution_count": 365,
   "id": "5971440a",
   "metadata": {},
   "outputs": [],
   "source": [
    "def nameArgumentFun(a, b, c):\n",
    "    print(\"The values are a: {}, b:{}, c:{}\".format(a, b, c))"
   ]
  },
  {
   "cell_type": "code",
   "execution_count": 366,
   "id": "e4ed3441",
   "metadata": {},
   "outputs": [
    {
     "name": "stdout",
     "output_type": "stream",
     "text": [
      "The values are a: 100, b:200, c:300\n"
     ]
    }
   ],
   "source": [
    "nameArgumentFun(100, 200, 300)#positional way of passing the values"
   ]
  },
  {
   "cell_type": "code",
   "execution_count": 367,
   "id": "2fd92162",
   "metadata": {},
   "outputs": [
    {
     "name": "stdout",
     "output_type": "stream",
     "text": [
      "The values are a: 7000, b:600, c:900\n"
     ]
    }
   ],
   "source": [
    "nameArgumentFun(c=900, a=7000, b=600)#Using name/keyword way of passing the values"
   ]
  },
  {
   "cell_type": "code",
   "execution_count": 368,
   "id": "fec61e0d",
   "metadata": {},
   "outputs": [],
   "source": [
    "# NOTE: When using both positional and nameed, always pass positional arguments before named arguments"
   ]
  },
  {
   "cell_type": "code",
   "execution_count": 369,
   "id": "17174f56",
   "metadata": {},
   "outputs": [
    {
     "ename": "SyntaxError",
     "evalue": "positional argument follows keyword argument (<ipython-input-369-3a320e0d2a85>, line 1)",
     "output_type": "error",
     "traceback": [
      "\u001b[1;36m  File \u001b[1;32m\"<ipython-input-369-3a320e0d2a85>\"\u001b[1;36m, line \u001b[1;32m1\u001b[0m\n\u001b[1;33m    nameArgumentFun(a=700, 800, c=400)\u001b[0m\n\u001b[1;37m                           ^\u001b[0m\n\u001b[1;31mSyntaxError\u001b[0m\u001b[1;31m:\u001b[0m positional argument follows keyword argument\n"
     ]
    }
   ],
   "source": [
    "nameArgumentFun(a=700, 800, c=400)"
   ]
  },
  {
   "cell_type": "code",
   "execution_count": 370,
   "id": "2a5853e4",
   "metadata": {},
   "outputs": [
    {
     "name": "stdout",
     "output_type": "stream",
     "text": [
      "The values are a: 100, b:600, c:500\n"
     ]
    }
   ],
   "source": [
    "nameArgumentFun(100, c=500, b=600)"
   ]
  },
  {
   "cell_type": "code",
   "execution_count": 371,
   "id": "e9d8b109",
   "metadata": {},
   "outputs": [
    {
     "ename": "TypeError",
     "evalue": "nameArgumentFun() got multiple values for argument 'a'",
     "output_type": "error",
     "traceback": [
      "\u001b[1;31m---------------------------------------------------------------------------\u001b[0m",
      "\u001b[1;31mTypeError\u001b[0m                                 Traceback (most recent call last)",
      "\u001b[1;32m<ipython-input-371-82ec3546a120>\u001b[0m in \u001b[0;36m<module>\u001b[1;34m\u001b[0m\n\u001b[1;32m----> 1\u001b[1;33m \u001b[0mnameArgumentFun\u001b[0m\u001b[1;33m(\u001b[0m\u001b[1;36m200\u001b[0m\u001b[1;33m,\u001b[0m \u001b[0ma\u001b[0m\u001b[1;33m=\u001b[0m\u001b[1;36m300\u001b[0m\u001b[1;33m,\u001b[0m \u001b[0mb\u001b[0m\u001b[1;33m=\u001b[0m\u001b[1;36m400\u001b[0m\u001b[1;33m)\u001b[0m\u001b[1;33m\u001b[0m\u001b[1;33m\u001b[0m\u001b[0m\n\u001b[0m",
      "\u001b[1;31mTypeError\u001b[0m: nameArgumentFun() got multiple values for argument 'a'"
     ]
    }
   ],
   "source": [
    "nameArgumentFun(200, a=300, b=400)"
   ]
  },
  {
   "cell_type": "code",
   "execution_count": null,
   "id": "7101d3ac",
   "metadata": {},
   "outputs": [],
   "source": []
  },
  {
   "cell_type": "markdown",
   "id": "17a92923",
   "metadata": {},
   "source": [
    "## Lambda functions"
   ]
  },
  {
   "cell_type": "code",
   "execution_count": 372,
   "id": "b87b54c6",
   "metadata": {},
   "outputs": [],
   "source": [
    "def MySquare(num):\n",
    "    return num * num"
   ]
  },
  {
   "cell_type": "code",
   "execution_count": 373,
   "id": "33597b6f",
   "metadata": {},
   "outputs": [
    {
     "name": "stdout",
     "output_type": "stream",
     "text": [
      "36\n"
     ]
    }
   ],
   "source": [
    "print(MySquare(6))"
   ]
  },
  {
   "cell_type": "markdown",
   "id": "b192fad0",
   "metadata": {},
   "source": [
    "* Lambda functions\n",
    "* Function with NO names\n",
    "* Anonymous functions\n",
    "* One line functions"
   ]
  },
  {
   "cell_type": "code",
   "execution_count": 374,
   "id": "49654384",
   "metadata": {},
   "outputs": [],
   "source": [
    "f = lambda num : num * num"
   ]
  },
  {
   "cell_type": "code",
   "execution_count": 375,
   "id": "4fa1265c",
   "metadata": {},
   "outputs": [
    {
     "data": {
      "text/plain": [
       "121"
      ]
     },
     "execution_count": 375,
     "metadata": {},
     "output_type": "execute_result"
    }
   ],
   "source": [
    "f(11)"
   ]
  },
  {
   "cell_type": "code",
   "execution_count": 376,
   "id": "252ffe08",
   "metadata": {},
   "outputs": [
    {
     "name": "stdout",
     "output_type": "stream",
     "text": [
      "121\n"
     ]
    }
   ],
   "source": [
    "print(f(11))"
   ]
  },
  {
   "cell_type": "code",
   "execution_count": 377,
   "id": "25bf7859",
   "metadata": {},
   "outputs": [
    {
     "name": "stdout",
     "output_type": "stream",
     "text": [
      "121\n"
     ]
    }
   ],
   "source": [
    "print((lambda num : num * num)(11))"
   ]
  },
  {
   "cell_type": "code",
   "execution_count": null,
   "id": "a48f5c9f",
   "metadata": {},
   "outputs": [],
   "source": []
  },
  {
   "cell_type": "markdown",
   "id": "8e9a5272",
   "metadata": {},
   "source": [
    "## Args and KWargs"
   ]
  },
  {
   "cell_type": "markdown",
   "id": "fbcc033f",
   "metadata": {},
   "source": [
    "### args\n",
    "- in the tuple form"
   ]
  },
  {
   "cell_type": "code",
   "execution_count": 378,
   "id": "a3dd9ebb",
   "metadata": {},
   "outputs": [],
   "source": [
    "def SumOfNumber(x, y):\n",
    "    result = x + y\n",
    "    print(\"Result: \", result)"
   ]
  },
  {
   "cell_type": "code",
   "execution_count": 379,
   "id": "e0fc12f4",
   "metadata": {},
   "outputs": [
    {
     "name": "stdout",
     "output_type": "stream",
     "text": [
      "Result:  5\n"
     ]
    }
   ],
   "source": [
    "SumOfNumber(2, 3)"
   ]
  },
  {
   "cell_type": "code",
   "execution_count": 380,
   "id": "eb24d0a8",
   "metadata": {},
   "outputs": [],
   "source": [
    "#SumOfNumber([1,2,3,4,5])"
   ]
  },
  {
   "cell_type": "code",
   "execution_count": 381,
   "id": "c014c38c",
   "metadata": {},
   "outputs": [],
   "source": [
    "def SumOfNumUsingArgs(*args):#Receiver side, All the args are packed into a tuple\n",
    "    print(\"Args: \", args)\n",
    "    print(\"Type of args: \", type(args))\n",
    "    result = 0\n",
    "    for item in args:\n",
    "        result += item\n",
    "    print(\"Result: \", result)"
   ]
  },
  {
   "cell_type": "code",
   "execution_count": 382,
   "id": "c7325e45",
   "metadata": {},
   "outputs": [
    {
     "name": "stdout",
     "output_type": "stream",
     "text": [
      "Args:  (1, 2)\n",
      "Type of args:  <class 'tuple'>\n",
      "Result:  3\n"
     ]
    }
   ],
   "source": [
    "SumOfNumUsingArgs(1,2)"
   ]
  },
  {
   "cell_type": "code",
   "execution_count": 383,
   "id": "c024a6be",
   "metadata": {},
   "outputs": [
    {
     "name": "stdout",
     "output_type": "stream",
     "text": [
      "Args:  (1, 2, 3, 4, 5, 6)\n",
      "Type of args:  <class 'tuple'>\n",
      "Result:  21\n"
     ]
    }
   ],
   "source": [
    "SumOfNumUsingArgs(1,2,3,4,5,6)"
   ]
  },
  {
   "cell_type": "code",
   "execution_count": 384,
   "id": "87a3c6b9",
   "metadata": {},
   "outputs": [
    {
     "name": "stdout",
     "output_type": "stream",
     "text": [
      "Args:  (0, 1, 2, 3, 4, 5, 6)\n",
      "Type of args:  <class 'tuple'>\n",
      "Result:  21\n"
     ]
    }
   ],
   "source": [
    "SumOfNumUsingArgs(*range(7))"
   ]
  },
  {
   "cell_type": "code",
   "execution_count": 385,
   "id": "00552975",
   "metadata": {},
   "outputs": [],
   "source": [
    "t = (10, 20, 30, 40, 50)"
   ]
  },
  {
   "cell_type": "code",
   "execution_count": 386,
   "id": "ce7a610d",
   "metadata": {},
   "outputs": [
    {
     "name": "stdout",
     "output_type": "stream",
     "text": [
      "Args:  ((10, 20, 30, 40, 50),)\n",
      "Type of args:  <class 'tuple'>\n"
     ]
    },
    {
     "ename": "TypeError",
     "evalue": "unsupported operand type(s) for +=: 'int' and 'tuple'",
     "output_type": "error",
     "traceback": [
      "\u001b[1;31m---------------------------------------------------------------------------\u001b[0m",
      "\u001b[1;31mTypeError\u001b[0m                                 Traceback (most recent call last)",
      "\u001b[1;32m<ipython-input-386-5b1d5ff81eda>\u001b[0m in \u001b[0;36m<module>\u001b[1;34m\u001b[0m\n\u001b[1;32m----> 1\u001b[1;33m \u001b[0mSumOfNumUsingArgs\u001b[0m\u001b[1;33m(\u001b[0m\u001b[0mt\u001b[0m\u001b[1;33m)\u001b[0m\u001b[1;31m#Incorrect of passing the elements\u001b[0m\u001b[1;33m\u001b[0m\u001b[1;33m\u001b[0m\u001b[0m\n\u001b[0m",
      "\u001b[1;32m<ipython-input-381-f8d6ff70c77c>\u001b[0m in \u001b[0;36mSumOfNumUsingArgs\u001b[1;34m(*args)\u001b[0m\n\u001b[0;32m      4\u001b[0m     \u001b[0mresult\u001b[0m \u001b[1;33m=\u001b[0m \u001b[1;36m0\u001b[0m\u001b[1;33m\u001b[0m\u001b[1;33m\u001b[0m\u001b[0m\n\u001b[0;32m      5\u001b[0m     \u001b[1;32mfor\u001b[0m \u001b[0mitem\u001b[0m \u001b[1;32min\u001b[0m \u001b[0margs\u001b[0m\u001b[1;33m:\u001b[0m\u001b[1;33m\u001b[0m\u001b[1;33m\u001b[0m\u001b[0m\n\u001b[1;32m----> 6\u001b[1;33m         \u001b[0mresult\u001b[0m \u001b[1;33m+=\u001b[0m \u001b[0mitem\u001b[0m\u001b[1;33m\u001b[0m\u001b[1;33m\u001b[0m\u001b[0m\n\u001b[0m\u001b[0;32m      7\u001b[0m     \u001b[0mprint\u001b[0m\u001b[1;33m(\u001b[0m\u001b[1;34m\"Result: \"\u001b[0m\u001b[1;33m,\u001b[0m \u001b[0mresult\u001b[0m\u001b[1;33m)\u001b[0m\u001b[1;33m\u001b[0m\u001b[1;33m\u001b[0m\u001b[0m\n",
      "\u001b[1;31mTypeError\u001b[0m: unsupported operand type(s) for +=: 'int' and 'tuple'"
     ]
    }
   ],
   "source": [
    "SumOfNumUsingArgs(t)#Incorrect of passing the elements"
   ]
  },
  {
   "cell_type": "code",
   "execution_count": 387,
   "id": "99a9aa00",
   "metadata": {},
   "outputs": [
    {
     "name": "stdout",
     "output_type": "stream",
     "text": [
      "Args:  (10, 20, 30, 40, 50)\n",
      "Type of args:  <class 'tuple'>\n",
      "Result:  150\n"
     ]
    }
   ],
   "source": [
    "SumOfNumUsingArgs(t[0], t[1], t[2], t[3], t[4])"
   ]
  },
  {
   "cell_type": "code",
   "execution_count": 388,
   "id": "3817cab2",
   "metadata": {},
   "outputs": [
    {
     "name": "stdout",
     "output_type": "stream",
     "text": [
      "Args:  (10, 20, 30, 40, 50)\n",
      "Type of args:  <class 'tuple'>\n",
      "Result:  150\n"
     ]
    }
   ],
   "source": [
    "SumOfNumUsingArgs(*t) #Caller side, Unpacking"
   ]
  },
  {
   "cell_type": "code",
   "execution_count": null,
   "id": "f43607ef",
   "metadata": {},
   "outputs": [],
   "source": []
  },
  {
   "cell_type": "code",
   "execution_count": 389,
   "id": "e7d5f189",
   "metadata": {},
   "outputs": [],
   "source": [
    "# Args- using user input"
   ]
  },
  {
   "cell_type": "code",
   "execution_count": 395,
   "id": "450bb82a",
   "metadata": {},
   "outputs": [
    {
     "name": "stdout",
     "output_type": "stream",
     "text": [
      "Enter any Number: 11,22,33,44,55\n"
     ]
    }
   ],
   "source": [
    "userInput = input(\"Enter any Number: \")"
   ]
  },
  {
   "cell_type": "code",
   "execution_count": 396,
   "id": "24d583ca",
   "metadata": {},
   "outputs": [
    {
     "data": {
      "text/plain": [
       "['11', '22', '33', '44', '55']"
      ]
     },
     "execution_count": 396,
     "metadata": {},
     "output_type": "execute_result"
    }
   ],
   "source": [
    "lstNo = userInput.split(\",\")\n",
    "lstNo"
   ]
  },
  {
   "cell_type": "code",
   "execution_count": 397,
   "id": "afd433e1",
   "metadata": {},
   "outputs": [
    {
     "data": {
      "text/plain": [
       "[11, 22, 33, 44, 55]"
      ]
     },
     "execution_count": 397,
     "metadata": {},
     "output_type": "execute_result"
    }
   ],
   "source": [
    "newNo = []\n",
    "for item in lstNo:\n",
    "    newNo.append(int(item))\n",
    "newNo"
   ]
  },
  {
   "cell_type": "code",
   "execution_count": 398,
   "id": "f235fc12",
   "metadata": {},
   "outputs": [],
   "source": [
    "# OR using MAP concepte\n",
    "mylst = list(map(int, userInput.split(\",\")))"
   ]
  },
  {
   "cell_type": "code",
   "execution_count": 399,
   "id": "ba41b04a",
   "metadata": {},
   "outputs": [
    {
     "data": {
      "text/plain": [
       "[11, 22, 33, 44, 55]"
      ]
     },
     "execution_count": 399,
     "metadata": {},
     "output_type": "execute_result"
    }
   ],
   "source": [
    "mylst"
   ]
  },
  {
   "cell_type": "code",
   "execution_count": 400,
   "id": "33d24ca0",
   "metadata": {},
   "outputs": [
    {
     "name": "stdout",
     "output_type": "stream",
     "text": [
      "Args:  (11, 22, 33, 44, 55)\n",
      "Type of args:  <class 'tuple'>\n",
      "Result:  165\n"
     ]
    }
   ],
   "source": [
    "SumOfNumUsingArgs(*mylst)"
   ]
  },
  {
   "cell_type": "code",
   "execution_count": null,
   "id": "714322e9",
   "metadata": {},
   "outputs": [],
   "source": []
  },
  {
   "cell_type": "markdown",
   "id": "a960e346",
   "metadata": {},
   "source": [
    "## kwargs\n",
    "- in the Dict form"
   ]
  },
  {
   "cell_type": "code",
   "execution_count": 401,
   "id": "e4c3b7ce",
   "metadata": {},
   "outputs": [],
   "source": [
    "#printPlayerDetailsV1(name=\"Virat\", age=33, team=\"RCB\")"
   ]
  },
  {
   "cell_type": "code",
   "execution_count": 402,
   "id": "1e7c8ec4",
   "metadata": {},
   "outputs": [],
   "source": [
    "# printPlayerDetailsV2(name=\"Virat\", age=33, team=\"RCB\", salary=1000)"
   ]
  },
  {
   "cell_type": "code",
   "execution_count": 403,
   "id": "9b19805a",
   "metadata": {},
   "outputs": [],
   "source": [
    "def printPlayerDetails(**kwargs):#Receiver side, all the named/keyword args packed into a dict.(Packing)\n",
    "    print(\"kwargs: \", kwargs)\n",
    "    print(\"Type of kwargs: \", type(kwargs))\n",
    "    for k, v in kwargs.items():\n",
    "        print(\"k => {}, v => {}\".format(k,v))\n",
    "    "
   ]
  },
  {
   "cell_type": "code",
   "execution_count": 404,
   "id": "a9fb9636",
   "metadata": {},
   "outputs": [
    {
     "name": "stdout",
     "output_type": "stream",
     "text": [
      "kwargs:  {'name': 'Virat', 'age': 33, 'team': 'RCB'}\n",
      "Type of kwargs:  <class 'dict'>\n",
      "k => name, v => Virat\n",
      "k => age, v => 33\n",
      "k => team, v => RCB\n"
     ]
    }
   ],
   "source": [
    "printPlayerDetails(name=\"Virat\", age=33, team=\"RCB\")"
   ]
  },
  {
   "cell_type": "code",
   "execution_count": 405,
   "id": "6902b472",
   "metadata": {},
   "outputs": [
    {
     "name": "stdout",
     "output_type": "stream",
     "text": [
      "kwargs:  {'name': 'Virat', 'age': 33, 'team': 'RCB', 'salary': 1000}\n",
      "Type of kwargs:  <class 'dict'>\n",
      "k => name, v => Virat\n",
      "k => age, v => 33\n",
      "k => team, v => RCB\n",
      "k => salary, v => 1000\n"
     ]
    }
   ],
   "source": [
    "printPlayerDetails(name=\"Virat\", age=33, team=\"RCB\", salary=1000)"
   ]
  },
  {
   "cell_type": "code",
   "execution_count": null,
   "id": "a7207de4",
   "metadata": {},
   "outputs": [],
   "source": []
  },
  {
   "cell_type": "code",
   "execution_count": 406,
   "id": "6a4dd790",
   "metadata": {},
   "outputs": [],
   "source": [
    "d = {\"name\":\"MSD\",\"Age\": 40, \"team\":\"CSK\"}"
   ]
  },
  {
   "cell_type": "code",
   "execution_count": 407,
   "id": "5677e7b5",
   "metadata": {},
   "outputs": [
    {
     "ename": "TypeError",
     "evalue": "printPlayerDetails() takes 0 positional arguments but 1 was given",
     "output_type": "error",
     "traceback": [
      "\u001b[1;31m---------------------------------------------------------------------------\u001b[0m",
      "\u001b[1;31mTypeError\u001b[0m                                 Traceback (most recent call last)",
      "\u001b[1;32m<ipython-input-407-f299b9c98176>\u001b[0m in \u001b[0;36m<module>\u001b[1;34m\u001b[0m\n\u001b[1;32m----> 1\u001b[1;33m \u001b[0mprintPlayerDetails\u001b[0m\u001b[1;33m(\u001b[0m\u001b[0md\u001b[0m\u001b[1;33m)\u001b[0m \u001b[1;31m#WRONG (d alrady packed in dict)\u001b[0m\u001b[1;33m\u001b[0m\u001b[1;33m\u001b[0m\u001b[0m\n\u001b[0m",
      "\u001b[1;31mTypeError\u001b[0m: printPlayerDetails() takes 0 positional arguments but 1 was given"
     ]
    }
   ],
   "source": [
    "printPlayerDetails(d) #WRONG (d alrady packed in dict)"
   ]
  },
  {
   "cell_type": "code",
   "execution_count": 408,
   "id": "624f82f6",
   "metadata": {},
   "outputs": [
    {
     "name": "stdout",
     "output_type": "stream",
     "text": [
      "kwargs:  {'name': 'MSD', 'age': 40, 'team': 'CSK'}\n",
      "Type of kwargs:  <class 'dict'>\n",
      "k => name, v => MSD\n",
      "k => age, v => 40\n",
      "k => team, v => CSK\n"
     ]
    }
   ],
   "source": [
    "printPlayerDetails(name = d[\"name\"], age = d['Age'], team = d['team'])"
   ]
  },
  {
   "cell_type": "code",
   "execution_count": 409,
   "id": "8445c2f3",
   "metadata": {},
   "outputs": [
    {
     "name": "stdout",
     "output_type": "stream",
     "text": [
      "kwargs:  {'name': 'MSD', 'Age': 40, 'team': 'CSK'}\n",
      "Type of kwargs:  <class 'dict'>\n",
      "k => name, v => MSD\n",
      "k => Age, v => 40\n",
      "k => team, v => CSK\n"
     ]
    }
   ],
   "source": [
    "printPlayerDetails(**d)# callet side, Unpacking"
   ]
  },
  {
   "cell_type": "code",
   "execution_count": null,
   "id": "e168f85c",
   "metadata": {},
   "outputs": [],
   "source": []
  },
  {
   "cell_type": "markdown",
   "id": "5d1bcb89",
   "metadata": {},
   "source": [
    "# Comprehensions"
   ]
  },
  {
   "cell_type": "markdown",
   "id": "b95cd179",
   "metadata": {},
   "source": [
    "## List Comprehensions"
   ]
  },
  {
   "cell_type": "code",
   "execution_count": 410,
   "id": "0dfb0797",
   "metadata": {},
   "outputs": [
    {
     "name": "stdout",
     "output_type": "stream",
     "text": [
      "[1, 4, 9, 16, 25, 36, 49, 64, 81, 100]\n"
     ]
    }
   ],
   "source": [
    "# write squares of numbers\n",
    "r = range(1,11)\n",
    "result = []\n",
    "for item in r:\n",
    "    result.append(item * item)\n",
    "print(result)"
   ]
  },
  {
   "cell_type": "markdown",
   "id": "eadda075",
   "metadata": {},
   "source": [
    "### Examples"
   ]
  },
  {
   "cell_type": "code",
   "execution_count": 411,
   "id": "986455bc",
   "metadata": {},
   "outputs": [
    {
     "name": "stdout",
     "output_type": "stream",
     "text": [
      "[1, 4, 9, 16, 25, 36, 49, 64, 81, 100]\n"
     ]
    }
   ],
   "source": [
    "result = [ item * item for item in range(1,11)]\n",
    "print(result)"
   ]
  },
  {
   "cell_type": "code",
   "execution_count": 412,
   "id": "112768dd",
   "metadata": {},
   "outputs": [
    {
     "name": "stdout",
     "output_type": "stream",
     "text": [
      "[1, 4, 9, 16, 25, 36, 49, 64, 81, 100]\n"
     ]
    }
   ],
   "source": [
    "print([item * item for item in range(1, 11)])"
   ]
  },
  {
   "cell_type": "code",
   "execution_count": 413,
   "id": "fc6e7f0a",
   "metadata": {},
   "outputs": [],
   "source": [
    "# Write a program to print all numbers between 1, 21 which are divisible by 2 using LC"
   ]
  },
  {
   "cell_type": "code",
   "execution_count": 414,
   "id": "d70f21d0",
   "metadata": {},
   "outputs": [
    {
     "name": "stdout",
     "output_type": "stream",
     "text": [
      "[2, 4, 6, 8, 10, 12, 14, 16, 18, 20]\n"
     ]
    }
   ],
   "source": [
    "# Traditional \n",
    "result = []\n",
    "for item in range(1,22):\n",
    "    if item % 2 ==0 :\n",
    "        result.append(item)\n",
    "print(result)"
   ]
  },
  {
   "cell_type": "code",
   "execution_count": 415,
   "id": "0755cf9e",
   "metadata": {},
   "outputs": [],
   "source": [
    "# using lC"
   ]
  },
  {
   "cell_type": "code",
   "execution_count": 416,
   "id": "eb6d8c32",
   "metadata": {},
   "outputs": [
    {
     "name": "stdout",
     "output_type": "stream",
     "text": [
      "[2, 4, 6, 8, 10, 12, 14, 16, 18, 20]\n"
     ]
    }
   ],
   "source": [
    "print([item for item in range(1, 21) if item % 2 ==0])"
   ]
  },
  {
   "cell_type": "code",
   "execution_count": null,
   "id": "77934cb2",
   "metadata": {},
   "outputs": [],
   "source": []
  },
  {
   "cell_type": "code",
   "execution_count": 417,
   "id": "ef9ebfef",
   "metadata": {},
   "outputs": [],
   "source": [
    "# Write a program to get list of all characters from subject which are consonants\n",
    "#subject = \"MATHEMATICS\"\n",
    "# Output: [\"M\", \"T\", \"H\", \"M\", \"T\", \"C\", \"S\"]"
   ]
  },
  {
   "cell_type": "code",
   "execution_count": 418,
   "id": "2e19b34a",
   "metadata": {},
   "outputs": [
    {
     "name": "stdout",
     "output_type": "stream",
     "text": [
      "['M', 'T', 'H', 'M', 'T', 'C', 'S']\n"
     ]
    }
   ],
   "source": [
    "# Traditiona way\n",
    "subject = \"MATHEMATICS\"\n",
    "result = []\n",
    "for item in subject:\n",
    "    if item not in \"AEIOU\":\n",
    "        result.append(item)\n",
    "print(result)"
   ]
  },
  {
   "cell_type": "code",
   "execution_count": 419,
   "id": "f30afe2c",
   "metadata": {},
   "outputs": [
    {
     "name": "stdout",
     "output_type": "stream",
     "text": [
      "['M', 'T', 'H', 'M', 'T', 'C', 'S']\n"
     ]
    }
   ],
   "source": [
    "# usong LC\n",
    "print([item for item in subject if item not in \"AEIOU\"])"
   ]
  },
  {
   "cell_type": "code",
   "execution_count": null,
   "id": "88060cb3",
   "metadata": {},
   "outputs": [],
   "source": []
  },
  {
   "cell_type": "code",
   "execution_count": 420,
   "id": "c2eb2815",
   "metadata": {},
   "outputs": [],
   "source": [
    "# write a programm to get below o/p\n",
    "websites = [\"amazon\", \"flipkart\", \"snapdeal\", \"paytm\"]\n",
    "#output [www.amazon.com, www.amazon.org, www.amazon.in, www.flipkart.com,...]"
   ]
  },
  {
   "cell_type": "code",
   "execution_count": 421,
   "id": "f6fecd05",
   "metadata": {},
   "outputs": [
    {
     "name": "stdout",
     "output_type": "stream",
     "text": [
      "['www.amazon.com', 'www.flipkart.com', 'www.snapdeal.com', 'www.paytm.com']\n"
     ]
    }
   ],
   "source": [
    "# Traditional way\n",
    "result = []\n",
    "for item in websites:\n",
    "    result.append(\"www.{}.com\".format(item))\n",
    "print(result)"
   ]
  },
  {
   "cell_type": "code",
   "execution_count": 422,
   "id": "64d75bc3",
   "metadata": {},
   "outputs": [
    {
     "name": "stdout",
     "output_type": "stream",
     "text": [
      "['www.amazon.com', 'www.flipkart.com', 'www.snapdeal.com', 'www.paytm.com']\n"
     ]
    }
   ],
   "source": [
    "# using LC\n",
    "print([\"www.{}.com\".format(item) for item in websites])"
   ]
  },
  {
   "cell_type": "code",
   "execution_count": 423,
   "id": "fea86a51",
   "metadata": {},
   "outputs": [],
   "source": [
    "# write a programm to get below o/p\n",
    "s = \"Welcome to the world of Python Programming\"\n",
    "#output [(\"Welcome\", 7), (\"to\", 2), (\"the\", 3), .."
   ]
  },
  {
   "cell_type": "code",
   "execution_count": 424,
   "id": "3e3749a6",
   "metadata": {},
   "outputs": [
    {
     "data": {
      "text/plain": [
       "['Welcome', 'to', 'the', 'world', 'of', 'Python', 'Programming']"
      ]
     },
     "execution_count": 424,
     "metadata": {},
     "output_type": "execute_result"
    }
   ],
   "source": [
    "s.split()"
   ]
  },
  {
   "cell_type": "code",
   "execution_count": 425,
   "id": "aa1508b9",
   "metadata": {},
   "outputs": [
    {
     "name": "stdout",
     "output_type": "stream",
     "text": [
      "[('Welcome', 7), ('to', 2), ('the', 3), ('world', 5), ('of', 2), ('Python', 6), ('Programming', 11)]\n"
     ]
    }
   ],
   "source": [
    "# Traditional way\n",
    "result = []\n",
    "for item in s.split():\n",
    "    result.append((item, len(item)))\n",
    "print(result)"
   ]
  },
  {
   "cell_type": "code",
   "execution_count": 426,
   "id": "2d73cb78",
   "metadata": {},
   "outputs": [
    {
     "name": "stdout",
     "output_type": "stream",
     "text": [
      "[('Welcome', 7), ('to', 2), ('the', 3), ('world', 5), ('of', 2), ('Python', 6), ('Programming', 11)]\n"
     ]
    }
   ],
   "source": [
    "# using LC\n",
    "print([(item, len(item)) for item in s.split()])"
   ]
  },
  {
   "cell_type": "code",
   "execution_count": null,
   "id": "d2070bdb",
   "metadata": {},
   "outputs": [],
   "source": []
  },
  {
   "cell_type": "code",
   "execution_count": 427,
   "id": "20cebf48",
   "metadata": {},
   "outputs": [],
   "source": [
    "#  Write a program which will find all such numbers which are divisible by 7\n",
    "# but are not a multiple of 5, between 200 and 320 (both included).\n",
    "# The numbers obtained should be printed in a comma-separated\n",
    "# sequence on a single line.\n",
    "#\n",
    "# Hints:\n",
    "# Consider use range(#begin, #end) method"
   ]
  },
  {
   "cell_type": "code",
   "execution_count": 428,
   "id": "0eea0a9c",
   "metadata": {},
   "outputs": [
    {
     "name": "stdout",
     "output_type": "stream",
     "text": [
      "203, 217, 224, 231, 238, 252, 259, 266, 273, 287, 294, 301, 308\n"
     ]
    }
   ],
   "source": [
    "# Traditional way\n",
    "result = []\n",
    "for item in range(200, 321):\n",
    "    if item % 7 == 0 and item % 5 != 0:\n",
    "        result.append(str(item))\n",
    "        \n",
    "print(\", \".join(result))"
   ]
  },
  {
   "cell_type": "code",
   "execution_count": 429,
   "id": "cf957027",
   "metadata": {},
   "outputs": [
    {
     "name": "stdout",
     "output_type": "stream",
     "text": [
      "203, 217, 224, 231, 238, 252, 259, 266, 273, 287, 294, 301, 308\n"
     ]
    }
   ],
   "source": [
    "# using LC\n",
    "print(\", \".join([str(item) for item in range(200, 321) if item %7==0 and item %5!=0]))"
   ]
  },
  {
   "cell_type": "code",
   "execution_count": null,
   "id": "f1e5d76b",
   "metadata": {},
   "outputs": [],
   "source": []
  },
  {
   "cell_type": "markdown",
   "id": "f4f0f778",
   "metadata": {},
   "source": [
    "## Dictionary Comprehension"
   ]
  },
  {
   "cell_type": "markdown",
   "id": "dc45abbb",
   "metadata": {},
   "source": [
    "### Examples"
   ]
  },
  {
   "cell_type": "code",
   "execution_count": 430,
   "id": "5bb790a5",
   "metadata": {},
   "outputs": [],
   "source": [
    "# Given any number n as 5, create a dict like mentioned below:\n",
    "# {1: 1, 2: 4, 3: 9, 4: 16, 5: 25}"
   ]
  },
  {
   "cell_type": "code",
   "execution_count": 431,
   "id": "89400253",
   "metadata": {},
   "outputs": [
    {
     "name": "stdout",
     "output_type": "stream",
     "text": [
      "{1: 1, 2: 4, 3: 9, 4: 16, 5: 25}\n"
     ]
    }
   ],
   "source": [
    "# Traditional wat \n",
    "result ={}\n",
    "for item in range(1, 6):\n",
    "    result[item] = item * item \n",
    "print(result)"
   ]
  },
  {
   "cell_type": "code",
   "execution_count": 432,
   "id": "74bc84bb",
   "metadata": {},
   "outputs": [
    {
     "name": "stdout",
     "output_type": "stream",
     "text": [
      "{1: 1, 2: 4, 3: 9, 4: 16, 5: 25}\n"
     ]
    }
   ],
   "source": [
    "# using Dc\n",
    "print({item : item * item for item in range(1, 6)})"
   ]
  },
  {
   "cell_type": "code",
   "execution_count": null,
   "id": "f00c75cd",
   "metadata": {},
   "outputs": [],
   "source": []
  },
  {
   "cell_type": "code",
   "execution_count": 433,
   "id": "040f469e",
   "metadata": {},
   "outputs": [],
   "source": [
    "# write a programm to get count of each letter\n",
    "s = \"the quick brown fox jumps over the lazy dog\"\n",
    "# output {\"t\": 2, \"h\": 2, ...}"
   ]
  },
  {
   "cell_type": "code",
   "execution_count": 434,
   "id": "0e408cac",
   "metadata": {},
   "outputs": [
    {
     "data": {
      "text/plain": [
       "2"
      ]
     },
     "execution_count": 434,
     "metadata": {},
     "output_type": "execute_result"
    }
   ],
   "source": [
    "s.count(\"t\")# like this"
   ]
  },
  {
   "cell_type": "code",
   "execution_count": 435,
   "id": "ac35d37d",
   "metadata": {},
   "outputs": [
    {
     "name": "stdout",
     "output_type": "stream",
     "text": [
      "{'t': 2, 'h': 2, 'e': 3, ' ': 8, 'q': 1, 'u': 2, 'i': 1, 'c': 1, 'k': 1, 'b': 1, 'r': 2, 'o': 4, 'w': 1, 'n': 1, 'f': 1, 'x': 1, 'j': 1, 'm': 1, 'p': 1, 's': 1, 'v': 1, 'l': 1, 'a': 1, 'z': 1, 'y': 1, 'd': 1, 'g': 1}\n"
     ]
    }
   ],
   "source": [
    "#Traditional way\n",
    "result ={}\n",
    "for item in s:\n",
    "    result[item] = s.count(item)\n",
    "print(result)"
   ]
  },
  {
   "cell_type": "code",
   "execution_count": 436,
   "id": "43bbfacc",
   "metadata": {},
   "outputs": [
    {
     "name": "stdout",
     "output_type": "stream",
     "text": [
      "{'t': 2, 'h': 2, 'e': 3, ' ': 8, 'q': 1, 'u': 2, 'i': 1, 'c': 1, 'k': 1, 'b': 1, 'r': 2, 'o': 4, 'w': 1, 'n': 1, 'f': 1, 'x': 1, 'j': 1, 'm': 1, 'p': 1, 's': 1, 'v': 1, 'l': 1, 'a': 1, 'z': 1, 'y': 1, 'd': 1, 'g': 1}\n"
     ]
    }
   ],
   "source": [
    "# using DC\n",
    "print({item : s.count(item) for item in s})"
   ]
  }
 ],
 "metadata": {
  "kernelspec": {
   "display_name": "Python 3",
   "language": "python",
   "name": "python3"
  },
  "language_info": {
   "codemirror_mode": {
    "name": "ipython",
    "version": 3
   },
   "file_extension": ".py",
   "mimetype": "text/x-python",
   "name": "python",
   "nbconvert_exporter": "python",
   "pygments_lexer": "ipython3",
   "version": "3.8.8"
  },
  "toc": {
   "base_numbering": 1,
   "nav_menu": {},
   "number_sections": true,
   "sideBar": true,
   "skip_h1_title": false,
   "title_cell": "Table of Contents",
   "title_sidebar": "Contents",
   "toc_cell": false,
   "toc_position": {
    "height": "548.6px",
    "left": "81px",
    "top": "155.6px",
    "width": "294px"
   },
   "toc_section_display": true,
   "toc_window_display": true
  },
  "varInspector": {
   "cols": {
    "lenName": 16,
    "lenType": 16,
    "lenVar": 40
   },
   "kernels_config": {
    "python": {
     "delete_cmd_postfix": "",
     "delete_cmd_prefix": "del ",
     "library": "var_list.py",
     "varRefreshCmd": "print(var_dic_list())"
    },
    "r": {
     "delete_cmd_postfix": ") ",
     "delete_cmd_prefix": "rm(",
     "library": "var_list.r",
     "varRefreshCmd": "cat(var_dic_list()) "
    }
   },
   "types_to_exclude": [
    "module",
    "function",
    "builtin_function_or_method",
    "instance",
    "_Feature"
   ],
   "window_display": false
  }
 },
 "nbformat": 4,
 "nbformat_minor": 5
}
